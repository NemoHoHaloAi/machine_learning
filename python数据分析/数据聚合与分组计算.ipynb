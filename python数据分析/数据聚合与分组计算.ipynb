{
 "cells": [
  {
   "cell_type": "markdown",
   "metadata": {},
   "source": [
    "# 数据聚合与分组计算"
   ]
  },
  {
   "cell_type": "markdown",
   "metadata": {},
   "source": [
    "对数据集进行**分组**并对各组应用一个**函数**(无论是聚合还是转换),这是数据分析工作中的重要环节。在将数据集准备好之后,通常的任务就是**计算分组统计**或**生成透视表**。pandas提供了一个灵活高效的**gruopby**功能,它使你能以一种自然的方式对数据集进行**切片**、**切块**、**摘要**等操作。\n",
    "\n",
    "关系型数据库和SQL(Structured Query Language,结构化查询语言)能够如此流行的原因之一就是其能够方便地对数据进行连接、过滤、转换和聚合。但是,像SQL这样的查询语言所能执行的分组运算的种类很有限。在本章中你将会看到,由于Python和pandas强大的表达能力,我们可以执行复杂得多的分组运算(利用任何可以接受pandas对象或NumPy数组的函数)。\n",
    "\n",
    "在本章中,你将会学到:\n",
    "* 根据一个或多个键(可以是函数、数组或DataFrame列名)拆分pandas对象。\n",
    "* 计算分组摘要统计,如计数、平均值、标准差,或用户自定义函数。\n",
    "* 对DataFrame的列应用各种各样的函数。\n",
    "* 应用组内转换或其他运算,如规格化、线性回归、排名或选取子集等。\n",
    "* 计算透视表或交叉表。\n",
    "* 执行分位数分析以及其他分组分析。"
   ]
  },
  {
   "cell_type": "code",
   "execution_count": 1,
   "metadata": {},
   "outputs": [],
   "source": [
    "import numpy as np\n",
    "\n",
    "import pandas as pd\n",
    "from pandas import Series\n",
    "from pandas import DataFrame\n",
    "\n",
    "import matplotlib.pyplot as plt\n",
    "%matplotlib inline"
   ]
  },
  {
   "cell_type": "code",
   "execution_count": 2,
   "metadata": {},
   "outputs": [],
   "source": [
    "def print_gb(gb):\n",
    "    for n,g in gb:\n",
    "        print n\n",
    "        print g\n",
    "        print '\\n'"
   ]
  },
  {
   "cell_type": "markdown",
   "metadata": {},
   "source": [
    "## GroupBy技术"
   ]
  },
  {
   "cell_type": "markdown",
   "metadata": {},
   "source": [
    "### 分组运算（split-apply-combine）"
   ]
  },
  {
   "cell_type": "markdown",
   "metadata": {},
   "source": [
    "分组运算（split-apply-combine）：\n",
    "* 拆分：\n",
    "    * 通过一个或多个键对原数据进行拆分到不同组中；\n",
    "* 应用：\n",
    "    * 在不同组上应用函数计算得到结果；\n",
    "* 合并：\n",
    "    * 将结果合并到最终的结果对象中；\n",
    "\n",
    "下图很好的展示了该过程：\n",
    "![分组计算](https://github.com/NemoHoHaloAi/machine_learning/blob/master/python%E6%95%B0%E6%8D%AE%E5%88%86%E6%9E%90/images/%E5%88%86%E7%BB%84%E8%AE%A1%E7%AE%97.png?raw=true)"
   ]
  },
  {
   "cell_type": "markdown",
   "metadata": {},
   "source": [
    "### 分组键的可取情况"
   ]
  },
  {
   "cell_type": "markdown",
   "metadata": {},
   "source": [
    "分组键可以有多种形式,且类型不必相同:\n",
    "* 列表或数组,其长度与待分组的轴一样。\n",
    "* 表示DataFrame某个列名的值。\n",
    "* 字典或Series,给出待分组轴上的值与分组名之间的对应关系。\n",
    "* 函数,用于处理轴索引或索引中的各个标签。\n",
    "**注意**：后三种本质上是第一种的快捷方式，通过各种方式获取用于拆分对象的值，因此可以将这四种方式看做是如何获取用于拆分对象的值的四种方式即可，第一种是直接使用数组，第二种是取列名，第三种是映射关系，第四种是靠返回值；"
   ]
  },
  {
   "cell_type": "markdown",
   "metadata": {},
   "source": [
    "注意：不管分组时表面上使用的是什么，最终都会转换成一个用于对应数据应该处于哪个分组的数组，数组上每个值，决定了相应位置的数据应该属于哪个分组；"
   ]
  },
  {
   "cell_type": "markdown",
   "metadata": {},
   "source": [
    "### 分组示例"
   ]
  },
  {
   "cell_type": "markdown",
   "metadata": {},
   "source": [
    "#### 使用Series做分组键 -- 例如df['key1']"
   ]
  },
  {
   "cell_type": "code",
   "execution_count": 3,
   "metadata": {},
   "outputs": [
    {
     "data": {
      "text/html": [
       "<div>\n",
       "<style>\n",
       "    .dataframe thead tr:only-child th {\n",
       "        text-align: right;\n",
       "    }\n",
       "\n",
       "    .dataframe thead th {\n",
       "        text-align: left;\n",
       "    }\n",
       "\n",
       "    .dataframe tbody tr th {\n",
       "        vertical-align: top;\n",
       "    }\n",
       "</style>\n",
       "<table border=\"1\" class=\"dataframe\">\n",
       "  <thead>\n",
       "    <tr style=\"text-align: right;\">\n",
       "      <th></th>\n",
       "      <th>data1</th>\n",
       "      <th>data2</th>\n",
       "      <th>key1</th>\n",
       "      <th>key2</th>\n",
       "    </tr>\n",
       "  </thead>\n",
       "  <tbody>\n",
       "    <tr>\n",
       "      <th>HL</th>\n",
       "      <td>10</td>\n",
       "      <td>40</td>\n",
       "      <td>a</td>\n",
       "      <td>c</td>\n",
       "    </tr>\n",
       "    <tr>\n",
       "      <th>LM</th>\n",
       "      <td>20</td>\n",
       "      <td>50</td>\n",
       "      <td>b</td>\n",
       "      <td>d</td>\n",
       "    </tr>\n",
       "    <tr>\n",
       "      <th>BL</th>\n",
       "      <td>30</td>\n",
       "      <td>60</td>\n",
       "      <td>a</td>\n",
       "      <td>d</td>\n",
       "    </tr>\n",
       "    <tr>\n",
       "      <th>JK</th>\n",
       "      <td>40</td>\n",
       "      <td>70</td>\n",
       "      <td>b</td>\n",
       "      <td>c</td>\n",
       "    </tr>\n",
       "    <tr>\n",
       "      <th>MP</th>\n",
       "      <td>50</td>\n",
       "      <td>80</td>\n",
       "      <td>a</td>\n",
       "      <td>c</td>\n",
       "    </tr>\n",
       "  </tbody>\n",
       "</table>\n",
       "</div>"
      ],
      "text/plain": [
       "    data1  data2 key1 key2\n",
       "HL     10     40    a    c\n",
       "LM     20     50    b    d\n",
       "BL     30     60    a    d\n",
       "JK     40     70    b    c\n",
       "MP     50     80    a    c"
      ]
     },
     "execution_count": 3,
     "metadata": {},
     "output_type": "execute_result"
    }
   ],
   "source": [
    "df = DataFrame({'data1':[10,20,30,40,50],'data2':[40,50,60,70,80],\n",
    "                'key1':['a','b','a','b','a'],'key2':['c','d','d','c','c']},\n",
    "              index=['HL','LM','BL','JK','MP'])\n",
    "df"
   ]
  },
  {
   "cell_type": "code",
   "execution_count": 4,
   "metadata": {},
   "outputs": [
    {
     "data": {
      "text/plain": [
       "key1\n",
       "a    30\n",
       "b    30\n",
       "Name: data1, dtype: int64"
      ]
     },
     "execution_count": 4,
     "metadata": {},
     "output_type": "execute_result"
    }
   ],
   "source": [
    "# 对data1列数据按照key1分组并聚合计算平均值\n",
    "df['data1'].groupby(df['key1']).mean() # 生成Series索引为key1的唯一值"
   ]
  },
  {
   "cell_type": "code",
   "execution_count": 5,
   "metadata": {},
   "outputs": [
    {
     "data": {
      "text/plain": [
       "key1  key2\n",
       "a     c       30\n",
       "      d       30\n",
       "b     c       40\n",
       "      d       20\n",
       "Name: data1, dtype: int64"
      ]
     },
     "execution_count": 5,
     "metadata": {},
     "output_type": "execute_result"
    }
   ],
   "source": [
    "# 对data1按照key1，key2分组并计算平均值\n",
    "df['data1'].groupby([df['key1'],df['key2']]).mean() # 生成Series索引为key1，key2的唯一键组合"
   ]
  },
  {
   "cell_type": "markdown",
   "metadata": {},
   "source": [
    "#### 任意数组做分组键 -- 数组每个值对应同位置行的值，也就是强行有一种映射关系"
   ]
  },
  {
   "cell_type": "code",
   "execution_count": 6,
   "metadata": {},
   "outputs": [
    {
     "data": {
      "text/plain": [
       "aa    25\n",
       "bb    20\n",
       "cc    40\n",
       "Name: data1, dtype: int64"
      ]
     },
     "execution_count": 6,
     "metadata": {},
     "output_type": "execute_result"
    }
   ],
   "source": [
    "arr = np.array(['aa','bb','cc','aa','cc'])\n",
    "df['data1'].groupby(arr).mean()"
   ]
  },
  {
   "cell_type": "markdown",
   "metadata": {},
   "source": [
    "#### 将列名(可以是字符串、数字或其他Python对象)用作分组键 -- 默认丢弃非数值组"
   ]
  },
  {
   "cell_type": "code",
   "execution_count": 7,
   "metadata": {},
   "outputs": [
    {
     "data": {
      "text/html": [
       "<div>\n",
       "<style>\n",
       "    .dataframe thead tr:only-child th {\n",
       "        text-align: right;\n",
       "    }\n",
       "\n",
       "    .dataframe thead th {\n",
       "        text-align: left;\n",
       "    }\n",
       "\n",
       "    .dataframe tbody tr th {\n",
       "        vertical-align: top;\n",
       "    }\n",
       "</style>\n",
       "<table border=\"1\" class=\"dataframe\">\n",
       "  <thead>\n",
       "    <tr style=\"text-align: right;\">\n",
       "      <th></th>\n",
       "      <th>data1</th>\n",
       "      <th>data2</th>\n",
       "    </tr>\n",
       "    <tr>\n",
       "      <th>key1</th>\n",
       "      <th></th>\n",
       "      <th></th>\n",
       "    </tr>\n",
       "  </thead>\n",
       "  <tbody>\n",
       "    <tr>\n",
       "      <th>a</th>\n",
       "      <td>30</td>\n",
       "      <td>60</td>\n",
       "    </tr>\n",
       "    <tr>\n",
       "      <th>b</th>\n",
       "      <td>30</td>\n",
       "      <td>60</td>\n",
       "    </tr>\n",
       "  </tbody>\n",
       "</table>\n",
       "</div>"
      ],
      "text/plain": [
       "      data1  data2\n",
       "key1              \n",
       "a        30     60\n",
       "b        30     60"
      ]
     },
     "execution_count": 7,
     "metadata": {},
     "output_type": "execute_result"
    }
   ],
   "source": [
    "df.groupby('key1').mean() # 使用列名作为分组键时不能针对某一列（Series）分组了就，因为Series没有该列名"
   ]
  },
  {
   "cell_type": "markdown",
   "metadata": {},
   "source": [
    "#### groupby的size"
   ]
  },
  {
   "cell_type": "code",
   "execution_count": 8,
   "metadata": {},
   "outputs": [
    {
     "data": {
      "text/plain": [
       "key2\n",
       "c    3\n",
       "d    2\n",
       "dtype: int64"
      ]
     },
     "execution_count": 8,
     "metadata": {},
     "output_type": "execute_result"
    }
   ],
   "source": [
    "df.groupby('key2').size()"
   ]
  },
  {
   "cell_type": "markdown",
   "metadata": {},
   "source": [
    "### 对分组进行迭代"
   ]
  },
  {
   "cell_type": "markdown",
   "metadata": {},
   "source": [
    "GroupBy对象支持迭代,可以产生一组二元元组(由分组名和数据块组成)。"
   ]
  },
  {
   "cell_type": "markdown",
   "metadata": {},
   "source": [
    "#### 单键分组迭代"
   ]
  },
  {
   "cell_type": "code",
   "execution_count": 9,
   "metadata": {},
   "outputs": [
    {
     "name": "stdout",
     "output_type": "stream",
     "text": [
      "a\n",
      "    data1  data2 key1 key2\n",
      "HL     10     40    a    c\n",
      "BL     30     60    a    d\n",
      "MP     50     80    a    c\n",
      "\n",
      "\n",
      "b\n",
      "    data1  data2 key1 key2\n",
      "LM     20     50    b    d\n",
      "JK     40     70    b    c\n",
      "\n",
      "\n"
     ]
    }
   ],
   "source": [
    "for name,group in df.groupby('key1'):\n",
    "    print name\n",
    "    print group\n",
    "    print '\\n'"
   ]
  },
  {
   "cell_type": "markdown",
   "metadata": {},
   "source": [
    "#### 多键分组迭代"
   ]
  },
  {
   "cell_type": "code",
   "execution_count": 10,
   "metadata": {},
   "outputs": [
    {
     "name": "stdout",
     "output_type": "stream",
     "text": [
      "('a', 'c')\n",
      "    data1  data2 key1 key2\n",
      "HL     10     40    a    c\n",
      "MP     50     80    a    c\n",
      "\n",
      "\n",
      "('a', 'd')\n",
      "    data1  data2 key1 key2\n",
      "BL     30     60    a    d\n",
      "\n",
      "\n",
      "('b', 'c')\n",
      "    data1  data2 key1 key2\n",
      "JK     40     70    b    c\n",
      "\n",
      "\n",
      "('b', 'd')\n",
      "    data1  data2 key1 key2\n",
      "LM     20     50    b    d\n",
      "\n",
      "\n"
     ]
    }
   ],
   "source": [
    "for names,group in df.groupby(['key1','key2']):\n",
    "    print names\n",
    "    print group\n",
    "    print '\\n'"
   ]
  },
  {
   "cell_type": "markdown",
   "metadata": {},
   "source": [
    "#### 将分组结果转换为字典"
   ]
  },
  {
   "cell_type": "code",
   "execution_count": 11,
   "metadata": {},
   "outputs": [
    {
     "name": "stdout",
     "output_type": "stream",
     "text": [
      "('b', 'c')\n",
      "    data1  data2 key1 key2\n",
      "JK     40     70    b    c\n",
      "\n",
      "\n",
      "('a', 'd')\n",
      "    data1  data2 key1 key2\n",
      "BL     30     60    a    d\n",
      "\n",
      "\n",
      "('a', 'c')\n",
      "    data1  data2 key1 key2\n",
      "HL     10     40    a    c\n",
      "MP     50     80    a    c\n",
      "\n",
      "\n",
      "('b', 'd')\n",
      "    data1  data2 key1 key2\n",
      "LM     20     50    b    d\n",
      "\n",
      "\n"
     ]
    }
   ],
   "source": [
    "group_dict = dict(list(df.groupby(['key1','key2'])))\n",
    "for key in group_dict:\n",
    "    print key\n",
    "    print group_dict[key]\n",
    "    print '\\n'"
   ]
  },
  {
   "cell_type": "markdown",
   "metadata": {},
   "source": [
    "#### 在索引上分组 -- 指定axis=0"
   ]
  },
  {
   "cell_type": "code",
   "execution_count": 12,
   "metadata": {},
   "outputs": [
    {
     "name": "stdout",
     "output_type": "stream",
     "text": [
      "A\n",
      "    data1  data2 key1 key2\n",
      "HL     10     40    a    c\n",
      "LM     20     50    b    d\n",
      "\n",
      "\n",
      "B\n",
      "    data1  data2 key1 key2\n",
      "BL     30     60    a    d\n",
      "JK     40     70    b    c\n",
      "MP     50     80    a    c\n",
      "\n",
      "\n"
     ]
    }
   ],
   "source": [
    "for name,group in df.groupby(['A','A','B','B','B'], axis=0):\n",
    "    print name\n",
    "    print group\n",
    "    print '\\n'"
   ]
  },
  {
   "cell_type": "markdown",
   "metadata": {},
   "source": [
    "### 选取一个或一组列 -- 可以直接对指定的列进行分组，或对分组结果取对应列"
   ]
  },
  {
   "cell_type": "markdown",
   "metadata": {},
   "source": [
    "#### 对指定的列进行分组"
   ]
  },
  {
   "cell_type": "code",
   "execution_count": 13,
   "metadata": {},
   "outputs": [
    {
     "data": {
      "text/plain": [
       "key1  key2\n",
       "a     c       60\n",
       "      d       60\n",
       "b     c       70\n",
       "      d       50\n",
       "Name: data2, dtype: int64"
      ]
     },
     "execution_count": 13,
     "metadata": {},
     "output_type": "execute_result"
    }
   ],
   "source": [
    "df['data2'].groupby([df['key1'],df['key2']]).mean()"
   ]
  },
  {
   "cell_type": "markdown",
   "metadata": {},
   "source": [
    "#### 对分组结果取指定列 -- 这种方式是上一种方式的语法糖"
   ]
  },
  {
   "cell_type": "code",
   "execution_count": 14,
   "metadata": {},
   "outputs": [
    {
     "data": {
      "text/plain": [
       "key1  key2\n",
       "a     c       60\n",
       "      d       60\n",
       "b     c       70\n",
       "      d       50\n",
       "Name: data2, dtype: int64"
      ]
     },
     "execution_count": 14,
     "metadata": {},
     "output_type": "execute_result"
    }
   ],
   "source": [
    "df.groupby(['key1', 'key2'])['data2'].mean()"
   ]
  },
  {
   "cell_type": "markdown",
   "metadata": {},
   "source": [
    "#### 注意下述两种写法的不同之处"
   ]
  },
  {
   "cell_type": "code",
   "execution_count": 15,
   "metadata": {},
   "outputs": [
    {
     "data": {
      "text/plain": [
       "key1\n",
       "a    60\n",
       "b    60\n",
       "Name: data2, dtype: int64"
      ]
     },
     "execution_count": 15,
     "metadata": {},
     "output_type": "execute_result"
    }
   ],
   "source": [
    "df.groupby(['key1'])['data2'].mean()"
   ]
  },
  {
   "cell_type": "code",
   "execution_count": 16,
   "metadata": {},
   "outputs": [
    {
     "data": {
      "text/html": [
       "<div>\n",
       "<style>\n",
       "    .dataframe thead tr:only-child th {\n",
       "        text-align: right;\n",
       "    }\n",
       "\n",
       "    .dataframe thead th {\n",
       "        text-align: left;\n",
       "    }\n",
       "\n",
       "    .dataframe tbody tr th {\n",
       "        vertical-align: top;\n",
       "    }\n",
       "</style>\n",
       "<table border=\"1\" class=\"dataframe\">\n",
       "  <thead>\n",
       "    <tr style=\"text-align: right;\">\n",
       "      <th></th>\n",
       "      <th>data2</th>\n",
       "    </tr>\n",
       "    <tr>\n",
       "      <th>key1</th>\n",
       "      <th></th>\n",
       "    </tr>\n",
       "  </thead>\n",
       "  <tbody>\n",
       "    <tr>\n",
       "      <th>a</th>\n",
       "      <td>60</td>\n",
       "    </tr>\n",
       "    <tr>\n",
       "      <th>b</th>\n",
       "      <td>60</td>\n",
       "    </tr>\n",
       "  </tbody>\n",
       "</table>\n",
       "</div>"
      ],
      "text/plain": [
       "      data2\n",
       "key1       \n",
       "a        60\n",
       "b        60"
      ]
     },
     "execution_count": 16,
     "metadata": {},
     "output_type": "execute_result"
    }
   ],
   "source": [
    "df.groupby(['key1'])[['data2']].mean()"
   ]
  },
  {
   "cell_type": "markdown",
   "metadata": {},
   "source": [
    "比较：\n",
    "* \\['data2'\\]：\n",
    "    * 结果为Series；\n",
    "    * Name属性为对应取的列名；\n",
    "    * **DataFrame['列名']**得到的是对应列的**Series**形式；\n",
    "* \\[\\['data2'\\]\\]：\n",
    "    * 结果为DataFrame；\n",
    "    * 索引为分组键，列为对应取的列名；\n",
    "    * **DataFrame[['列名']]**得到的是对应列+原索引组成的**DataFrame**形式；"
   ]
  },
  {
   "cell_type": "code",
   "execution_count": 17,
   "metadata": {},
   "outputs": [
    {
     "data": {
      "text/plain": [
       "HL    a\n",
       "LM    b\n",
       "BL    a\n",
       "JK    b\n",
       "MP    a\n",
       "Name: key1, dtype: object"
      ]
     },
     "execution_count": 17,
     "metadata": {},
     "output_type": "execute_result"
    }
   ],
   "source": [
    "df['key1'] # 获取原索引+该列数据的Series"
   ]
  },
  {
   "cell_type": "code",
   "execution_count": 18,
   "metadata": {},
   "outputs": [
    {
     "data": {
      "text/html": [
       "<div>\n",
       "<style>\n",
       "    .dataframe thead tr:only-child th {\n",
       "        text-align: right;\n",
       "    }\n",
       "\n",
       "    .dataframe thead th {\n",
       "        text-align: left;\n",
       "    }\n",
       "\n",
       "    .dataframe tbody tr th {\n",
       "        vertical-align: top;\n",
       "    }\n",
       "</style>\n",
       "<table border=\"1\" class=\"dataframe\">\n",
       "  <thead>\n",
       "    <tr style=\"text-align: right;\">\n",
       "      <th></th>\n",
       "      <th>key1</th>\n",
       "    </tr>\n",
       "  </thead>\n",
       "  <tbody>\n",
       "    <tr>\n",
       "      <th>HL</th>\n",
       "      <td>a</td>\n",
       "    </tr>\n",
       "    <tr>\n",
       "      <th>LM</th>\n",
       "      <td>b</td>\n",
       "    </tr>\n",
       "    <tr>\n",
       "      <th>BL</th>\n",
       "      <td>a</td>\n",
       "    </tr>\n",
       "    <tr>\n",
       "      <th>JK</th>\n",
       "      <td>b</td>\n",
       "    </tr>\n",
       "    <tr>\n",
       "      <th>MP</th>\n",
       "      <td>a</td>\n",
       "    </tr>\n",
       "  </tbody>\n",
       "</table>\n",
       "</div>"
      ],
      "text/plain": [
       "   key1\n",
       "HL    a\n",
       "LM    b\n",
       "BL    a\n",
       "JK    b\n",
       "MP    a"
      ]
     },
     "execution_count": 18,
     "metadata": {},
     "output_type": "execute_result"
    }
   ],
   "source": [
    "df[['key1']] # 获取原索引+该列的DataFrame"
   ]
  },
  {
   "cell_type": "markdown",
   "metadata": {},
   "source": [
    "### 通过字典或Series进行分组"
   ]
  },
  {
   "cell_type": "code",
   "execution_count": 19,
   "metadata": {},
   "outputs": [
    {
     "name": "stderr",
     "output_type": "stream",
     "text": [
      "/home/helong/anaconda2/envs/python2/lib/python2.7/site-packages/ipykernel_launcher.py:4: DeprecationWarning: \n",
      ".ix is deprecated. Please use\n",
      ".loc for label based indexing or\n",
      ".iloc for positional indexing\n",
      "\n",
      "See the documentation here:\n",
      "http://pandas.pydata.org/pandas-docs/stable/indexing.html#ix-indexer-is-deprecated\n",
      "  after removing the cwd from sys.path.\n"
     ]
    },
    {
     "data": {
      "text/html": [
       "<div>\n",
       "<style>\n",
       "    .dataframe thead tr:only-child th {\n",
       "        text-align: right;\n",
       "    }\n",
       "\n",
       "    .dataframe thead th {\n",
       "        text-align: left;\n",
       "    }\n",
       "\n",
       "    .dataframe tbody tr th {\n",
       "        vertical-align: top;\n",
       "    }\n",
       "</style>\n",
       "<table border=\"1\" class=\"dataframe\">\n",
       "  <thead>\n",
       "    <tr style=\"text-align: right;\">\n",
       "      <th></th>\n",
       "      <th>a</th>\n",
       "      <th>b</th>\n",
       "      <th>c</th>\n",
       "      <th>d</th>\n",
       "      <th>e</th>\n",
       "    </tr>\n",
       "  </thead>\n",
       "  <tbody>\n",
       "    <tr>\n",
       "      <th>01</th>\n",
       "      <td>-0.138747</td>\n",
       "      <td>-1.808818</td>\n",
       "      <td>1.146726</td>\n",
       "      <td>0.565915</td>\n",
       "      <td>-0.305556</td>\n",
       "    </tr>\n",
       "    <tr>\n",
       "      <th>02</th>\n",
       "      <td>-1.224948</td>\n",
       "      <td>NaN</td>\n",
       "      <td>NaN</td>\n",
       "      <td>NaN</td>\n",
       "      <td>-1.231459</td>\n",
       "    </tr>\n",
       "    <tr>\n",
       "      <th>03</th>\n",
       "      <td>1.696655</td>\n",
       "      <td>NaN</td>\n",
       "      <td>NaN</td>\n",
       "      <td>NaN</td>\n",
       "      <td>0.155311</td>\n",
       "    </tr>\n",
       "    <tr>\n",
       "      <th>04</th>\n",
       "      <td>-1.055390</td>\n",
       "      <td>NaN</td>\n",
       "      <td>NaN</td>\n",
       "      <td>NaN</td>\n",
       "      <td>0.707520</td>\n",
       "    </tr>\n",
       "    <tr>\n",
       "      <th>05</th>\n",
       "      <td>-0.515779</td>\n",
       "      <td>-0.117837</td>\n",
       "      <td>0.795646</td>\n",
       "      <td>0.020056</td>\n",
       "      <td>-1.002590</td>\n",
       "    </tr>\n",
       "  </tbody>\n",
       "</table>\n",
       "</div>"
      ],
      "text/plain": [
       "           a         b         c         d         e\n",
       "01 -0.138747 -1.808818  1.146726  0.565915 -0.305556\n",
       "02 -1.224948       NaN       NaN       NaN -1.231459\n",
       "03  1.696655       NaN       NaN       NaN  0.155311\n",
       "04 -1.055390       NaN       NaN       NaN  0.707520\n",
       "05 -0.515779 -0.117837  0.795646  0.020056 -1.002590"
      ]
     },
     "execution_count": 19,
     "metadata": {},
     "output_type": "execute_result"
    }
   ],
   "source": [
    "df = DataFrame(np.random.randn(5,5),\n",
    "              columns=['a','b','c','d','e'],\n",
    "              index=['01','02','03','04','05'])\n",
    "df.ix[1:4,1:4] = np.nan # 设置几个nan值\n",
    "df"
   ]
  },
  {
   "cell_type": "markdown",
   "metadata": {},
   "source": [
    "#### 通过字典分组"
   ]
  },
  {
   "cell_type": "code",
   "execution_count": 20,
   "metadata": {},
   "outputs": [
    {
     "data": {
      "text/html": [
       "<div>\n",
       "<style>\n",
       "    .dataframe thead tr:only-child th {\n",
       "        text-align: right;\n",
       "    }\n",
       "\n",
       "    .dataframe thead th {\n",
       "        text-align: left;\n",
       "    }\n",
       "\n",
       "    .dataframe tbody tr th {\n",
       "        vertical-align: top;\n",
       "    }\n",
       "</style>\n",
       "<table border=\"1\" class=\"dataframe\">\n",
       "  <thead>\n",
       "    <tr style=\"text-align: right;\">\n",
       "      <th></th>\n",
       "      <th>A</th>\n",
       "      <th>B</th>\n",
       "    </tr>\n",
       "  </thead>\n",
       "  <tbody>\n",
       "    <tr>\n",
       "      <th>01</th>\n",
       "      <td>0.524631</td>\n",
       "      <td>-1.057187</td>\n",
       "    </tr>\n",
       "    <tr>\n",
       "      <th>02</th>\n",
       "      <td>-1.224948</td>\n",
       "      <td>-1.231459</td>\n",
       "    </tr>\n",
       "    <tr>\n",
       "      <th>03</th>\n",
       "      <td>1.696655</td>\n",
       "      <td>0.155311</td>\n",
       "    </tr>\n",
       "    <tr>\n",
       "      <th>04</th>\n",
       "      <td>-1.055390</td>\n",
       "      <td>0.707520</td>\n",
       "    </tr>\n",
       "    <tr>\n",
       "      <th>05</th>\n",
       "      <td>0.099974</td>\n",
       "      <td>-0.560213</td>\n",
       "    </tr>\n",
       "  </tbody>\n",
       "</table>\n",
       "</div>"
      ],
      "text/plain": [
       "           A         B\n",
       "01  0.524631 -1.057187\n",
       "02 -1.224948 -1.231459\n",
       "03  1.696655  0.155311\n",
       "04 -1.055390  0.707520\n",
       "05  0.099974 -0.560213"
      ]
     },
     "execution_count": 20,
     "metadata": {},
     "output_type": "execute_result"
    }
   ],
   "source": [
    "dict_col = {'a':'A','b':'B','c':'A','d':'A','e':'B'}\n",
    "df.groupby(dict_col, axis=1).mean()# 指定分组关系，等价于df.groupby(['A','B','A','A','B'], axis=1).mean()"
   ]
  },
  {
   "cell_type": "markdown",
   "metadata": {},
   "source": [
    "#### 通过Series分组 -- "
   ]
  },
  {
   "cell_type": "code",
   "execution_count": 21,
   "metadata": {},
   "outputs": [
    {
     "data": {
      "text/html": [
       "<div>\n",
       "<style>\n",
       "    .dataframe thead tr:only-child th {\n",
       "        text-align: right;\n",
       "    }\n",
       "\n",
       "    .dataframe thead th {\n",
       "        text-align: left;\n",
       "    }\n",
       "\n",
       "    .dataframe tbody tr th {\n",
       "        vertical-align: top;\n",
       "    }\n",
       "</style>\n",
       "<table border=\"1\" class=\"dataframe\">\n",
       "  <thead>\n",
       "    <tr style=\"text-align: right;\">\n",
       "      <th></th>\n",
       "      <th>A</th>\n",
       "      <th>B</th>\n",
       "    </tr>\n",
       "  </thead>\n",
       "  <tbody>\n",
       "    <tr>\n",
       "      <th>01</th>\n",
       "      <td>0.524631</td>\n",
       "      <td>-1.057187</td>\n",
       "    </tr>\n",
       "    <tr>\n",
       "      <th>02</th>\n",
       "      <td>-1.224948</td>\n",
       "      <td>-1.231459</td>\n",
       "    </tr>\n",
       "    <tr>\n",
       "      <th>03</th>\n",
       "      <td>1.696655</td>\n",
       "      <td>0.155311</td>\n",
       "    </tr>\n",
       "    <tr>\n",
       "      <th>04</th>\n",
       "      <td>-1.055390</td>\n",
       "      <td>0.707520</td>\n",
       "    </tr>\n",
       "    <tr>\n",
       "      <th>05</th>\n",
       "      <td>0.099974</td>\n",
       "      <td>-0.560213</td>\n",
       "    </tr>\n",
       "  </tbody>\n",
       "</table>\n",
       "</div>"
      ],
      "text/plain": [
       "           A         B\n",
       "01  0.524631 -1.057187\n",
       "02 -1.224948 -1.231459\n",
       "03  1.696655  0.155311\n",
       "04 -1.055390  0.707520\n",
       "05  0.099974 -0.560213"
      ]
     },
     "execution_count": 21,
     "metadata": {},
     "output_type": "execute_result"
    }
   ],
   "source": [
    "series_col = Series({'a':'A','b':'B','c':'A','d':'A','e':'B'}) # 长度不一定要一致的\n",
    "df.groupby(series_col, axis=1).mean()"
   ]
  },
  {
   "cell_type": "markdown",
   "metadata": {},
   "source": [
    "### 通过函数分组"
   ]
  },
  {
   "cell_type": "markdown",
   "metadata": {},
   "source": [
    "相较于字典或Series,Python函数在定义分组映射关系时可以更\n",
    "有创意且更为抽象。任何被当做分组键的函数都会在各个索引值上被\n",
    "调用一次,其返回值就会被用作分组名称。"
   ]
  },
  {
   "cell_type": "markdown",
   "metadata": {},
   "source": [
    "#### 纯函数分组"
   ]
  },
  {
   "cell_type": "code",
   "execution_count": 22,
   "metadata": {},
   "outputs": [
    {
     "data": {
      "text/html": [
       "<div>\n",
       "<style>\n",
       "    .dataframe thead tr:only-child th {\n",
       "        text-align: right;\n",
       "    }\n",
       "\n",
       "    .dataframe thead th {\n",
       "        text-align: left;\n",
       "    }\n",
       "\n",
       "    .dataframe tbody tr th {\n",
       "        vertical-align: top;\n",
       "    }\n",
       "</style>\n",
       "<table border=\"1\" class=\"dataframe\">\n",
       "  <thead>\n",
       "    <tr style=\"text-align: right;\">\n",
       "      <th></th>\n",
       "      <th>grade</th>\n",
       "    </tr>\n",
       "  </thead>\n",
       "  <tbody>\n",
       "    <tr>\n",
       "      <th>False</th>\n",
       "      <td>68</td>\n",
       "    </tr>\n",
       "    <tr>\n",
       "      <th>True</th>\n",
       "      <td>60</td>\n",
       "    </tr>\n",
       "  </tbody>\n",
       "</table>\n",
       "</div>"
      ],
      "text/plain": [
       "       grade\n",
       "False     68\n",
       "True      60"
      ]
     },
     "execution_count": 22,
     "metadata": {},
     "output_type": "execute_result"
    }
   ],
   "source": [
    "df = DataFrame({'grade':[67,54,47,82,66]}, index=['Jack Jr.','Murphy','Mark Jr.','Lily','John Jr.'])\n",
    "df.groupby(lambda name:'Jr.' in name).mean() # 根据名称中是否存在Jr.进行分组统计分数平均值"
   ]
  },
  {
   "cell_type": "markdown",
   "metadata": {},
   "source": [
    "#### 函数混合其他分组 -- 先使用函数分为True，False两组，再根据数组继续细分"
   ]
  },
  {
   "cell_type": "code",
   "execution_count": 23,
   "metadata": {},
   "outputs": [
    {
     "data": {
      "text/html": [
       "<div>\n",
       "<style>\n",
       "    .dataframe thead tr:only-child th {\n",
       "        text-align: right;\n",
       "    }\n",
       "\n",
       "    .dataframe thead th {\n",
       "        text-align: left;\n",
       "    }\n",
       "\n",
       "    .dataframe tbody tr th {\n",
       "        vertical-align: top;\n",
       "    }\n",
       "</style>\n",
       "<table border=\"1\" class=\"dataframe\">\n",
       "  <thead>\n",
       "    <tr style=\"text-align: right;\">\n",
       "      <th></th>\n",
       "      <th></th>\n",
       "      <th>grade</th>\n",
       "    </tr>\n",
       "  </thead>\n",
       "  <tbody>\n",
       "    <tr>\n",
       "      <th rowspan=\"2\" valign=\"top\">False</th>\n",
       "      <th>1</th>\n",
       "      <td>82.0</td>\n",
       "    </tr>\n",
       "    <tr>\n",
       "      <th>2</th>\n",
       "      <td>54.0</td>\n",
       "    </tr>\n",
       "    <tr>\n",
       "      <th rowspan=\"2\" valign=\"top\">True</th>\n",
       "      <th>1</th>\n",
       "      <td>67.0</td>\n",
       "    </tr>\n",
       "    <tr>\n",
       "      <th>2</th>\n",
       "      <td>56.5</td>\n",
       "    </tr>\n",
       "  </tbody>\n",
       "</table>\n",
       "</div>"
      ],
      "text/plain": [
       "         grade\n",
       "False 1   82.0\n",
       "      2   54.0\n",
       "True  1   67.0\n",
       "      2   56.5"
      ]
     },
     "execution_count": 23,
     "metadata": {},
     "output_type": "execute_result"
    }
   ],
   "source": [
    "df.groupby([lambda name:'Jr.' in name,['1','2','2','1','2']]).mean() # 函数混合数组"
   ]
  },
  {
   "cell_type": "markdown",
   "metadata": {},
   "source": [
    "### 根据索引级别分组 -- 直接通过level参数指定分组级别即可"
   ]
  },
  {
   "cell_type": "code",
   "execution_count": 24,
   "metadata": {},
   "outputs": [
    {
     "data": {
      "text/html": [
       "<div>\n",
       "<style>\n",
       "    .dataframe thead tr:only-child th {\n",
       "        text-align: right;\n",
       "    }\n",
       "\n",
       "    .dataframe thead th {\n",
       "        text-align: left;\n",
       "    }\n",
       "\n",
       "    .dataframe tbody tr th {\n",
       "        vertical-align: top;\n",
       "    }\n",
       "</style>\n",
       "<table border=\"1\" class=\"dataframe\">\n",
       "  <thead>\n",
       "    <tr>\n",
       "      <th>cty</th>\n",
       "      <th colspan=\"3\" halign=\"left\">US</th>\n",
       "      <th colspan=\"2\" halign=\"left\">JP</th>\n",
       "    </tr>\n",
       "    <tr>\n",
       "      <th>tenor</th>\n",
       "      <th>1</th>\n",
       "      <th>3</th>\n",
       "      <th>5</th>\n",
       "      <th>1</th>\n",
       "      <th>3</th>\n",
       "    </tr>\n",
       "  </thead>\n",
       "  <tbody>\n",
       "    <tr>\n",
       "      <th>0</th>\n",
       "      <td>-0.807422</td>\n",
       "      <td>-0.368774</td>\n",
       "      <td>2.158580</td>\n",
       "      <td>0.609192</td>\n",
       "      <td>0.831243</td>\n",
       "    </tr>\n",
       "    <tr>\n",
       "      <th>1</th>\n",
       "      <td>-0.919084</td>\n",
       "      <td>0.973250</td>\n",
       "      <td>1.007917</td>\n",
       "      <td>1.204838</td>\n",
       "      <td>-0.451000</td>\n",
       "    </tr>\n",
       "    <tr>\n",
       "      <th>2</th>\n",
       "      <td>-1.838745</td>\n",
       "      <td>-0.623581</td>\n",
       "      <td>2.138910</td>\n",
       "      <td>-0.064356</td>\n",
       "      <td>1.389326</td>\n",
       "    </tr>\n",
       "    <tr>\n",
       "      <th>3</th>\n",
       "      <td>-1.248318</td>\n",
       "      <td>1.571616</td>\n",
       "      <td>-0.522442</td>\n",
       "      <td>0.190537</td>\n",
       "      <td>-0.927206</td>\n",
       "    </tr>\n",
       "  </tbody>\n",
       "</table>\n",
       "</div>"
      ],
      "text/plain": [
       "cty          US                            JP          \n",
       "tenor         1         3         5         1         3\n",
       "0     -0.807422 -0.368774  2.158580  0.609192  0.831243\n",
       "1     -0.919084  0.973250  1.007917  1.204838 -0.451000\n",
       "2     -1.838745 -0.623581  2.138910 -0.064356  1.389326\n",
       "3     -1.248318  1.571616 -0.522442  0.190537 -0.927206"
      ]
     },
     "execution_count": 24,
     "metadata": {},
     "output_type": "execute_result"
    }
   ],
   "source": [
    "columns = pd.MultiIndex.from_arrays([['US', 'US', 'US', 'JP', 'JP'],[1, 3, 5, 1, 3]], names=['cty', 'tenor'])\n",
    "df = DataFrame(np.random.randn(4, 5), columns=columns)\n",
    "df"
   ]
  },
  {
   "cell_type": "code",
   "execution_count": 25,
   "metadata": {},
   "outputs": [
    {
     "data": {
      "text/html": [
       "<div>\n",
       "<style>\n",
       "    .dataframe thead tr:only-child th {\n",
       "        text-align: right;\n",
       "    }\n",
       "\n",
       "    .dataframe thead th {\n",
       "        text-align: left;\n",
       "    }\n",
       "\n",
       "    .dataframe tbody tr th {\n",
       "        vertical-align: top;\n",
       "    }\n",
       "</style>\n",
       "<table border=\"1\" class=\"dataframe\">\n",
       "  <thead>\n",
       "    <tr style=\"text-align: right;\">\n",
       "      <th>cty</th>\n",
       "      <th>JP</th>\n",
       "      <th>US</th>\n",
       "    </tr>\n",
       "  </thead>\n",
       "  <tbody>\n",
       "    <tr>\n",
       "      <th>0</th>\n",
       "      <td>0.720217</td>\n",
       "      <td>0.327461</td>\n",
       "    </tr>\n",
       "    <tr>\n",
       "      <th>1</th>\n",
       "      <td>0.376919</td>\n",
       "      <td>0.354028</td>\n",
       "    </tr>\n",
       "    <tr>\n",
       "      <th>2</th>\n",
       "      <td>0.662485</td>\n",
       "      <td>-0.107806</td>\n",
       "    </tr>\n",
       "    <tr>\n",
       "      <th>3</th>\n",
       "      <td>-0.368334</td>\n",
       "      <td>-0.066382</td>\n",
       "    </tr>\n",
       "  </tbody>\n",
       "</table>\n",
       "</div>"
      ],
      "text/plain": [
       "cty        JP        US\n",
       "0    0.720217  0.327461\n",
       "1    0.376919  0.354028\n",
       "2    0.662485 -0.107806\n",
       "3   -0.368334 -0.066382"
      ]
     },
     "execution_count": 25,
     "metadata": {},
     "output_type": "execute_result"
    }
   ],
   "source": [
    "df.groupby(level='cty', axis=1).mean() # 按照cty分组，也就是最外层索引"
   ]
  },
  {
   "cell_type": "code",
   "execution_count": 26,
   "metadata": {},
   "outputs": [
    {
     "data": {
      "text/html": [
       "<div>\n",
       "<style>\n",
       "    .dataframe thead tr:only-child th {\n",
       "        text-align: right;\n",
       "    }\n",
       "\n",
       "    .dataframe thead th {\n",
       "        text-align: left;\n",
       "    }\n",
       "\n",
       "    .dataframe tbody tr th {\n",
       "        vertical-align: top;\n",
       "    }\n",
       "</style>\n",
       "<table border=\"1\" class=\"dataframe\">\n",
       "  <thead>\n",
       "    <tr style=\"text-align: right;\">\n",
       "      <th>tenor</th>\n",
       "      <th>1</th>\n",
       "      <th>3</th>\n",
       "      <th>5</th>\n",
       "    </tr>\n",
       "  </thead>\n",
       "  <tbody>\n",
       "    <tr>\n",
       "      <th>0</th>\n",
       "      <td>-0.099115</td>\n",
       "      <td>0.231234</td>\n",
       "      <td>2.158580</td>\n",
       "    </tr>\n",
       "    <tr>\n",
       "      <th>1</th>\n",
       "      <td>0.142877</td>\n",
       "      <td>0.261125</td>\n",
       "      <td>1.007917</td>\n",
       "    </tr>\n",
       "    <tr>\n",
       "      <th>2</th>\n",
       "      <td>-0.951550</td>\n",
       "      <td>0.382873</td>\n",
       "      <td>2.138910</td>\n",
       "    </tr>\n",
       "    <tr>\n",
       "      <th>3</th>\n",
       "      <td>-0.528891</td>\n",
       "      <td>0.322205</td>\n",
       "      <td>-0.522442</td>\n",
       "    </tr>\n",
       "  </tbody>\n",
       "</table>\n",
       "</div>"
      ],
      "text/plain": [
       "tenor         1         3         5\n",
       "0     -0.099115  0.231234  2.158580\n",
       "1      0.142877  0.261125  1.007917\n",
       "2     -0.951550  0.382873  2.138910\n",
       "3     -0.528891  0.322205 -0.522442"
      ]
     },
     "execution_count": 26,
     "metadata": {},
     "output_type": "execute_result"
    }
   ],
   "source": [
    "df.groupby(level=1, axis=1).mean() # 按照最内层索引分组"
   ]
  },
  {
   "cell_type": "markdown",
   "metadata": {},
   "source": [
    "## 数据聚合"
   ]
  },
  {
   "cell_type": "markdown",
   "metadata": {},
   "source": [
    "对于**聚合**,我指的是任何能够从**数组**产生**标量值**的**数据转换**过\n",
    "程。之前的例子中我已经用过一些,比如mean、count、min以及sum等。\n",
    "你可能想知道在GroupBy对象上调用mean()时究竟发生了什么。许多\n",
    "常见的聚合运算都有就地计算数据集统计信息的优化\n",
    "实现。然而,并不是只能使用这些方法。你可以使用**自己发明**的**聚合运\n",
    "算**,还可以调用分组对象上**已经定义**好的任何**方法**。"
   ]
  },
  {
   "cell_type": "markdown",
   "metadata": {},
   "source": [
    "### 一般聚合方法"
   ]
  },
  {
   "cell_type": "code",
   "execution_count": 27,
   "metadata": {},
   "outputs": [
    {
     "name": "stdout",
     "output_type": "stream",
     "text": [
      "a\n",
      "    data1  data2 key1 key2\n",
      "HL     10     40    a    c\n",
      "BL     30     60    a    d\n",
      "MP     50     80    a    c\n",
      "\n",
      "\n",
      "b\n",
      "    data1  data2 key1 key2\n",
      "LM     20     50    b    d\n",
      "JK     40     70    b    c\n",
      "\n",
      "\n"
     ]
    }
   ],
   "source": [
    "gb = DataFrame({'data1':[10,20,30,40,50],'data2':[40,50,60,70,80],\n",
    "                'key1':['a','b','a','b','a'],'key2':['c','d','d','c','c']},\n",
    "              index=['HL','LM','BL','JK','MP']).groupby('key1')\n",
    "\n",
    "for name,group in gb:\n",
    "    print name\n",
    "    print group\n",
    "    print '\\n'"
   ]
  },
  {
   "cell_type": "markdown",
   "metadata": {},
   "source": [
    "#### quantile -- 分位数 默认丢弃非数值列"
   ]
  },
  {
   "cell_type": "code",
   "execution_count": 28,
   "metadata": {},
   "outputs": [
    {
     "data": {
      "text/html": [
       "<div>\n",
       "<style>\n",
       "    .dataframe thead tr:only-child th {\n",
       "        text-align: right;\n",
       "    }\n",
       "\n",
       "    .dataframe thead th {\n",
       "        text-align: left;\n",
       "    }\n",
       "\n",
       "    .dataframe tbody tr th {\n",
       "        vertical-align: top;\n",
       "    }\n",
       "</style>\n",
       "<table border=\"1\" class=\"dataframe\">\n",
       "  <thead>\n",
       "    <tr style=\"text-align: right;\">\n",
       "      <th>0.9</th>\n",
       "      <th>data1</th>\n",
       "      <th>data2</th>\n",
       "    </tr>\n",
       "    <tr>\n",
       "      <th>key1</th>\n",
       "      <th></th>\n",
       "      <th></th>\n",
       "    </tr>\n",
       "  </thead>\n",
       "  <tbody>\n",
       "    <tr>\n",
       "      <th>a</th>\n",
       "      <td>46.0</td>\n",
       "      <td>76.0</td>\n",
       "    </tr>\n",
       "    <tr>\n",
       "      <th>b</th>\n",
       "      <td>38.0</td>\n",
       "      <td>68.0</td>\n",
       "    </tr>\n",
       "  </tbody>\n",
       "</table>\n",
       "</div>"
      ],
      "text/plain": [
       "0.9   data1  data2\n",
       "key1              \n",
       "a      46.0   76.0\n",
       "b      38.0   68.0"
      ]
     },
     "execution_count": 28,
     "metadata": {},
     "output_type": "execute_result"
    }
   ],
   "source": [
    "gb.quantile(0.9)"
   ]
  },
  {
   "cell_type": "markdown",
   "metadata": {},
   "source": [
    "#### 使用自定义聚合方法 -- agg(callable, string, dictionary, or list of string/callables)"
   ]
  },
  {
   "cell_type": "code",
   "execution_count": 29,
   "metadata": {},
   "outputs": [
    {
     "data": {
      "text/html": [
       "<div>\n",
       "<style>\n",
       "    .dataframe thead tr:only-child th {\n",
       "        text-align: right;\n",
       "    }\n",
       "\n",
       "    .dataframe thead th {\n",
       "        text-align: left;\n",
       "    }\n",
       "\n",
       "    .dataframe tbody tr th {\n",
       "        vertical-align: top;\n",
       "    }\n",
       "</style>\n",
       "<table border=\"1\" class=\"dataframe\">\n",
       "  <thead>\n",
       "    <tr style=\"text-align: right;\">\n",
       "      <th></th>\n",
       "      <th>data1</th>\n",
       "      <th>data2</th>\n",
       "    </tr>\n",
       "    <tr>\n",
       "      <th>key1</th>\n",
       "      <th></th>\n",
       "      <th></th>\n",
       "    </tr>\n",
       "  </thead>\n",
       "  <tbody>\n",
       "    <tr>\n",
       "      <th>a</th>\n",
       "      <td>40</td>\n",
       "      <td>40</td>\n",
       "    </tr>\n",
       "    <tr>\n",
       "      <th>b</th>\n",
       "      <td>20</td>\n",
       "      <td>20</td>\n",
       "    </tr>\n",
       "  </tbody>\n",
       "</table>\n",
       "</div>"
      ],
      "text/plain": [
       "      data1  data2\n",
       "key1              \n",
       "a        40     40\n",
       "b        20     20"
      ]
     },
     "execution_count": 29,
     "metadata": {},
     "output_type": "execute_result"
    }
   ],
   "source": [
    "def func(x):\n",
    "    return x.max() - x.min()\n",
    "\n",
    "gb.agg(func) # 应用于每一个分组"
   ]
  },
  {
   "cell_type": "markdown",
   "metadata": {},
   "source": [
    "注意: 可能你已经注意到了,自定义聚合函数要比内置的那些\n",
    "经过优化的函数慢得多。这是因为在构造**中间分组数据块**时存在非常\n",
    "大的开销(**函数调用**、**数据重排**等)。"
   ]
  },
  {
   "cell_type": "markdown",
   "metadata": {},
   "source": [
    "#### GroupBy内置的可用聚合方法"
   ]
  },
  {
   "cell_type": "markdown",
   "metadata": {},
   "source": [
    "* count：分组中非NaN的值的个数；\n",
    "* sum：分组中非NaN值的和；\n",
    "* mean：分组中非NaN值的平均值；\n",
    "* median：分组中非NaN值的算数中位数；\n",
    "* std,var：分组中非NaN值的无偏（分母为n-1，矫正过）标准差/方差；\n",
    "* min,max：分组中非NaN值的最小/最大值；\n",
    "* prod：分组中非NaN值的积；\n",
    "* first,last：分组第一个/最后一个非NaN的值；"
   ]
  },
  {
   "cell_type": "markdown",
   "metadata": {},
   "source": [
    "### 对比agg，aggregate，apply"
   ]
  },
  {
   "cell_type": "code",
   "execution_count": 30,
   "metadata": {},
   "outputs": [],
   "source": [
    "def test(x):\n",
    "    print type(x)\n",
    "    print x\n",
    "    print '\\n'\n",
    "    return 2"
   ]
  },
  {
   "cell_type": "markdown",
   "metadata": {},
   "source": [
    "#### agg"
   ]
  },
  {
   "cell_type": "code",
   "execution_count": 31,
   "metadata": {},
   "outputs": [
    {
     "name": "stdout",
     "output_type": "stream",
     "text": [
      "<class 'pandas.core.series.Series'>\n",
      "HL    10\n",
      "BL    30\n",
      "MP    50\n",
      "Name: data1, dtype: int64\n",
      "\n",
      "\n",
      "<class 'pandas.core.series.Series'>\n",
      "LM    20\n",
      "JK    40\n",
      "Name: data1, dtype: int64\n",
      "\n",
      "\n",
      "<class 'pandas.core.series.Series'>\n",
      "HL    40\n",
      "BL    60\n",
      "MP    80\n",
      "Name: data2, dtype: int64\n",
      "\n",
      "\n",
      "<class 'pandas.core.series.Series'>\n",
      "LM    50\n",
      "JK    70\n",
      "Name: data2, dtype: int64\n",
      "\n",
      "\n",
      "<class 'pandas.core.series.Series'>\n",
      "HL    c\n",
      "BL    d\n",
      "MP    c\n",
      "Name: key2, dtype: object\n",
      "\n",
      "\n",
      "<class 'pandas.core.series.Series'>\n",
      "LM    d\n",
      "JK    c\n",
      "Name: key2, dtype: object\n",
      "\n",
      "\n"
     ]
    },
    {
     "data": {
      "text/html": [
       "<div>\n",
       "<style>\n",
       "    .dataframe thead tr:only-child th {\n",
       "        text-align: right;\n",
       "    }\n",
       "\n",
       "    .dataframe thead th {\n",
       "        text-align: left;\n",
       "    }\n",
       "\n",
       "    .dataframe tbody tr th {\n",
       "        vertical-align: top;\n",
       "    }\n",
       "</style>\n",
       "<table border=\"1\" class=\"dataframe\">\n",
       "  <thead>\n",
       "    <tr style=\"text-align: right;\">\n",
       "      <th></th>\n",
       "      <th>data1</th>\n",
       "      <th>data2</th>\n",
       "      <th>key2</th>\n",
       "    </tr>\n",
       "    <tr>\n",
       "      <th>key1</th>\n",
       "      <th></th>\n",
       "      <th></th>\n",
       "      <th></th>\n",
       "    </tr>\n",
       "  </thead>\n",
       "  <tbody>\n",
       "    <tr>\n",
       "      <th>a</th>\n",
       "      <td>2</td>\n",
       "      <td>2</td>\n",
       "      <td>2</td>\n",
       "    </tr>\n",
       "    <tr>\n",
       "      <th>b</th>\n",
       "      <td>2</td>\n",
       "      <td>2</td>\n",
       "      <td>2</td>\n",
       "    </tr>\n",
       "  </tbody>\n",
       "</table>\n",
       "</div>"
      ],
      "text/plain": [
       "      data1  data2  key2\n",
       "key1                    \n",
       "a         2      2     2\n",
       "b         2      2     2"
      ]
     },
     "execution_count": 31,
     "metadata": {},
     "output_type": "execute_result"
    }
   ],
   "source": [
    "gb.agg(test)"
   ]
  },
  {
   "cell_type": "markdown",
   "metadata": {},
   "source": [
    "agg：\n",
    "* 作用于每一组的每一个列（也就是Series）上；\n",
    "* 结果是聚合结果组成的DataFrame"
   ]
  },
  {
   "cell_type": "markdown",
   "metadata": {},
   "source": [
    "#### aggregate"
   ]
  },
  {
   "cell_type": "code",
   "execution_count": 32,
   "metadata": {},
   "outputs": [
    {
     "name": "stdout",
     "output_type": "stream",
     "text": [
      "<class 'pandas.core.series.Series'>\n",
      "HL    10\n",
      "BL    30\n",
      "MP    50\n",
      "Name: data1, dtype: int64\n",
      "\n",
      "\n",
      "<class 'pandas.core.series.Series'>\n",
      "LM    20\n",
      "JK    40\n",
      "Name: data1, dtype: int64\n",
      "\n",
      "\n",
      "<class 'pandas.core.series.Series'>\n",
      "HL    40\n",
      "BL    60\n",
      "MP    80\n",
      "Name: data2, dtype: int64\n",
      "\n",
      "\n",
      "<class 'pandas.core.series.Series'>\n",
      "LM    50\n",
      "JK    70\n",
      "Name: data2, dtype: int64\n",
      "\n",
      "\n",
      "<class 'pandas.core.series.Series'>\n",
      "HL    c\n",
      "BL    d\n",
      "MP    c\n",
      "Name: key2, dtype: object\n",
      "\n",
      "\n",
      "<class 'pandas.core.series.Series'>\n",
      "LM    d\n",
      "JK    c\n",
      "Name: key2, dtype: object\n",
      "\n",
      "\n"
     ]
    },
    {
     "data": {
      "text/html": [
       "<div>\n",
       "<style>\n",
       "    .dataframe thead tr:only-child th {\n",
       "        text-align: right;\n",
       "    }\n",
       "\n",
       "    .dataframe thead th {\n",
       "        text-align: left;\n",
       "    }\n",
       "\n",
       "    .dataframe tbody tr th {\n",
       "        vertical-align: top;\n",
       "    }\n",
       "</style>\n",
       "<table border=\"1\" class=\"dataframe\">\n",
       "  <thead>\n",
       "    <tr style=\"text-align: right;\">\n",
       "      <th></th>\n",
       "      <th>data1</th>\n",
       "      <th>data2</th>\n",
       "      <th>key2</th>\n",
       "    </tr>\n",
       "    <tr>\n",
       "      <th>key1</th>\n",
       "      <th></th>\n",
       "      <th></th>\n",
       "      <th></th>\n",
       "    </tr>\n",
       "  </thead>\n",
       "  <tbody>\n",
       "    <tr>\n",
       "      <th>a</th>\n",
       "      <td>2</td>\n",
       "      <td>2</td>\n",
       "      <td>2</td>\n",
       "    </tr>\n",
       "    <tr>\n",
       "      <th>b</th>\n",
       "      <td>2</td>\n",
       "      <td>2</td>\n",
       "      <td>2</td>\n",
       "    </tr>\n",
       "  </tbody>\n",
       "</table>\n",
       "</div>"
      ],
      "text/plain": [
       "      data1  data2  key2\n",
       "key1                    \n",
       "a         2      2     2\n",
       "b         2      2     2"
      ]
     },
     "execution_count": 32,
     "metadata": {},
     "output_type": "execute_result"
    }
   ],
   "source": [
    "gb.aggregate(test)"
   ]
  },
  {
   "cell_type": "markdown",
   "metadata": {},
   "source": [
    "同上"
   ]
  },
  {
   "cell_type": "markdown",
   "metadata": {},
   "source": [
    "#### apply"
   ]
  },
  {
   "cell_type": "code",
   "execution_count": 33,
   "metadata": {},
   "outputs": [
    {
     "name": "stdout",
     "output_type": "stream",
     "text": [
      "<class 'pandas.core.frame.DataFrame'>\n",
      "    data1  data2 key2\n",
      "HL     10     40    c\n",
      "BL     30     60    d\n",
      "MP     50     80    c\n",
      "\n",
      "\n",
      "<class 'pandas.core.frame.DataFrame'>\n",
      "    data1  data2 key2\n",
      "HL     10     40    c\n",
      "BL     30     60    d\n",
      "MP     50     80    c\n",
      "\n",
      "\n",
      "<class 'pandas.core.frame.DataFrame'>\n",
      "    data1  data2 key2\n",
      "LM     20     50    d\n",
      "JK     40     70    c\n",
      "\n",
      "\n"
     ]
    },
    {
     "data": {
      "text/plain": [
       "key1\n",
       "a    2\n",
       "b    2\n",
       "dtype: int64"
      ]
     },
     "execution_count": 33,
     "metadata": {},
     "output_type": "execute_result"
    }
   ],
   "source": [
    "gb.apply(test)"
   ]
  },
  {
   "cell_type": "code",
   "execution_count": 34,
   "metadata": {},
   "outputs": [
    {
     "data": {
      "text/html": [
       "<div>\n",
       "<style>\n",
       "    .dataframe thead tr:only-child th {\n",
       "        text-align: right;\n",
       "    }\n",
       "\n",
       "    .dataframe thead th {\n",
       "        text-align: left;\n",
       "    }\n",
       "\n",
       "    .dataframe tbody tr th {\n",
       "        vertical-align: top;\n",
       "    }\n",
       "</style>\n",
       "<table border=\"1\" class=\"dataframe\">\n",
       "  <thead>\n",
       "    <tr style=\"text-align: right;\">\n",
       "      <th></th>\n",
       "      <th>data1</th>\n",
       "      <th>data2</th>\n",
       "      <th>key2</th>\n",
       "    </tr>\n",
       "    <tr>\n",
       "      <th>key1</th>\n",
       "      <th></th>\n",
       "      <th></th>\n",
       "      <th></th>\n",
       "    </tr>\n",
       "  </thead>\n",
       "  <tbody>\n",
       "    <tr>\n",
       "      <th>a</th>\n",
       "      <td>10</td>\n",
       "      <td>40</td>\n",
       "      <td>c</td>\n",
       "    </tr>\n",
       "    <tr>\n",
       "      <th>b</th>\n",
       "      <td>20</td>\n",
       "      <td>50</td>\n",
       "      <td>c</td>\n",
       "    </tr>\n",
       "  </tbody>\n",
       "</table>\n",
       "</div>"
      ],
      "text/plain": [
       "      data1  data2 key2\n",
       "key1                   \n",
       "a        10     40    c\n",
       "b        20     50    c"
      ]
     },
     "execution_count": 34,
     "metadata": {},
     "output_type": "execute_result"
    }
   ],
   "source": [
    "gb.apply(lambda x:x.min())"
   ]
  },
  {
   "cell_type": "markdown",
   "metadata": {},
   "source": [
    "apply：\n",
    "* 作用于每一个分组；\n",
    "* 聚合结果是每一个分组的结果组成的Series；\n",
    "\n",
    "但是为什么有三次循环呢？？"
   ]
  },
  {
   "cell_type": "markdown",
   "metadata": {},
   "source": [
    "#### 总结"
   ]
  },
  {
   "cell_type": "markdown",
   "metadata": {},
   "source": [
    "apply是作用于每一个分组上的，而agg，aggregate是作用于每一个分组的每一列上；"
   ]
  },
  {
   "cell_type": "markdown",
   "metadata": {},
   "source": [
    "### 小费示例"
   ]
  },
  {
   "cell_type": "code",
   "execution_count": 35,
   "metadata": {},
   "outputs": [
    {
     "data": {
      "text/html": [
       "<div>\n",
       "<style>\n",
       "    .dataframe thead tr:only-child th {\n",
       "        text-align: right;\n",
       "    }\n",
       "\n",
       "    .dataframe thead th {\n",
       "        text-align: left;\n",
       "    }\n",
       "\n",
       "    .dataframe tbody tr th {\n",
       "        vertical-align: top;\n",
       "    }\n",
       "</style>\n",
       "<table border=\"1\" class=\"dataframe\">\n",
       "  <thead>\n",
       "    <tr style=\"text-align: right;\">\n",
       "      <th></th>\n",
       "      <th>total_bill</th>\n",
       "      <th>tip</th>\n",
       "      <th>smoker</th>\n",
       "      <th>day</th>\n",
       "      <th>time</th>\n",
       "      <th>size</th>\n",
       "    </tr>\n",
       "  </thead>\n",
       "  <tbody>\n",
       "    <tr>\n",
       "      <th>0</th>\n",
       "      <td>16.99</td>\n",
       "      <td>1.01</td>\n",
       "      <td>No</td>\n",
       "      <td>Sun</td>\n",
       "      <td>Dinner</td>\n",
       "      <td>2</td>\n",
       "    </tr>\n",
       "    <tr>\n",
       "      <th>1</th>\n",
       "      <td>10.34</td>\n",
       "      <td>1.66</td>\n",
       "      <td>No</td>\n",
       "      <td>Sun</td>\n",
       "      <td>Dinner</td>\n",
       "      <td>3</td>\n",
       "    </tr>\n",
       "    <tr>\n",
       "      <th>2</th>\n",
       "      <td>21.01</td>\n",
       "      <td>3.50</td>\n",
       "      <td>No</td>\n",
       "      <td>Sun</td>\n",
       "      <td>Dinner</td>\n",
       "      <td>3</td>\n",
       "    </tr>\n",
       "    <tr>\n",
       "      <th>3</th>\n",
       "      <td>23.68</td>\n",
       "      <td>3.31</td>\n",
       "      <td>No</td>\n",
       "      <td>Sun</td>\n",
       "      <td>Dinner</td>\n",
       "      <td>2</td>\n",
       "    </tr>\n",
       "    <tr>\n",
       "      <th>4</th>\n",
       "      <td>24.59</td>\n",
       "      <td>3.61</td>\n",
       "      <td>No</td>\n",
       "      <td>Sun</td>\n",
       "      <td>Dinner</td>\n",
       "      <td>4</td>\n",
       "    </tr>\n",
       "  </tbody>\n",
       "</table>\n",
       "</div>"
      ],
      "text/plain": [
       "   total_bill   tip smoker  day    time  size\n",
       "0       16.99  1.01     No  Sun  Dinner     2\n",
       "1       10.34  1.66     No  Sun  Dinner     3\n",
       "2       21.01  3.50     No  Sun  Dinner     3\n",
       "3       23.68  3.31     No  Sun  Dinner     2\n",
       "4       24.59  3.61     No  Sun  Dinner     4"
      ]
     },
     "execution_count": 35,
     "metadata": {},
     "output_type": "execute_result"
    }
   ],
   "source": [
    "# step1 加载数据\n",
    "tips = pd.read_csv('https://raw.githubusercontent.com/NemoHoHaloAi/pydata-book/2nd-edition/examples/tips.csv')\n",
    "tips.head(5)"
   ]
  },
  {
   "cell_type": "code",
   "execution_count": 36,
   "metadata": {},
   "outputs": [
    {
     "data": {
      "text/html": [
       "<div>\n",
       "<style>\n",
       "    .dataframe thead tr:only-child th {\n",
       "        text-align: right;\n",
       "    }\n",
       "\n",
       "    .dataframe thead th {\n",
       "        text-align: left;\n",
       "    }\n",
       "\n",
       "    .dataframe tbody tr th {\n",
       "        vertical-align: top;\n",
       "    }\n",
       "</style>\n",
       "<table border=\"1\" class=\"dataframe\">\n",
       "  <thead>\n",
       "    <tr style=\"text-align: right;\">\n",
       "      <th></th>\n",
       "      <th>total_bill</th>\n",
       "      <th>tip</th>\n",
       "      <th>smoker</th>\n",
       "      <th>day</th>\n",
       "      <th>time</th>\n",
       "      <th>size</th>\n",
       "      <th>tip_proportion</th>\n",
       "    </tr>\n",
       "  </thead>\n",
       "  <tbody>\n",
       "    <tr>\n",
       "      <th>0</th>\n",
       "      <td>16.99</td>\n",
       "      <td>1.01</td>\n",
       "      <td>No</td>\n",
       "      <td>Sun</td>\n",
       "      <td>Dinner</td>\n",
       "      <td>2</td>\n",
       "      <td>0.059447</td>\n",
       "    </tr>\n",
       "    <tr>\n",
       "      <th>1</th>\n",
       "      <td>10.34</td>\n",
       "      <td>1.66</td>\n",
       "      <td>No</td>\n",
       "      <td>Sun</td>\n",
       "      <td>Dinner</td>\n",
       "      <td>3</td>\n",
       "      <td>0.160542</td>\n",
       "    </tr>\n",
       "    <tr>\n",
       "      <th>2</th>\n",
       "      <td>21.01</td>\n",
       "      <td>3.50</td>\n",
       "      <td>No</td>\n",
       "      <td>Sun</td>\n",
       "      <td>Dinner</td>\n",
       "      <td>3</td>\n",
       "      <td>0.166587</td>\n",
       "    </tr>\n",
       "    <tr>\n",
       "      <th>3</th>\n",
       "      <td>23.68</td>\n",
       "      <td>3.31</td>\n",
       "      <td>No</td>\n",
       "      <td>Sun</td>\n",
       "      <td>Dinner</td>\n",
       "      <td>2</td>\n",
       "      <td>0.139780</td>\n",
       "    </tr>\n",
       "    <tr>\n",
       "      <th>4</th>\n",
       "      <td>24.59</td>\n",
       "      <td>3.61</td>\n",
       "      <td>No</td>\n",
       "      <td>Sun</td>\n",
       "      <td>Dinner</td>\n",
       "      <td>4</td>\n",
       "      <td>0.146808</td>\n",
       "    </tr>\n",
       "  </tbody>\n",
       "</table>\n",
       "</div>"
      ],
      "text/plain": [
       "   total_bill   tip smoker  day    time  size  tip_proportion\n",
       "0       16.99  1.01     No  Sun  Dinner     2        0.059447\n",
       "1       10.34  1.66     No  Sun  Dinner     3        0.160542\n",
       "2       21.01  3.50     No  Sun  Dinner     3        0.166587\n",
       "3       23.68  3.31     No  Sun  Dinner     2        0.139780\n",
       "4       24.59  3.61     No  Sun  Dinner     4        0.146808"
      ]
     },
     "execution_count": 36,
     "metadata": {},
     "output_type": "execute_result"
    }
   ],
   "source": [
    "# step2 增加小费所占比例列\n",
    "tips['tip_proportion'] = tips['tip'] / tips['total_bill']\n",
    "tips.head(5)"
   ]
  },
  {
   "cell_type": "code",
   "execution_count": 37,
   "metadata": {},
   "outputs": [
    {
     "data": {
      "text/html": [
       "<div>\n",
       "<style>\n",
       "    .dataframe thead tr:only-child th {\n",
       "        text-align: right;\n",
       "    }\n",
       "\n",
       "    .dataframe thead th {\n",
       "        text-align: left;\n",
       "    }\n",
       "\n",
       "    .dataframe tbody tr th {\n",
       "        vertical-align: top;\n",
       "    }\n",
       "</style>\n",
       "<table border=\"1\" class=\"dataframe\">\n",
       "  <thead>\n",
       "    <tr style=\"text-align: right;\">\n",
       "      <th></th>\n",
       "      <th>total_bill</th>\n",
       "      <th>tip</th>\n",
       "      <th>smoker</th>\n",
       "      <th>day</th>\n",
       "      <th>time</th>\n",
       "      <th>size</th>\n",
       "      <th>tip_proportion</th>\n",
       "      <th>sex</th>\n",
       "    </tr>\n",
       "  </thead>\n",
       "  <tbody>\n",
       "    <tr>\n",
       "      <th>0</th>\n",
       "      <td>16.99</td>\n",
       "      <td>1.01</td>\n",
       "      <td>No</td>\n",
       "      <td>Sun</td>\n",
       "      <td>Dinner</td>\n",
       "      <td>2</td>\n",
       "      <td>0.059447</td>\n",
       "      <td>male</td>\n",
       "    </tr>\n",
       "    <tr>\n",
       "      <th>1</th>\n",
       "      <td>10.34</td>\n",
       "      <td>1.66</td>\n",
       "      <td>No</td>\n",
       "      <td>Sun</td>\n",
       "      <td>Dinner</td>\n",
       "      <td>3</td>\n",
       "      <td>0.160542</td>\n",
       "      <td>female</td>\n",
       "    </tr>\n",
       "    <tr>\n",
       "      <th>2</th>\n",
       "      <td>21.01</td>\n",
       "      <td>3.50</td>\n",
       "      <td>No</td>\n",
       "      <td>Sun</td>\n",
       "      <td>Dinner</td>\n",
       "      <td>3</td>\n",
       "      <td>0.166587</td>\n",
       "      <td>female</td>\n",
       "    </tr>\n",
       "    <tr>\n",
       "      <th>3</th>\n",
       "      <td>23.68</td>\n",
       "      <td>3.31</td>\n",
       "      <td>No</td>\n",
       "      <td>Sun</td>\n",
       "      <td>Dinner</td>\n",
       "      <td>2</td>\n",
       "      <td>0.139780</td>\n",
       "      <td>male</td>\n",
       "    </tr>\n",
       "    <tr>\n",
       "      <th>4</th>\n",
       "      <td>24.59</td>\n",
       "      <td>3.61</td>\n",
       "      <td>No</td>\n",
       "      <td>Sun</td>\n",
       "      <td>Dinner</td>\n",
       "      <td>4</td>\n",
       "      <td>0.146808</td>\n",
       "      <td>female</td>\n",
       "    </tr>\n",
       "  </tbody>\n",
       "</table>\n",
       "</div>"
      ],
      "text/plain": [
       "   total_bill   tip smoker  day    time  size  tip_proportion     sex\n",
       "0       16.99  1.01     No  Sun  Dinner     2        0.059447    male\n",
       "1       10.34  1.66     No  Sun  Dinner     3        0.160542  female\n",
       "2       21.01  3.50     No  Sun  Dinner     3        0.166587  female\n",
       "3       23.68  3.31     No  Sun  Dinner     2        0.139780    male\n",
       "4       24.59  3.61     No  Sun  Dinner     4        0.146808  female"
      ]
     },
     "execution_count": 37,
     "metadata": {},
     "output_type": "execute_result"
    }
   ],
   "source": [
    "# step3 增加sex列，这个主要因为目前的数据没有这一列。。。\n",
    "tips['sex'] = ['male' if x%3==0 else 'female' for x in np.arange(len(tips))]\n",
    "tips.head(5)"
   ]
  },
  {
   "cell_type": "markdown",
   "metadata": {},
   "source": [
    "### 面向列的多函数应用"
   ]
  },
  {
   "cell_type": "markdown",
   "metadata": {},
   "source": [
    "对Series或DataFrame列的**聚合运算**其实就是使用\n",
    "**aggregate**(使用自定义函数)或调用诸如**mean**、**std**之类的方法。然而,\n",
    "你可能希望对**不同的列**使用**不同的聚合函数**,或**一次应用多个函数**。"
   ]
  },
  {
   "cell_type": "code",
   "execution_count": 38,
   "metadata": {},
   "outputs": [
    {
     "name": "stdout",
     "output_type": "stream",
     "text": [
      "('female', 'No')\n",
      "     total_bill   tip smoker   day    time  size  tip_proportion     sex\n",
      "1         10.34  1.66     No   Sun  Dinner     3        0.160542  female\n",
      "2         21.01  3.50     No   Sun  Dinner     3        0.166587  female\n",
      "4         24.59  3.61     No   Sun  Dinner     4        0.146808  female\n",
      "5         25.29  4.71     No   Sun  Dinner     4        0.186240  female\n",
      "7         26.88  3.12     No   Sun  Dinner     4        0.116071  female\n",
      "8         15.04  1.96     No   Sun  Dinner     2        0.130319  female\n",
      "10        10.27  1.71     No   Sun  Dinner     2        0.166504  female\n",
      "11        35.26  5.00     No   Sun  Dinner     4        0.141804  female\n",
      "13        18.43  3.00     No   Sun  Dinner     4        0.162778  female\n",
      "14        14.83  3.02     No   Sun  Dinner     2        0.203641  female\n",
      "16        10.33  1.67     No   Sun  Dinner     3        0.161665  female\n",
      "17        16.29  3.71     No   Sun  Dinner     3        0.227747  female\n",
      "19        20.65  3.35     No   Sat  Dinner     3        0.162228  female\n",
      "20        17.92  4.08     No   Sat  Dinner     2        0.227679  female\n",
      "22        15.77  2.23     No   Sat  Dinner     2        0.141408  female\n",
      "23        39.42  7.58     No   Sat  Dinner     4        0.192288  female\n",
      "25        17.81  2.34     No   Sat  Dinner     4        0.131387  female\n",
      "26        13.37  2.00     No   Sat  Dinner     2        0.149589  female\n",
      "28        21.70  4.30     No   Sat  Dinner     2        0.198157  female\n",
      "29        19.65  3.00     No   Sat  Dinner     2        0.152672  female\n",
      "31        18.35  2.50     No   Sat  Dinner     4        0.136240  female\n",
      "32        15.06  3.00     No   Sat  Dinner     2        0.199203  female\n",
      "34        17.78  3.27     No   Sat  Dinner     2        0.183915  female\n",
      "35        24.06  3.60     No   Sat  Dinner     3        0.149626  female\n",
      "37        16.93  3.07     No   Sat  Dinner     3        0.181335  female\n",
      "38        18.69  2.31     No   Sat  Dinner     3        0.123596  female\n",
      "40        16.04  2.24     No   Sat  Dinner     3        0.139651  female\n",
      "41        17.46  2.54     No   Sun  Dinner     2        0.145475  female\n",
      "43         9.68  1.32     No   Sun  Dinner     2        0.136364  female\n",
      "44        30.40  5.60     No   Sun  Dinner     4        0.184211  female\n",
      "..          ...   ...    ...   ...     ...   ...             ...     ...\n",
      "137       14.15  2.00     No  Thur   Lunch     2        0.141343  female\n",
      "139       13.16  2.75     No  Thur   Lunch     2        0.208967  female\n",
      "140       17.47  3.50     No  Thur   Lunch     2        0.200343  female\n",
      "142       41.19  5.00     No  Thur   Lunch     5        0.121389  female\n",
      "143       27.05  5.00     No  Thur   Lunch     6        0.184843  female\n",
      "145        8.35  1.50     No  Thur   Lunch     2        0.179641  female\n",
      "146       18.64  1.36     No  Thur   Lunch     3        0.072961  female\n",
      "148        9.78  1.73     No  Thur   Lunch     2        0.176892  female\n",
      "149        7.51  2.00     No  Thur   Lunch     2        0.266312  female\n",
      "151       13.13  2.00     No   Sun  Dinner     2        0.152323  female\n",
      "152       17.26  2.74     No   Sun  Dinner     3        0.158749  female\n",
      "154       19.77  2.00     No   Sun  Dinner     4        0.101163  female\n",
      "155       29.85  5.14     No   Sun  Dinner     5        0.172194  female\n",
      "157       25.00  3.75     No   Sun  Dinner     4        0.150000  female\n",
      "158       13.39  2.61     No   Sun  Dinner     2        0.194922  female\n",
      "160       21.50  3.50     No   Sun  Dinner     4        0.162791  female\n",
      "161       12.66  2.50     No   Sun  Dinner     2        0.197472  female\n",
      "163       13.81  2.00     No   Sun  Dinner     2        0.144823  female\n",
      "166       20.76  2.24     No   Sun  Dinner     2        0.107900  female\n",
      "167       31.71  4.50     No   Sun  Dinner     4        0.141911  female\n",
      "185       20.69  5.00     No   Sun  Dinner     5        0.241663  female\n",
      "212       48.33  9.00     No   Sat  Dinner     4        0.186220  female\n",
      "223       15.98  3.00     No   Fri   Lunch     3        0.187735  female\n",
      "227       20.45  3.00     No   Sat  Dinner     4        0.146699  female\n",
      "232       11.61  3.39     No   Sat  Dinner     2        0.291990  female\n",
      "233       10.77  1.47     No   Sat  Dinner     2        0.136490  female\n",
      "235       10.07  1.25     No   Sat  Dinner     2        0.124131  female\n",
      "238       35.83  4.67     No   Sat  Dinner     3        0.130338  female\n",
      "239       29.03  5.92     No   Sat  Dinner     3        0.203927  female\n",
      "242       17.82  1.75     No   Sat  Dinner     2        0.098204  female\n",
      "\n",
      "[102 rows x 8 columns]\n",
      "\n",
      "\n",
      "('female', 'Yes')\n",
      "     total_bill    tip smoker   day    time  size  tip_proportion     sex\n",
      "56        38.01   3.00    Yes   Sat  Dinner     4        0.078927  female\n",
      "58        11.24   1.76    Yes   Sat  Dinner     2        0.156584  female\n",
      "61        13.81   2.00    Yes   Sat  Dinner     2        0.144823  female\n",
      "62        11.02   1.98    Yes   Sat  Dinner     2        0.179673  female\n",
      "67         3.07   1.00    Yes   Sat  Dinner     1        0.325733  female\n",
      "73        25.28   5.00    Yes   Sat  Dinner     2        0.197785  female\n",
      "76        17.92   3.08    Yes   Sat  Dinner     2        0.171875  female\n",
      "80        19.44   3.00    Yes  Thur   Lunch     2        0.154321  female\n",
      "83        32.68   5.00    Yes  Thur   Lunch     2        0.152999  female\n",
      "92         5.75   1.00    Yes   Fri  Dinner     2        0.173913  female\n",
      "95        40.17   4.73    Yes   Fri  Dinner     4        0.117750  female\n",
      "97        12.03   1.50    Yes   Fri  Dinner     2        0.124688  female\n",
      "98        21.01   3.00    Yes   Fri  Dinner     2        0.142789  female\n",
      "100       11.35   2.50    Yes   Fri  Dinner     2        0.220264  female\n",
      "101       15.38   3.00    Yes   Fri  Dinner     2        0.195059  female\n",
      "103       22.42   3.48    Yes   Sat  Dinner     2        0.155219  female\n",
      "106       20.49   4.06    Yes   Sat  Dinner     2        0.198145  female\n",
      "107       25.21   4.29    Yes   Sat  Dinner     2        0.170171  female\n",
      "109       14.31   4.00    Yes   Sat  Dinner     2        0.279525  female\n",
      "164       17.51   3.00    Yes   Sun  Dinner     2        0.171331  female\n",
      "169       10.63   2.00    Yes   Sat  Dinner     2        0.188147  female\n",
      "170       50.81  10.00    Yes   Sat  Dinner     3        0.196812  female\n",
      "172        7.25   5.15    Yes   Sun  Dinner     2        0.710345  female\n",
      "173       31.85   3.18    Yes   Sun  Dinner     2        0.099843  female\n",
      "175       32.90   3.11    Yes   Sun  Dinner     2        0.094529  female\n",
      "176       17.89   2.00    Yes   Sun  Dinner     2        0.111794  female\n",
      "178        9.60   4.00    Yes   Sun  Dinner     2        0.416667  female\n",
      "179       34.63   3.55    Yes   Sun  Dinner     2        0.102512  female\n",
      "181       23.33   5.65    Yes   Sun  Dinner     2        0.242177  female\n",
      "182       45.35   3.50    Yes   Sun  Dinner     3        0.077178  female\n",
      "184       40.55   3.00    Yes   Sun  Dinner     2        0.073983  female\n",
      "187       30.46   2.00    Yes   Sun  Dinner     5        0.065660  female\n",
      "188       18.15   3.50    Yes   Sun  Dinner     3        0.192837  female\n",
      "190       15.69   1.50    Yes   Sun  Dinner     2        0.095602  female\n",
      "191       19.81   4.19    Yes  Thur   Lunch     2        0.211509  female\n",
      "193       15.48   2.02    Yes  Thur   Lunch     2        0.130491  female\n",
      "194       16.58   4.00    Yes  Thur   Lunch     2        0.241255  female\n",
      "196       10.34   2.00    Yes  Thur   Lunch     2        0.193424  female\n",
      "197       43.11   5.00    Yes  Thur   Lunch     4        0.115982  female\n",
      "199       13.51   2.00    Yes  Thur   Lunch     2        0.148038  female\n",
      "200       18.71   4.00    Yes  Thur   Lunch     3        0.213789  female\n",
      "202       13.00   2.00    Yes  Thur   Lunch     2        0.153846  female\n",
      "203       16.40   2.50    Yes  Thur   Lunch     2        0.152439  female\n",
      "205       16.47   3.23    Yes  Thur   Lunch     3        0.196114  female\n",
      "206       26.59   3.41    Yes   Sat  Dinner     3        0.128244  female\n",
      "208       24.27   2.03    Yes   Sat  Dinner     2        0.083642  female\n",
      "209       12.76   2.23    Yes   Sat  Dinner     2        0.174765  female\n",
      "211       25.89   5.16    Yes   Sat  Dinner     4        0.199305  female\n",
      "214       28.17   6.50    Yes   Sat  Dinner     3        0.230742  female\n",
      "215       12.90   1.10    Yes   Sat  Dinner     2        0.085271  female\n",
      "217       11.59   1.50    Yes   Sat  Dinner     2        0.129422  female\n",
      "218        7.74   1.44    Yes   Sat  Dinner     2        0.186047  female\n",
      "220       12.16   2.20    Yes   Fri   Lunch     2        0.180921  female\n",
      "221       13.42   3.48    Yes   Fri   Lunch     2        0.259314  female\n",
      "224       13.42   1.58    Yes   Fri   Lunch     2        0.117735  female\n",
      "226       10.09   2.00    Yes   Fri   Lunch     2        0.198216  female\n",
      "229       22.12   2.88    Yes   Sat  Dinner     2        0.130199  female\n",
      "230       24.01   2.00    Yes   Sat  Dinner     4        0.083299  female\n",
      "236       12.60   1.00    Yes   Sat  Dinner     2        0.079365  female\n",
      "241       22.67   2.00    Yes   Sat  Dinner     2        0.088222  female\n",
      "\n",
      "\n",
      "('male', 'No')\n",
      "     total_bill   tip smoker   day    time  size  tip_proportion   sex\n",
      "0         16.99  1.01     No   Sun  Dinner     2        0.059447  male\n",
      "3         23.68  3.31     No   Sun  Dinner     2        0.139780  male\n",
      "6          8.77  2.00     No   Sun  Dinner     2        0.228050  male\n",
      "9         14.78  3.23     No   Sun  Dinner     2        0.218539  male\n",
      "12        15.42  1.57     No   Sun  Dinner     2        0.101816  male\n",
      "15        21.58  3.92     No   Sun  Dinner     2        0.181650  male\n",
      "18        16.97  3.50     No   Sun  Dinner     3        0.206246  male\n",
      "21        20.29  2.75     No   Sat  Dinner     2        0.135535  male\n",
      "24        19.82  3.18     No   Sat  Dinner     2        0.160444  male\n",
      "27        12.69  2.00     No   Sat  Dinner     2        0.157604  male\n",
      "30         9.55  1.45     No   Sat  Dinner     2        0.151832  male\n",
      "33        20.69  2.45     No   Sat  Dinner     4        0.118415  male\n",
      "36        16.31  2.00     No   Sat  Dinner     3        0.122624  male\n",
      "39        31.27  5.00     No   Sat  Dinner     3        0.159898  male\n",
      "42        13.94  3.06     No   Sun  Dinner     2        0.219512  male\n",
      "45        18.29  3.00     No   Sun  Dinner     2        0.164024  male\n",
      "48        28.55  2.05     No   Sun  Dinner     3        0.071804  male\n",
      "51        10.29  2.60     No   Sun  Dinner     2        0.252672  male\n",
      "54        25.56  4.34     No   Sun  Dinner     4        0.169797  male\n",
      "57        26.41  1.50     No   Sat  Dinner     2        0.056797  male\n",
      "66        16.45  2.47     No   Sat  Dinner     2        0.150152  male\n",
      "75        10.51  1.25     No   Sat  Dinner     2        0.118934  male\n",
      "78        22.76  3.00     No  Thur   Lunch     2        0.131810  male\n",
      "81        16.66  3.40     No  Thur   Lunch     2        0.204082  male\n",
      "84        15.98  2.03     No  Thur   Lunch     2        0.127034  male\n",
      "87        18.28  4.00     No  Thur   Lunch     2        0.218818  male\n",
      "99        12.46  1.50     No   Fri  Dinner     2        0.120385  male\n",
      "108       18.24  3.76     No   Sat  Dinner     2        0.206140  male\n",
      "111        7.25  1.00     No   Sat  Dinner     1        0.137931  male\n",
      "114       25.71  4.00     No   Sun  Dinner     3        0.155581  male\n",
      "117       10.65  1.50     No  Thur   Lunch     2        0.140845  male\n",
      "120       11.69  2.31     No  Thur   Lunch     2        0.197605  male\n",
      "123       15.95  2.00     No  Thur   Lunch     2        0.125392  male\n",
      "126        8.52  1.48     No  Thur   Lunch     2        0.173709  male\n",
      "129       22.82  2.18     No  Thur   Lunch     3        0.095530  male\n",
      "132       11.17  1.50     No  Thur   Lunch     2        0.134288  male\n",
      "135        8.51  1.25     No  Thur   Lunch     2        0.146886  male\n",
      "141       34.30  6.70     No  Thur   Lunch     6        0.195335  male\n",
      "144       16.43  2.30     No  Thur   Lunch     2        0.139988  male\n",
      "147       11.87  1.63     No  Thur   Lunch     2        0.137321  male\n",
      "150       14.07  2.50     No   Sun  Dinner     2        0.177683  male\n",
      "153       24.55  2.00     No   Sun  Dinner     4        0.081466  male\n",
      "156       48.17  5.00     No   Sun  Dinner     6        0.103799  male\n",
      "159       16.49  2.00     No   Sun  Dinner     4        0.121286  male\n",
      "162       16.21  2.00     No   Sun  Dinner     3        0.123381  male\n",
      "165       24.52  3.48     No   Sun  Dinner     3        0.141925  male\n",
      "195        7.56  1.44     No  Thur   Lunch     2        0.190476  male\n",
      "228       13.28  2.72     No   Sat  Dinner     2        0.204819  male\n",
      "243       18.78  3.00     No  Thur  Dinner     2        0.159744  male\n",
      "\n",
      "\n",
      "('male', 'Yes')\n",
      "     total_bill   tip smoker   day    time  size  tip_proportion   sex\n",
      "60        20.29  3.21    Yes   Sat  Dinner     2        0.158206  male\n",
      "63        18.29  3.76    Yes   Sat  Dinner     4        0.205577  male\n",
      "69        15.01  2.09    Yes   Sat  Dinner     2        0.139241  male\n",
      "72        26.86  3.14    Yes   Sat  Dinner     2        0.116902  male\n",
      "90        28.97  3.00    Yes   Fri  Dinner     2        0.103555  male\n",
      "93        16.32  4.30    Yes   Fri  Dinner     2        0.263480  male\n",
      "96        27.28  4.00    Yes   Fri  Dinner     2        0.146628  male\n",
      "102       44.30  2.50    Yes   Sat  Dinner     3        0.056433  male\n",
      "105       15.36  1.64    Yes   Sat  Dinner     2        0.106771  male\n",
      "138       16.00  2.00    Yes  Thur   Lunch     2        0.125000  male\n",
      "168       10.59  1.61    Yes   Sat  Dinner     2        0.152030  male\n",
      "171       15.81  3.16    Yes   Sat  Dinner     2        0.199873  male\n",
      "174       16.82  4.00    Yes   Sun  Dinner     2        0.237812  male\n",
      "177       14.48  2.00    Yes   Sun  Dinner     2        0.138122  male\n",
      "180       34.65  3.68    Yes   Sun  Dinner     4        0.106205  male\n",
      "183       23.17  6.50    Yes   Sun  Dinner     4        0.280535  male\n",
      "186       20.90  3.50    Yes   Sun  Dinner     3        0.167464  male\n",
      "189       23.10  4.00    Yes   Sun  Dinner     3        0.173160  male\n",
      "192       28.44  2.56    Yes  Thur   Lunch     2        0.090014  male\n",
      "198       13.00  2.00    Yes  Thur   Lunch     2        0.153846  male\n",
      "201       12.74  2.01    Yes  Thur   Lunch     2        0.157771  male\n",
      "204       20.53  4.00    Yes  Thur   Lunch     4        0.194837  male\n",
      "207       38.73  3.00    Yes   Sat  Dinner     4        0.077459  male\n",
      "210       30.06  2.00    Yes   Sat  Dinner     3        0.066534  male\n",
      "213       13.27  2.50    Yes   Sat  Dinner     2        0.188395  male\n",
      "216       28.15  3.00    Yes   Sat  Dinner     5        0.106572  male\n",
      "219       30.14  3.09    Yes   Sat  Dinner     4        0.102522  male\n",
      "222        8.58  1.92    Yes   Fri   Lunch     1        0.223776  male\n",
      "225       16.27  2.50    Yes   Fri   Lunch     2        0.153657  male\n",
      "231       15.69  3.00    Yes   Sat  Dinner     3        0.191205  male\n",
      "234       15.53  3.00    Yes   Sat  Dinner     2        0.193175  male\n",
      "237       32.83  1.17    Yes   Sat  Dinner     2        0.035638  male\n",
      "240       27.18  2.00    Yes   Sat  Dinner     2        0.073584  male\n",
      "\n",
      "\n"
     ]
    }
   ],
   "source": [
    "gb_sex_smoker = tips.groupby(['sex','smoker'])\n",
    "print_gb(gb_sex_smoker)"
   ]
  },
  {
   "cell_type": "markdown",
   "metadata": {},
   "source": [
    "#### 应用一个函数"
   ]
  },
  {
   "cell_type": "code",
   "execution_count": 39,
   "metadata": {},
   "outputs": [
    {
     "data": {
      "text/plain": [
       "sex     smoker\n",
       "female  No        0.162939\n",
       "        Yes       0.171521\n",
       "male    No        0.151813\n",
       "        Yes       0.148060\n",
       "Name: tip_proportion, dtype: float64"
      ]
     },
     "execution_count": 39,
     "metadata": {},
     "output_type": "execute_result"
    }
   ],
   "source": [
    "gb_sex_smoker['tip_proportion'].agg('mean') # 对于tips_proportion进行平均值聚合计算"
   ]
  },
  {
   "cell_type": "markdown",
   "metadata": {},
   "source": [
    "#### 应用多个函数"
   ]
  },
  {
   "cell_type": "code",
   "execution_count": 40,
   "metadata": {},
   "outputs": [
    {
     "data": {
      "text/html": [
       "<div>\n",
       "<style>\n",
       "    .dataframe thead tr:only-child th {\n",
       "        text-align: right;\n",
       "    }\n",
       "\n",
       "    .dataframe thead th {\n",
       "        text-align: left;\n",
       "    }\n",
       "\n",
       "    .dataframe tbody tr th {\n",
       "        vertical-align: top;\n",
       "    }\n",
       "</style>\n",
       "<table border=\"1\" class=\"dataframe\">\n",
       "  <thead>\n",
       "    <tr style=\"text-align: right;\">\n",
       "      <th></th>\n",
       "      <th></th>\n",
       "      <th>mean</th>\n",
       "      <th>test</th>\n",
       "      <th>std</th>\n",
       "    </tr>\n",
       "    <tr>\n",
       "      <th>sex</th>\n",
       "      <th>smoker</th>\n",
       "      <th></th>\n",
       "      <th></th>\n",
       "      <th></th>\n",
       "    </tr>\n",
       "  </thead>\n",
       "  <tbody>\n",
       "    <tr>\n",
       "      <th rowspan=\"2\" valign=\"top\">female</th>\n",
       "      <th>No</th>\n",
       "      <td>0.162939</td>\n",
       "      <td>0.219028</td>\n",
       "      <td>0.037195</td>\n",
       "    </tr>\n",
       "    <tr>\n",
       "      <th>Yes</th>\n",
       "      <td>0.171521</td>\n",
       "      <td>0.644685</td>\n",
       "      <td>0.095908</td>\n",
       "    </tr>\n",
       "    <tr>\n",
       "      <th rowspan=\"2\" valign=\"top\">male</th>\n",
       "      <th>No</th>\n",
       "      <td>0.151813</td>\n",
       "      <td>0.195876</td>\n",
       "      <td>0.044509</td>\n",
       "    </tr>\n",
       "    <tr>\n",
       "      <th>Yes</th>\n",
       "      <td>0.148060</td>\n",
       "      <td>0.244897</td>\n",
       "      <td>0.059199</td>\n",
       "    </tr>\n",
       "  </tbody>\n",
       "</table>\n",
       "</div>"
      ],
      "text/plain": [
       "                   mean      test       std\n",
       "sex    smoker                              \n",
       "female No      0.162939  0.219028  0.037195\n",
       "       Yes     0.171521  0.644685  0.095908\n",
       "male   No      0.151813  0.195876  0.044509\n",
       "       Yes     0.148060  0.244897  0.059199"
      ]
     },
     "execution_count": 40,
     "metadata": {},
     "output_type": "execute_result"
    }
   ],
   "source": [
    "def test(x):\n",
    "    return x.max() - x.min()\n",
    "\n",
    "gb_sex_smoker['tip_proportion'].agg(['mean', test, np.std]) # 同时应用平均值，自定义函数，np内置标准差函数"
   ]
  },
  {
   "cell_type": "markdown",
   "metadata": {},
   "source": [
    "#### 针对单个列分别应用不同函数 -- 类似维护一个该列名称与实际聚合操作的映射表"
   ]
  },
  {
   "cell_type": "code",
   "execution_count": 47,
   "metadata": {},
   "outputs": [
    {
     "data": {
      "text/html": [
       "<div>\n",
       "<style>\n",
       "    .dataframe thead tr:only-child th {\n",
       "        text-align: right;\n",
       "    }\n",
       "\n",
       "    .dataframe thead th {\n",
       "        text-align: left;\n",
       "    }\n",
       "\n",
       "    .dataframe tbody tr th {\n",
       "        vertical-align: top;\n",
       "    }\n",
       "</style>\n",
       "<table border=\"1\" class=\"dataframe\">\n",
       "  <thead>\n",
       "    <tr style=\"text-align: right;\">\n",
       "      <th></th>\n",
       "      <th></th>\n",
       "      <th>平均小费</th>\n",
       "      <th>最大小费</th>\n",
       "      <th>平均小费/10</th>\n",
       "    </tr>\n",
       "    <tr>\n",
       "      <th>sex</th>\n",
       "      <th>smoker</th>\n",
       "      <th></th>\n",
       "      <th></th>\n",
       "      <th></th>\n",
       "    </tr>\n",
       "  </thead>\n",
       "  <tbody>\n",
       "    <tr>\n",
       "      <th rowspan=\"2\" valign=\"top\">female</th>\n",
       "      <th>No</th>\n",
       "      <td>0.162939</td>\n",
       "      <td>0.291990</td>\n",
       "      <td>0.016294</td>\n",
       "    </tr>\n",
       "    <tr>\n",
       "      <th>Yes</th>\n",
       "      <td>0.171521</td>\n",
       "      <td>0.710345</td>\n",
       "      <td>0.017152</td>\n",
       "    </tr>\n",
       "    <tr>\n",
       "      <th rowspan=\"2\" valign=\"top\">male</th>\n",
       "      <th>No</th>\n",
       "      <td>0.151813</td>\n",
       "      <td>0.252672</td>\n",
       "      <td>0.015181</td>\n",
       "    </tr>\n",
       "    <tr>\n",
       "      <th>Yes</th>\n",
       "      <td>0.148060</td>\n",
       "      <td>0.280535</td>\n",
       "      <td>0.014806</td>\n",
       "    </tr>\n",
       "  </tbody>\n",
       "</table>\n",
       "</div>"
      ],
      "text/plain": [
       "                   平均小费      最大小费   平均小费/10\n",
       "sex    smoker                              \n",
       "female No      0.162939  0.291990  0.016294\n",
       "       Yes     0.171521  0.710345  0.017152\n",
       "male   No      0.151813  0.252672  0.015181\n",
       "       Yes     0.148060  0.280535  0.014806"
      ]
     },
     "execution_count": 47,
     "metadata": {},
     "output_type": "execute_result"
    }
   ],
   "source": [
    "# 对tip_proportion应用平均值，np.max和lambda表达式\n",
    "gb_sex_smoker['tip_proportion'].agg([('平均小费','mean'), ('最大小费',np.max), ('平均小费/10', lambda x:x.mean()/10)])"
   ]
  },
  {
   "cell_type": "markdown",
   "metadata": {},
   "source": [
    "#### 针对多个列同时应用多个函数 -- 其实就是将多个不同的函数同时应用到每个列，然后将结果concat起来得到一个具有层次化索引的结果"
   ]
  },
  {
   "cell_type": "code",
   "execution_count": 50,
   "metadata": {},
   "outputs": [
    {
     "data": {
      "text/html": [
       "<div>\n",
       "<style>\n",
       "    .dataframe thead tr:only-child th {\n",
       "        text-align: right;\n",
       "    }\n",
       "\n",
       "    .dataframe thead th {\n",
       "        text-align: left;\n",
       "    }\n",
       "\n",
       "    .dataframe tbody tr th {\n",
       "        vertical-align: top;\n",
       "    }\n",
       "</style>\n",
       "<table border=\"1\" class=\"dataframe\">\n",
       "  <thead>\n",
       "    <tr>\n",
       "      <th></th>\n",
       "      <th></th>\n",
       "      <th colspan=\"2\" halign=\"left\">tip_proportion</th>\n",
       "      <th colspan=\"2\" halign=\"left\">total_bill</th>\n",
       "    </tr>\n",
       "    <tr>\n",
       "      <th></th>\n",
       "      <th></th>\n",
       "      <th>平均</th>\n",
       "      <th>最大</th>\n",
       "      <th>平均</th>\n",
       "      <th>最大</th>\n",
       "    </tr>\n",
       "    <tr>\n",
       "      <th>sex</th>\n",
       "      <th>smoker</th>\n",
       "      <th></th>\n",
       "      <th></th>\n",
       "      <th></th>\n",
       "      <th></th>\n",
       "    </tr>\n",
       "  </thead>\n",
       "  <tbody>\n",
       "    <tr>\n",
       "      <th rowspan=\"2\" valign=\"top\">female</th>\n",
       "      <th>No</th>\n",
       "      <td>0.162939</td>\n",
       "      <td>0.291990</td>\n",
       "      <td>19.860196</td>\n",
       "      <td>48.33</td>\n",
       "    </tr>\n",
       "    <tr>\n",
       "      <th>Yes</th>\n",
       "      <td>0.171521</td>\n",
       "      <td>0.710345</td>\n",
       "      <td>20.183333</td>\n",
       "      <td>50.81</td>\n",
       "    </tr>\n",
       "    <tr>\n",
       "      <th rowspan=\"2\" valign=\"top\">male</th>\n",
       "      <th>No</th>\n",
       "      <td>0.151813</td>\n",
       "      <td>0.252672</td>\n",
       "      <td>17.789592</td>\n",
       "      <td>48.17</td>\n",
       "    </tr>\n",
       "    <tr>\n",
       "      <th>Yes</th>\n",
       "      <td>0.148060</td>\n",
       "      <td>0.280535</td>\n",
       "      <td>21.798182</td>\n",
       "      <td>44.30</td>\n",
       "    </tr>\n",
       "  </tbody>\n",
       "</table>\n",
       "</div>"
      ],
      "text/plain": [
       "              tip_proportion           total_bill       \n",
       "                          平均        最大         平均     最大\n",
       "sex    smoker                                           \n",
       "female No           0.162939  0.291990  19.860196  48.33\n",
       "       Yes          0.171521  0.710345  20.183333  50.81\n",
       "male   No           0.151813  0.252672  17.789592  48.17\n",
       "       Yes          0.148060  0.280535  21.798182  44.30"
      ]
     },
     "execution_count": 50,
     "metadata": {},
     "output_type": "execute_result"
    }
   ],
   "source": [
    "gb_sex_smoker['tip_proportion','total_bill'].agg([('平均','mean'), ('最大',np.max)])"
   ]
  },
  {
   "cell_type": "markdown",
   "metadata": {},
   "source": [
    "#### 对不同的列分别应用多个不同的函数 -- 需要传入表示列与聚合操作对应关系的字典"
   ]
  },
  {
   "cell_type": "code",
   "execution_count": 55,
   "metadata": {},
   "outputs": [
    {
     "data": {
      "text/html": [
       "<div>\n",
       "<style>\n",
       "    .dataframe thead tr:only-child th {\n",
       "        text-align: right;\n",
       "    }\n",
       "\n",
       "    .dataframe thead th {\n",
       "        text-align: left;\n",
       "    }\n",
       "\n",
       "    .dataframe tbody tr th {\n",
       "        vertical-align: top;\n",
       "    }\n",
       "</style>\n",
       "<table border=\"1\" class=\"dataframe\">\n",
       "  <thead>\n",
       "    <tr>\n",
       "      <th></th>\n",
       "      <th></th>\n",
       "      <th colspan=\"3\" halign=\"left\">total_bill</th>\n",
       "      <th colspan=\"2\" halign=\"left\">tip</th>\n",
       "    </tr>\n",
       "    <tr>\n",
       "      <th></th>\n",
       "      <th></th>\n",
       "      <th>max</th>\n",
       "      <th>std</th>\n",
       "      <th>var</th>\n",
       "      <th>mean</th>\n",
       "      <th>min</th>\n",
       "    </tr>\n",
       "    <tr>\n",
       "      <th>sex</th>\n",
       "      <th>smoker</th>\n",
       "      <th></th>\n",
       "      <th></th>\n",
       "      <th></th>\n",
       "      <th></th>\n",
       "      <th></th>\n",
       "    </tr>\n",
       "  </thead>\n",
       "  <tbody>\n",
       "    <tr>\n",
       "      <th rowspan=\"2\" valign=\"top\">female</th>\n",
       "      <th>No</th>\n",
       "      <td>48.33</td>\n",
       "      <td>8.460528</td>\n",
       "      <td>71.580533</td>\n",
       "      <td>3.180882</td>\n",
       "      <td>1.25</td>\n",
       "    </tr>\n",
       "    <tr>\n",
       "      <th>Yes</th>\n",
       "      <td>50.81</td>\n",
       "      <td>10.475436</td>\n",
       "      <td>109.734768</td>\n",
       "      <td>3.066167</td>\n",
       "      <td>1.00</td>\n",
       "    </tr>\n",
       "    <tr>\n",
       "      <th rowspan=\"2\" valign=\"top\">male</th>\n",
       "      <th>No</th>\n",
       "      <td>48.17</td>\n",
       "      <td>7.707749</td>\n",
       "      <td>59.409391</td>\n",
       "      <td>2.598367</td>\n",
       "      <td>1.00</td>\n",
       "    </tr>\n",
       "    <tr>\n",
       "      <th>Yes</th>\n",
       "      <td>44.30</td>\n",
       "      <td>8.594847</td>\n",
       "      <td>73.871397</td>\n",
       "      <td>2.904242</td>\n",
       "      <td>1.17</td>\n",
       "    </tr>\n",
       "  </tbody>\n",
       "</table>\n",
       "</div>"
      ],
      "text/plain": [
       "              total_bill                              tip      \n",
       "                     max        std         var      mean   min\n",
       "sex    smoker                                                  \n",
       "female No          48.33   8.460528   71.580533  3.180882  1.25\n",
       "       Yes         50.81  10.475436  109.734768  3.066167  1.00\n",
       "male   No          48.17   7.707749   59.409391  2.598367  1.00\n",
       "       Yes         44.30   8.594847   73.871397  2.904242  1.17"
      ]
     },
     "execution_count": 55,
     "metadata": {},
     "output_type": "execute_result"
    }
   ],
   "source": [
    "gb_sex_smoker.agg({'tip':('mean','min'), 'total_bill':('max',np.std,np.var)})"
   ]
  },
  {
   "cell_type": "markdown",
   "metadata": {},
   "source": [
    "### 以”无索引“的形式返回聚合数据 -- 默认索引由分类的属性值决定，比如上述的male或female，或层次化等"
   ]
  },
  {
   "cell_type": "code",
   "execution_count": 67,
   "metadata": {},
   "outputs": [
    {
     "name": "stdout",
     "output_type": "stream",
     "text": [
      "female\n",
      "   total_bill   tip smoker  day    time  size  tip_proportion     sex\n",
      "1       10.34  1.66     No  Sun  Dinner     3        0.160542  female\n",
      "2       21.01  3.50     No  Sun  Dinner     3        0.166587  female\n",
      "4       24.59  3.61     No  Sun  Dinner     4        0.146808  female\n",
      "5       25.29  4.71     No  Sun  Dinner     4        0.186240  female\n",
      "7       26.88  3.12     No  Sun  Dinner     4        0.116071  female\n",
      "8       15.04  1.96     No  Sun  Dinner     2        0.130319  female\n",
      "\n",
      "\n",
      "male\n",
      "   total_bill   tip smoker  day    time  size  tip_proportion   sex\n",
      "0       16.99  1.01     No  Sun  Dinner     2        0.059447  male\n",
      "3       23.68  3.31     No  Sun  Dinner     2        0.139780  male\n",
      "6        8.77  2.00     No  Sun  Dinner     2        0.228050  male\n",
      "9       14.78  3.23     No  Sun  Dinner     2        0.218539  male\n",
      "\n",
      "\n"
     ]
    }
   ],
   "source": [
    "print_gb(tips[:10].groupby('sex', as_index=False)) # 指定不使用分类列属性作为索引"
   ]
  },
  {
   "cell_type": "markdown",
   "metadata": {},
   "source": [
    "## 分组级运算和转换"
   ]
  },
  {
   "cell_type": "markdown",
   "metadata": {},
   "source": [
    "## 透视表和交叉表"
   ]
  },
  {
   "cell_type": "markdown",
   "metadata": {},
   "source": [
    "## 示例：2012联邦"
   ]
  }
 ],
 "metadata": {
  "kernelspec": {
   "display_name": "Python 2",
   "language": "python",
   "name": "python2"
  },
  "language_info": {
   "codemirror_mode": {
    "name": "ipython",
    "version": 2
   },
   "file_extension": ".py",
   "mimetype": "text/x-python",
   "name": "python",
   "nbconvert_exporter": "python",
   "pygments_lexer": "ipython2",
   "version": "2.7.13"
  },
  "toc": {
   "nav_menu": {},
   "number_sections": true,
   "sideBar": true,
   "skip_h1_title": false,
   "title_cell": "Table of Contents",
   "title_sidebar": "Contents",
   "toc_cell": false,
   "toc_position": {},
   "toc_section_display": true,
   "toc_window_display": true
  }
 },
 "nbformat": 4,
 "nbformat_minor": 2
}
