{
 "cells": [
  {
   "cell_type": "markdown",
   "metadata": {},
   "source": [
    "# 数据聚合与分组计算"
   ]
  },
  {
   "cell_type": "markdown",
   "metadata": {},
   "source": [
    "对数据集进行**分组**并对各组应用一个**函数**(无论是聚合还是转换),这是数据分析工作中的重要环节。在将数据集准备好之后,通常的任务就是**计算分组统计**或**生成透视表**。pandas提供了一个灵活高效的**gruopby**功能,它使你能以一种自然的方式对数据集进行**切片**、**切块**、**摘要**等操作。\n",
    "\n",
    "关系型数据库和SQL(Structured Query Language,结构化查询语言)能够如此流行的原因之一就是其能够方便地对数据进行连接、过滤、转换和聚合。但是,像SQL这样的查询语言所能执行的分组运算的种类很有限。在本章中你将会看到,由于Python和pandas强大的表达能力,我们可以执行复杂得多的分组运算(利用任何可以接受pandas对象或NumPy数组的函数)。\n",
    "\n",
    "在本章中,你将会学到:\n",
    "* 根据一个或多个键(可以是函数、数组或DataFrame列名)拆分pandas对象。\n",
    "* 计算分组摘要统计,如计数、平均值、标准差,或用户自定义函数。\n",
    "* 对DataFrame的列应用各种各样的函数。\n",
    "* 应用组内转换或其他运算,如规格化、线性回归、排名或选取子集等。\n",
    "* 计算透视表或交叉表。\n",
    "* 执行分位数分析以及其他分组分析。"
   ]
  },
  {
   "cell_type": "code",
   "execution_count": 1,
   "metadata": {},
   "outputs": [
    {
     "name": "stderr",
     "output_type": "stream",
     "text": [
      "/home/helong/anaconda2/envs/python2/lib/python2.7/site-packages/statsmodels/compat/pandas.py:56: FutureWarning: The pandas.core.datetools module is deprecated and will be removed in a future version. Please use the pandas.tseries module instead.\n",
      "  from pandas.core import datetools\n"
     ]
    }
   ],
   "source": [
    "import numpy as np\n",
    "\n",
    "import pandas as pd\n",
    "from pandas import Series\n",
    "from pandas import DataFrame\n",
    "\n",
    "import statsmodels.api as sm\n",
    "\n",
    "import matplotlib.pyplot as plt\n",
    "%matplotlib inline"
   ]
  },
  {
   "cell_type": "code",
   "execution_count": 2,
   "metadata": {},
   "outputs": [],
   "source": [
    "def print_gb(gb):\n",
    "    for n,g in gb:\n",
    "        print n\n",
    "        print g\n",
    "        print '\\n'"
   ]
  },
  {
   "cell_type": "markdown",
   "metadata": {},
   "source": [
    "## GroupBy技术"
   ]
  },
  {
   "cell_type": "markdown",
   "metadata": {},
   "source": [
    "### 分组运算（split-apply-combine）"
   ]
  },
  {
   "cell_type": "markdown",
   "metadata": {},
   "source": [
    "分组运算（split-apply-combine）：\n",
    "* 拆分：\n",
    "    * 通过一个或多个键对原数据进行拆分到不同组中；\n",
    "* 应用：\n",
    "    * 在不同组上应用函数计算得到结果；\n",
    "* 合并：\n",
    "    * 将结果合并到最终的结果对象中；\n",
    "\n",
    "下图很好的展示了该过程：\n",
    "![分组计算](https://github.com/NemoHoHaloAi/machine_learning/blob/master/python%E6%95%B0%E6%8D%AE%E5%88%86%E6%9E%90/images/%E5%88%86%E7%BB%84%E8%AE%A1%E7%AE%97.png?raw=true)"
   ]
  },
  {
   "cell_type": "markdown",
   "metadata": {},
   "source": [
    "### 分组键的可取情况"
   ]
  },
  {
   "cell_type": "markdown",
   "metadata": {},
   "source": [
    "分组键可以有多种形式,且类型不必相同:\n",
    "* 列表或数组,其长度与待分组的轴一样。\n",
    "* 表示DataFrame某个列名的值。\n",
    "* 字典或Series,给出待分组轴上的值与分组名之间的对应关系。\n",
    "* 函数,用于处理轴索引或索引中的各个标签。\n",
    "**注意**：后三种本质上是第一种的快捷方式，通过各种方式获取用于拆分对象的值，因此可以将这四种方式看做是如何获取用于拆分对象的值的四种方式即可，第一种是直接使用数组，第二种是取列名，第三种是映射关系，第四种是靠返回值；"
   ]
  },
  {
   "cell_type": "markdown",
   "metadata": {},
   "source": [
    "注意：不管分组时表面上使用的是什么，最终都会转换成一个用于对应数据应该处于哪个分组的数组，数组上每个值，决定了相应位置的数据应该属于哪个分组；"
   ]
  },
  {
   "cell_type": "markdown",
   "metadata": {},
   "source": [
    "### 分组示例"
   ]
  },
  {
   "cell_type": "markdown",
   "metadata": {},
   "source": [
    "#### 使用Series做分组键 -- 例如df['key1']"
   ]
  },
  {
   "cell_type": "code",
   "execution_count": 3,
   "metadata": {},
   "outputs": [
    {
     "data": {
      "text/html": [
       "<div>\n",
       "<style>\n",
       "    .dataframe thead tr:only-child th {\n",
       "        text-align: right;\n",
       "    }\n",
       "\n",
       "    .dataframe thead th {\n",
       "        text-align: left;\n",
       "    }\n",
       "\n",
       "    .dataframe tbody tr th {\n",
       "        vertical-align: top;\n",
       "    }\n",
       "</style>\n",
       "<table border=\"1\" class=\"dataframe\">\n",
       "  <thead>\n",
       "    <tr style=\"text-align: right;\">\n",
       "      <th></th>\n",
       "      <th>data1</th>\n",
       "      <th>data2</th>\n",
       "      <th>key1</th>\n",
       "      <th>key2</th>\n",
       "    </tr>\n",
       "  </thead>\n",
       "  <tbody>\n",
       "    <tr>\n",
       "      <th>HL</th>\n",
       "      <td>10</td>\n",
       "      <td>40</td>\n",
       "      <td>a</td>\n",
       "      <td>c</td>\n",
       "    </tr>\n",
       "    <tr>\n",
       "      <th>LM</th>\n",
       "      <td>20</td>\n",
       "      <td>50</td>\n",
       "      <td>b</td>\n",
       "      <td>d</td>\n",
       "    </tr>\n",
       "    <tr>\n",
       "      <th>BL</th>\n",
       "      <td>30</td>\n",
       "      <td>60</td>\n",
       "      <td>a</td>\n",
       "      <td>d</td>\n",
       "    </tr>\n",
       "    <tr>\n",
       "      <th>JK</th>\n",
       "      <td>40</td>\n",
       "      <td>70</td>\n",
       "      <td>b</td>\n",
       "      <td>c</td>\n",
       "    </tr>\n",
       "    <tr>\n",
       "      <th>MP</th>\n",
       "      <td>50</td>\n",
       "      <td>80</td>\n",
       "      <td>a</td>\n",
       "      <td>c</td>\n",
       "    </tr>\n",
       "  </tbody>\n",
       "</table>\n",
       "</div>"
      ],
      "text/plain": [
       "    data1  data2 key1 key2\n",
       "HL     10     40    a    c\n",
       "LM     20     50    b    d\n",
       "BL     30     60    a    d\n",
       "JK     40     70    b    c\n",
       "MP     50     80    a    c"
      ]
     },
     "execution_count": 3,
     "metadata": {},
     "output_type": "execute_result"
    }
   ],
   "source": [
    "df = DataFrame({'data1':[10,20,30,40,50],'data2':[40,50,60,70,80],\n",
    "                'key1':['a','b','a','b','a'],'key2':['c','d','d','c','c']},\n",
    "              index=['HL','LM','BL','JK','MP'])\n",
    "df"
   ]
  },
  {
   "cell_type": "code",
   "execution_count": 4,
   "metadata": {},
   "outputs": [
    {
     "data": {
      "text/plain": [
       "key1\n",
       "a    30\n",
       "b    30\n",
       "Name: data1, dtype: int64"
      ]
     },
     "execution_count": 4,
     "metadata": {},
     "output_type": "execute_result"
    }
   ],
   "source": [
    "# 对data1列数据按照key1分组并聚合计算平均值\n",
    "df['data1'].groupby(df['key1']).mean() # 生成Series索引为key1的唯一值"
   ]
  },
  {
   "cell_type": "code",
   "execution_count": 5,
   "metadata": {},
   "outputs": [
    {
     "data": {
      "text/plain": [
       "key1  key2\n",
       "a     c       30\n",
       "      d       30\n",
       "b     c       40\n",
       "      d       20\n",
       "Name: data1, dtype: int64"
      ]
     },
     "execution_count": 5,
     "metadata": {},
     "output_type": "execute_result"
    }
   ],
   "source": [
    "# 对data1按照key1，key2分组并计算平均值\n",
    "df['data1'].groupby([df['key1'],df['key2']]).mean() # 生成Series索引为key1，key2的唯一键组合"
   ]
  },
  {
   "cell_type": "markdown",
   "metadata": {},
   "source": [
    "#### 任意数组做分组键 -- 数组每个值对应同位置行的值，也就是强行有一种映射关系"
   ]
  },
  {
   "cell_type": "code",
   "execution_count": 6,
   "metadata": {},
   "outputs": [
    {
     "data": {
      "text/plain": [
       "aa    25\n",
       "bb    20\n",
       "cc    40\n",
       "Name: data1, dtype: int64"
      ]
     },
     "execution_count": 6,
     "metadata": {},
     "output_type": "execute_result"
    }
   ],
   "source": [
    "arr = np.array(['aa','bb','cc','aa','cc'])\n",
    "df['data1'].groupby(arr).mean()"
   ]
  },
  {
   "cell_type": "markdown",
   "metadata": {},
   "source": [
    "#### 将列名(可以是字符串、数字或其他Python对象)用作分组键 -- 默认丢弃非数值组"
   ]
  },
  {
   "cell_type": "code",
   "execution_count": 7,
   "metadata": {},
   "outputs": [
    {
     "data": {
      "text/html": [
       "<div>\n",
       "<style>\n",
       "    .dataframe thead tr:only-child th {\n",
       "        text-align: right;\n",
       "    }\n",
       "\n",
       "    .dataframe thead th {\n",
       "        text-align: left;\n",
       "    }\n",
       "\n",
       "    .dataframe tbody tr th {\n",
       "        vertical-align: top;\n",
       "    }\n",
       "</style>\n",
       "<table border=\"1\" class=\"dataframe\">\n",
       "  <thead>\n",
       "    <tr style=\"text-align: right;\">\n",
       "      <th></th>\n",
       "      <th>data1</th>\n",
       "      <th>data2</th>\n",
       "    </tr>\n",
       "    <tr>\n",
       "      <th>key1</th>\n",
       "      <th></th>\n",
       "      <th></th>\n",
       "    </tr>\n",
       "  </thead>\n",
       "  <tbody>\n",
       "    <tr>\n",
       "      <th>a</th>\n",
       "      <td>30</td>\n",
       "      <td>60</td>\n",
       "    </tr>\n",
       "    <tr>\n",
       "      <th>b</th>\n",
       "      <td>30</td>\n",
       "      <td>60</td>\n",
       "    </tr>\n",
       "  </tbody>\n",
       "</table>\n",
       "</div>"
      ],
      "text/plain": [
       "      data1  data2\n",
       "key1              \n",
       "a        30     60\n",
       "b        30     60"
      ]
     },
     "execution_count": 7,
     "metadata": {},
     "output_type": "execute_result"
    }
   ],
   "source": [
    "df.groupby('key1').mean() # 使用列名作为分组键时不能针对某一列（Series）分组了就，因为Series没有该列名"
   ]
  },
  {
   "cell_type": "markdown",
   "metadata": {},
   "source": [
    "#### groupby的size"
   ]
  },
  {
   "cell_type": "code",
   "execution_count": 8,
   "metadata": {},
   "outputs": [
    {
     "data": {
      "text/plain": [
       "key2\n",
       "c    3\n",
       "d    2\n",
       "dtype: int64"
      ]
     },
     "execution_count": 8,
     "metadata": {},
     "output_type": "execute_result"
    }
   ],
   "source": [
    "df.groupby('key2').size()"
   ]
  },
  {
   "cell_type": "markdown",
   "metadata": {},
   "source": [
    "### 对分组进行迭代"
   ]
  },
  {
   "cell_type": "markdown",
   "metadata": {},
   "source": [
    "GroupBy对象支持迭代,可以产生一组二元元组(由分组名和数据块组成)。"
   ]
  },
  {
   "cell_type": "markdown",
   "metadata": {},
   "source": [
    "#### 单键分组迭代"
   ]
  },
  {
   "cell_type": "code",
   "execution_count": 9,
   "metadata": {},
   "outputs": [
    {
     "name": "stdout",
     "output_type": "stream",
     "text": [
      "a\n",
      "    data1  data2 key1 key2\n",
      "HL     10     40    a    c\n",
      "BL     30     60    a    d\n",
      "MP     50     80    a    c\n",
      "\n",
      "\n",
      "b\n",
      "    data1  data2 key1 key2\n",
      "LM     20     50    b    d\n",
      "JK     40     70    b    c\n",
      "\n",
      "\n"
     ]
    }
   ],
   "source": [
    "for name,group in df.groupby('key1'):\n",
    "    print name\n",
    "    print group\n",
    "    print '\\n'"
   ]
  },
  {
   "cell_type": "markdown",
   "metadata": {},
   "source": [
    "#### 多键分组迭代"
   ]
  },
  {
   "cell_type": "code",
   "execution_count": 10,
   "metadata": {},
   "outputs": [
    {
     "name": "stdout",
     "output_type": "stream",
     "text": [
      "('a', 'c')\n",
      "    data1  data2 key1 key2\n",
      "HL     10     40    a    c\n",
      "MP     50     80    a    c\n",
      "\n",
      "\n",
      "('a', 'd')\n",
      "    data1  data2 key1 key2\n",
      "BL     30     60    a    d\n",
      "\n",
      "\n",
      "('b', 'c')\n",
      "    data1  data2 key1 key2\n",
      "JK     40     70    b    c\n",
      "\n",
      "\n",
      "('b', 'd')\n",
      "    data1  data2 key1 key2\n",
      "LM     20     50    b    d\n",
      "\n",
      "\n"
     ]
    }
   ],
   "source": [
    "for names,group in df.groupby(['key1','key2']):\n",
    "    print names\n",
    "    print group\n",
    "    print '\\n'"
   ]
  },
  {
   "cell_type": "markdown",
   "metadata": {},
   "source": [
    "#### 将分组结果转换为字典"
   ]
  },
  {
   "cell_type": "code",
   "execution_count": 11,
   "metadata": {},
   "outputs": [
    {
     "name": "stdout",
     "output_type": "stream",
     "text": [
      "('b', 'c')\n",
      "    data1  data2 key1 key2\n",
      "JK     40     70    b    c\n",
      "\n",
      "\n",
      "('a', 'd')\n",
      "    data1  data2 key1 key2\n",
      "BL     30     60    a    d\n",
      "\n",
      "\n",
      "('a', 'c')\n",
      "    data1  data2 key1 key2\n",
      "HL     10     40    a    c\n",
      "MP     50     80    a    c\n",
      "\n",
      "\n",
      "('b', 'd')\n",
      "    data1  data2 key1 key2\n",
      "LM     20     50    b    d\n",
      "\n",
      "\n"
     ]
    }
   ],
   "source": [
    "group_dict = dict(list(df.groupby(['key1','key2'])))\n",
    "for key in group_dict:\n",
    "    print key\n",
    "    print group_dict[key]\n",
    "    print '\\n'"
   ]
  },
  {
   "cell_type": "markdown",
   "metadata": {},
   "source": [
    "#### 在索引上分组 -- 指定axis=0"
   ]
  },
  {
   "cell_type": "code",
   "execution_count": 12,
   "metadata": {},
   "outputs": [
    {
     "name": "stdout",
     "output_type": "stream",
     "text": [
      "A\n",
      "    data1  data2 key1 key2\n",
      "HL     10     40    a    c\n",
      "LM     20     50    b    d\n",
      "\n",
      "\n",
      "B\n",
      "    data1  data2 key1 key2\n",
      "BL     30     60    a    d\n",
      "JK     40     70    b    c\n",
      "MP     50     80    a    c\n",
      "\n",
      "\n"
     ]
    }
   ],
   "source": [
    "for name,group in df.groupby(['A','A','B','B','B'], axis=0):\n",
    "    print name\n",
    "    print group\n",
    "    print '\\n'"
   ]
  },
  {
   "cell_type": "markdown",
   "metadata": {},
   "source": [
    "### 选取一个或一组列 -- 可以直接对指定的列进行分组，或对分组结果取对应列"
   ]
  },
  {
   "cell_type": "markdown",
   "metadata": {},
   "source": [
    "#### 对指定的列进行分组"
   ]
  },
  {
   "cell_type": "code",
   "execution_count": 13,
   "metadata": {},
   "outputs": [
    {
     "data": {
      "text/plain": [
       "key1  key2\n",
       "a     c       60\n",
       "      d       60\n",
       "b     c       70\n",
       "      d       50\n",
       "Name: data2, dtype: int64"
      ]
     },
     "execution_count": 13,
     "metadata": {},
     "output_type": "execute_result"
    }
   ],
   "source": [
    "df['data2'].groupby([df['key1'],df['key2']]).mean()"
   ]
  },
  {
   "cell_type": "markdown",
   "metadata": {},
   "source": [
    "#### 对分组结果取指定列 -- 这种方式是上一种方式的语法糖"
   ]
  },
  {
   "cell_type": "code",
   "execution_count": 14,
   "metadata": {},
   "outputs": [
    {
     "data": {
      "text/plain": [
       "key1  key2\n",
       "a     c       60\n",
       "      d       60\n",
       "b     c       70\n",
       "      d       50\n",
       "Name: data2, dtype: int64"
      ]
     },
     "execution_count": 14,
     "metadata": {},
     "output_type": "execute_result"
    }
   ],
   "source": [
    "df.groupby(['key1', 'key2'])['data2'].mean()"
   ]
  },
  {
   "cell_type": "markdown",
   "metadata": {},
   "source": [
    "#### 注意下述两种写法的不同之处"
   ]
  },
  {
   "cell_type": "code",
   "execution_count": 15,
   "metadata": {},
   "outputs": [
    {
     "data": {
      "text/plain": [
       "key1\n",
       "a    60\n",
       "b    60\n",
       "Name: data2, dtype: int64"
      ]
     },
     "execution_count": 15,
     "metadata": {},
     "output_type": "execute_result"
    }
   ],
   "source": [
    "df.groupby(['key1'])['data2'].mean()"
   ]
  },
  {
   "cell_type": "code",
   "execution_count": 16,
   "metadata": {},
   "outputs": [
    {
     "data": {
      "text/html": [
       "<div>\n",
       "<style>\n",
       "    .dataframe thead tr:only-child th {\n",
       "        text-align: right;\n",
       "    }\n",
       "\n",
       "    .dataframe thead th {\n",
       "        text-align: left;\n",
       "    }\n",
       "\n",
       "    .dataframe tbody tr th {\n",
       "        vertical-align: top;\n",
       "    }\n",
       "</style>\n",
       "<table border=\"1\" class=\"dataframe\">\n",
       "  <thead>\n",
       "    <tr style=\"text-align: right;\">\n",
       "      <th></th>\n",
       "      <th>data2</th>\n",
       "    </tr>\n",
       "    <tr>\n",
       "      <th>key1</th>\n",
       "      <th></th>\n",
       "    </tr>\n",
       "  </thead>\n",
       "  <tbody>\n",
       "    <tr>\n",
       "      <th>a</th>\n",
       "      <td>60</td>\n",
       "    </tr>\n",
       "    <tr>\n",
       "      <th>b</th>\n",
       "      <td>60</td>\n",
       "    </tr>\n",
       "  </tbody>\n",
       "</table>\n",
       "</div>"
      ],
      "text/plain": [
       "      data2\n",
       "key1       \n",
       "a        60\n",
       "b        60"
      ]
     },
     "execution_count": 16,
     "metadata": {},
     "output_type": "execute_result"
    }
   ],
   "source": [
    "df.groupby(['key1'])[['data2']].mean()"
   ]
  },
  {
   "cell_type": "markdown",
   "metadata": {},
   "source": [
    "比较：\n",
    "* \\['data2'\\]：\n",
    "    * 结果为Series；\n",
    "    * Name属性为对应取的列名；\n",
    "    * **DataFrame['列名']**得到的是对应列的**Series**形式；\n",
    "* \\[\\['data2'\\]\\]：\n",
    "    * 结果为DataFrame；\n",
    "    * 索引为分组键，列为对应取的列名；\n",
    "    * **DataFrame[['列名']]**得到的是对应列+原索引组成的**DataFrame**形式；"
   ]
  },
  {
   "cell_type": "code",
   "execution_count": 17,
   "metadata": {},
   "outputs": [
    {
     "data": {
      "text/plain": [
       "HL    a\n",
       "LM    b\n",
       "BL    a\n",
       "JK    b\n",
       "MP    a\n",
       "Name: key1, dtype: object"
      ]
     },
     "execution_count": 17,
     "metadata": {},
     "output_type": "execute_result"
    }
   ],
   "source": [
    "df['key1'] # 获取原索引+该列数据的Series"
   ]
  },
  {
   "cell_type": "code",
   "execution_count": 18,
   "metadata": {},
   "outputs": [
    {
     "data": {
      "text/html": [
       "<div>\n",
       "<style>\n",
       "    .dataframe thead tr:only-child th {\n",
       "        text-align: right;\n",
       "    }\n",
       "\n",
       "    .dataframe thead th {\n",
       "        text-align: left;\n",
       "    }\n",
       "\n",
       "    .dataframe tbody tr th {\n",
       "        vertical-align: top;\n",
       "    }\n",
       "</style>\n",
       "<table border=\"1\" class=\"dataframe\">\n",
       "  <thead>\n",
       "    <tr style=\"text-align: right;\">\n",
       "      <th></th>\n",
       "      <th>key1</th>\n",
       "    </tr>\n",
       "  </thead>\n",
       "  <tbody>\n",
       "    <tr>\n",
       "      <th>HL</th>\n",
       "      <td>a</td>\n",
       "    </tr>\n",
       "    <tr>\n",
       "      <th>LM</th>\n",
       "      <td>b</td>\n",
       "    </tr>\n",
       "    <tr>\n",
       "      <th>BL</th>\n",
       "      <td>a</td>\n",
       "    </tr>\n",
       "    <tr>\n",
       "      <th>JK</th>\n",
       "      <td>b</td>\n",
       "    </tr>\n",
       "    <tr>\n",
       "      <th>MP</th>\n",
       "      <td>a</td>\n",
       "    </tr>\n",
       "  </tbody>\n",
       "</table>\n",
       "</div>"
      ],
      "text/plain": [
       "   key1\n",
       "HL    a\n",
       "LM    b\n",
       "BL    a\n",
       "JK    b\n",
       "MP    a"
      ]
     },
     "execution_count": 18,
     "metadata": {},
     "output_type": "execute_result"
    }
   ],
   "source": [
    "df[['key1']] # 获取原索引+该列的DataFrame"
   ]
  },
  {
   "cell_type": "markdown",
   "metadata": {},
   "source": [
    "### 通过字典或Series进行分组"
   ]
  },
  {
   "cell_type": "code",
   "execution_count": 19,
   "metadata": {},
   "outputs": [
    {
     "name": "stderr",
     "output_type": "stream",
     "text": [
      "/home/helong/anaconda2/envs/python2/lib/python2.7/site-packages/ipykernel_launcher.py:4: DeprecationWarning: \n",
      ".ix is deprecated. Please use\n",
      ".loc for label based indexing or\n",
      ".iloc for positional indexing\n",
      "\n",
      "See the documentation here:\n",
      "http://pandas.pydata.org/pandas-docs/stable/indexing.html#ix-indexer-is-deprecated\n",
      "  after removing the cwd from sys.path.\n"
     ]
    },
    {
     "data": {
      "text/html": [
       "<div>\n",
       "<style>\n",
       "    .dataframe thead tr:only-child th {\n",
       "        text-align: right;\n",
       "    }\n",
       "\n",
       "    .dataframe thead th {\n",
       "        text-align: left;\n",
       "    }\n",
       "\n",
       "    .dataframe tbody tr th {\n",
       "        vertical-align: top;\n",
       "    }\n",
       "</style>\n",
       "<table border=\"1\" class=\"dataframe\">\n",
       "  <thead>\n",
       "    <tr style=\"text-align: right;\">\n",
       "      <th></th>\n",
       "      <th>a</th>\n",
       "      <th>b</th>\n",
       "      <th>c</th>\n",
       "      <th>d</th>\n",
       "      <th>e</th>\n",
       "    </tr>\n",
       "  </thead>\n",
       "  <tbody>\n",
       "    <tr>\n",
       "      <th>01</th>\n",
       "      <td>0.662247</td>\n",
       "      <td>0.860610</td>\n",
       "      <td>0.203957</td>\n",
       "      <td>-0.713522</td>\n",
       "      <td>0.428074</td>\n",
       "    </tr>\n",
       "    <tr>\n",
       "      <th>02</th>\n",
       "      <td>1.267209</td>\n",
       "      <td>NaN</td>\n",
       "      <td>NaN</td>\n",
       "      <td>NaN</td>\n",
       "      <td>-0.321376</td>\n",
       "    </tr>\n",
       "    <tr>\n",
       "      <th>03</th>\n",
       "      <td>1.481049</td>\n",
       "      <td>NaN</td>\n",
       "      <td>NaN</td>\n",
       "      <td>NaN</td>\n",
       "      <td>-0.323719</td>\n",
       "    </tr>\n",
       "    <tr>\n",
       "      <th>04</th>\n",
       "      <td>-0.145378</td>\n",
       "      <td>NaN</td>\n",
       "      <td>NaN</td>\n",
       "      <td>NaN</td>\n",
       "      <td>0.808353</td>\n",
       "    </tr>\n",
       "    <tr>\n",
       "      <th>05</th>\n",
       "      <td>-0.652375</td>\n",
       "      <td>1.121243</td>\n",
       "      <td>-0.196689</td>\n",
       "      <td>-0.015549</td>\n",
       "      <td>-1.819802</td>\n",
       "    </tr>\n",
       "  </tbody>\n",
       "</table>\n",
       "</div>"
      ],
      "text/plain": [
       "           a         b         c         d         e\n",
       "01  0.662247  0.860610  0.203957 -0.713522  0.428074\n",
       "02  1.267209       NaN       NaN       NaN -0.321376\n",
       "03  1.481049       NaN       NaN       NaN -0.323719\n",
       "04 -0.145378       NaN       NaN       NaN  0.808353\n",
       "05 -0.652375  1.121243 -0.196689 -0.015549 -1.819802"
      ]
     },
     "execution_count": 19,
     "metadata": {},
     "output_type": "execute_result"
    }
   ],
   "source": [
    "df = DataFrame(np.random.randn(5,5),\n",
    "              columns=['a','b','c','d','e'],\n",
    "              index=['01','02','03','04','05'])\n",
    "df.ix[1:4,1:4] = np.nan # 设置几个nan值\n",
    "df"
   ]
  },
  {
   "cell_type": "markdown",
   "metadata": {},
   "source": [
    "#### 通过字典分组"
   ]
  },
  {
   "cell_type": "code",
   "execution_count": 20,
   "metadata": {},
   "outputs": [
    {
     "data": {
      "text/html": [
       "<div>\n",
       "<style>\n",
       "    .dataframe thead tr:only-child th {\n",
       "        text-align: right;\n",
       "    }\n",
       "\n",
       "    .dataframe thead th {\n",
       "        text-align: left;\n",
       "    }\n",
       "\n",
       "    .dataframe tbody tr th {\n",
       "        vertical-align: top;\n",
       "    }\n",
       "</style>\n",
       "<table border=\"1\" class=\"dataframe\">\n",
       "  <thead>\n",
       "    <tr style=\"text-align: right;\">\n",
       "      <th></th>\n",
       "      <th>A</th>\n",
       "      <th>B</th>\n",
       "    </tr>\n",
       "  </thead>\n",
       "  <tbody>\n",
       "    <tr>\n",
       "      <th>01</th>\n",
       "      <td>0.050894</td>\n",
       "      <td>0.644342</td>\n",
       "    </tr>\n",
       "    <tr>\n",
       "      <th>02</th>\n",
       "      <td>1.267209</td>\n",
       "      <td>-0.321376</td>\n",
       "    </tr>\n",
       "    <tr>\n",
       "      <th>03</th>\n",
       "      <td>1.481049</td>\n",
       "      <td>-0.323719</td>\n",
       "    </tr>\n",
       "    <tr>\n",
       "      <th>04</th>\n",
       "      <td>-0.145378</td>\n",
       "      <td>0.808353</td>\n",
       "    </tr>\n",
       "    <tr>\n",
       "      <th>05</th>\n",
       "      <td>-0.288205</td>\n",
       "      <td>-0.349280</td>\n",
       "    </tr>\n",
       "  </tbody>\n",
       "</table>\n",
       "</div>"
      ],
      "text/plain": [
       "           A         B\n",
       "01  0.050894  0.644342\n",
       "02  1.267209 -0.321376\n",
       "03  1.481049 -0.323719\n",
       "04 -0.145378  0.808353\n",
       "05 -0.288205 -0.349280"
      ]
     },
     "execution_count": 20,
     "metadata": {},
     "output_type": "execute_result"
    }
   ],
   "source": [
    "dict_col = {'a':'A','b':'B','c':'A','d':'A','e':'B'}\n",
    "df.groupby(dict_col, axis=1).mean()# 指定分组关系，等价于df.groupby(['A','B','A','A','B'], axis=1).mean()"
   ]
  },
  {
   "cell_type": "markdown",
   "metadata": {},
   "source": [
    "#### 通过Series分组 -- "
   ]
  },
  {
   "cell_type": "code",
   "execution_count": 21,
   "metadata": {},
   "outputs": [
    {
     "data": {
      "text/html": [
       "<div>\n",
       "<style>\n",
       "    .dataframe thead tr:only-child th {\n",
       "        text-align: right;\n",
       "    }\n",
       "\n",
       "    .dataframe thead th {\n",
       "        text-align: left;\n",
       "    }\n",
       "\n",
       "    .dataframe tbody tr th {\n",
       "        vertical-align: top;\n",
       "    }\n",
       "</style>\n",
       "<table border=\"1\" class=\"dataframe\">\n",
       "  <thead>\n",
       "    <tr style=\"text-align: right;\">\n",
       "      <th></th>\n",
       "      <th>A</th>\n",
       "      <th>B</th>\n",
       "    </tr>\n",
       "  </thead>\n",
       "  <tbody>\n",
       "    <tr>\n",
       "      <th>01</th>\n",
       "      <td>0.050894</td>\n",
       "      <td>0.644342</td>\n",
       "    </tr>\n",
       "    <tr>\n",
       "      <th>02</th>\n",
       "      <td>1.267209</td>\n",
       "      <td>-0.321376</td>\n",
       "    </tr>\n",
       "    <tr>\n",
       "      <th>03</th>\n",
       "      <td>1.481049</td>\n",
       "      <td>-0.323719</td>\n",
       "    </tr>\n",
       "    <tr>\n",
       "      <th>04</th>\n",
       "      <td>-0.145378</td>\n",
       "      <td>0.808353</td>\n",
       "    </tr>\n",
       "    <tr>\n",
       "      <th>05</th>\n",
       "      <td>-0.288205</td>\n",
       "      <td>-0.349280</td>\n",
       "    </tr>\n",
       "  </tbody>\n",
       "</table>\n",
       "</div>"
      ],
      "text/plain": [
       "           A         B\n",
       "01  0.050894  0.644342\n",
       "02  1.267209 -0.321376\n",
       "03  1.481049 -0.323719\n",
       "04 -0.145378  0.808353\n",
       "05 -0.288205 -0.349280"
      ]
     },
     "execution_count": 21,
     "metadata": {},
     "output_type": "execute_result"
    }
   ],
   "source": [
    "series_col = Series({'a':'A','b':'B','c':'A','d':'A','e':'B'}) # 长度不一定要一致的\n",
    "df.groupby(series_col, axis=1).mean()"
   ]
  },
  {
   "cell_type": "markdown",
   "metadata": {},
   "source": [
    "### 通过函数分组"
   ]
  },
  {
   "cell_type": "markdown",
   "metadata": {},
   "source": [
    "相较于字典或Series,Python函数在定义分组映射关系时可以更\n",
    "有创意且更为抽象。任何被当做分组键的函数都会在各个索引值上被\n",
    "调用一次,其返回值就会被用作分组名称。"
   ]
  },
  {
   "cell_type": "markdown",
   "metadata": {},
   "source": [
    "#### 纯函数分组"
   ]
  },
  {
   "cell_type": "code",
   "execution_count": 22,
   "metadata": {},
   "outputs": [
    {
     "data": {
      "text/html": [
       "<div>\n",
       "<style>\n",
       "    .dataframe thead tr:only-child th {\n",
       "        text-align: right;\n",
       "    }\n",
       "\n",
       "    .dataframe thead th {\n",
       "        text-align: left;\n",
       "    }\n",
       "\n",
       "    .dataframe tbody tr th {\n",
       "        vertical-align: top;\n",
       "    }\n",
       "</style>\n",
       "<table border=\"1\" class=\"dataframe\">\n",
       "  <thead>\n",
       "    <tr style=\"text-align: right;\">\n",
       "      <th></th>\n",
       "      <th>grade</th>\n",
       "    </tr>\n",
       "  </thead>\n",
       "  <tbody>\n",
       "    <tr>\n",
       "      <th>False</th>\n",
       "      <td>68</td>\n",
       "    </tr>\n",
       "    <tr>\n",
       "      <th>True</th>\n",
       "      <td>60</td>\n",
       "    </tr>\n",
       "  </tbody>\n",
       "</table>\n",
       "</div>"
      ],
      "text/plain": [
       "       grade\n",
       "False     68\n",
       "True      60"
      ]
     },
     "execution_count": 22,
     "metadata": {},
     "output_type": "execute_result"
    }
   ],
   "source": [
    "df = DataFrame({'grade':[67,54,47,82,66]}, index=['Jack Jr.','Murphy','Mark Jr.','Lily','John Jr.'])\n",
    "df.groupby(lambda name:'Jr.' in name).mean() # 根据名称中是否存在Jr.进行分组统计分数平均值"
   ]
  },
  {
   "cell_type": "markdown",
   "metadata": {},
   "source": [
    "#### 函数混合其他分组 -- 先使用函数分为True，False两组，再根据数组继续细分"
   ]
  },
  {
   "cell_type": "code",
   "execution_count": 23,
   "metadata": {},
   "outputs": [
    {
     "data": {
      "text/html": [
       "<div>\n",
       "<style>\n",
       "    .dataframe thead tr:only-child th {\n",
       "        text-align: right;\n",
       "    }\n",
       "\n",
       "    .dataframe thead th {\n",
       "        text-align: left;\n",
       "    }\n",
       "\n",
       "    .dataframe tbody tr th {\n",
       "        vertical-align: top;\n",
       "    }\n",
       "</style>\n",
       "<table border=\"1\" class=\"dataframe\">\n",
       "  <thead>\n",
       "    <tr style=\"text-align: right;\">\n",
       "      <th></th>\n",
       "      <th></th>\n",
       "      <th>grade</th>\n",
       "    </tr>\n",
       "  </thead>\n",
       "  <tbody>\n",
       "    <tr>\n",
       "      <th rowspan=\"2\" valign=\"top\">False</th>\n",
       "      <th>1</th>\n",
       "      <td>82.0</td>\n",
       "    </tr>\n",
       "    <tr>\n",
       "      <th>2</th>\n",
       "      <td>54.0</td>\n",
       "    </tr>\n",
       "    <tr>\n",
       "      <th rowspan=\"2\" valign=\"top\">True</th>\n",
       "      <th>1</th>\n",
       "      <td>67.0</td>\n",
       "    </tr>\n",
       "    <tr>\n",
       "      <th>2</th>\n",
       "      <td>56.5</td>\n",
       "    </tr>\n",
       "  </tbody>\n",
       "</table>\n",
       "</div>"
      ],
      "text/plain": [
       "         grade\n",
       "False 1   82.0\n",
       "      2   54.0\n",
       "True  1   67.0\n",
       "      2   56.5"
      ]
     },
     "execution_count": 23,
     "metadata": {},
     "output_type": "execute_result"
    }
   ],
   "source": [
    "df.groupby([lambda name:'Jr.' in name,['1','2','2','1','2']]).mean() # 函数混合数组"
   ]
  },
  {
   "cell_type": "markdown",
   "metadata": {},
   "source": [
    "### 根据索引级别分组 -- 直接通过level参数指定分组级别即可"
   ]
  },
  {
   "cell_type": "code",
   "execution_count": 24,
   "metadata": {},
   "outputs": [
    {
     "data": {
      "text/html": [
       "<div>\n",
       "<style>\n",
       "    .dataframe thead tr:only-child th {\n",
       "        text-align: right;\n",
       "    }\n",
       "\n",
       "    .dataframe thead th {\n",
       "        text-align: left;\n",
       "    }\n",
       "\n",
       "    .dataframe tbody tr th {\n",
       "        vertical-align: top;\n",
       "    }\n",
       "</style>\n",
       "<table border=\"1\" class=\"dataframe\">\n",
       "  <thead>\n",
       "    <tr>\n",
       "      <th>cty</th>\n",
       "      <th colspan=\"3\" halign=\"left\">US</th>\n",
       "      <th colspan=\"2\" halign=\"left\">JP</th>\n",
       "    </tr>\n",
       "    <tr>\n",
       "      <th>tenor</th>\n",
       "      <th>1</th>\n",
       "      <th>3</th>\n",
       "      <th>5</th>\n",
       "      <th>1</th>\n",
       "      <th>3</th>\n",
       "    </tr>\n",
       "  </thead>\n",
       "  <tbody>\n",
       "    <tr>\n",
       "      <th>0</th>\n",
       "      <td>1.168066</td>\n",
       "      <td>-0.280242</td>\n",
       "      <td>0.159205</td>\n",
       "      <td>-2.375300</td>\n",
       "      <td>-0.615187</td>\n",
       "    </tr>\n",
       "    <tr>\n",
       "      <th>1</th>\n",
       "      <td>1.251817</td>\n",
       "      <td>0.376484</td>\n",
       "      <td>0.079091</td>\n",
       "      <td>-0.552057</td>\n",
       "      <td>1.616157</td>\n",
       "    </tr>\n",
       "    <tr>\n",
       "      <th>2</th>\n",
       "      <td>-0.292800</td>\n",
       "      <td>-0.014396</td>\n",
       "      <td>0.554007</td>\n",
       "      <td>-0.831250</td>\n",
       "      <td>0.805926</td>\n",
       "    </tr>\n",
       "    <tr>\n",
       "      <th>3</th>\n",
       "      <td>0.387663</td>\n",
       "      <td>-1.236364</td>\n",
       "      <td>-0.280813</td>\n",
       "      <td>0.047043</td>\n",
       "      <td>-1.423120</td>\n",
       "    </tr>\n",
       "  </tbody>\n",
       "</table>\n",
       "</div>"
      ],
      "text/plain": [
       "cty          US                            JP          \n",
       "tenor         1         3         5         1         3\n",
       "0      1.168066 -0.280242  0.159205 -2.375300 -0.615187\n",
       "1      1.251817  0.376484  0.079091 -0.552057  1.616157\n",
       "2     -0.292800 -0.014396  0.554007 -0.831250  0.805926\n",
       "3      0.387663 -1.236364 -0.280813  0.047043 -1.423120"
      ]
     },
     "execution_count": 24,
     "metadata": {},
     "output_type": "execute_result"
    }
   ],
   "source": [
    "columns = pd.MultiIndex.from_arrays([['US', 'US', 'US', 'JP', 'JP'],[1, 3, 5, 1, 3]], names=['cty', 'tenor'])\n",
    "df = DataFrame(np.random.randn(4, 5), columns=columns)\n",
    "df"
   ]
  },
  {
   "cell_type": "code",
   "execution_count": 25,
   "metadata": {},
   "outputs": [
    {
     "data": {
      "text/html": [
       "<div>\n",
       "<style>\n",
       "    .dataframe thead tr:only-child th {\n",
       "        text-align: right;\n",
       "    }\n",
       "\n",
       "    .dataframe thead th {\n",
       "        text-align: left;\n",
       "    }\n",
       "\n",
       "    .dataframe tbody tr th {\n",
       "        vertical-align: top;\n",
       "    }\n",
       "</style>\n",
       "<table border=\"1\" class=\"dataframe\">\n",
       "  <thead>\n",
       "    <tr style=\"text-align: right;\">\n",
       "      <th>cty</th>\n",
       "      <th>JP</th>\n",
       "      <th>US</th>\n",
       "    </tr>\n",
       "  </thead>\n",
       "  <tbody>\n",
       "    <tr>\n",
       "      <th>0</th>\n",
       "      <td>-1.495243</td>\n",
       "      <td>0.349010</td>\n",
       "    </tr>\n",
       "    <tr>\n",
       "      <th>1</th>\n",
       "      <td>0.532050</td>\n",
       "      <td>0.569131</td>\n",
       "    </tr>\n",
       "    <tr>\n",
       "      <th>2</th>\n",
       "      <td>-0.012662</td>\n",
       "      <td>0.082270</td>\n",
       "    </tr>\n",
       "    <tr>\n",
       "      <th>3</th>\n",
       "      <td>-0.688039</td>\n",
       "      <td>-0.376505</td>\n",
       "    </tr>\n",
       "  </tbody>\n",
       "</table>\n",
       "</div>"
      ],
      "text/plain": [
       "cty        JP        US\n",
       "0   -1.495243  0.349010\n",
       "1    0.532050  0.569131\n",
       "2   -0.012662  0.082270\n",
       "3   -0.688039 -0.376505"
      ]
     },
     "execution_count": 25,
     "metadata": {},
     "output_type": "execute_result"
    }
   ],
   "source": [
    "df.groupby(level='cty', axis=1).mean() # 按照cty分组，也就是最外层索引"
   ]
  },
  {
   "cell_type": "code",
   "execution_count": 26,
   "metadata": {},
   "outputs": [
    {
     "data": {
      "text/html": [
       "<div>\n",
       "<style>\n",
       "    .dataframe thead tr:only-child th {\n",
       "        text-align: right;\n",
       "    }\n",
       "\n",
       "    .dataframe thead th {\n",
       "        text-align: left;\n",
       "    }\n",
       "\n",
       "    .dataframe tbody tr th {\n",
       "        vertical-align: top;\n",
       "    }\n",
       "</style>\n",
       "<table border=\"1\" class=\"dataframe\">\n",
       "  <thead>\n",
       "    <tr style=\"text-align: right;\">\n",
       "      <th>tenor</th>\n",
       "      <th>1</th>\n",
       "      <th>3</th>\n",
       "      <th>5</th>\n",
       "    </tr>\n",
       "  </thead>\n",
       "  <tbody>\n",
       "    <tr>\n",
       "      <th>0</th>\n",
       "      <td>-0.603617</td>\n",
       "      <td>-0.447714</td>\n",
       "      <td>0.159205</td>\n",
       "    </tr>\n",
       "    <tr>\n",
       "      <th>1</th>\n",
       "      <td>0.349880</td>\n",
       "      <td>0.996321</td>\n",
       "      <td>0.079091</td>\n",
       "    </tr>\n",
       "    <tr>\n",
       "      <th>2</th>\n",
       "      <td>-0.562025</td>\n",
       "      <td>0.395765</td>\n",
       "      <td>0.554007</td>\n",
       "    </tr>\n",
       "    <tr>\n",
       "      <th>3</th>\n",
       "      <td>0.217353</td>\n",
       "      <td>-1.329742</td>\n",
       "      <td>-0.280813</td>\n",
       "    </tr>\n",
       "  </tbody>\n",
       "</table>\n",
       "</div>"
      ],
      "text/plain": [
       "tenor         1         3         5\n",
       "0     -0.603617 -0.447714  0.159205\n",
       "1      0.349880  0.996321  0.079091\n",
       "2     -0.562025  0.395765  0.554007\n",
       "3      0.217353 -1.329742 -0.280813"
      ]
     },
     "execution_count": 26,
     "metadata": {},
     "output_type": "execute_result"
    }
   ],
   "source": [
    "df.groupby(level=1, axis=1).mean() # 按照最内层索引分组"
   ]
  },
  {
   "cell_type": "markdown",
   "metadata": {},
   "source": [
    "## 数据聚合"
   ]
  },
  {
   "cell_type": "markdown",
   "metadata": {},
   "source": [
    "对于**聚合**,我指的是任何能够从**数组**产生**标量值**的**数据转换**过\n",
    "程。之前的例子中我已经用过一些,比如mean、count、min以及sum等。\n",
    "你可能想知道在GroupBy对象上调用mean()时究竟发生了什么。许多\n",
    "常见的聚合运算都有就地计算数据集统计信息的优化\n",
    "实现。然而,并不是只能使用这些方法。你可以使用**自己发明**的**聚合运\n",
    "算**,还可以调用分组对象上**已经定义**好的任何**方法**。"
   ]
  },
  {
   "cell_type": "markdown",
   "metadata": {},
   "source": [
    "### 一般聚合方法"
   ]
  },
  {
   "cell_type": "code",
   "execution_count": 27,
   "metadata": {},
   "outputs": [
    {
     "name": "stdout",
     "output_type": "stream",
     "text": [
      "a\n",
      "    data1  data2 key1 key2\n",
      "HL     10     40    a    c\n",
      "BL     30     60    a    d\n",
      "MP     50     80    a    c\n",
      "\n",
      "\n",
      "b\n",
      "    data1  data2 key1 key2\n",
      "LM     20     50    b    d\n",
      "JK     40     70    b    c\n",
      "\n",
      "\n"
     ]
    }
   ],
   "source": [
    "gb = DataFrame({'data1':[10,20,30,40,50],'data2':[40,50,60,70,80],\n",
    "                'key1':['a','b','a','b','a'],'key2':['c','d','d','c','c']},\n",
    "              index=['HL','LM','BL','JK','MP']).groupby('key1')\n",
    "\n",
    "for name,group in gb:\n",
    "    print name\n",
    "    print group\n",
    "    print '\\n'"
   ]
  },
  {
   "cell_type": "markdown",
   "metadata": {},
   "source": [
    "#### quantile -- 分位数 默认丢弃非数值列"
   ]
  },
  {
   "cell_type": "code",
   "execution_count": 28,
   "metadata": {},
   "outputs": [
    {
     "data": {
      "text/html": [
       "<div>\n",
       "<style>\n",
       "    .dataframe thead tr:only-child th {\n",
       "        text-align: right;\n",
       "    }\n",
       "\n",
       "    .dataframe thead th {\n",
       "        text-align: left;\n",
       "    }\n",
       "\n",
       "    .dataframe tbody tr th {\n",
       "        vertical-align: top;\n",
       "    }\n",
       "</style>\n",
       "<table border=\"1\" class=\"dataframe\">\n",
       "  <thead>\n",
       "    <tr style=\"text-align: right;\">\n",
       "      <th>0.9</th>\n",
       "      <th>data1</th>\n",
       "      <th>data2</th>\n",
       "    </tr>\n",
       "    <tr>\n",
       "      <th>key1</th>\n",
       "      <th></th>\n",
       "      <th></th>\n",
       "    </tr>\n",
       "  </thead>\n",
       "  <tbody>\n",
       "    <tr>\n",
       "      <th>a</th>\n",
       "      <td>46.0</td>\n",
       "      <td>76.0</td>\n",
       "    </tr>\n",
       "    <tr>\n",
       "      <th>b</th>\n",
       "      <td>38.0</td>\n",
       "      <td>68.0</td>\n",
       "    </tr>\n",
       "  </tbody>\n",
       "</table>\n",
       "</div>"
      ],
      "text/plain": [
       "0.9   data1  data2\n",
       "key1              \n",
       "a      46.0   76.0\n",
       "b      38.0   68.0"
      ]
     },
     "execution_count": 28,
     "metadata": {},
     "output_type": "execute_result"
    }
   ],
   "source": [
    "gb.quantile(0.9)"
   ]
  },
  {
   "cell_type": "markdown",
   "metadata": {},
   "source": [
    "#### 使用自定义聚合方法 -- agg(callable, string, dictionary, or list of string/callables)"
   ]
  },
  {
   "cell_type": "code",
   "execution_count": 29,
   "metadata": {},
   "outputs": [
    {
     "data": {
      "text/html": [
       "<div>\n",
       "<style>\n",
       "    .dataframe thead tr:only-child th {\n",
       "        text-align: right;\n",
       "    }\n",
       "\n",
       "    .dataframe thead th {\n",
       "        text-align: left;\n",
       "    }\n",
       "\n",
       "    .dataframe tbody tr th {\n",
       "        vertical-align: top;\n",
       "    }\n",
       "</style>\n",
       "<table border=\"1\" class=\"dataframe\">\n",
       "  <thead>\n",
       "    <tr style=\"text-align: right;\">\n",
       "      <th></th>\n",
       "      <th>data1</th>\n",
       "      <th>data2</th>\n",
       "    </tr>\n",
       "    <tr>\n",
       "      <th>key1</th>\n",
       "      <th></th>\n",
       "      <th></th>\n",
       "    </tr>\n",
       "  </thead>\n",
       "  <tbody>\n",
       "    <tr>\n",
       "      <th>a</th>\n",
       "      <td>40</td>\n",
       "      <td>40</td>\n",
       "    </tr>\n",
       "    <tr>\n",
       "      <th>b</th>\n",
       "      <td>20</td>\n",
       "      <td>20</td>\n",
       "    </tr>\n",
       "  </tbody>\n",
       "</table>\n",
       "</div>"
      ],
      "text/plain": [
       "      data1  data2\n",
       "key1              \n",
       "a        40     40\n",
       "b        20     20"
      ]
     },
     "execution_count": 29,
     "metadata": {},
     "output_type": "execute_result"
    }
   ],
   "source": [
    "def func(x):\n",
    "    return x.max() - x.min()\n",
    "\n",
    "gb.agg(func) # 应用于每一个分组"
   ]
  },
  {
   "cell_type": "markdown",
   "metadata": {},
   "source": [
    "注意: 可能你已经注意到了,自定义聚合函数要比内置的那些\n",
    "经过优化的函数慢得多。这是因为在构造**中间分组数据块**时存在非常\n",
    "大的开销(**函数调用**、**数据重排**等)。"
   ]
  },
  {
   "cell_type": "markdown",
   "metadata": {},
   "source": [
    "#### GroupBy内置的可用聚合方法"
   ]
  },
  {
   "cell_type": "markdown",
   "metadata": {},
   "source": [
    "* count：分组中非NaN的值的个数；\n",
    "* sum：分组中非NaN值的和；\n",
    "* mean：分组中非NaN值的平均值；\n",
    "* median：分组中非NaN值的算数中位数；\n",
    "* std,var：分组中非NaN值的无偏（分母为n-1，矫正过）标准差/方差；\n",
    "* min,max：分组中非NaN值的最小/最大值；\n",
    "* prod：分组中非NaN值的积；\n",
    "* first,last：分组第一个/最后一个非NaN的值；"
   ]
  },
  {
   "cell_type": "markdown",
   "metadata": {},
   "source": [
    "### 对比agg，aggregate，apply"
   ]
  },
  {
   "cell_type": "code",
   "execution_count": 30,
   "metadata": {},
   "outputs": [],
   "source": [
    "def test(x):\n",
    "    print type(x)\n",
    "    print x\n",
    "    print '\\n'\n",
    "    return 2"
   ]
  },
  {
   "cell_type": "markdown",
   "metadata": {},
   "source": [
    "#### agg"
   ]
  },
  {
   "cell_type": "code",
   "execution_count": 31,
   "metadata": {},
   "outputs": [
    {
     "name": "stdout",
     "output_type": "stream",
     "text": [
      "<class 'pandas.core.series.Series'>\n",
      "HL    10\n",
      "BL    30\n",
      "MP    50\n",
      "Name: data1, dtype: int64\n",
      "\n",
      "\n",
      "<class 'pandas.core.series.Series'>\n",
      "LM    20\n",
      "JK    40\n",
      "Name: data1, dtype: int64\n",
      "\n",
      "\n",
      "<class 'pandas.core.series.Series'>\n",
      "HL    40\n",
      "BL    60\n",
      "MP    80\n",
      "Name: data2, dtype: int64\n",
      "\n",
      "\n",
      "<class 'pandas.core.series.Series'>\n",
      "LM    50\n",
      "JK    70\n",
      "Name: data2, dtype: int64\n",
      "\n",
      "\n",
      "<class 'pandas.core.series.Series'>\n",
      "HL    c\n",
      "BL    d\n",
      "MP    c\n",
      "Name: key2, dtype: object\n",
      "\n",
      "\n",
      "<class 'pandas.core.series.Series'>\n",
      "LM    d\n",
      "JK    c\n",
      "Name: key2, dtype: object\n",
      "\n",
      "\n"
     ]
    },
    {
     "data": {
      "text/html": [
       "<div>\n",
       "<style>\n",
       "    .dataframe thead tr:only-child th {\n",
       "        text-align: right;\n",
       "    }\n",
       "\n",
       "    .dataframe thead th {\n",
       "        text-align: left;\n",
       "    }\n",
       "\n",
       "    .dataframe tbody tr th {\n",
       "        vertical-align: top;\n",
       "    }\n",
       "</style>\n",
       "<table border=\"1\" class=\"dataframe\">\n",
       "  <thead>\n",
       "    <tr style=\"text-align: right;\">\n",
       "      <th></th>\n",
       "      <th>data1</th>\n",
       "      <th>data2</th>\n",
       "      <th>key2</th>\n",
       "    </tr>\n",
       "    <tr>\n",
       "      <th>key1</th>\n",
       "      <th></th>\n",
       "      <th></th>\n",
       "      <th></th>\n",
       "    </tr>\n",
       "  </thead>\n",
       "  <tbody>\n",
       "    <tr>\n",
       "      <th>a</th>\n",
       "      <td>2</td>\n",
       "      <td>2</td>\n",
       "      <td>2</td>\n",
       "    </tr>\n",
       "    <tr>\n",
       "      <th>b</th>\n",
       "      <td>2</td>\n",
       "      <td>2</td>\n",
       "      <td>2</td>\n",
       "    </tr>\n",
       "  </tbody>\n",
       "</table>\n",
       "</div>"
      ],
      "text/plain": [
       "      data1  data2  key2\n",
       "key1                    \n",
       "a         2      2     2\n",
       "b         2      2     2"
      ]
     },
     "execution_count": 31,
     "metadata": {},
     "output_type": "execute_result"
    }
   ],
   "source": [
    "gb.agg(test)"
   ]
  },
  {
   "cell_type": "markdown",
   "metadata": {},
   "source": [
    "agg：\n",
    "* 作用于每一组的每一个列（也就是Series）上；\n",
    "* 结果是聚合结果组成的DataFrame"
   ]
  },
  {
   "cell_type": "markdown",
   "metadata": {},
   "source": [
    "#### aggregate"
   ]
  },
  {
   "cell_type": "code",
   "execution_count": 32,
   "metadata": {},
   "outputs": [
    {
     "name": "stdout",
     "output_type": "stream",
     "text": [
      "<class 'pandas.core.series.Series'>\n",
      "HL    10\n",
      "BL    30\n",
      "MP    50\n",
      "Name: data1, dtype: int64\n",
      "\n",
      "\n",
      "<class 'pandas.core.series.Series'>\n",
      "LM    20\n",
      "JK    40\n",
      "Name: data1, dtype: int64\n",
      "\n",
      "\n",
      "<class 'pandas.core.series.Series'>\n",
      "HL    40\n",
      "BL    60\n",
      "MP    80\n",
      "Name: data2, dtype: int64\n",
      "\n",
      "\n",
      "<class 'pandas.core.series.Series'>\n",
      "LM    50\n",
      "JK    70\n",
      "Name: data2, dtype: int64\n",
      "\n",
      "\n",
      "<class 'pandas.core.series.Series'>\n",
      "HL    c\n",
      "BL    d\n",
      "MP    c\n",
      "Name: key2, dtype: object\n",
      "\n",
      "\n",
      "<class 'pandas.core.series.Series'>\n",
      "LM    d\n",
      "JK    c\n",
      "Name: key2, dtype: object\n",
      "\n",
      "\n"
     ]
    },
    {
     "data": {
      "text/html": [
       "<div>\n",
       "<style>\n",
       "    .dataframe thead tr:only-child th {\n",
       "        text-align: right;\n",
       "    }\n",
       "\n",
       "    .dataframe thead th {\n",
       "        text-align: left;\n",
       "    }\n",
       "\n",
       "    .dataframe tbody tr th {\n",
       "        vertical-align: top;\n",
       "    }\n",
       "</style>\n",
       "<table border=\"1\" class=\"dataframe\">\n",
       "  <thead>\n",
       "    <tr style=\"text-align: right;\">\n",
       "      <th></th>\n",
       "      <th>data1</th>\n",
       "      <th>data2</th>\n",
       "      <th>key2</th>\n",
       "    </tr>\n",
       "    <tr>\n",
       "      <th>key1</th>\n",
       "      <th></th>\n",
       "      <th></th>\n",
       "      <th></th>\n",
       "    </tr>\n",
       "  </thead>\n",
       "  <tbody>\n",
       "    <tr>\n",
       "      <th>a</th>\n",
       "      <td>2</td>\n",
       "      <td>2</td>\n",
       "      <td>2</td>\n",
       "    </tr>\n",
       "    <tr>\n",
       "      <th>b</th>\n",
       "      <td>2</td>\n",
       "      <td>2</td>\n",
       "      <td>2</td>\n",
       "    </tr>\n",
       "  </tbody>\n",
       "</table>\n",
       "</div>"
      ],
      "text/plain": [
       "      data1  data2  key2\n",
       "key1                    \n",
       "a         2      2     2\n",
       "b         2      2     2"
      ]
     },
     "execution_count": 32,
     "metadata": {},
     "output_type": "execute_result"
    }
   ],
   "source": [
    "gb.aggregate(test)"
   ]
  },
  {
   "cell_type": "markdown",
   "metadata": {},
   "source": [
    "同上"
   ]
  },
  {
   "cell_type": "markdown",
   "metadata": {},
   "source": [
    "#### apply"
   ]
  },
  {
   "cell_type": "code",
   "execution_count": 33,
   "metadata": {},
   "outputs": [
    {
     "name": "stdout",
     "output_type": "stream",
     "text": [
      "<class 'pandas.core.frame.DataFrame'>\n",
      "    data1  data2 key2\n",
      "HL     10     40    c\n",
      "BL     30     60    d\n",
      "MP     50     80    c\n",
      "\n",
      "\n",
      "<class 'pandas.core.frame.DataFrame'>\n",
      "    data1  data2 key2\n",
      "HL     10     40    c\n",
      "BL     30     60    d\n",
      "MP     50     80    c\n",
      "\n",
      "\n",
      "<class 'pandas.core.frame.DataFrame'>\n",
      "    data1  data2 key2\n",
      "LM     20     50    d\n",
      "JK     40     70    c\n",
      "\n",
      "\n"
     ]
    },
    {
     "data": {
      "text/plain": [
       "key1\n",
       "a    2\n",
       "b    2\n",
       "dtype: int64"
      ]
     },
     "execution_count": 33,
     "metadata": {},
     "output_type": "execute_result"
    }
   ],
   "source": [
    "gb.apply(test)"
   ]
  },
  {
   "cell_type": "code",
   "execution_count": 34,
   "metadata": {},
   "outputs": [
    {
     "data": {
      "text/html": [
       "<div>\n",
       "<style>\n",
       "    .dataframe thead tr:only-child th {\n",
       "        text-align: right;\n",
       "    }\n",
       "\n",
       "    .dataframe thead th {\n",
       "        text-align: left;\n",
       "    }\n",
       "\n",
       "    .dataframe tbody tr th {\n",
       "        vertical-align: top;\n",
       "    }\n",
       "</style>\n",
       "<table border=\"1\" class=\"dataframe\">\n",
       "  <thead>\n",
       "    <tr style=\"text-align: right;\">\n",
       "      <th></th>\n",
       "      <th>data1</th>\n",
       "      <th>data2</th>\n",
       "      <th>key2</th>\n",
       "    </tr>\n",
       "    <tr>\n",
       "      <th>key1</th>\n",
       "      <th></th>\n",
       "      <th></th>\n",
       "      <th></th>\n",
       "    </tr>\n",
       "  </thead>\n",
       "  <tbody>\n",
       "    <tr>\n",
       "      <th>a</th>\n",
       "      <td>10</td>\n",
       "      <td>40</td>\n",
       "      <td>c</td>\n",
       "    </tr>\n",
       "    <tr>\n",
       "      <th>b</th>\n",
       "      <td>20</td>\n",
       "      <td>50</td>\n",
       "      <td>c</td>\n",
       "    </tr>\n",
       "  </tbody>\n",
       "</table>\n",
       "</div>"
      ],
      "text/plain": [
       "      data1  data2 key2\n",
       "key1                   \n",
       "a        10     40    c\n",
       "b        20     50    c"
      ]
     },
     "execution_count": 34,
     "metadata": {},
     "output_type": "execute_result"
    }
   ],
   "source": [
    "gb.apply(lambda x:x.min())"
   ]
  },
  {
   "cell_type": "markdown",
   "metadata": {},
   "source": [
    "apply：\n",
    "* 作用于每一个分组；\n",
    "* 聚合结果是每一个分组的结果组成的Series；\n",
    "\n",
    "但是为什么有三次循环呢？？"
   ]
  },
  {
   "cell_type": "markdown",
   "metadata": {},
   "source": [
    "#### 总结"
   ]
  },
  {
   "cell_type": "markdown",
   "metadata": {},
   "source": [
    "apply是作用于每一个分组上的，而agg，aggregate是作用于每一个分组的每一列上；"
   ]
  },
  {
   "cell_type": "markdown",
   "metadata": {},
   "source": [
    "### 小费示例"
   ]
  },
  {
   "cell_type": "code",
   "execution_count": 35,
   "metadata": {},
   "outputs": [
    {
     "data": {
      "text/html": [
       "<div>\n",
       "<style>\n",
       "    .dataframe thead tr:only-child th {\n",
       "        text-align: right;\n",
       "    }\n",
       "\n",
       "    .dataframe thead th {\n",
       "        text-align: left;\n",
       "    }\n",
       "\n",
       "    .dataframe tbody tr th {\n",
       "        vertical-align: top;\n",
       "    }\n",
       "</style>\n",
       "<table border=\"1\" class=\"dataframe\">\n",
       "  <thead>\n",
       "    <tr style=\"text-align: right;\">\n",
       "      <th></th>\n",
       "      <th>total_bill</th>\n",
       "      <th>tip</th>\n",
       "      <th>smoker</th>\n",
       "      <th>day</th>\n",
       "      <th>time</th>\n",
       "      <th>size</th>\n",
       "    </tr>\n",
       "  </thead>\n",
       "  <tbody>\n",
       "    <tr>\n",
       "      <th>0</th>\n",
       "      <td>16.99</td>\n",
       "      <td>1.01</td>\n",
       "      <td>No</td>\n",
       "      <td>Sun</td>\n",
       "      <td>Dinner</td>\n",
       "      <td>2</td>\n",
       "    </tr>\n",
       "    <tr>\n",
       "      <th>1</th>\n",
       "      <td>10.34</td>\n",
       "      <td>1.66</td>\n",
       "      <td>No</td>\n",
       "      <td>Sun</td>\n",
       "      <td>Dinner</td>\n",
       "      <td>3</td>\n",
       "    </tr>\n",
       "    <tr>\n",
       "      <th>2</th>\n",
       "      <td>21.01</td>\n",
       "      <td>3.50</td>\n",
       "      <td>No</td>\n",
       "      <td>Sun</td>\n",
       "      <td>Dinner</td>\n",
       "      <td>3</td>\n",
       "    </tr>\n",
       "    <tr>\n",
       "      <th>3</th>\n",
       "      <td>23.68</td>\n",
       "      <td>3.31</td>\n",
       "      <td>No</td>\n",
       "      <td>Sun</td>\n",
       "      <td>Dinner</td>\n",
       "      <td>2</td>\n",
       "    </tr>\n",
       "    <tr>\n",
       "      <th>4</th>\n",
       "      <td>24.59</td>\n",
       "      <td>3.61</td>\n",
       "      <td>No</td>\n",
       "      <td>Sun</td>\n",
       "      <td>Dinner</td>\n",
       "      <td>4</td>\n",
       "    </tr>\n",
       "  </tbody>\n",
       "</table>\n",
       "</div>"
      ],
      "text/plain": [
       "   total_bill   tip smoker  day    time  size\n",
       "0       16.99  1.01     No  Sun  Dinner     2\n",
       "1       10.34  1.66     No  Sun  Dinner     3\n",
       "2       21.01  3.50     No  Sun  Dinner     3\n",
       "3       23.68  3.31     No  Sun  Dinner     2\n",
       "4       24.59  3.61     No  Sun  Dinner     4"
      ]
     },
     "execution_count": 35,
     "metadata": {},
     "output_type": "execute_result"
    }
   ],
   "source": [
    "# step1 加载数据\n",
    "tips = pd.read_csv('https://raw.githubusercontent.com/NemoHoHaloAi/pydata-book/2nd-edition/examples/tips.csv')\n",
    "tips.head(5)"
   ]
  },
  {
   "cell_type": "code",
   "execution_count": 36,
   "metadata": {},
   "outputs": [
    {
     "data": {
      "text/html": [
       "<div>\n",
       "<style>\n",
       "    .dataframe thead tr:only-child th {\n",
       "        text-align: right;\n",
       "    }\n",
       "\n",
       "    .dataframe thead th {\n",
       "        text-align: left;\n",
       "    }\n",
       "\n",
       "    .dataframe tbody tr th {\n",
       "        vertical-align: top;\n",
       "    }\n",
       "</style>\n",
       "<table border=\"1\" class=\"dataframe\">\n",
       "  <thead>\n",
       "    <tr style=\"text-align: right;\">\n",
       "      <th></th>\n",
       "      <th>total_bill</th>\n",
       "      <th>tip</th>\n",
       "      <th>smoker</th>\n",
       "      <th>day</th>\n",
       "      <th>time</th>\n",
       "      <th>size</th>\n",
       "      <th>tip_proportion</th>\n",
       "    </tr>\n",
       "  </thead>\n",
       "  <tbody>\n",
       "    <tr>\n",
       "      <th>0</th>\n",
       "      <td>16.99</td>\n",
       "      <td>1.01</td>\n",
       "      <td>No</td>\n",
       "      <td>Sun</td>\n",
       "      <td>Dinner</td>\n",
       "      <td>2</td>\n",
       "      <td>0.059447</td>\n",
       "    </tr>\n",
       "    <tr>\n",
       "      <th>1</th>\n",
       "      <td>10.34</td>\n",
       "      <td>1.66</td>\n",
       "      <td>No</td>\n",
       "      <td>Sun</td>\n",
       "      <td>Dinner</td>\n",
       "      <td>3</td>\n",
       "      <td>0.160542</td>\n",
       "    </tr>\n",
       "    <tr>\n",
       "      <th>2</th>\n",
       "      <td>21.01</td>\n",
       "      <td>3.50</td>\n",
       "      <td>No</td>\n",
       "      <td>Sun</td>\n",
       "      <td>Dinner</td>\n",
       "      <td>3</td>\n",
       "      <td>0.166587</td>\n",
       "    </tr>\n",
       "    <tr>\n",
       "      <th>3</th>\n",
       "      <td>23.68</td>\n",
       "      <td>3.31</td>\n",
       "      <td>No</td>\n",
       "      <td>Sun</td>\n",
       "      <td>Dinner</td>\n",
       "      <td>2</td>\n",
       "      <td>0.139780</td>\n",
       "    </tr>\n",
       "    <tr>\n",
       "      <th>4</th>\n",
       "      <td>24.59</td>\n",
       "      <td>3.61</td>\n",
       "      <td>No</td>\n",
       "      <td>Sun</td>\n",
       "      <td>Dinner</td>\n",
       "      <td>4</td>\n",
       "      <td>0.146808</td>\n",
       "    </tr>\n",
       "  </tbody>\n",
       "</table>\n",
       "</div>"
      ],
      "text/plain": [
       "   total_bill   tip smoker  day    time  size  tip_proportion\n",
       "0       16.99  1.01     No  Sun  Dinner     2        0.059447\n",
       "1       10.34  1.66     No  Sun  Dinner     3        0.160542\n",
       "2       21.01  3.50     No  Sun  Dinner     3        0.166587\n",
       "3       23.68  3.31     No  Sun  Dinner     2        0.139780\n",
       "4       24.59  3.61     No  Sun  Dinner     4        0.146808"
      ]
     },
     "execution_count": 36,
     "metadata": {},
     "output_type": "execute_result"
    }
   ],
   "source": [
    "# step2 增加小费所占比例列\n",
    "tips['tip_proportion'] = tips['tip'] / tips['total_bill']\n",
    "tips.head(5)"
   ]
  },
  {
   "cell_type": "code",
   "execution_count": 37,
   "metadata": {},
   "outputs": [
    {
     "data": {
      "text/html": [
       "<div>\n",
       "<style>\n",
       "    .dataframe thead tr:only-child th {\n",
       "        text-align: right;\n",
       "    }\n",
       "\n",
       "    .dataframe thead th {\n",
       "        text-align: left;\n",
       "    }\n",
       "\n",
       "    .dataframe tbody tr th {\n",
       "        vertical-align: top;\n",
       "    }\n",
       "</style>\n",
       "<table border=\"1\" class=\"dataframe\">\n",
       "  <thead>\n",
       "    <tr style=\"text-align: right;\">\n",
       "      <th></th>\n",
       "      <th>total_bill</th>\n",
       "      <th>tip</th>\n",
       "      <th>smoker</th>\n",
       "      <th>day</th>\n",
       "      <th>time</th>\n",
       "      <th>size</th>\n",
       "      <th>tip_proportion</th>\n",
       "      <th>sex</th>\n",
       "    </tr>\n",
       "  </thead>\n",
       "  <tbody>\n",
       "    <tr>\n",
       "      <th>0</th>\n",
       "      <td>16.99</td>\n",
       "      <td>1.01</td>\n",
       "      <td>No</td>\n",
       "      <td>Sun</td>\n",
       "      <td>Dinner</td>\n",
       "      <td>2</td>\n",
       "      <td>0.059447</td>\n",
       "      <td>male</td>\n",
       "    </tr>\n",
       "    <tr>\n",
       "      <th>1</th>\n",
       "      <td>10.34</td>\n",
       "      <td>1.66</td>\n",
       "      <td>No</td>\n",
       "      <td>Sun</td>\n",
       "      <td>Dinner</td>\n",
       "      <td>3</td>\n",
       "      <td>0.160542</td>\n",
       "      <td>female</td>\n",
       "    </tr>\n",
       "    <tr>\n",
       "      <th>2</th>\n",
       "      <td>21.01</td>\n",
       "      <td>3.50</td>\n",
       "      <td>No</td>\n",
       "      <td>Sun</td>\n",
       "      <td>Dinner</td>\n",
       "      <td>3</td>\n",
       "      <td>0.166587</td>\n",
       "      <td>female</td>\n",
       "    </tr>\n",
       "    <tr>\n",
       "      <th>3</th>\n",
       "      <td>23.68</td>\n",
       "      <td>3.31</td>\n",
       "      <td>No</td>\n",
       "      <td>Sun</td>\n",
       "      <td>Dinner</td>\n",
       "      <td>2</td>\n",
       "      <td>0.139780</td>\n",
       "      <td>male</td>\n",
       "    </tr>\n",
       "    <tr>\n",
       "      <th>4</th>\n",
       "      <td>24.59</td>\n",
       "      <td>3.61</td>\n",
       "      <td>No</td>\n",
       "      <td>Sun</td>\n",
       "      <td>Dinner</td>\n",
       "      <td>4</td>\n",
       "      <td>0.146808</td>\n",
       "      <td>female</td>\n",
       "    </tr>\n",
       "  </tbody>\n",
       "</table>\n",
       "</div>"
      ],
      "text/plain": [
       "   total_bill   tip smoker  day    time  size  tip_proportion     sex\n",
       "0       16.99  1.01     No  Sun  Dinner     2        0.059447    male\n",
       "1       10.34  1.66     No  Sun  Dinner     3        0.160542  female\n",
       "2       21.01  3.50     No  Sun  Dinner     3        0.166587  female\n",
       "3       23.68  3.31     No  Sun  Dinner     2        0.139780    male\n",
       "4       24.59  3.61     No  Sun  Dinner     4        0.146808  female"
      ]
     },
     "execution_count": 37,
     "metadata": {},
     "output_type": "execute_result"
    }
   ],
   "source": [
    "# step3 增加sex列，这个主要因为目前的数据没有这一列。。。\n",
    "tips['sex'] = ['male' if x%3==0 else 'female' for x in np.arange(len(tips))]\n",
    "tips.head(5)"
   ]
  },
  {
   "cell_type": "markdown",
   "metadata": {},
   "source": [
    "### 面向列的多函数应用"
   ]
  },
  {
   "cell_type": "markdown",
   "metadata": {},
   "source": [
    "对Series或DataFrame列的**聚合运算**其实就是使用\n",
    "**aggregate**(使用自定义函数)或调用诸如**mean**、**std**之类的方法。然而,\n",
    "你可能希望对**不同的列**使用**不同的聚合函数**,或**一次应用多个函数**。"
   ]
  },
  {
   "cell_type": "code",
   "execution_count": 38,
   "metadata": {},
   "outputs": [
    {
     "name": "stdout",
     "output_type": "stream",
     "text": [
      "('female', 'No')\n",
      "     total_bill   tip smoker   day    time  size  tip_proportion     sex\n",
      "1         10.34  1.66     No   Sun  Dinner     3        0.160542  female\n",
      "2         21.01  3.50     No   Sun  Dinner     3        0.166587  female\n",
      "4         24.59  3.61     No   Sun  Dinner     4        0.146808  female\n",
      "5         25.29  4.71     No   Sun  Dinner     4        0.186240  female\n",
      "7         26.88  3.12     No   Sun  Dinner     4        0.116071  female\n",
      "8         15.04  1.96     No   Sun  Dinner     2        0.130319  female\n",
      "10        10.27  1.71     No   Sun  Dinner     2        0.166504  female\n",
      "11        35.26  5.00     No   Sun  Dinner     4        0.141804  female\n",
      "13        18.43  3.00     No   Sun  Dinner     4        0.162778  female\n",
      "14        14.83  3.02     No   Sun  Dinner     2        0.203641  female\n",
      "16        10.33  1.67     No   Sun  Dinner     3        0.161665  female\n",
      "17        16.29  3.71     No   Sun  Dinner     3        0.227747  female\n",
      "19        20.65  3.35     No   Sat  Dinner     3        0.162228  female\n",
      "20        17.92  4.08     No   Sat  Dinner     2        0.227679  female\n",
      "22        15.77  2.23     No   Sat  Dinner     2        0.141408  female\n",
      "23        39.42  7.58     No   Sat  Dinner     4        0.192288  female\n",
      "25        17.81  2.34     No   Sat  Dinner     4        0.131387  female\n",
      "26        13.37  2.00     No   Sat  Dinner     2        0.149589  female\n",
      "28        21.70  4.30     No   Sat  Dinner     2        0.198157  female\n",
      "29        19.65  3.00     No   Sat  Dinner     2        0.152672  female\n",
      "31        18.35  2.50     No   Sat  Dinner     4        0.136240  female\n",
      "32        15.06  3.00     No   Sat  Dinner     2        0.199203  female\n",
      "34        17.78  3.27     No   Sat  Dinner     2        0.183915  female\n",
      "35        24.06  3.60     No   Sat  Dinner     3        0.149626  female\n",
      "37        16.93  3.07     No   Sat  Dinner     3        0.181335  female\n",
      "38        18.69  2.31     No   Sat  Dinner     3        0.123596  female\n",
      "40        16.04  2.24     No   Sat  Dinner     3        0.139651  female\n",
      "41        17.46  2.54     No   Sun  Dinner     2        0.145475  female\n",
      "43         9.68  1.32     No   Sun  Dinner     2        0.136364  female\n",
      "44        30.40  5.60     No   Sun  Dinner     4        0.184211  female\n",
      "..          ...   ...    ...   ...     ...   ...             ...     ...\n",
      "137       14.15  2.00     No  Thur   Lunch     2        0.141343  female\n",
      "139       13.16  2.75     No  Thur   Lunch     2        0.208967  female\n",
      "140       17.47  3.50     No  Thur   Lunch     2        0.200343  female\n",
      "142       41.19  5.00     No  Thur   Lunch     5        0.121389  female\n",
      "143       27.05  5.00     No  Thur   Lunch     6        0.184843  female\n",
      "145        8.35  1.50     No  Thur   Lunch     2        0.179641  female\n",
      "146       18.64  1.36     No  Thur   Lunch     3        0.072961  female\n",
      "148        9.78  1.73     No  Thur   Lunch     2        0.176892  female\n",
      "149        7.51  2.00     No  Thur   Lunch     2        0.266312  female\n",
      "151       13.13  2.00     No   Sun  Dinner     2        0.152323  female\n",
      "152       17.26  2.74     No   Sun  Dinner     3        0.158749  female\n",
      "154       19.77  2.00     No   Sun  Dinner     4        0.101163  female\n",
      "155       29.85  5.14     No   Sun  Dinner     5        0.172194  female\n",
      "157       25.00  3.75     No   Sun  Dinner     4        0.150000  female\n",
      "158       13.39  2.61     No   Sun  Dinner     2        0.194922  female\n",
      "160       21.50  3.50     No   Sun  Dinner     4        0.162791  female\n",
      "161       12.66  2.50     No   Sun  Dinner     2        0.197472  female\n",
      "163       13.81  2.00     No   Sun  Dinner     2        0.144823  female\n",
      "166       20.76  2.24     No   Sun  Dinner     2        0.107900  female\n",
      "167       31.71  4.50     No   Sun  Dinner     4        0.141911  female\n",
      "185       20.69  5.00     No   Sun  Dinner     5        0.241663  female\n",
      "212       48.33  9.00     No   Sat  Dinner     4        0.186220  female\n",
      "223       15.98  3.00     No   Fri   Lunch     3        0.187735  female\n",
      "227       20.45  3.00     No   Sat  Dinner     4        0.146699  female\n",
      "232       11.61  3.39     No   Sat  Dinner     2        0.291990  female\n",
      "233       10.77  1.47     No   Sat  Dinner     2        0.136490  female\n",
      "235       10.07  1.25     No   Sat  Dinner     2        0.124131  female\n",
      "238       35.83  4.67     No   Sat  Dinner     3        0.130338  female\n",
      "239       29.03  5.92     No   Sat  Dinner     3        0.203927  female\n",
      "242       17.82  1.75     No   Sat  Dinner     2        0.098204  female\n",
      "\n",
      "[102 rows x 8 columns]\n",
      "\n",
      "\n",
      "('female', 'Yes')\n",
      "     total_bill    tip smoker   day    time  size  tip_proportion     sex\n",
      "56        38.01   3.00    Yes   Sat  Dinner     4        0.078927  female\n",
      "58        11.24   1.76    Yes   Sat  Dinner     2        0.156584  female\n",
      "61        13.81   2.00    Yes   Sat  Dinner     2        0.144823  female\n",
      "62        11.02   1.98    Yes   Sat  Dinner     2        0.179673  female\n",
      "67         3.07   1.00    Yes   Sat  Dinner     1        0.325733  female\n",
      "73        25.28   5.00    Yes   Sat  Dinner     2        0.197785  female\n",
      "76        17.92   3.08    Yes   Sat  Dinner     2        0.171875  female\n",
      "80        19.44   3.00    Yes  Thur   Lunch     2        0.154321  female\n",
      "83        32.68   5.00    Yes  Thur   Lunch     2        0.152999  female\n",
      "92         5.75   1.00    Yes   Fri  Dinner     2        0.173913  female\n",
      "95        40.17   4.73    Yes   Fri  Dinner     4        0.117750  female\n",
      "97        12.03   1.50    Yes   Fri  Dinner     2        0.124688  female\n",
      "98        21.01   3.00    Yes   Fri  Dinner     2        0.142789  female\n",
      "100       11.35   2.50    Yes   Fri  Dinner     2        0.220264  female\n",
      "101       15.38   3.00    Yes   Fri  Dinner     2        0.195059  female\n",
      "103       22.42   3.48    Yes   Sat  Dinner     2        0.155219  female\n",
      "106       20.49   4.06    Yes   Sat  Dinner     2        0.198145  female\n",
      "107       25.21   4.29    Yes   Sat  Dinner     2        0.170171  female\n",
      "109       14.31   4.00    Yes   Sat  Dinner     2        0.279525  female\n",
      "164       17.51   3.00    Yes   Sun  Dinner     2        0.171331  female\n",
      "169       10.63   2.00    Yes   Sat  Dinner     2        0.188147  female\n",
      "170       50.81  10.00    Yes   Sat  Dinner     3        0.196812  female\n",
      "172        7.25   5.15    Yes   Sun  Dinner     2        0.710345  female\n",
      "173       31.85   3.18    Yes   Sun  Dinner     2        0.099843  female\n",
      "175       32.90   3.11    Yes   Sun  Dinner     2        0.094529  female\n",
      "176       17.89   2.00    Yes   Sun  Dinner     2        0.111794  female\n",
      "178        9.60   4.00    Yes   Sun  Dinner     2        0.416667  female\n",
      "179       34.63   3.55    Yes   Sun  Dinner     2        0.102512  female\n",
      "181       23.33   5.65    Yes   Sun  Dinner     2        0.242177  female\n",
      "182       45.35   3.50    Yes   Sun  Dinner     3        0.077178  female\n",
      "184       40.55   3.00    Yes   Sun  Dinner     2        0.073983  female\n",
      "187       30.46   2.00    Yes   Sun  Dinner     5        0.065660  female\n",
      "188       18.15   3.50    Yes   Sun  Dinner     3        0.192837  female\n",
      "190       15.69   1.50    Yes   Sun  Dinner     2        0.095602  female\n",
      "191       19.81   4.19    Yes  Thur   Lunch     2        0.211509  female\n",
      "193       15.48   2.02    Yes  Thur   Lunch     2        0.130491  female\n",
      "194       16.58   4.00    Yes  Thur   Lunch     2        0.241255  female\n",
      "196       10.34   2.00    Yes  Thur   Lunch     2        0.193424  female\n",
      "197       43.11   5.00    Yes  Thur   Lunch     4        0.115982  female\n",
      "199       13.51   2.00    Yes  Thur   Lunch     2        0.148038  female\n",
      "200       18.71   4.00    Yes  Thur   Lunch     3        0.213789  female\n",
      "202       13.00   2.00    Yes  Thur   Lunch     2        0.153846  female\n",
      "203       16.40   2.50    Yes  Thur   Lunch     2        0.152439  female\n",
      "205       16.47   3.23    Yes  Thur   Lunch     3        0.196114  female\n",
      "206       26.59   3.41    Yes   Sat  Dinner     3        0.128244  female\n",
      "208       24.27   2.03    Yes   Sat  Dinner     2        0.083642  female\n",
      "209       12.76   2.23    Yes   Sat  Dinner     2        0.174765  female\n",
      "211       25.89   5.16    Yes   Sat  Dinner     4        0.199305  female\n",
      "214       28.17   6.50    Yes   Sat  Dinner     3        0.230742  female\n",
      "215       12.90   1.10    Yes   Sat  Dinner     2        0.085271  female\n",
      "217       11.59   1.50    Yes   Sat  Dinner     2        0.129422  female\n",
      "218        7.74   1.44    Yes   Sat  Dinner     2        0.186047  female\n",
      "220       12.16   2.20    Yes   Fri   Lunch     2        0.180921  female\n",
      "221       13.42   3.48    Yes   Fri   Lunch     2        0.259314  female\n",
      "224       13.42   1.58    Yes   Fri   Lunch     2        0.117735  female\n",
      "226       10.09   2.00    Yes   Fri   Lunch     2        0.198216  female\n",
      "229       22.12   2.88    Yes   Sat  Dinner     2        0.130199  female\n",
      "230       24.01   2.00    Yes   Sat  Dinner     4        0.083299  female\n",
      "236       12.60   1.00    Yes   Sat  Dinner     2        0.079365  female\n",
      "241       22.67   2.00    Yes   Sat  Dinner     2        0.088222  female\n",
      "\n",
      "\n",
      "('male', 'No')\n",
      "     total_bill   tip smoker   day    time  size  tip_proportion   sex\n",
      "0         16.99  1.01     No   Sun  Dinner     2        0.059447  male\n",
      "3         23.68  3.31     No   Sun  Dinner     2        0.139780  male\n",
      "6          8.77  2.00     No   Sun  Dinner     2        0.228050  male\n",
      "9         14.78  3.23     No   Sun  Dinner     2        0.218539  male\n",
      "12        15.42  1.57     No   Sun  Dinner     2        0.101816  male\n",
      "15        21.58  3.92     No   Sun  Dinner     2        0.181650  male\n",
      "18        16.97  3.50     No   Sun  Dinner     3        0.206246  male\n",
      "21        20.29  2.75     No   Sat  Dinner     2        0.135535  male\n",
      "24        19.82  3.18     No   Sat  Dinner     2        0.160444  male\n",
      "27        12.69  2.00     No   Sat  Dinner     2        0.157604  male\n",
      "30         9.55  1.45     No   Sat  Dinner     2        0.151832  male\n",
      "33        20.69  2.45     No   Sat  Dinner     4        0.118415  male\n",
      "36        16.31  2.00     No   Sat  Dinner     3        0.122624  male\n",
      "39        31.27  5.00     No   Sat  Dinner     3        0.159898  male\n",
      "42        13.94  3.06     No   Sun  Dinner     2        0.219512  male\n",
      "45        18.29  3.00     No   Sun  Dinner     2        0.164024  male\n",
      "48        28.55  2.05     No   Sun  Dinner     3        0.071804  male\n",
      "51        10.29  2.60     No   Sun  Dinner     2        0.252672  male\n",
      "54        25.56  4.34     No   Sun  Dinner     4        0.169797  male\n",
      "57        26.41  1.50     No   Sat  Dinner     2        0.056797  male\n",
      "66        16.45  2.47     No   Sat  Dinner     2        0.150152  male\n",
      "75        10.51  1.25     No   Sat  Dinner     2        0.118934  male\n",
      "78        22.76  3.00     No  Thur   Lunch     2        0.131810  male\n",
      "81        16.66  3.40     No  Thur   Lunch     2        0.204082  male\n",
      "84        15.98  2.03     No  Thur   Lunch     2        0.127034  male\n",
      "87        18.28  4.00     No  Thur   Lunch     2        0.218818  male\n",
      "99        12.46  1.50     No   Fri  Dinner     2        0.120385  male\n",
      "108       18.24  3.76     No   Sat  Dinner     2        0.206140  male\n",
      "111        7.25  1.00     No   Sat  Dinner     1        0.137931  male\n",
      "114       25.71  4.00     No   Sun  Dinner     3        0.155581  male\n",
      "117       10.65  1.50     No  Thur   Lunch     2        0.140845  male\n",
      "120       11.69  2.31     No  Thur   Lunch     2        0.197605  male\n",
      "123       15.95  2.00     No  Thur   Lunch     2        0.125392  male\n",
      "126        8.52  1.48     No  Thur   Lunch     2        0.173709  male\n",
      "129       22.82  2.18     No  Thur   Lunch     3        0.095530  male\n",
      "132       11.17  1.50     No  Thur   Lunch     2        0.134288  male\n",
      "135        8.51  1.25     No  Thur   Lunch     2        0.146886  male\n",
      "141       34.30  6.70     No  Thur   Lunch     6        0.195335  male\n",
      "144       16.43  2.30     No  Thur   Lunch     2        0.139988  male\n",
      "147       11.87  1.63     No  Thur   Lunch     2        0.137321  male\n",
      "150       14.07  2.50     No   Sun  Dinner     2        0.177683  male\n",
      "153       24.55  2.00     No   Sun  Dinner     4        0.081466  male\n",
      "156       48.17  5.00     No   Sun  Dinner     6        0.103799  male\n",
      "159       16.49  2.00     No   Sun  Dinner     4        0.121286  male\n",
      "162       16.21  2.00     No   Sun  Dinner     3        0.123381  male\n",
      "165       24.52  3.48     No   Sun  Dinner     3        0.141925  male\n",
      "195        7.56  1.44     No  Thur   Lunch     2        0.190476  male\n",
      "228       13.28  2.72     No   Sat  Dinner     2        0.204819  male\n",
      "243       18.78  3.00     No  Thur  Dinner     2        0.159744  male\n",
      "\n",
      "\n",
      "('male', 'Yes')\n",
      "     total_bill   tip smoker   day    time  size  tip_proportion   sex\n",
      "60        20.29  3.21    Yes   Sat  Dinner     2        0.158206  male\n",
      "63        18.29  3.76    Yes   Sat  Dinner     4        0.205577  male\n",
      "69        15.01  2.09    Yes   Sat  Dinner     2        0.139241  male\n",
      "72        26.86  3.14    Yes   Sat  Dinner     2        0.116902  male\n",
      "90        28.97  3.00    Yes   Fri  Dinner     2        0.103555  male\n",
      "93        16.32  4.30    Yes   Fri  Dinner     2        0.263480  male\n",
      "96        27.28  4.00    Yes   Fri  Dinner     2        0.146628  male\n",
      "102       44.30  2.50    Yes   Sat  Dinner     3        0.056433  male\n",
      "105       15.36  1.64    Yes   Sat  Dinner     2        0.106771  male\n",
      "138       16.00  2.00    Yes  Thur   Lunch     2        0.125000  male\n",
      "168       10.59  1.61    Yes   Sat  Dinner     2        0.152030  male\n",
      "171       15.81  3.16    Yes   Sat  Dinner     2        0.199873  male\n",
      "174       16.82  4.00    Yes   Sun  Dinner     2        0.237812  male\n",
      "177       14.48  2.00    Yes   Sun  Dinner     2        0.138122  male\n",
      "180       34.65  3.68    Yes   Sun  Dinner     4        0.106205  male\n",
      "183       23.17  6.50    Yes   Sun  Dinner     4        0.280535  male\n",
      "186       20.90  3.50    Yes   Sun  Dinner     3        0.167464  male\n",
      "189       23.10  4.00    Yes   Sun  Dinner     3        0.173160  male\n",
      "192       28.44  2.56    Yes  Thur   Lunch     2        0.090014  male\n",
      "198       13.00  2.00    Yes  Thur   Lunch     2        0.153846  male\n",
      "201       12.74  2.01    Yes  Thur   Lunch     2        0.157771  male\n",
      "204       20.53  4.00    Yes  Thur   Lunch     4        0.194837  male\n",
      "207       38.73  3.00    Yes   Sat  Dinner     4        0.077459  male\n",
      "210       30.06  2.00    Yes   Sat  Dinner     3        0.066534  male\n",
      "213       13.27  2.50    Yes   Sat  Dinner     2        0.188395  male\n",
      "216       28.15  3.00    Yes   Sat  Dinner     5        0.106572  male\n",
      "219       30.14  3.09    Yes   Sat  Dinner     4        0.102522  male\n",
      "222        8.58  1.92    Yes   Fri   Lunch     1        0.223776  male\n",
      "225       16.27  2.50    Yes   Fri   Lunch     2        0.153657  male\n",
      "231       15.69  3.00    Yes   Sat  Dinner     3        0.191205  male\n",
      "234       15.53  3.00    Yes   Sat  Dinner     2        0.193175  male\n",
      "237       32.83  1.17    Yes   Sat  Dinner     2        0.035638  male\n",
      "240       27.18  2.00    Yes   Sat  Dinner     2        0.073584  male\n",
      "\n",
      "\n"
     ]
    }
   ],
   "source": [
    "gb_sex_smoker = tips.groupby(['sex','smoker'])\n",
    "print_gb(gb_sex_smoker)"
   ]
  },
  {
   "cell_type": "markdown",
   "metadata": {},
   "source": [
    "#### 应用一个函数"
   ]
  },
  {
   "cell_type": "code",
   "execution_count": 39,
   "metadata": {},
   "outputs": [
    {
     "data": {
      "text/plain": [
       "sex     smoker\n",
       "female  No        0.162939\n",
       "        Yes       0.171521\n",
       "male    No        0.151813\n",
       "        Yes       0.148060\n",
       "Name: tip_proportion, dtype: float64"
      ]
     },
     "execution_count": 39,
     "metadata": {},
     "output_type": "execute_result"
    }
   ],
   "source": [
    "gb_sex_smoker['tip_proportion'].agg('mean') # 对于tips_proportion进行平均值聚合计算"
   ]
  },
  {
   "cell_type": "markdown",
   "metadata": {},
   "source": [
    "#### 应用多个函数"
   ]
  },
  {
   "cell_type": "code",
   "execution_count": 40,
   "metadata": {},
   "outputs": [
    {
     "data": {
      "text/html": [
       "<div>\n",
       "<style>\n",
       "    .dataframe thead tr:only-child th {\n",
       "        text-align: right;\n",
       "    }\n",
       "\n",
       "    .dataframe thead th {\n",
       "        text-align: left;\n",
       "    }\n",
       "\n",
       "    .dataframe tbody tr th {\n",
       "        vertical-align: top;\n",
       "    }\n",
       "</style>\n",
       "<table border=\"1\" class=\"dataframe\">\n",
       "  <thead>\n",
       "    <tr style=\"text-align: right;\">\n",
       "      <th></th>\n",
       "      <th></th>\n",
       "      <th>mean</th>\n",
       "      <th>test</th>\n",
       "      <th>std</th>\n",
       "    </tr>\n",
       "    <tr>\n",
       "      <th>sex</th>\n",
       "      <th>smoker</th>\n",
       "      <th></th>\n",
       "      <th></th>\n",
       "      <th></th>\n",
       "    </tr>\n",
       "  </thead>\n",
       "  <tbody>\n",
       "    <tr>\n",
       "      <th rowspan=\"2\" valign=\"top\">female</th>\n",
       "      <th>No</th>\n",
       "      <td>0.162939</td>\n",
       "      <td>0.219028</td>\n",
       "      <td>0.037195</td>\n",
       "    </tr>\n",
       "    <tr>\n",
       "      <th>Yes</th>\n",
       "      <td>0.171521</td>\n",
       "      <td>0.644685</td>\n",
       "      <td>0.095908</td>\n",
       "    </tr>\n",
       "    <tr>\n",
       "      <th rowspan=\"2\" valign=\"top\">male</th>\n",
       "      <th>No</th>\n",
       "      <td>0.151813</td>\n",
       "      <td>0.195876</td>\n",
       "      <td>0.044509</td>\n",
       "    </tr>\n",
       "    <tr>\n",
       "      <th>Yes</th>\n",
       "      <td>0.148060</td>\n",
       "      <td>0.244897</td>\n",
       "      <td>0.059199</td>\n",
       "    </tr>\n",
       "  </tbody>\n",
       "</table>\n",
       "</div>"
      ],
      "text/plain": [
       "                   mean      test       std\n",
       "sex    smoker                              \n",
       "female No      0.162939  0.219028  0.037195\n",
       "       Yes     0.171521  0.644685  0.095908\n",
       "male   No      0.151813  0.195876  0.044509\n",
       "       Yes     0.148060  0.244897  0.059199"
      ]
     },
     "execution_count": 40,
     "metadata": {},
     "output_type": "execute_result"
    }
   ],
   "source": [
    "def test(x):\n",
    "    return x.max() - x.min()\n",
    "\n",
    "gb_sex_smoker['tip_proportion'].agg(['mean', test, np.std]) # 同时应用平均值，自定义函数，np内置标准差函数"
   ]
  },
  {
   "cell_type": "markdown",
   "metadata": {},
   "source": [
    "#### 针对单个列分别应用不同函数 -- 类似维护一个该列名称与实际聚合操作的映射表"
   ]
  },
  {
   "cell_type": "code",
   "execution_count": 41,
   "metadata": {},
   "outputs": [
    {
     "data": {
      "text/html": [
       "<div>\n",
       "<style>\n",
       "    .dataframe thead tr:only-child th {\n",
       "        text-align: right;\n",
       "    }\n",
       "\n",
       "    .dataframe thead th {\n",
       "        text-align: left;\n",
       "    }\n",
       "\n",
       "    .dataframe tbody tr th {\n",
       "        vertical-align: top;\n",
       "    }\n",
       "</style>\n",
       "<table border=\"1\" class=\"dataframe\">\n",
       "  <thead>\n",
       "    <tr style=\"text-align: right;\">\n",
       "      <th></th>\n",
       "      <th></th>\n",
       "      <th>平均小费</th>\n",
       "      <th>最大小费</th>\n",
       "      <th>平均小费/10</th>\n",
       "    </tr>\n",
       "    <tr>\n",
       "      <th>sex</th>\n",
       "      <th>smoker</th>\n",
       "      <th></th>\n",
       "      <th></th>\n",
       "      <th></th>\n",
       "    </tr>\n",
       "  </thead>\n",
       "  <tbody>\n",
       "    <tr>\n",
       "      <th rowspan=\"2\" valign=\"top\">female</th>\n",
       "      <th>No</th>\n",
       "      <td>0.162939</td>\n",
       "      <td>0.291990</td>\n",
       "      <td>0.016294</td>\n",
       "    </tr>\n",
       "    <tr>\n",
       "      <th>Yes</th>\n",
       "      <td>0.171521</td>\n",
       "      <td>0.710345</td>\n",
       "      <td>0.017152</td>\n",
       "    </tr>\n",
       "    <tr>\n",
       "      <th rowspan=\"2\" valign=\"top\">male</th>\n",
       "      <th>No</th>\n",
       "      <td>0.151813</td>\n",
       "      <td>0.252672</td>\n",
       "      <td>0.015181</td>\n",
       "    </tr>\n",
       "    <tr>\n",
       "      <th>Yes</th>\n",
       "      <td>0.148060</td>\n",
       "      <td>0.280535</td>\n",
       "      <td>0.014806</td>\n",
       "    </tr>\n",
       "  </tbody>\n",
       "</table>\n",
       "</div>"
      ],
      "text/plain": [
       "                   平均小费      最大小费   平均小费/10\n",
       "sex    smoker                              \n",
       "female No      0.162939  0.291990  0.016294\n",
       "       Yes     0.171521  0.710345  0.017152\n",
       "male   No      0.151813  0.252672  0.015181\n",
       "       Yes     0.148060  0.280535  0.014806"
      ]
     },
     "execution_count": 41,
     "metadata": {},
     "output_type": "execute_result"
    }
   ],
   "source": [
    "# 对tip_proportion应用平均值，np.max和lambda表达式\n",
    "gb_sex_smoker['tip_proportion'].agg([('平均小费','mean'), ('最大小费',np.max), ('平均小费/10', lambda x:x.mean()/10)])"
   ]
  },
  {
   "cell_type": "markdown",
   "metadata": {},
   "source": [
    "#### 针对多个列同时应用多个函数 -- 其实就是将多个不同的函数同时应用到每个列，然后将结果concat起来得到一个具有层次化索引的结果"
   ]
  },
  {
   "cell_type": "code",
   "execution_count": 42,
   "metadata": {},
   "outputs": [
    {
     "data": {
      "text/html": [
       "<div>\n",
       "<style>\n",
       "    .dataframe thead tr:only-child th {\n",
       "        text-align: right;\n",
       "    }\n",
       "\n",
       "    .dataframe thead th {\n",
       "        text-align: left;\n",
       "    }\n",
       "\n",
       "    .dataframe tbody tr th {\n",
       "        vertical-align: top;\n",
       "    }\n",
       "</style>\n",
       "<table border=\"1\" class=\"dataframe\">\n",
       "  <thead>\n",
       "    <tr>\n",
       "      <th></th>\n",
       "      <th></th>\n",
       "      <th colspan=\"2\" halign=\"left\">tip_proportion</th>\n",
       "      <th colspan=\"2\" halign=\"left\">total_bill</th>\n",
       "    </tr>\n",
       "    <tr>\n",
       "      <th></th>\n",
       "      <th></th>\n",
       "      <th>平均</th>\n",
       "      <th>最大</th>\n",
       "      <th>平均</th>\n",
       "      <th>最大</th>\n",
       "    </tr>\n",
       "    <tr>\n",
       "      <th>sex</th>\n",
       "      <th>smoker</th>\n",
       "      <th></th>\n",
       "      <th></th>\n",
       "      <th></th>\n",
       "      <th></th>\n",
       "    </tr>\n",
       "  </thead>\n",
       "  <tbody>\n",
       "    <tr>\n",
       "      <th rowspan=\"2\" valign=\"top\">female</th>\n",
       "      <th>No</th>\n",
       "      <td>0.162939</td>\n",
       "      <td>0.291990</td>\n",
       "      <td>19.860196</td>\n",
       "      <td>48.33</td>\n",
       "    </tr>\n",
       "    <tr>\n",
       "      <th>Yes</th>\n",
       "      <td>0.171521</td>\n",
       "      <td>0.710345</td>\n",
       "      <td>20.183333</td>\n",
       "      <td>50.81</td>\n",
       "    </tr>\n",
       "    <tr>\n",
       "      <th rowspan=\"2\" valign=\"top\">male</th>\n",
       "      <th>No</th>\n",
       "      <td>0.151813</td>\n",
       "      <td>0.252672</td>\n",
       "      <td>17.789592</td>\n",
       "      <td>48.17</td>\n",
       "    </tr>\n",
       "    <tr>\n",
       "      <th>Yes</th>\n",
       "      <td>0.148060</td>\n",
       "      <td>0.280535</td>\n",
       "      <td>21.798182</td>\n",
       "      <td>44.30</td>\n",
       "    </tr>\n",
       "  </tbody>\n",
       "</table>\n",
       "</div>"
      ],
      "text/plain": [
       "              tip_proportion           total_bill       \n",
       "                          平均        最大         平均     最大\n",
       "sex    smoker                                           \n",
       "female No           0.162939  0.291990  19.860196  48.33\n",
       "       Yes          0.171521  0.710345  20.183333  50.81\n",
       "male   No           0.151813  0.252672  17.789592  48.17\n",
       "       Yes          0.148060  0.280535  21.798182  44.30"
      ]
     },
     "execution_count": 42,
     "metadata": {},
     "output_type": "execute_result"
    }
   ],
   "source": [
    "gb_sex_smoker['tip_proportion','total_bill'].agg([('平均','mean'), ('最大',np.max)])"
   ]
  },
  {
   "cell_type": "markdown",
   "metadata": {},
   "source": [
    "#### 对不同的列分别应用多个不同的函数 -- 需要传入表示列与聚合操作对应关系的字典"
   ]
  },
  {
   "cell_type": "code",
   "execution_count": 43,
   "metadata": {},
   "outputs": [
    {
     "data": {
      "text/html": [
       "<div>\n",
       "<style>\n",
       "    .dataframe thead tr:only-child th {\n",
       "        text-align: right;\n",
       "    }\n",
       "\n",
       "    .dataframe thead th {\n",
       "        text-align: left;\n",
       "    }\n",
       "\n",
       "    .dataframe tbody tr th {\n",
       "        vertical-align: top;\n",
       "    }\n",
       "</style>\n",
       "<table border=\"1\" class=\"dataframe\">\n",
       "  <thead>\n",
       "    <tr>\n",
       "      <th></th>\n",
       "      <th></th>\n",
       "      <th colspan=\"3\" halign=\"left\">total_bill</th>\n",
       "      <th colspan=\"2\" halign=\"left\">tip</th>\n",
       "    </tr>\n",
       "    <tr>\n",
       "      <th></th>\n",
       "      <th></th>\n",
       "      <th>max</th>\n",
       "      <th>std</th>\n",
       "      <th>var</th>\n",
       "      <th>mean</th>\n",
       "      <th>min</th>\n",
       "    </tr>\n",
       "    <tr>\n",
       "      <th>sex</th>\n",
       "      <th>smoker</th>\n",
       "      <th></th>\n",
       "      <th></th>\n",
       "      <th></th>\n",
       "      <th></th>\n",
       "      <th></th>\n",
       "    </tr>\n",
       "  </thead>\n",
       "  <tbody>\n",
       "    <tr>\n",
       "      <th rowspan=\"2\" valign=\"top\">female</th>\n",
       "      <th>No</th>\n",
       "      <td>48.33</td>\n",
       "      <td>8.460528</td>\n",
       "      <td>71.580533</td>\n",
       "      <td>3.180882</td>\n",
       "      <td>1.25</td>\n",
       "    </tr>\n",
       "    <tr>\n",
       "      <th>Yes</th>\n",
       "      <td>50.81</td>\n",
       "      <td>10.475436</td>\n",
       "      <td>109.734768</td>\n",
       "      <td>3.066167</td>\n",
       "      <td>1.00</td>\n",
       "    </tr>\n",
       "    <tr>\n",
       "      <th rowspan=\"2\" valign=\"top\">male</th>\n",
       "      <th>No</th>\n",
       "      <td>48.17</td>\n",
       "      <td>7.707749</td>\n",
       "      <td>59.409391</td>\n",
       "      <td>2.598367</td>\n",
       "      <td>1.00</td>\n",
       "    </tr>\n",
       "    <tr>\n",
       "      <th>Yes</th>\n",
       "      <td>44.30</td>\n",
       "      <td>8.594847</td>\n",
       "      <td>73.871397</td>\n",
       "      <td>2.904242</td>\n",
       "      <td>1.17</td>\n",
       "    </tr>\n",
       "  </tbody>\n",
       "</table>\n",
       "</div>"
      ],
      "text/plain": [
       "              total_bill                              tip      \n",
       "                     max        std         var      mean   min\n",
       "sex    smoker                                                  \n",
       "female No          48.33   8.460528   71.580533  3.180882  1.25\n",
       "       Yes         50.81  10.475436  109.734768  3.066167  1.00\n",
       "male   No          48.17   7.707749   59.409391  2.598367  1.00\n",
       "       Yes         44.30   8.594847   73.871397  2.904242  1.17"
      ]
     },
     "execution_count": 43,
     "metadata": {},
     "output_type": "execute_result"
    }
   ],
   "source": [
    "gb_sex_smoker.agg({'tip':('mean','min'), 'total_bill':('max',np.std,np.var)})"
   ]
  },
  {
   "cell_type": "markdown",
   "metadata": {},
   "source": [
    "### 以”无索引“的形式返回聚合数据 -- 默认索引由分类的属性值决定，比如上述的male或female，或层次化等"
   ]
  },
  {
   "cell_type": "code",
   "execution_count": 44,
   "metadata": {},
   "outputs": [
    {
     "name": "stdout",
     "output_type": "stream",
     "text": [
      "female\n",
      "   total_bill   tip smoker  day    time  size  tip_proportion     sex\n",
      "1       10.34  1.66     No  Sun  Dinner     3        0.160542  female\n",
      "2       21.01  3.50     No  Sun  Dinner     3        0.166587  female\n",
      "4       24.59  3.61     No  Sun  Dinner     4        0.146808  female\n",
      "5       25.29  4.71     No  Sun  Dinner     4        0.186240  female\n",
      "7       26.88  3.12     No  Sun  Dinner     4        0.116071  female\n",
      "8       15.04  1.96     No  Sun  Dinner     2        0.130319  female\n",
      "\n",
      "\n",
      "male\n",
      "   total_bill   tip smoker  day    time  size  tip_proportion   sex\n",
      "0       16.99  1.01     No  Sun  Dinner     2        0.059447  male\n",
      "3       23.68  3.31     No  Sun  Dinner     2        0.139780  male\n",
      "6        8.77  2.00     No  Sun  Dinner     2        0.228050  male\n",
      "9       14.78  3.23     No  Sun  Dinner     2        0.218539  male\n",
      "\n",
      "\n"
     ]
    }
   ],
   "source": [
    "print_gb(tips[:10].groupby('sex', as_index=False)) # 指定不使用分类列属性作为索引"
   ]
  },
  {
   "cell_type": "markdown",
   "metadata": {},
   "source": [
    "## 分组级运算和转换 -- transform/apply"
   ]
  },
  {
   "cell_type": "markdown",
   "metadata": {},
   "source": [
    "聚合只不过是分组运算的其中**一种**而已。它是数据转换的一个**特例**,也就是说,它接受能够将**一维数组简化为标量值**的函数。在本节中,我将介绍**transform**和**apply**方法,它们能够执行更多其他的**分组运算**。"
   ]
  },
  {
   "cell_type": "markdown",
   "metadata": {},
   "source": [
    "### transform"
   ]
  },
  {
   "cell_type": "code",
   "execution_count": 45,
   "metadata": {},
   "outputs": [
    {
     "data": {
      "text/html": [
       "<div>\n",
       "<style>\n",
       "    .dataframe thead tr:only-child th {\n",
       "        text-align: right;\n",
       "    }\n",
       "\n",
       "    .dataframe thead th {\n",
       "        text-align: left;\n",
       "    }\n",
       "\n",
       "    .dataframe tbody tr th {\n",
       "        vertical-align: top;\n",
       "    }\n",
       "</style>\n",
       "<table border=\"1\" class=\"dataframe\">\n",
       "  <thead>\n",
       "    <tr style=\"text-align: right;\">\n",
       "      <th></th>\n",
       "      <th>english</th>\n",
       "      <th>math</th>\n",
       "      <th>sex</th>\n",
       "    </tr>\n",
       "  </thead>\n",
       "  <tbody>\n",
       "    <tr>\n",
       "      <th>HoLoong</th>\n",
       "      <td>80</td>\n",
       "      <td>55</td>\n",
       "      <td>male</td>\n",
       "    </tr>\n",
       "    <tr>\n",
       "      <th>Mark</th>\n",
       "      <td>95</td>\n",
       "      <td>65</td>\n",
       "      <td>female</td>\n",
       "    </tr>\n",
       "    <tr>\n",
       "      <th>John</th>\n",
       "      <td>77</td>\n",
       "      <td>70</td>\n",
       "      <td>male</td>\n",
       "    </tr>\n",
       "    <tr>\n",
       "      <th>Lily</th>\n",
       "      <td>65</td>\n",
       "      <td>48</td>\n",
       "      <td>male</td>\n",
       "    </tr>\n",
       "    <tr>\n",
       "      <th>Joy</th>\n",
       "      <td>45</td>\n",
       "      <td>63</td>\n",
       "      <td>female</td>\n",
       "    </tr>\n",
       "  </tbody>\n",
       "</table>\n",
       "</div>"
      ],
      "text/plain": [
       "         english  math     sex\n",
       "HoLoong       80    55    male\n",
       "Mark          95    65  female\n",
       "John          77    70    male\n",
       "Lily          65    48    male\n",
       "Joy           45    63  female"
      ]
     },
     "execution_count": 45,
     "metadata": {},
     "output_type": "execute_result"
    }
   ],
   "source": [
    "df = DataFrame({'math':[55,65,70,48,63],'english':[80,95,77,65,45],'sex':['male','female','male','male','female']},\n",
    "              index=['HoLoong','Mark','John','Lily','Joy'])\n",
    "df"
   ]
  },
  {
   "cell_type": "markdown",
   "metadata": {},
   "source": [
    "#### 增加一列用于描述根据性别分组的英语和数学的平均分 -- 旧方式：先聚合，再合并"
   ]
  },
  {
   "cell_type": "code",
   "execution_count": 46,
   "metadata": {},
   "outputs": [
    {
     "data": {
      "text/html": [
       "<div>\n",
       "<style>\n",
       "    .dataframe thead tr:only-child th {\n",
       "        text-align: right;\n",
       "    }\n",
       "\n",
       "    .dataframe thead th {\n",
       "        text-align: left;\n",
       "    }\n",
       "\n",
       "    .dataframe tbody tr th {\n",
       "        vertical-align: top;\n",
       "    }\n",
       "</style>\n",
       "<table border=\"1\" class=\"dataframe\">\n",
       "  <thead>\n",
       "    <tr style=\"text-align: right;\">\n",
       "      <th></th>\n",
       "      <th>english</th>\n",
       "      <th>math</th>\n",
       "    </tr>\n",
       "    <tr>\n",
       "      <th>sex</th>\n",
       "      <th></th>\n",
       "      <th></th>\n",
       "    </tr>\n",
       "  </thead>\n",
       "  <tbody>\n",
       "    <tr>\n",
       "      <th>female</th>\n",
       "      <td>70.0</td>\n",
       "      <td>64.000000</td>\n",
       "    </tr>\n",
       "    <tr>\n",
       "      <th>male</th>\n",
       "      <td>74.0</td>\n",
       "      <td>57.666667</td>\n",
       "    </tr>\n",
       "  </tbody>\n",
       "</table>\n",
       "</div>"
      ],
      "text/plain": [
       "        english       math\n",
       "sex                       \n",
       "female     70.0  64.000000\n",
       "male       74.0  57.666667"
      ]
     },
     "execution_count": 46,
     "metadata": {},
     "output_type": "execute_result"
    }
   ],
   "source": [
    "# step 1:先聚合计算平均值\n",
    "mean_sex = df.groupby('sex').mean()\n",
    "mean_sex"
   ]
  },
  {
   "cell_type": "code",
   "execution_count": 47,
   "metadata": {},
   "outputs": [
    {
     "data": {
      "text/html": [
       "<div>\n",
       "<style>\n",
       "    .dataframe thead tr:only-child th {\n",
       "        text-align: right;\n",
       "    }\n",
       "\n",
       "    .dataframe thead th {\n",
       "        text-align: left;\n",
       "    }\n",
       "\n",
       "    .dataframe tbody tr th {\n",
       "        vertical-align: top;\n",
       "    }\n",
       "</style>\n",
       "<table border=\"1\" class=\"dataframe\">\n",
       "  <thead>\n",
       "    <tr style=\"text-align: right;\">\n",
       "      <th></th>\n",
       "      <th>english</th>\n",
       "      <th>math</th>\n",
       "      <th>sex</th>\n",
       "      <th>english_mean</th>\n",
       "      <th>math_mean</th>\n",
       "    </tr>\n",
       "  </thead>\n",
       "  <tbody>\n",
       "    <tr>\n",
       "      <th>HoLoong</th>\n",
       "      <td>80</td>\n",
       "      <td>55</td>\n",
       "      <td>male</td>\n",
       "      <td>74.0</td>\n",
       "      <td>57.666667</td>\n",
       "    </tr>\n",
       "    <tr>\n",
       "      <th>John</th>\n",
       "      <td>77</td>\n",
       "      <td>70</td>\n",
       "      <td>male</td>\n",
       "      <td>74.0</td>\n",
       "      <td>57.666667</td>\n",
       "    </tr>\n",
       "    <tr>\n",
       "      <th>Lily</th>\n",
       "      <td>65</td>\n",
       "      <td>48</td>\n",
       "      <td>male</td>\n",
       "      <td>74.0</td>\n",
       "      <td>57.666667</td>\n",
       "    </tr>\n",
       "    <tr>\n",
       "      <th>Mark</th>\n",
       "      <td>95</td>\n",
       "      <td>65</td>\n",
       "      <td>female</td>\n",
       "      <td>70.0</td>\n",
       "      <td>64.000000</td>\n",
       "    </tr>\n",
       "    <tr>\n",
       "      <th>Joy</th>\n",
       "      <td>45</td>\n",
       "      <td>63</td>\n",
       "      <td>female</td>\n",
       "      <td>70.0</td>\n",
       "      <td>64.000000</td>\n",
       "    </tr>\n",
       "  </tbody>\n",
       "</table>\n",
       "</div>"
      ],
      "text/plain": [
       "         english  math     sex  english_mean  math_mean\n",
       "HoLoong       80    55    male          74.0  57.666667\n",
       "John          77    70    male          74.0  57.666667\n",
       "Lily          65    48    male          74.0  57.666667\n",
       "Mark          95    65  female          70.0  64.000000\n",
       "Joy           45    63  female          70.0  64.000000"
      ]
     },
     "execution_count": 47,
     "metadata": {},
     "output_type": "execute_result"
    }
   ],
   "source": [
    "# step 2:再合并到原dataframe中，注意此时sex在两侧数据的位置，一个是列，一个是索引，同时还需要指定后缀\n",
    "df.merge(mean_sex, left_on='sex', right_index=True, suffixes=('', '_mean'))"
   ]
  },
  {
   "cell_type": "markdown",
   "metadata": {},
   "source": [
    "#### 增加一列用于描述根据性别分组的英语和数学的平均分 -- 新方式：transform"
   ]
  },
  {
   "cell_type": "code",
   "execution_count": 48,
   "metadata": {},
   "outputs": [
    {
     "data": {
      "text/html": [
       "<div>\n",
       "<style>\n",
       "    .dataframe thead tr:only-child th {\n",
       "        text-align: right;\n",
       "    }\n",
       "\n",
       "    .dataframe thead th {\n",
       "        text-align: left;\n",
       "    }\n",
       "\n",
       "    .dataframe tbody tr th {\n",
       "        vertical-align: top;\n",
       "    }\n",
       "</style>\n",
       "<table border=\"1\" class=\"dataframe\">\n",
       "  <thead>\n",
       "    <tr style=\"text-align: right;\">\n",
       "      <th></th>\n",
       "      <th>english</th>\n",
       "      <th>math</th>\n",
       "      <th>sex</th>\n",
       "      <th>english_mean</th>\n",
       "      <th>math_mean</th>\n",
       "    </tr>\n",
       "  </thead>\n",
       "  <tbody>\n",
       "    <tr>\n",
       "      <th>HoLoong</th>\n",
       "      <td>80</td>\n",
       "      <td>55</td>\n",
       "      <td>male</td>\n",
       "      <td>74</td>\n",
       "      <td>57.666667</td>\n",
       "    </tr>\n",
       "    <tr>\n",
       "      <th>Mark</th>\n",
       "      <td>95</td>\n",
       "      <td>65</td>\n",
       "      <td>female</td>\n",
       "      <td>70</td>\n",
       "      <td>64.000000</td>\n",
       "    </tr>\n",
       "    <tr>\n",
       "      <th>John</th>\n",
       "      <td>77</td>\n",
       "      <td>70</td>\n",
       "      <td>male</td>\n",
       "      <td>74</td>\n",
       "      <td>57.666667</td>\n",
       "    </tr>\n",
       "    <tr>\n",
       "      <th>Lily</th>\n",
       "      <td>65</td>\n",
       "      <td>48</td>\n",
       "      <td>male</td>\n",
       "      <td>74</td>\n",
       "      <td>57.666667</td>\n",
       "    </tr>\n",
       "    <tr>\n",
       "      <th>Joy</th>\n",
       "      <td>45</td>\n",
       "      <td>63</td>\n",
       "      <td>female</td>\n",
       "      <td>70</td>\n",
       "      <td>64.000000</td>\n",
       "    </tr>\n",
       "  </tbody>\n",
       "</table>\n",
       "</div>"
      ],
      "text/plain": [
       "         english  math     sex  english_mean  math_mean\n",
       "HoLoong       80    55    male            74  57.666667\n",
       "Mark          95    65  female            70  64.000000\n",
       "John          77    70    male            74  57.666667\n",
       "Lily          65    48    male            74  57.666667\n",
       "Joy           45    63  female            70  64.000000"
      ]
     },
     "execution_count": 48,
     "metadata": {},
     "output_type": "execute_result"
    }
   ],
   "source": [
    "df.merge(df.groupby('sex').transform(np.mean), left_index=True, right_index=True, suffixes=('','_mean'))"
   ]
  },
  {
   "cell_type": "markdown",
   "metadata": {},
   "source": [
    "#### transform用法"
   ]
  },
  {
   "cell_type": "markdown",
   "metadata": {},
   "source": [
    "可以看到，transform会将函数应用于**每一个**分组，同时将结果自动放置到以**原DataFrame索引**为索引，以**分组枚举值**为列的DataFrame中，这样的结果可以**直接**与原DataFrame进行索引的合并；"
   ]
  },
  {
   "cell_type": "markdown",
   "metadata": {},
   "source": [
    "### apply -- 一般性的“拆分--应用--合并”"
   ]
  },
  {
   "cell_type": "markdown",
   "metadata": {},
   "source": [
    "跟aggregate一样,transform也是一个有着**严格条件**的特殊函数:\n",
    "传入的函数只能产生两种结果,要么产生一个可以广播的**标量值**(如\n",
    "np.mean),要么产生一个**相同大小的结果数组**。最一般化的GroupBy方\n",
    "法是apply,本节剩余部分将重点讲解它。apply会将待处\n",
    "理的对象拆分成**多个片段**,然后对**各片段**调用传入的函数,最后尝试将各片段**组合**到一起。"
   ]
  },
  {
   "cell_type": "code",
   "execution_count": 49,
   "metadata": {},
   "outputs": [
    {
     "data": {
      "text/html": [
       "<div>\n",
       "<style>\n",
       "    .dataframe thead tr:only-child th {\n",
       "        text-align: right;\n",
       "    }\n",
       "\n",
       "    .dataframe thead th {\n",
       "        text-align: left;\n",
       "    }\n",
       "\n",
       "    .dataframe tbody tr th {\n",
       "        vertical-align: top;\n",
       "    }\n",
       "</style>\n",
       "<table border=\"1\" class=\"dataframe\">\n",
       "  <thead>\n",
       "    <tr style=\"text-align: right;\">\n",
       "      <th></th>\n",
       "      <th>total_bill</th>\n",
       "      <th>tip</th>\n",
       "      <th>smoker</th>\n",
       "      <th>day</th>\n",
       "      <th>time</th>\n",
       "      <th>size</th>\n",
       "      <th>tip_proportion</th>\n",
       "      <th>sex</th>\n",
       "    </tr>\n",
       "  </thead>\n",
       "  <tbody>\n",
       "    <tr>\n",
       "      <th>0</th>\n",
       "      <td>16.99</td>\n",
       "      <td>1.01</td>\n",
       "      <td>No</td>\n",
       "      <td>Sun</td>\n",
       "      <td>Dinner</td>\n",
       "      <td>2</td>\n",
       "      <td>0.059447</td>\n",
       "      <td>male</td>\n",
       "    </tr>\n",
       "    <tr>\n",
       "      <th>1</th>\n",
       "      <td>10.34</td>\n",
       "      <td>1.66</td>\n",
       "      <td>No</td>\n",
       "      <td>Sun</td>\n",
       "      <td>Dinner</td>\n",
       "      <td>3</td>\n",
       "      <td>0.160542</td>\n",
       "      <td>female</td>\n",
       "    </tr>\n",
       "    <tr>\n",
       "      <th>2</th>\n",
       "      <td>21.01</td>\n",
       "      <td>3.50</td>\n",
       "      <td>No</td>\n",
       "      <td>Sun</td>\n",
       "      <td>Dinner</td>\n",
       "      <td>3</td>\n",
       "      <td>0.166587</td>\n",
       "      <td>female</td>\n",
       "    </tr>\n",
       "    <tr>\n",
       "      <th>3</th>\n",
       "      <td>23.68</td>\n",
       "      <td>3.31</td>\n",
       "      <td>No</td>\n",
       "      <td>Sun</td>\n",
       "      <td>Dinner</td>\n",
       "      <td>2</td>\n",
       "      <td>0.139780</td>\n",
       "      <td>male</td>\n",
       "    </tr>\n",
       "    <tr>\n",
       "      <th>4</th>\n",
       "      <td>24.59</td>\n",
       "      <td>3.61</td>\n",
       "      <td>No</td>\n",
       "      <td>Sun</td>\n",
       "      <td>Dinner</td>\n",
       "      <td>4</td>\n",
       "      <td>0.146808</td>\n",
       "      <td>female</td>\n",
       "    </tr>\n",
       "  </tbody>\n",
       "</table>\n",
       "</div>"
      ],
      "text/plain": [
       "   total_bill   tip smoker  day    time  size  tip_proportion     sex\n",
       "0       16.99  1.01     No  Sun  Dinner     2        0.059447    male\n",
       "1       10.34  1.66     No  Sun  Dinner     3        0.160542  female\n",
       "2       21.01  3.50     No  Sun  Dinner     3        0.166587  female\n",
       "3       23.68  3.31     No  Sun  Dinner     2        0.139780    male\n",
       "4       24.59  3.61     No  Sun  Dinner     4        0.146808  female"
      ]
     },
     "execution_count": 49,
     "metadata": {},
     "output_type": "execute_result"
    }
   ],
   "source": [
    "tips.head(5)"
   ]
  },
  {
   "cell_type": "markdown",
   "metadata": {},
   "source": [
    "#### 根据分组选出最高的5个tip_proportion值"
   ]
  },
  {
   "cell_type": "code",
   "execution_count": 50,
   "metadata": {},
   "outputs": [
    {
     "data": {
      "text/html": [
       "<div>\n",
       "<style>\n",
       "    .dataframe thead tr:only-child th {\n",
       "        text-align: right;\n",
       "    }\n",
       "\n",
       "    .dataframe thead th {\n",
       "        text-align: left;\n",
       "    }\n",
       "\n",
       "    .dataframe tbody tr th {\n",
       "        vertical-align: top;\n",
       "    }\n",
       "</style>\n",
       "<table border=\"1\" class=\"dataframe\">\n",
       "  <thead>\n",
       "    <tr style=\"text-align: right;\">\n",
       "      <th></th>\n",
       "      <th>total_bill</th>\n",
       "      <th>tip</th>\n",
       "      <th>smoker</th>\n",
       "      <th>day</th>\n",
       "      <th>time</th>\n",
       "      <th>size</th>\n",
       "      <th>tip_proportion</th>\n",
       "      <th>sex</th>\n",
       "    </tr>\n",
       "  </thead>\n",
       "  <tbody>\n",
       "    <tr>\n",
       "      <th>183</th>\n",
       "      <td>23.17</td>\n",
       "      <td>6.50</td>\n",
       "      <td>Yes</td>\n",
       "      <td>Sun</td>\n",
       "      <td>Dinner</td>\n",
       "      <td>4</td>\n",
       "      <td>0.280535</td>\n",
       "      <td>male</td>\n",
       "    </tr>\n",
       "    <tr>\n",
       "      <th>232</th>\n",
       "      <td>11.61</td>\n",
       "      <td>3.39</td>\n",
       "      <td>No</td>\n",
       "      <td>Sat</td>\n",
       "      <td>Dinner</td>\n",
       "      <td>2</td>\n",
       "      <td>0.291990</td>\n",
       "      <td>female</td>\n",
       "    </tr>\n",
       "    <tr>\n",
       "      <th>67</th>\n",
       "      <td>3.07</td>\n",
       "      <td>1.00</td>\n",
       "      <td>Yes</td>\n",
       "      <td>Sat</td>\n",
       "      <td>Dinner</td>\n",
       "      <td>1</td>\n",
       "      <td>0.325733</td>\n",
       "      <td>female</td>\n",
       "    </tr>\n",
       "    <tr>\n",
       "      <th>178</th>\n",
       "      <td>9.60</td>\n",
       "      <td>4.00</td>\n",
       "      <td>Yes</td>\n",
       "      <td>Sun</td>\n",
       "      <td>Dinner</td>\n",
       "      <td>2</td>\n",
       "      <td>0.416667</td>\n",
       "      <td>female</td>\n",
       "    </tr>\n",
       "    <tr>\n",
       "      <th>172</th>\n",
       "      <td>7.25</td>\n",
       "      <td>5.15</td>\n",
       "      <td>Yes</td>\n",
       "      <td>Sun</td>\n",
       "      <td>Dinner</td>\n",
       "      <td>2</td>\n",
       "      <td>0.710345</td>\n",
       "      <td>female</td>\n",
       "    </tr>\n",
       "  </tbody>\n",
       "</table>\n",
       "</div>"
      ],
      "text/plain": [
       "     total_bill   tip smoker  day    time  size  tip_proportion     sex\n",
       "183       23.17  6.50    Yes  Sun  Dinner     4        0.280535    male\n",
       "232       11.61  3.39     No  Sat  Dinner     2        0.291990  female\n",
       "67         3.07  1.00    Yes  Sat  Dinner     1        0.325733  female\n",
       "178        9.60  4.00    Yes  Sun  Dinner     2        0.416667  female\n",
       "172        7.25  5.15    Yes  Sun  Dinner     2        0.710345  female"
      ]
     },
     "execution_count": 50,
     "metadata": {},
     "output_type": "execute_result"
    }
   ],
   "source": [
    "# 获取指定DataFrame中按照某列排序的最高n个元素\n",
    "def top_5(df, by, n=5):\n",
    "    return df.sort_values(by=by)[-n:]\n",
    "\n",
    "top_5(tips, by='tip_proportion')"
   ]
  },
  {
   "cell_type": "code",
   "execution_count": 51,
   "metadata": {},
   "outputs": [
    {
     "data": {
      "text/html": [
       "<div>\n",
       "<style>\n",
       "    .dataframe thead tr:only-child th {\n",
       "        text-align: right;\n",
       "    }\n",
       "\n",
       "    .dataframe thead th {\n",
       "        text-align: left;\n",
       "    }\n",
       "\n",
       "    .dataframe tbody tr th {\n",
       "        vertical-align: top;\n",
       "    }\n",
       "</style>\n",
       "<table border=\"1\" class=\"dataframe\">\n",
       "  <thead>\n",
       "    <tr style=\"text-align: right;\">\n",
       "      <th></th>\n",
       "      <th></th>\n",
       "      <th>total_bill</th>\n",
       "      <th>tip</th>\n",
       "      <th>smoker</th>\n",
       "      <th>day</th>\n",
       "      <th>time</th>\n",
       "      <th>size</th>\n",
       "      <th>tip_proportion</th>\n",
       "      <th>sex</th>\n",
       "    </tr>\n",
       "    <tr>\n",
       "      <th>smoker</th>\n",
       "      <th></th>\n",
       "      <th></th>\n",
       "      <th></th>\n",
       "      <th></th>\n",
       "      <th></th>\n",
       "      <th></th>\n",
       "      <th></th>\n",
       "      <th></th>\n",
       "      <th></th>\n",
       "    </tr>\n",
       "  </thead>\n",
       "  <tbody>\n",
       "    <tr>\n",
       "      <th rowspan=\"5\" valign=\"top\">No</th>\n",
       "      <th>88</th>\n",
       "      <td>24.71</td>\n",
       "      <td>5.85</td>\n",
       "      <td>No</td>\n",
       "      <td>Thur</td>\n",
       "      <td>Lunch</td>\n",
       "      <td>2</td>\n",
       "      <td>0.236746</td>\n",
       "      <td>female</td>\n",
       "    </tr>\n",
       "    <tr>\n",
       "      <th>185</th>\n",
       "      <td>20.69</td>\n",
       "      <td>5.00</td>\n",
       "      <td>No</td>\n",
       "      <td>Sun</td>\n",
       "      <td>Dinner</td>\n",
       "      <td>5</td>\n",
       "      <td>0.241663</td>\n",
       "      <td>female</td>\n",
       "    </tr>\n",
       "    <tr>\n",
       "      <th>51</th>\n",
       "      <td>10.29</td>\n",
       "      <td>2.60</td>\n",
       "      <td>No</td>\n",
       "      <td>Sun</td>\n",
       "      <td>Dinner</td>\n",
       "      <td>2</td>\n",
       "      <td>0.252672</td>\n",
       "      <td>male</td>\n",
       "    </tr>\n",
       "    <tr>\n",
       "      <th>149</th>\n",
       "      <td>7.51</td>\n",
       "      <td>2.00</td>\n",
       "      <td>No</td>\n",
       "      <td>Thur</td>\n",
       "      <td>Lunch</td>\n",
       "      <td>2</td>\n",
       "      <td>0.266312</td>\n",
       "      <td>female</td>\n",
       "    </tr>\n",
       "    <tr>\n",
       "      <th>232</th>\n",
       "      <td>11.61</td>\n",
       "      <td>3.39</td>\n",
       "      <td>No</td>\n",
       "      <td>Sat</td>\n",
       "      <td>Dinner</td>\n",
       "      <td>2</td>\n",
       "      <td>0.291990</td>\n",
       "      <td>female</td>\n",
       "    </tr>\n",
       "    <tr>\n",
       "      <th rowspan=\"5\" valign=\"top\">Yes</th>\n",
       "      <th>109</th>\n",
       "      <td>14.31</td>\n",
       "      <td>4.00</td>\n",
       "      <td>Yes</td>\n",
       "      <td>Sat</td>\n",
       "      <td>Dinner</td>\n",
       "      <td>2</td>\n",
       "      <td>0.279525</td>\n",
       "      <td>female</td>\n",
       "    </tr>\n",
       "    <tr>\n",
       "      <th>183</th>\n",
       "      <td>23.17</td>\n",
       "      <td>6.50</td>\n",
       "      <td>Yes</td>\n",
       "      <td>Sun</td>\n",
       "      <td>Dinner</td>\n",
       "      <td>4</td>\n",
       "      <td>0.280535</td>\n",
       "      <td>male</td>\n",
       "    </tr>\n",
       "    <tr>\n",
       "      <th>67</th>\n",
       "      <td>3.07</td>\n",
       "      <td>1.00</td>\n",
       "      <td>Yes</td>\n",
       "      <td>Sat</td>\n",
       "      <td>Dinner</td>\n",
       "      <td>1</td>\n",
       "      <td>0.325733</td>\n",
       "      <td>female</td>\n",
       "    </tr>\n",
       "    <tr>\n",
       "      <th>178</th>\n",
       "      <td>9.60</td>\n",
       "      <td>4.00</td>\n",
       "      <td>Yes</td>\n",
       "      <td>Sun</td>\n",
       "      <td>Dinner</td>\n",
       "      <td>2</td>\n",
       "      <td>0.416667</td>\n",
       "      <td>female</td>\n",
       "    </tr>\n",
       "    <tr>\n",
       "      <th>172</th>\n",
       "      <td>7.25</td>\n",
       "      <td>5.15</td>\n",
       "      <td>Yes</td>\n",
       "      <td>Sun</td>\n",
       "      <td>Dinner</td>\n",
       "      <td>2</td>\n",
       "      <td>0.710345</td>\n",
       "      <td>female</td>\n",
       "    </tr>\n",
       "  </tbody>\n",
       "</table>\n",
       "</div>"
      ],
      "text/plain": [
       "            total_bill   tip smoker   day    time  size  tip_proportion  \\\n",
       "smoker                                                                    \n",
       "No     88        24.71  5.85     No  Thur   Lunch     2        0.236746   \n",
       "       185       20.69  5.00     No   Sun  Dinner     5        0.241663   \n",
       "       51        10.29  2.60     No   Sun  Dinner     2        0.252672   \n",
       "       149        7.51  2.00     No  Thur   Lunch     2        0.266312   \n",
       "       232       11.61  3.39     No   Sat  Dinner     2        0.291990   \n",
       "Yes    109       14.31  4.00    Yes   Sat  Dinner     2        0.279525   \n",
       "       183       23.17  6.50    Yes   Sun  Dinner     4        0.280535   \n",
       "       67         3.07  1.00    Yes   Sat  Dinner     1        0.325733   \n",
       "       178        9.60  4.00    Yes   Sun  Dinner     2        0.416667   \n",
       "       172        7.25  5.15    Yes   Sun  Dinner     2        0.710345   \n",
       "\n",
       "               sex  \n",
       "smoker              \n",
       "No     88   female  \n",
       "       185  female  \n",
       "       51     male  \n",
       "       149  female  \n",
       "       232  female  \n",
       "Yes    109  female  \n",
       "       183    male  \n",
       "       67   female  \n",
       "       178  female  \n",
       "       172  female  "
      ]
     },
     "execution_count": 51,
     "metadata": {},
     "output_type": "execute_result"
    }
   ],
   "source": [
    "# 将top_5函数应用到分组上\n",
    "tips.groupby('smoker').apply(top_5, by='tip_proportion')"
   ]
  },
  {
   "cell_type": "markdown",
   "metadata": {},
   "source": [
    "可以看到：apply-top_5方式，将top应用到了每个分组上，然后将返回的结果concat到一个具有层次化索引（外层为分组枚举值，内层为原DataFrame索引）的DataFrame上；"
   ]
  },
  {
   "cell_type": "markdown",
   "metadata": {},
   "source": [
    "#### apply使用注意"
   ]
  },
  {
   "cell_type": "markdown",
   "metadata": {},
   "source": [
    "**注意**: 除这些基本用法之外,能否充分发挥apply的威力很大程度\n",
    "上取决于你的**创造力**。传入的那个函数能做什么全由你说了算,它**只\n",
    "需**返回一个**pandas对象**或**标量值**即可。"
   ]
  },
  {
   "cell_type": "markdown",
   "metadata": {},
   "source": [
    "**PS**：如果调用的函数有其他参数，可以通过在apply后追加的方式设置进去，如下：\n",
    "\n",
    "    def t(data,a=1,b=2)\n",
    "        return ...\n",
    "    df.groupby(...).apply(t, a=3, b=4)# 通过在apply后追加的方式给函数t增加其他参数设置"
   ]
  },
  {
   "cell_type": "markdown",
   "metadata": {},
   "source": [
    "#### groupby上调用describe"
   ]
  },
  {
   "cell_type": "code",
   "execution_count": 52,
   "metadata": {},
   "outputs": [
    {
     "data": {
      "text/html": [
       "<div>\n",
       "<style>\n",
       "    .dataframe thead tr:only-child th {\n",
       "        text-align: right;\n",
       "    }\n",
       "\n",
       "    .dataframe thead th {\n",
       "        text-align: left;\n",
       "    }\n",
       "\n",
       "    .dataframe tbody tr th {\n",
       "        vertical-align: top;\n",
       "    }\n",
       "</style>\n",
       "<table border=\"1\" class=\"dataframe\">\n",
       "  <thead>\n",
       "    <tr style=\"text-align: right;\">\n",
       "      <th></th>\n",
       "      <th></th>\n",
       "      <th>size</th>\n",
       "      <th>tip</th>\n",
       "      <th>tip_proportion</th>\n",
       "      <th>total_bill</th>\n",
       "    </tr>\n",
       "    <tr>\n",
       "      <th>sex</th>\n",
       "      <th></th>\n",
       "      <th></th>\n",
       "      <th></th>\n",
       "      <th></th>\n",
       "      <th></th>\n",
       "    </tr>\n",
       "  </thead>\n",
       "  <tbody>\n",
       "    <tr>\n",
       "      <th rowspan=\"8\" valign=\"top\">female</th>\n",
       "      <th>count</th>\n",
       "      <td>162.000000</td>\n",
       "      <td>162.000000</td>\n",
       "      <td>162.000000</td>\n",
       "      <td>162.000000</td>\n",
       "    </tr>\n",
       "    <tr>\n",
       "      <th>mean</th>\n",
       "      <td>2.598765</td>\n",
       "      <td>3.138395</td>\n",
       "      <td>0.166117</td>\n",
       "      <td>19.979877</td>\n",
       "    </tr>\n",
       "    <tr>\n",
       "      <th>std</th>\n",
       "      <td>0.948748</td>\n",
       "      <td>1.481206</td>\n",
       "      <td>0.065238</td>\n",
       "      <td>9.227265</td>\n",
       "    </tr>\n",
       "    <tr>\n",
       "      <th>min</th>\n",
       "      <td>1.000000</td>\n",
       "      <td>1.000000</td>\n",
       "      <td>0.065660</td>\n",
       "      <td>3.070000</td>\n",
       "    </tr>\n",
       "    <tr>\n",
       "      <th>25%</th>\n",
       "      <td>2.000000</td>\n",
       "      <td>2.000000</td>\n",
       "      <td>0.136395</td>\n",
       "      <td>13.212500</td>\n",
       "    </tr>\n",
       "    <tr>\n",
       "      <th>50%</th>\n",
       "      <td>2.000000</td>\n",
       "      <td>3.000000</td>\n",
       "      <td>0.156907</td>\n",
       "      <td>17.905000</td>\n",
       "    </tr>\n",
       "    <tr>\n",
       "      <th>75%</th>\n",
       "      <td>3.000000</td>\n",
       "      <td>3.937500</td>\n",
       "      <td>0.192700</td>\n",
       "      <td>24.075000</td>\n",
       "    </tr>\n",
       "    <tr>\n",
       "      <th>max</th>\n",
       "      <td>6.000000</td>\n",
       "      <td>10.000000</td>\n",
       "      <td>0.710345</td>\n",
       "      <td>50.810000</td>\n",
       "    </tr>\n",
       "    <tr>\n",
       "      <th rowspan=\"8\" valign=\"top\">male</th>\n",
       "      <th>count</th>\n",
       "      <td>82.000000</td>\n",
       "      <td>82.000000</td>\n",
       "      <td>82.000000</td>\n",
       "      <td>82.000000</td>\n",
       "    </tr>\n",
       "    <tr>\n",
       "      <th>mean</th>\n",
       "      <td>2.512195</td>\n",
       "      <td>2.721463</td>\n",
       "      <td>0.150303</td>\n",
       "      <td>19.402805</td>\n",
       "    </tr>\n",
       "    <tr>\n",
       "      <th>std</th>\n",
       "      <td>0.958959</td>\n",
       "      <td>1.125019</td>\n",
       "      <td>0.050615</td>\n",
       "      <td>8.264459</td>\n",
       "    </tr>\n",
       "    <tr>\n",
       "      <th>min</th>\n",
       "      <td>1.000000</td>\n",
       "      <td>1.000000</td>\n",
       "      <td>0.035638</td>\n",
       "      <td>7.250000</td>\n",
       "    </tr>\n",
       "    <tr>\n",
       "      <th>25%</th>\n",
       "      <td>2.000000</td>\n",
       "      <td>2.000000</td>\n",
       "      <td>0.119297</td>\n",
       "      <td>13.972500</td>\n",
       "    </tr>\n",
       "    <tr>\n",
       "      <th>50%</th>\n",
       "      <td>2.000000</td>\n",
       "      <td>2.500000</td>\n",
       "      <td>0.148519</td>\n",
       "      <td>16.740000</td>\n",
       "    </tr>\n",
       "    <tr>\n",
       "      <th>75%</th>\n",
       "      <td>3.000000</td>\n",
       "      <td>3.290000</td>\n",
       "      <td>0.189956</td>\n",
       "      <td>24.310000</td>\n",
       "    </tr>\n",
       "    <tr>\n",
       "      <th>max</th>\n",
       "      <td>6.000000</td>\n",
       "      <td>6.700000</td>\n",
       "      <td>0.280535</td>\n",
       "      <td>48.170000</td>\n",
       "    </tr>\n",
       "  </tbody>\n",
       "</table>\n",
       "</div>"
      ],
      "text/plain": [
       "                    size         tip  tip_proportion  total_bill\n",
       "sex                                                             \n",
       "female count  162.000000  162.000000      162.000000  162.000000\n",
       "       mean     2.598765    3.138395        0.166117   19.979877\n",
       "       std      0.948748    1.481206        0.065238    9.227265\n",
       "       min      1.000000    1.000000        0.065660    3.070000\n",
       "       25%      2.000000    2.000000        0.136395   13.212500\n",
       "       50%      2.000000    3.000000        0.156907   17.905000\n",
       "       75%      3.000000    3.937500        0.192700   24.075000\n",
       "       max      6.000000   10.000000        0.710345   50.810000\n",
       "male   count   82.000000   82.000000       82.000000   82.000000\n",
       "       mean     2.512195    2.721463        0.150303   19.402805\n",
       "       std      0.958959    1.125019        0.050615    8.264459\n",
       "       min      1.000000    1.000000        0.035638    7.250000\n",
       "       25%      2.000000    2.000000        0.119297   13.972500\n",
       "       50%      2.000000    2.500000        0.148519   16.740000\n",
       "       75%      3.000000    3.290000        0.189956   24.310000\n",
       "       max      6.000000    6.700000        0.280535   48.170000"
      ]
     },
     "execution_count": 52,
     "metadata": {},
     "output_type": "execute_result"
    }
   ],
   "source": [
    "tips.groupby('sex').describe().stack(1)"
   ]
  },
  {
   "cell_type": "markdown",
   "metadata": {},
   "source": [
    "上述写法等价于以下：\n",
    "1. 首先定义应用于每个分组的函数，此处用lambda表示；\n",
    "2. 其次将该lambda表达式应用到apply上；"
   ]
  },
  {
   "cell_type": "code",
   "execution_count": 53,
   "metadata": {},
   "outputs": [
    {
     "data": {
      "text/html": [
       "<div>\n",
       "<style>\n",
       "    .dataframe thead tr:only-child th {\n",
       "        text-align: right;\n",
       "    }\n",
       "\n",
       "    .dataframe thead th {\n",
       "        text-align: left;\n",
       "    }\n",
       "\n",
       "    .dataframe tbody tr th {\n",
       "        vertical-align: top;\n",
       "    }\n",
       "</style>\n",
       "<table border=\"1\" class=\"dataframe\">\n",
       "  <thead>\n",
       "    <tr style=\"text-align: right;\">\n",
       "      <th></th>\n",
       "      <th></th>\n",
       "      <th>total_bill</th>\n",
       "      <th>tip</th>\n",
       "      <th>size</th>\n",
       "      <th>tip_proportion</th>\n",
       "    </tr>\n",
       "    <tr>\n",
       "      <th>sex</th>\n",
       "      <th></th>\n",
       "      <th></th>\n",
       "      <th></th>\n",
       "      <th></th>\n",
       "      <th></th>\n",
       "    </tr>\n",
       "  </thead>\n",
       "  <tbody>\n",
       "    <tr>\n",
       "      <th rowspan=\"8\" valign=\"top\">female</th>\n",
       "      <th>count</th>\n",
       "      <td>162.000000</td>\n",
       "      <td>162.000000</td>\n",
       "      <td>162.000000</td>\n",
       "      <td>162.000000</td>\n",
       "    </tr>\n",
       "    <tr>\n",
       "      <th>mean</th>\n",
       "      <td>19.979877</td>\n",
       "      <td>3.138395</td>\n",
       "      <td>2.598765</td>\n",
       "      <td>0.166117</td>\n",
       "    </tr>\n",
       "    <tr>\n",
       "      <th>std</th>\n",
       "      <td>9.227265</td>\n",
       "      <td>1.481206</td>\n",
       "      <td>0.948748</td>\n",
       "      <td>0.065238</td>\n",
       "    </tr>\n",
       "    <tr>\n",
       "      <th>min</th>\n",
       "      <td>3.070000</td>\n",
       "      <td>1.000000</td>\n",
       "      <td>1.000000</td>\n",
       "      <td>0.065660</td>\n",
       "    </tr>\n",
       "    <tr>\n",
       "      <th>25%</th>\n",
       "      <td>13.212500</td>\n",
       "      <td>2.000000</td>\n",
       "      <td>2.000000</td>\n",
       "      <td>0.136395</td>\n",
       "    </tr>\n",
       "    <tr>\n",
       "      <th>50%</th>\n",
       "      <td>17.905000</td>\n",
       "      <td>3.000000</td>\n",
       "      <td>2.000000</td>\n",
       "      <td>0.156907</td>\n",
       "    </tr>\n",
       "    <tr>\n",
       "      <th>75%</th>\n",
       "      <td>24.075000</td>\n",
       "      <td>3.937500</td>\n",
       "      <td>3.000000</td>\n",
       "      <td>0.192700</td>\n",
       "    </tr>\n",
       "    <tr>\n",
       "      <th>max</th>\n",
       "      <td>50.810000</td>\n",
       "      <td>10.000000</td>\n",
       "      <td>6.000000</td>\n",
       "      <td>0.710345</td>\n",
       "    </tr>\n",
       "    <tr>\n",
       "      <th rowspan=\"8\" valign=\"top\">male</th>\n",
       "      <th>count</th>\n",
       "      <td>82.000000</td>\n",
       "      <td>82.000000</td>\n",
       "      <td>82.000000</td>\n",
       "      <td>82.000000</td>\n",
       "    </tr>\n",
       "    <tr>\n",
       "      <th>mean</th>\n",
       "      <td>19.402805</td>\n",
       "      <td>2.721463</td>\n",
       "      <td>2.512195</td>\n",
       "      <td>0.150303</td>\n",
       "    </tr>\n",
       "    <tr>\n",
       "      <th>std</th>\n",
       "      <td>8.264459</td>\n",
       "      <td>1.125019</td>\n",
       "      <td>0.958959</td>\n",
       "      <td>0.050615</td>\n",
       "    </tr>\n",
       "    <tr>\n",
       "      <th>min</th>\n",
       "      <td>7.250000</td>\n",
       "      <td>1.000000</td>\n",
       "      <td>1.000000</td>\n",
       "      <td>0.035638</td>\n",
       "    </tr>\n",
       "    <tr>\n",
       "      <th>25%</th>\n",
       "      <td>13.972500</td>\n",
       "      <td>2.000000</td>\n",
       "      <td>2.000000</td>\n",
       "      <td>0.119297</td>\n",
       "    </tr>\n",
       "    <tr>\n",
       "      <th>50%</th>\n",
       "      <td>16.740000</td>\n",
       "      <td>2.500000</td>\n",
       "      <td>2.000000</td>\n",
       "      <td>0.148519</td>\n",
       "    </tr>\n",
       "    <tr>\n",
       "      <th>75%</th>\n",
       "      <td>24.310000</td>\n",
       "      <td>3.290000</td>\n",
       "      <td>3.000000</td>\n",
       "      <td>0.189956</td>\n",
       "    </tr>\n",
       "    <tr>\n",
       "      <th>max</th>\n",
       "      <td>48.170000</td>\n",
       "      <td>6.700000</td>\n",
       "      <td>6.000000</td>\n",
       "      <td>0.280535</td>\n",
       "    </tr>\n",
       "  </tbody>\n",
       "</table>\n",
       "</div>"
      ],
      "text/plain": [
       "              total_bill         tip        size  tip_proportion\n",
       "sex                                                             \n",
       "female count  162.000000  162.000000  162.000000      162.000000\n",
       "       mean    19.979877    3.138395    2.598765        0.166117\n",
       "       std      9.227265    1.481206    0.948748        0.065238\n",
       "       min      3.070000    1.000000    1.000000        0.065660\n",
       "       25%     13.212500    2.000000    2.000000        0.136395\n",
       "       50%     17.905000    3.000000    2.000000        0.156907\n",
       "       75%     24.075000    3.937500    3.000000        0.192700\n",
       "       max     50.810000   10.000000    6.000000        0.710345\n",
       "male   count   82.000000   82.000000   82.000000       82.000000\n",
       "       mean    19.402805    2.721463    2.512195        0.150303\n",
       "       std      8.264459    1.125019    0.958959        0.050615\n",
       "       min      7.250000    1.000000    1.000000        0.035638\n",
       "       25%     13.972500    2.000000    2.000000        0.119297\n",
       "       50%     16.740000    2.500000    2.000000        0.148519\n",
       "       75%     24.310000    3.290000    3.000000        0.189956\n",
       "       max     48.170000    6.700000    6.000000        0.280535"
      ]
     },
     "execution_count": 53,
     "metadata": {},
     "output_type": "execute_result"
    }
   ],
   "source": [
    "tips.groupby('sex').apply(lambda x:x.describe())"
   ]
  },
  {
   "cell_type": "markdown",
   "metadata": {},
   "source": [
    "### 禁止分组键"
   ]
  },
  {
   "cell_type": "markdown",
   "metadata": {},
   "source": [
    "从上面的例子中可以看出,分组键会跟原始对象的索引共同构成\n",
    "结果对象中的层次化索引。将**group_keys=False**传入groupby即可禁止\n",
    "该效果。"
   ]
  },
  {
   "cell_type": "code",
   "execution_count": 54,
   "metadata": {},
   "outputs": [
    {
     "data": {
      "text/html": [
       "<div>\n",
       "<style>\n",
       "    .dataframe thead tr:only-child th {\n",
       "        text-align: right;\n",
       "    }\n",
       "\n",
       "    .dataframe thead th {\n",
       "        text-align: left;\n",
       "    }\n",
       "\n",
       "    .dataframe tbody tr th {\n",
       "        vertical-align: top;\n",
       "    }\n",
       "</style>\n",
       "<table border=\"1\" class=\"dataframe\">\n",
       "  <thead>\n",
       "    <tr style=\"text-align: right;\">\n",
       "      <th></th>\n",
       "      <th>total_bill</th>\n",
       "      <th>tip</th>\n",
       "      <th>smoker</th>\n",
       "      <th>day</th>\n",
       "      <th>time</th>\n",
       "      <th>size</th>\n",
       "      <th>tip_proportion</th>\n",
       "      <th>sex</th>\n",
       "    </tr>\n",
       "  </thead>\n",
       "  <tbody>\n",
       "    <tr>\n",
       "      <th>67</th>\n",
       "      <td>3.07</td>\n",
       "      <td>1.00</td>\n",
       "      <td>Yes</td>\n",
       "      <td>Sat</td>\n",
       "      <td>Dinner</td>\n",
       "      <td>1</td>\n",
       "      <td>0.325733</td>\n",
       "      <td>female</td>\n",
       "    </tr>\n",
       "    <tr>\n",
       "      <th>178</th>\n",
       "      <td>9.60</td>\n",
       "      <td>4.00</td>\n",
       "      <td>Yes</td>\n",
       "      <td>Sun</td>\n",
       "      <td>Dinner</td>\n",
       "      <td>2</td>\n",
       "      <td>0.416667</td>\n",
       "      <td>female</td>\n",
       "    </tr>\n",
       "    <tr>\n",
       "      <th>172</th>\n",
       "      <td>7.25</td>\n",
       "      <td>5.15</td>\n",
       "      <td>Yes</td>\n",
       "      <td>Sun</td>\n",
       "      <td>Dinner</td>\n",
       "      <td>2</td>\n",
       "      <td>0.710345</td>\n",
       "      <td>female</td>\n",
       "    </tr>\n",
       "    <tr>\n",
       "      <th>51</th>\n",
       "      <td>10.29</td>\n",
       "      <td>2.60</td>\n",
       "      <td>No</td>\n",
       "      <td>Sun</td>\n",
       "      <td>Dinner</td>\n",
       "      <td>2</td>\n",
       "      <td>0.252672</td>\n",
       "      <td>male</td>\n",
       "    </tr>\n",
       "    <tr>\n",
       "      <th>93</th>\n",
       "      <td>16.32</td>\n",
       "      <td>4.30</td>\n",
       "      <td>Yes</td>\n",
       "      <td>Fri</td>\n",
       "      <td>Dinner</td>\n",
       "      <td>2</td>\n",
       "      <td>0.263480</td>\n",
       "      <td>male</td>\n",
       "    </tr>\n",
       "    <tr>\n",
       "      <th>183</th>\n",
       "      <td>23.17</td>\n",
       "      <td>6.50</td>\n",
       "      <td>Yes</td>\n",
       "      <td>Sun</td>\n",
       "      <td>Dinner</td>\n",
       "      <td>4</td>\n",
       "      <td>0.280535</td>\n",
       "      <td>male</td>\n",
       "    </tr>\n",
       "  </tbody>\n",
       "</table>\n",
       "</div>"
      ],
      "text/plain": [
       "     total_bill   tip smoker  day    time  size  tip_proportion     sex\n",
       "67         3.07  1.00    Yes  Sat  Dinner     1        0.325733  female\n",
       "178        9.60  4.00    Yes  Sun  Dinner     2        0.416667  female\n",
       "172        7.25  5.15    Yes  Sun  Dinner     2        0.710345  female\n",
       "51        10.29  2.60     No  Sun  Dinner     2        0.252672    male\n",
       "93        16.32  4.30    Yes  Fri  Dinner     2        0.263480    male\n",
       "183       23.17  6.50    Yes  Sun  Dinner     4        0.280535    male"
      ]
     },
     "execution_count": 54,
     "metadata": {},
     "output_type": "execute_result"
    }
   ],
   "source": [
    "tips.groupby('sex', group_keys=False).apply(top_5, by='tip_proportion', n=3)"
   ]
  },
  {
   "cell_type": "markdown",
   "metadata": {},
   "source": [
    "### 分位数和桶分析"
   ]
  },
  {
   "cell_type": "code",
   "execution_count": 55,
   "metadata": {},
   "outputs": [
    {
     "data": {
      "text/html": [
       "<div>\n",
       "<style>\n",
       "    .dataframe thead tr:only-child th {\n",
       "        text-align: right;\n",
       "    }\n",
       "\n",
       "    .dataframe thead th {\n",
       "        text-align: left;\n",
       "    }\n",
       "\n",
       "    .dataframe tbody tr th {\n",
       "        vertical-align: top;\n",
       "    }\n",
       "</style>\n",
       "<table border=\"1\" class=\"dataframe\">\n",
       "  <thead>\n",
       "    <tr style=\"text-align: right;\">\n",
       "      <th></th>\n",
       "      <th>data1</th>\n",
       "      <th>data2</th>\n",
       "    </tr>\n",
       "  </thead>\n",
       "  <tbody>\n",
       "    <tr>\n",
       "      <th>0</th>\n",
       "      <td>0.228210</td>\n",
       "      <td>-1.862777</td>\n",
       "    </tr>\n",
       "    <tr>\n",
       "      <th>1</th>\n",
       "      <td>-1.426537</td>\n",
       "      <td>-0.004821</td>\n",
       "    </tr>\n",
       "    <tr>\n",
       "      <th>2</th>\n",
       "      <td>1.750976</td>\n",
       "      <td>-1.820265</td>\n",
       "    </tr>\n",
       "    <tr>\n",
       "      <th>3</th>\n",
       "      <td>-1.250732</td>\n",
       "      <td>-0.978757</td>\n",
       "    </tr>\n",
       "    <tr>\n",
       "      <th>4</th>\n",
       "      <td>2.187860</td>\n",
       "      <td>0.339532</td>\n",
       "    </tr>\n",
       "  </tbody>\n",
       "</table>\n",
       "</div>"
      ],
      "text/plain": [
       "      data1     data2\n",
       "0  0.228210 -1.862777\n",
       "1 -1.426537 -0.004821\n",
       "2  1.750976 -1.820265\n",
       "3 -1.250732 -0.978757\n",
       "4  2.187860  0.339532"
      ]
     },
     "execution_count": 55,
     "metadata": {},
     "output_type": "execute_result"
    }
   ],
   "source": [
    "df = DataFrame({'data1': np.random.randn(1000), 'data2': np.random.randn(1000)})\n",
    "df.head(5)"
   ]
  },
  {
   "cell_type": "markdown",
   "metadata": {},
   "source": [
    "#### cut + groupby -- 桶的大小一致，桶内元素数量不一定"
   ]
  },
  {
   "cell_type": "code",
   "execution_count": 56,
   "metadata": {},
   "outputs": [
    {
     "data": {
      "text/html": [
       "<div>\n",
       "<style>\n",
       "    .dataframe thead tr:only-child th {\n",
       "        text-align: right;\n",
       "    }\n",
       "\n",
       "    .dataframe thead th {\n",
       "        text-align: left;\n",
       "    }\n",
       "\n",
       "    .dataframe tbody tr th {\n",
       "        vertical-align: top;\n",
       "    }\n",
       "</style>\n",
       "<table border=\"1\" class=\"dataframe\">\n",
       "  <thead>\n",
       "    <tr style=\"text-align: right;\">\n",
       "      <th></th>\n",
       "      <th>count</th>\n",
       "      <th>max</th>\n",
       "      <th>mean</th>\n",
       "      <th>min</th>\n",
       "    </tr>\n",
       "    <tr>\n",
       "      <th>data1</th>\n",
       "      <th></th>\n",
       "      <th></th>\n",
       "      <th></th>\n",
       "      <th></th>\n",
       "    </tr>\n",
       "  </thead>\n",
       "  <tbody>\n",
       "    <tr>\n",
       "      <th>(-3.094, -1.867]</th>\n",
       "      <td>34.0</td>\n",
       "      <td>1.530714</td>\n",
       "      <td>0.046905</td>\n",
       "      <td>-1.640798</td>\n",
       "    </tr>\n",
       "    <tr>\n",
       "      <th>(-1.867, -0.647]</th>\n",
       "      <td>251.0</td>\n",
       "      <td>2.175879</td>\n",
       "      <td>-0.007619</td>\n",
       "      <td>-2.216777</td>\n",
       "    </tr>\n",
       "    <tr>\n",
       "      <th>(-0.647, 0.574]</th>\n",
       "      <td>442.0</td>\n",
       "      <td>2.529712</td>\n",
       "      <td>-0.021951</td>\n",
       "      <td>-3.611607</td>\n",
       "    </tr>\n",
       "    <tr>\n",
       "      <th>(0.574, 1.794]</th>\n",
       "      <td>233.0</td>\n",
       "      <td>2.455628</td>\n",
       "      <td>-0.017131</td>\n",
       "      <td>-2.488072</td>\n",
       "    </tr>\n",
       "    <tr>\n",
       "      <th>(1.794, 3.015]</th>\n",
       "      <td>40.0</td>\n",
       "      <td>2.441014</td>\n",
       "      <td>0.276622</td>\n",
       "      <td>-1.702219</td>\n",
       "    </tr>\n",
       "  </tbody>\n",
       "</table>\n",
       "</div>"
      ],
      "text/plain": [
       "                  count       max      mean       min\n",
       "data1                                                \n",
       "(-3.094, -1.867]   34.0  1.530714  0.046905 -1.640798\n",
       "(-1.867, -0.647]  251.0  2.175879 -0.007619 -2.216777\n",
       "(-0.647, 0.574]   442.0  2.529712 -0.021951 -3.611607\n",
       "(0.574, 1.794]    233.0  2.455628 -0.017131 -2.488072\n",
       "(1.794, 3.015]     40.0  2.441014  0.276622 -1.702219"
      ]
     },
     "execution_count": 56,
     "metadata": {},
     "output_type": "execute_result"
    }
   ],
   "source": [
    "def desc(g):\n",
    "    return Series({\n",
    "        'mean':g.mean(),\n",
    "        'max':g.max(),\n",
    "        'min':g.min(),\n",
    "        'count':g.count()\n",
    "    })\n",
    "factor = pd.cut(df.data1, 5)\n",
    "df.data2.groupby(factor).apply(desc).unstack() # 基本正态分布"
   ]
  },
  {
   "cell_type": "markdown",
   "metadata": {},
   "source": [
    "**小结**：cut函数得到的factor是一个**切分后的Series**，索引是**原数据索引**，值是对应的**区间值**Category，直接使用该factor作为groupby，利用了使用**Series**作为**分组键**的特性，根据同样的索引进行分组，实际效果就是可以**根据某个列值进行cut**，再使用得到的**Series**对原DataFrame其他**任意列**进行**分组计算**；"
   ]
  },
  {
   "cell_type": "markdown",
   "metadata": {},
   "source": [
    "#### qcut + groupby -- 桶内元素个数一致，桶自身大小不一定"
   ]
  },
  {
   "cell_type": "code",
   "execution_count": 57,
   "metadata": {},
   "outputs": [
    {
     "data": {
      "text/html": [
       "<div>\n",
       "<style>\n",
       "    .dataframe thead tr:only-child th {\n",
       "        text-align: right;\n",
       "    }\n",
       "\n",
       "    .dataframe thead th {\n",
       "        text-align: left;\n",
       "    }\n",
       "\n",
       "    .dataframe tbody tr th {\n",
       "        vertical-align: top;\n",
       "    }\n",
       "</style>\n",
       "<table border=\"1\" class=\"dataframe\">\n",
       "  <thead>\n",
       "    <tr style=\"text-align: right;\">\n",
       "      <th></th>\n",
       "      <th>count</th>\n",
       "      <th>max</th>\n",
       "      <th>mean</th>\n",
       "      <th>min</th>\n",
       "    </tr>\n",
       "    <tr>\n",
       "      <th>data1</th>\n",
       "      <th></th>\n",
       "      <th></th>\n",
       "      <th></th>\n",
       "      <th></th>\n",
       "    </tr>\n",
       "  </thead>\n",
       "  <tbody>\n",
       "    <tr>\n",
       "      <th>(-3.089, -0.913]</th>\n",
       "      <td>200.0</td>\n",
       "      <td>2.175879</td>\n",
       "      <td>0.025947</td>\n",
       "      <td>-2.216777</td>\n",
       "    </tr>\n",
       "    <tr>\n",
       "      <th>(-0.913, -0.307]</th>\n",
       "      <td>200.0</td>\n",
       "      <td>2.529712</td>\n",
       "      <td>-0.036401</td>\n",
       "      <td>-2.467269</td>\n",
       "    </tr>\n",
       "    <tr>\n",
       "      <th>(-0.307, 0.208]</th>\n",
       "      <td>200.0</td>\n",
       "      <td>2.427950</td>\n",
       "      <td>-0.059976</td>\n",
       "      <td>-3.611607</td>\n",
       "    </tr>\n",
       "    <tr>\n",
       "      <th>(0.208, 0.843]</th>\n",
       "      <td>200.0</td>\n",
       "      <td>2.204461</td>\n",
       "      <td>-0.024090</td>\n",
       "      <td>-2.669697</td>\n",
       "    </tr>\n",
       "    <tr>\n",
       "      <th>(0.843, 3.015]</th>\n",
       "      <td>200.0</td>\n",
       "      <td>2.455628</td>\n",
       "      <td>0.079787</td>\n",
       "      <td>-2.125516</td>\n",
       "    </tr>\n",
       "  </tbody>\n",
       "</table>\n",
       "</div>"
      ],
      "text/plain": [
       "                  count       max      mean       min\n",
       "data1                                                \n",
       "(-3.089, -0.913]  200.0  2.175879  0.025947 -2.216777\n",
       "(-0.913, -0.307]  200.0  2.529712 -0.036401 -2.467269\n",
       "(-0.307, 0.208]   200.0  2.427950 -0.059976 -3.611607\n",
       "(0.208, 0.843]    200.0  2.204461 -0.024090 -2.669697\n",
       "(0.843, 3.015]    200.0  2.455628  0.079787 -2.125516"
      ]
     },
     "execution_count": 57,
     "metadata": {},
     "output_type": "execute_result"
    }
   ],
   "source": [
    "factor_qcut = pd.qcut(df.data1, 5)\n",
    "df.data2.groupby(factor_qcut).apply(desc).unstack()"
   ]
  },
  {
   "cell_type": "markdown",
   "metadata": {},
   "source": [
    "### 示例:用特定于分组的值填充缺失值 -- fillna"
   ]
  },
  {
   "cell_type": "markdown",
   "metadata": {},
   "source": [
    "希望用一个固定值或由数据集本身所衍生出来的值去填充\n",
    "NA值。这时就得使用fillna这个工具了。"
   ]
  },
  {
   "cell_type": "code",
   "execution_count": 58,
   "metadata": {},
   "outputs": [
    {
     "data": {
      "text/html": [
       "<div>\n",
       "<style>\n",
       "    .dataframe thead tr:only-child th {\n",
       "        text-align: right;\n",
       "    }\n",
       "\n",
       "    .dataframe thead th {\n",
       "        text-align: left;\n",
       "    }\n",
       "\n",
       "    .dataframe tbody tr th {\n",
       "        vertical-align: top;\n",
       "    }\n",
       "</style>\n",
       "<table border=\"1\" class=\"dataframe\">\n",
       "  <thead>\n",
       "    <tr style=\"text-align: right;\">\n",
       "      <th></th>\n",
       "      <th>english</th>\n",
       "      <th>math</th>\n",
       "      <th>sex</th>\n",
       "    </tr>\n",
       "  </thead>\n",
       "  <tbody>\n",
       "    <tr>\n",
       "      <th>HoLoong</th>\n",
       "      <td>46.0</td>\n",
       "      <td>66.0</td>\n",
       "      <td>male</td>\n",
       "    </tr>\n",
       "    <tr>\n",
       "      <th>Lily</th>\n",
       "      <td>76.0</td>\n",
       "      <td>77.0</td>\n",
       "      <td>female</td>\n",
       "    </tr>\n",
       "    <tr>\n",
       "      <th>Mark</th>\n",
       "      <td>56.0</td>\n",
       "      <td>88.0</td>\n",
       "      <td>male</td>\n",
       "    </tr>\n",
       "    <tr>\n",
       "      <th>Murphy</th>\n",
       "      <td>65.0</td>\n",
       "      <td>55.0</td>\n",
       "      <td>female</td>\n",
       "    </tr>\n",
       "    <tr>\n",
       "      <th>Tina</th>\n",
       "      <td>54.0</td>\n",
       "      <td>44.0</td>\n",
       "      <td>female</td>\n",
       "    </tr>\n",
       "    <tr>\n",
       "      <th>John</th>\n",
       "      <td>NaN</td>\n",
       "      <td>NaN</td>\n",
       "      <td>male</td>\n",
       "    </tr>\n",
       "    <tr>\n",
       "      <th>Mary</th>\n",
       "      <td>NaN</td>\n",
       "      <td>NaN</td>\n",
       "      <td>female</td>\n",
       "    </tr>\n",
       "  </tbody>\n",
       "</table>\n",
       "</div>"
      ],
      "text/plain": [
       "         english  math     sex\n",
       "HoLoong     46.0  66.0    male\n",
       "Lily        76.0  77.0  female\n",
       "Mark        56.0  88.0    male\n",
       "Murphy      65.0  55.0  female\n",
       "Tina        54.0  44.0  female\n",
       "John         NaN   NaN    male\n",
       "Mary         NaN   NaN  female"
      ]
     },
     "execution_count": 58,
     "metadata": {},
     "output_type": "execute_result"
    }
   ],
   "source": [
    "df = DataFrame({'math':[66,77,88,55,44,np.nan,np.nan],\n",
    "                'english':[46,76,56,65,54,np.nan,np.nan],\n",
    "                'sex':['male','female','male','female','female','male','female']},\n",
    "              index=['HoLoong','Lily','Mark','Murphy','Tina','John','Mary'])\n",
    "df"
   ]
  },
  {
   "cell_type": "code",
   "execution_count": 59,
   "metadata": {},
   "outputs": [
    {
     "data": {
      "text/html": [
       "<div>\n",
       "<style>\n",
       "    .dataframe thead tr:only-child th {\n",
       "        text-align: right;\n",
       "    }\n",
       "\n",
       "    .dataframe thead th {\n",
       "        text-align: left;\n",
       "    }\n",
       "\n",
       "    .dataframe tbody tr th {\n",
       "        vertical-align: top;\n",
       "    }\n",
       "</style>\n",
       "<table border=\"1\" class=\"dataframe\">\n",
       "  <thead>\n",
       "    <tr style=\"text-align: right;\">\n",
       "      <th></th>\n",
       "      <th>english</th>\n",
       "      <th>math</th>\n",
       "      <th>sex</th>\n",
       "    </tr>\n",
       "  </thead>\n",
       "  <tbody>\n",
       "    <tr>\n",
       "      <th>Lily</th>\n",
       "      <td>76.0</td>\n",
       "      <td>77.000000</td>\n",
       "      <td>female</td>\n",
       "    </tr>\n",
       "    <tr>\n",
       "      <th>Murphy</th>\n",
       "      <td>65.0</td>\n",
       "      <td>55.000000</td>\n",
       "      <td>female</td>\n",
       "    </tr>\n",
       "    <tr>\n",
       "      <th>Tina</th>\n",
       "      <td>54.0</td>\n",
       "      <td>44.000000</td>\n",
       "      <td>female</td>\n",
       "    </tr>\n",
       "    <tr>\n",
       "      <th>Mary</th>\n",
       "      <td>65.0</td>\n",
       "      <td>58.666667</td>\n",
       "      <td>female</td>\n",
       "    </tr>\n",
       "    <tr>\n",
       "      <th>HoLoong</th>\n",
       "      <td>46.0</td>\n",
       "      <td>66.000000</td>\n",
       "      <td>male</td>\n",
       "    </tr>\n",
       "    <tr>\n",
       "      <th>Mark</th>\n",
       "      <td>56.0</td>\n",
       "      <td>88.000000</td>\n",
       "      <td>male</td>\n",
       "    </tr>\n",
       "    <tr>\n",
       "      <th>John</th>\n",
       "      <td>51.0</td>\n",
       "      <td>77.000000</td>\n",
       "      <td>male</td>\n",
       "    </tr>\n",
       "  </tbody>\n",
       "</table>\n",
       "</div>"
      ],
      "text/plain": [
       "         english       math     sex\n",
       "Lily        76.0  77.000000  female\n",
       "Murphy      65.0  55.000000  female\n",
       "Tina        54.0  44.000000  female\n",
       "Mary        65.0  58.666667  female\n",
       "HoLoong     46.0  66.000000    male\n",
       "Mark        56.0  88.000000    male\n",
       "John        51.0  77.000000    male"
      ]
     },
     "execution_count": 59,
     "metadata": {},
     "output_type": "execute_result"
    }
   ],
   "source": [
    "df.groupby(['sex'], group_keys=False).apply(lambda g:g.fillna(g.mean())) # perfect"
   ]
  },
  {
   "cell_type": "markdown",
   "metadata": {},
   "source": [
    "**小结**：此时的**g**是一个分组，那么g.mean对应的就是该分组中所有数值列的平均值，相等于**fillna**传入一个**Series**来指定**每列的nan需要填充什么值**进去，最后group_keys=False可以去掉最外层的male/female索引；"
   ]
  },
  {
   "cell_type": "markdown",
   "metadata": {},
   "source": [
    "### 示例:随机采样和排列"
   ]
  },
  {
   "cell_type": "markdown",
   "metadata": {},
   "source": [
    "假设你想要从一个**大数据集**中**随机抽取样本**以进行蒙特卡罗模\n",
    "拟(Monte Carlo simulation)或其他分析工作。“抽取”的方式有很多,其\n",
    "中一些的效率会比其他的高很多。一个办法是,选取\n",
    "**np.random.permutation(N)的前K个元素**,其中**N**为**完整数据的大小**,**K**\n",
    "为**期望的样本大小**。"
   ]
  },
  {
   "cell_type": "code",
   "execution_count": 60,
   "metadata": {},
   "outputs": [
    {
     "data": {
      "text/plain": [
       "AH    1\n",
       "2H    2\n",
       "3H    3\n",
       "4H    4\n",
       "5H    5\n",
       "dtype: int64"
      ]
     },
     "execution_count": 60,
     "metadata": {},
     "output_type": "execute_result"
    }
   ],
   "source": [
    "# 红桃(Hearts)、黑桃(Spades)、梅花(Clubs)、方片(Diamonds)\n",
    "suits = ['H', 'S', 'C', 'D']\n",
    "card_val = (range(1, 11) + [10] * 3) * 4\n",
    "base_names = ['A'] + range(2, 11) + ['J', 'K', 'Q']\n",
    "cards = []\n",
    "for suit in ['H', 'S', 'C', 'D']:\n",
    "    cards.extend(str(num) + suit for num in base_names)\n",
    "deck = Series(card_val, index=cards)\n",
    "deck.head(5)"
   ]
  },
  {
   "cell_type": "markdown",
   "metadata": {},
   "source": [
    "#### 随机抽取5张牌"
   ]
  },
  {
   "cell_type": "code",
   "execution_count": 61,
   "metadata": {},
   "outputs": [
    {
     "data": {
      "text/plain": [
       "QS    10\n",
       "QH    10\n",
       "5C     5\n",
       "AC     1\n",
       "3C     3\n",
       "dtype: int64"
      ]
     },
     "execution_count": 61,
     "metadata": {},
     "output_type": "execute_result"
    }
   ],
   "source": [
    "deck.take(np.random.permutation(len(deck))[:5])"
   ]
  },
  {
   "cell_type": "markdown",
   "metadata": {},
   "source": [
    "#### 每个花色随机抽取2张牌"
   ]
  },
  {
   "cell_type": "code",
   "execution_count": 62,
   "metadata": {},
   "outputs": [
    {
     "data": {
      "text/plain": [
       "C  AC     1\n",
       "   4C     4\n",
       "D  QD    10\n",
       "   4D     4\n",
       "H  2H     2\n",
       "   5H     5\n",
       "S  7S     7\n",
       "   9S     9\n",
       "dtype: int64"
      ]
     },
     "execution_count": 62,
     "metadata": {},
     "output_type": "execute_result"
    }
   ],
   "source": [
    "deck.groupby(lambda x:x[-1]).apply(lambda g:g.take(np.random.permutation(len(g))[:2]))"
   ]
  },
  {
   "cell_type": "markdown",
   "metadata": {},
   "source": [
    "### 示例:分组加权平均数和相关系数 -- 计算平均值的基础上增加一个权重的概念"
   ]
  },
  {
   "cell_type": "markdown",
   "metadata": {},
   "source": [
    "根据groupby的“拆分-应用-合并”范式,DataFrame的列与列之\n",
    "间或两个Series之间的运算(比如分组加权平均)成为一种标准作业。\n",
    "以下面这个数据集为例,它含有分组键、值以及一些权重值:"
   ]
  },
  {
   "cell_type": "code",
   "execution_count": 63,
   "metadata": {},
   "outputs": [
    {
     "data": {
      "text/html": [
       "<div>\n",
       "<style>\n",
       "    .dataframe thead tr:only-child th {\n",
       "        text-align: right;\n",
       "    }\n",
       "\n",
       "    .dataframe thead th {\n",
       "        text-align: left;\n",
       "    }\n",
       "\n",
       "    .dataframe tbody tr th {\n",
       "        vertical-align: top;\n",
       "    }\n",
       "</style>\n",
       "<table border=\"1\" class=\"dataframe\">\n",
       "  <thead>\n",
       "    <tr style=\"text-align: right;\">\n",
       "      <th></th>\n",
       "      <th>category</th>\n",
       "      <th>data</th>\n",
       "      <th>weights</th>\n",
       "    </tr>\n",
       "  </thead>\n",
       "  <tbody>\n",
       "    <tr>\n",
       "      <th>0</th>\n",
       "      <td>a</td>\n",
       "      <td>0.859368</td>\n",
       "      <td>0.630828</td>\n",
       "    </tr>\n",
       "    <tr>\n",
       "      <th>1</th>\n",
       "      <td>a</td>\n",
       "      <td>1.366066</td>\n",
       "      <td>0.145160</td>\n",
       "    </tr>\n",
       "    <tr>\n",
       "      <th>2</th>\n",
       "      <td>a</td>\n",
       "      <td>-1.687486</td>\n",
       "      <td>0.476270</td>\n",
       "    </tr>\n",
       "    <tr>\n",
       "      <th>3</th>\n",
       "      <td>a</td>\n",
       "      <td>1.309030</td>\n",
       "      <td>0.645724</td>\n",
       "    </tr>\n",
       "    <tr>\n",
       "      <th>4</th>\n",
       "      <td>b</td>\n",
       "      <td>-0.300924</td>\n",
       "      <td>0.965489</td>\n",
       "    </tr>\n",
       "    <tr>\n",
       "      <th>5</th>\n",
       "      <td>b</td>\n",
       "      <td>-0.199533</td>\n",
       "      <td>0.381799</td>\n",
       "    </tr>\n",
       "    <tr>\n",
       "      <th>6</th>\n",
       "      <td>b</td>\n",
       "      <td>-0.560673</td>\n",
       "      <td>0.366147</td>\n",
       "    </tr>\n",
       "    <tr>\n",
       "      <th>7</th>\n",
       "      <td>b</td>\n",
       "      <td>0.803743</td>\n",
       "      <td>0.289766</td>\n",
       "    </tr>\n",
       "  </tbody>\n",
       "</table>\n",
       "</div>"
      ],
      "text/plain": [
       "  category      data   weights\n",
       "0        a  0.859368  0.630828\n",
       "1        a  1.366066  0.145160\n",
       "2        a -1.687486  0.476270\n",
       "3        a  1.309030  0.645724\n",
       "4        b -0.300924  0.965489\n",
       "5        b -0.199533  0.381799\n",
       "6        b -0.560673  0.366147\n",
       "7        b  0.803743  0.289766"
      ]
     },
     "execution_count": 63,
     "metadata": {},
     "output_type": "execute_result"
    }
   ],
   "source": [
    "df = DataFrame({'category': ['a', 'a', 'a', 'a', 'b', 'b', 'b', 'b'],\n",
    "                'data': np.random.randn(8),\n",
    "                'weights': np.random.rand(8)})\n",
    "df"
   ]
  },
  {
   "cell_type": "code",
   "execution_count": 64,
   "metadata": {},
   "outputs": [
    {
     "data": {
      "text/plain": [
       "category\n",
       "a    0.412008\n",
       "b   -0.169285\n",
       "dtype: float64"
      ]
     },
     "execution_count": 64,
     "metadata": {},
     "output_type": "execute_result"
    }
   ],
   "source": [
    "df.groupby('category').apply(lambda g:np.average(g.data, weights=g.weights))"
   ]
  },
  {
   "cell_type": "markdown",
   "metadata": {},
   "source": [
    "#### 例子：标准普尔500指数 -- 计算一个由日收益率(通过百分数变化计算)与SPX之间的年度相关系数组成的DataFrame"
   ]
  },
  {
   "cell_type": "code",
   "execution_count": 65,
   "metadata": {},
   "outputs": [
    {
     "data": {
      "text/html": [
       "<div>\n",
       "<style>\n",
       "    .dataframe thead tr:only-child th {\n",
       "        text-align: right;\n",
       "    }\n",
       "\n",
       "    .dataframe thead th {\n",
       "        text-align: left;\n",
       "    }\n",
       "\n",
       "    .dataframe tbody tr th {\n",
       "        vertical-align: top;\n",
       "    }\n",
       "</style>\n",
       "<table border=\"1\" class=\"dataframe\">\n",
       "  <thead>\n",
       "    <tr style=\"text-align: right;\">\n",
       "      <th></th>\n",
       "      <th>AA</th>\n",
       "      <th>AAPL</th>\n",
       "      <th>GE</th>\n",
       "      <th>IBM</th>\n",
       "      <th>JNJ</th>\n",
       "      <th>MSFT</th>\n",
       "      <th>PEP</th>\n",
       "      <th>SPX</th>\n",
       "      <th>XOM</th>\n",
       "    </tr>\n",
       "  </thead>\n",
       "  <tbody>\n",
       "    <tr>\n",
       "      <th>1990-02-01</th>\n",
       "      <td>4.98</td>\n",
       "      <td>7.86</td>\n",
       "      <td>2.87</td>\n",
       "      <td>16.79</td>\n",
       "      <td>4.27</td>\n",
       "      <td>0.51</td>\n",
       "      <td>6.04</td>\n",
       "      <td>328.79</td>\n",
       "      <td>6.12</td>\n",
       "    </tr>\n",
       "    <tr>\n",
       "      <th>1990-02-02</th>\n",
       "      <td>5.04</td>\n",
       "      <td>8.00</td>\n",
       "      <td>2.87</td>\n",
       "      <td>16.89</td>\n",
       "      <td>4.37</td>\n",
       "      <td>0.51</td>\n",
       "      <td>6.09</td>\n",
       "      <td>330.92</td>\n",
       "      <td>6.24</td>\n",
       "    </tr>\n",
       "    <tr>\n",
       "      <th>1990-02-05</th>\n",
       "      <td>5.07</td>\n",
       "      <td>8.18</td>\n",
       "      <td>2.87</td>\n",
       "      <td>17.32</td>\n",
       "      <td>4.34</td>\n",
       "      <td>0.51</td>\n",
       "      <td>6.05</td>\n",
       "      <td>331.85</td>\n",
       "      <td>6.25</td>\n",
       "    </tr>\n",
       "    <tr>\n",
       "      <th>1990-02-06</th>\n",
       "      <td>5.01</td>\n",
       "      <td>8.12</td>\n",
       "      <td>2.88</td>\n",
       "      <td>17.56</td>\n",
       "      <td>4.32</td>\n",
       "      <td>0.51</td>\n",
       "      <td>6.15</td>\n",
       "      <td>329.66</td>\n",
       "      <td>6.23</td>\n",
       "    </tr>\n",
       "    <tr>\n",
       "      <th>1990-02-07</th>\n",
       "      <td>5.04</td>\n",
       "      <td>7.77</td>\n",
       "      <td>2.91</td>\n",
       "      <td>17.93</td>\n",
       "      <td>4.38</td>\n",
       "      <td>0.51</td>\n",
       "      <td>6.17</td>\n",
       "      <td>333.75</td>\n",
       "      <td>6.33</td>\n",
       "    </tr>\n",
       "  </tbody>\n",
       "</table>\n",
       "</div>"
      ],
      "text/plain": [
       "              AA  AAPL    GE    IBM   JNJ  MSFT   PEP     SPX   XOM\n",
       "1990-02-01  4.98  7.86  2.87  16.79  4.27  0.51  6.04  328.79  6.12\n",
       "1990-02-02  5.04  8.00  2.87  16.89  4.37  0.51  6.09  330.92  6.24\n",
       "1990-02-05  5.07  8.18  2.87  17.32  4.34  0.51  6.05  331.85  6.25\n",
       "1990-02-06  5.01  8.12  2.88  17.56  4.32  0.51  6.15  329.66  6.23\n",
       "1990-02-07  5.04  7.77  2.91  17.93  4.38  0.51  6.17  333.75  6.33"
      ]
     },
     "execution_count": 65,
     "metadata": {},
     "output_type": "execute_result"
    }
   ],
   "source": [
    "# 读取数据\n",
    "close_px = pd.read_csv('https://raw.githubusercontent.com/NemoHoHaloAi/pydata-book/2nd-edition/examples/stock_px.csv', \n",
    "                       parse_dates=True, index_col=0)\n",
    "close_px.head(5)"
   ]
  },
  {
   "cell_type": "code",
   "execution_count": 66,
   "metadata": {},
   "outputs": [
    {
     "data": {
      "text/html": [
       "<div>\n",
       "<style>\n",
       "    .dataframe thead tr:only-child th {\n",
       "        text-align: right;\n",
       "    }\n",
       "\n",
       "    .dataframe thead th {\n",
       "        text-align: left;\n",
       "    }\n",
       "\n",
       "    .dataframe tbody tr th {\n",
       "        vertical-align: top;\n",
       "    }\n",
       "</style>\n",
       "<table border=\"1\" class=\"dataframe\">\n",
       "  <thead>\n",
       "    <tr style=\"text-align: right;\">\n",
       "      <th></th>\n",
       "      <th>AA</th>\n",
       "      <th>AAPL</th>\n",
       "      <th>GE</th>\n",
       "      <th>IBM</th>\n",
       "      <th>JNJ</th>\n",
       "      <th>MSFT</th>\n",
       "      <th>PEP</th>\n",
       "      <th>SPX</th>\n",
       "      <th>XOM</th>\n",
       "    </tr>\n",
       "  </thead>\n",
       "  <tbody>\n",
       "    <tr>\n",
       "      <th>1990</th>\n",
       "      <td>0.595024</td>\n",
       "      <td>0.545067</td>\n",
       "      <td>0.752187</td>\n",
       "      <td>0.738361</td>\n",
       "      <td>0.801145</td>\n",
       "      <td>0.586691</td>\n",
       "      <td>0.783168</td>\n",
       "      <td>1.0</td>\n",
       "      <td>0.517586</td>\n",
       "    </tr>\n",
       "    <tr>\n",
       "      <th>1991</th>\n",
       "      <td>0.453574</td>\n",
       "      <td>0.365315</td>\n",
       "      <td>0.759607</td>\n",
       "      <td>0.557046</td>\n",
       "      <td>0.646401</td>\n",
       "      <td>0.524225</td>\n",
       "      <td>0.641775</td>\n",
       "      <td>1.0</td>\n",
       "      <td>0.569335</td>\n",
       "    </tr>\n",
       "    <tr>\n",
       "      <th>1992</th>\n",
       "      <td>0.398180</td>\n",
       "      <td>0.498732</td>\n",
       "      <td>0.632685</td>\n",
       "      <td>0.262232</td>\n",
       "      <td>0.515740</td>\n",
       "      <td>0.492345</td>\n",
       "      <td>0.473871</td>\n",
       "      <td>1.0</td>\n",
       "      <td>0.318408</td>\n",
       "    </tr>\n",
       "    <tr>\n",
       "      <th>1993</th>\n",
       "      <td>0.259069</td>\n",
       "      <td>0.238578</td>\n",
       "      <td>0.447257</td>\n",
       "      <td>0.211269</td>\n",
       "      <td>0.451503</td>\n",
       "      <td>0.425377</td>\n",
       "      <td>0.385089</td>\n",
       "      <td>1.0</td>\n",
       "      <td>0.318952</td>\n",
       "    </tr>\n",
       "    <tr>\n",
       "      <th>1994</th>\n",
       "      <td>0.428549</td>\n",
       "      <td>0.268420</td>\n",
       "      <td>0.572996</td>\n",
       "      <td>0.385162</td>\n",
       "      <td>0.372962</td>\n",
       "      <td>0.436585</td>\n",
       "      <td>0.450516</td>\n",
       "      <td>1.0</td>\n",
       "      <td>0.395078</td>\n",
       "    </tr>\n",
       "    <tr>\n",
       "      <th>1995</th>\n",
       "      <td>0.291532</td>\n",
       "      <td>0.161829</td>\n",
       "      <td>0.519126</td>\n",
       "      <td>0.416390</td>\n",
       "      <td>0.315733</td>\n",
       "      <td>0.453660</td>\n",
       "      <td>0.413144</td>\n",
       "      <td>1.0</td>\n",
       "      <td>0.368752</td>\n",
       "    </tr>\n",
       "    <tr>\n",
       "      <th>1996</th>\n",
       "      <td>0.292344</td>\n",
       "      <td>0.191482</td>\n",
       "      <td>0.750724</td>\n",
       "      <td>0.388497</td>\n",
       "      <td>0.569232</td>\n",
       "      <td>0.564015</td>\n",
       "      <td>0.421477</td>\n",
       "      <td>1.0</td>\n",
       "      <td>0.538736</td>\n",
       "    </tr>\n",
       "    <tr>\n",
       "      <th>1997</th>\n",
       "      <td>0.564427</td>\n",
       "      <td>0.211435</td>\n",
       "      <td>0.827512</td>\n",
       "      <td>0.646823</td>\n",
       "      <td>0.703538</td>\n",
       "      <td>0.606171</td>\n",
       "      <td>0.509344</td>\n",
       "      <td>1.0</td>\n",
       "      <td>0.695653</td>\n",
       "    </tr>\n",
       "    <tr>\n",
       "      <th>1998</th>\n",
       "      <td>0.533802</td>\n",
       "      <td>0.379883</td>\n",
       "      <td>0.815243</td>\n",
       "      <td>0.623982</td>\n",
       "      <td>0.591988</td>\n",
       "      <td>0.698773</td>\n",
       "      <td>0.494213</td>\n",
       "      <td>1.0</td>\n",
       "      <td>0.369264</td>\n",
       "    </tr>\n",
       "    <tr>\n",
       "      <th>1999</th>\n",
       "      <td>0.099033</td>\n",
       "      <td>0.425584</td>\n",
       "      <td>0.710928</td>\n",
       "      <td>0.486167</td>\n",
       "      <td>0.517061</td>\n",
       "      <td>0.631315</td>\n",
       "      <td>0.336593</td>\n",
       "      <td>1.0</td>\n",
       "      <td>0.315383</td>\n",
       "    </tr>\n",
       "    <tr>\n",
       "      <th>2000</th>\n",
       "      <td>0.265359</td>\n",
       "      <td>0.440161</td>\n",
       "      <td>0.610362</td>\n",
       "      <td>0.445114</td>\n",
       "      <td>0.189765</td>\n",
       "      <td>0.538005</td>\n",
       "      <td>0.077525</td>\n",
       "      <td>1.0</td>\n",
       "      <td>0.084163</td>\n",
       "    </tr>\n",
       "    <tr>\n",
       "      <th>2001</th>\n",
       "      <td>0.624069</td>\n",
       "      <td>0.577152</td>\n",
       "      <td>0.794632</td>\n",
       "      <td>0.696038</td>\n",
       "      <td>0.111493</td>\n",
       "      <td>0.696447</td>\n",
       "      <td>0.133975</td>\n",
       "      <td>1.0</td>\n",
       "      <td>0.336869</td>\n",
       "    </tr>\n",
       "    <tr>\n",
       "      <th>2002</th>\n",
       "      <td>0.747905</td>\n",
       "      <td>0.580306</td>\n",
       "      <td>0.822336</td>\n",
       "      <td>0.716833</td>\n",
       "      <td>0.585058</td>\n",
       "      <td>0.784607</td>\n",
       "      <td>0.487370</td>\n",
       "      <td>1.0</td>\n",
       "      <td>0.760069</td>\n",
       "    </tr>\n",
       "    <tr>\n",
       "      <th>2003</th>\n",
       "      <td>0.690466</td>\n",
       "      <td>0.545582</td>\n",
       "      <td>0.777643</td>\n",
       "      <td>0.741775</td>\n",
       "      <td>0.562399</td>\n",
       "      <td>0.750534</td>\n",
       "      <td>0.541487</td>\n",
       "      <td>1.0</td>\n",
       "      <td>0.662775</td>\n",
       "    </tr>\n",
       "    <tr>\n",
       "      <th>2004</th>\n",
       "      <td>0.591485</td>\n",
       "      <td>0.374283</td>\n",
       "      <td>0.728626</td>\n",
       "      <td>0.601740</td>\n",
       "      <td>0.354690</td>\n",
       "      <td>0.588531</td>\n",
       "      <td>0.466854</td>\n",
       "      <td>1.0</td>\n",
       "      <td>0.557742</td>\n",
       "    </tr>\n",
       "    <tr>\n",
       "      <th>2005</th>\n",
       "      <td>0.564267</td>\n",
       "      <td>0.467540</td>\n",
       "      <td>0.675637</td>\n",
       "      <td>0.516846</td>\n",
       "      <td>0.444728</td>\n",
       "      <td>0.562374</td>\n",
       "      <td>0.489559</td>\n",
       "      <td>1.0</td>\n",
       "      <td>0.631010</td>\n",
       "    </tr>\n",
       "    <tr>\n",
       "      <th>2006</th>\n",
       "      <td>0.487638</td>\n",
       "      <td>0.428267</td>\n",
       "      <td>0.612388</td>\n",
       "      <td>0.598636</td>\n",
       "      <td>0.394026</td>\n",
       "      <td>0.406126</td>\n",
       "      <td>0.335054</td>\n",
       "      <td>1.0</td>\n",
       "      <td>0.518514</td>\n",
       "    </tr>\n",
       "    <tr>\n",
       "      <th>2007</th>\n",
       "      <td>0.642427</td>\n",
       "      <td>0.508118</td>\n",
       "      <td>0.796945</td>\n",
       "      <td>0.603906</td>\n",
       "      <td>0.568423</td>\n",
       "      <td>0.658770</td>\n",
       "      <td>0.651911</td>\n",
       "      <td>1.0</td>\n",
       "      <td>0.786264</td>\n",
       "    </tr>\n",
       "    <tr>\n",
       "      <th>2008</th>\n",
       "      <td>0.781057</td>\n",
       "      <td>0.681434</td>\n",
       "      <td>0.777337</td>\n",
       "      <td>0.833074</td>\n",
       "      <td>0.801005</td>\n",
       "      <td>0.804626</td>\n",
       "      <td>0.709264</td>\n",
       "      <td>1.0</td>\n",
       "      <td>0.828303</td>\n",
       "    </tr>\n",
       "    <tr>\n",
       "      <th>2009</th>\n",
       "      <td>0.735642</td>\n",
       "      <td>0.707103</td>\n",
       "      <td>0.713086</td>\n",
       "      <td>0.684513</td>\n",
       "      <td>0.603146</td>\n",
       "      <td>0.654902</td>\n",
       "      <td>0.541474</td>\n",
       "      <td>1.0</td>\n",
       "      <td>0.797921</td>\n",
       "    </tr>\n",
       "    <tr>\n",
       "      <th>2010</th>\n",
       "      <td>0.745700</td>\n",
       "      <td>0.710105</td>\n",
       "      <td>0.822285</td>\n",
       "      <td>0.783638</td>\n",
       "      <td>0.689896</td>\n",
       "      <td>0.730118</td>\n",
       "      <td>0.626655</td>\n",
       "      <td>1.0</td>\n",
       "      <td>0.839057</td>\n",
       "    </tr>\n",
       "    <tr>\n",
       "      <th>2011</th>\n",
       "      <td>0.882045</td>\n",
       "      <td>0.691931</td>\n",
       "      <td>0.864595</td>\n",
       "      <td>0.802730</td>\n",
       "      <td>0.752379</td>\n",
       "      <td>0.800996</td>\n",
       "      <td>0.592029</td>\n",
       "      <td>1.0</td>\n",
       "      <td>0.859975</td>\n",
       "    </tr>\n",
       "  </tbody>\n",
       "</table>\n",
       "</div>"
      ],
      "text/plain": [
       "            AA      AAPL        GE       IBM       JNJ      MSFT       PEP  \\\n",
       "1990  0.595024  0.545067  0.752187  0.738361  0.801145  0.586691  0.783168   \n",
       "1991  0.453574  0.365315  0.759607  0.557046  0.646401  0.524225  0.641775   \n",
       "1992  0.398180  0.498732  0.632685  0.262232  0.515740  0.492345  0.473871   \n",
       "1993  0.259069  0.238578  0.447257  0.211269  0.451503  0.425377  0.385089   \n",
       "1994  0.428549  0.268420  0.572996  0.385162  0.372962  0.436585  0.450516   \n",
       "1995  0.291532  0.161829  0.519126  0.416390  0.315733  0.453660  0.413144   \n",
       "1996  0.292344  0.191482  0.750724  0.388497  0.569232  0.564015  0.421477   \n",
       "1997  0.564427  0.211435  0.827512  0.646823  0.703538  0.606171  0.509344   \n",
       "1998  0.533802  0.379883  0.815243  0.623982  0.591988  0.698773  0.494213   \n",
       "1999  0.099033  0.425584  0.710928  0.486167  0.517061  0.631315  0.336593   \n",
       "2000  0.265359  0.440161  0.610362  0.445114  0.189765  0.538005  0.077525   \n",
       "2001  0.624069  0.577152  0.794632  0.696038  0.111493  0.696447  0.133975   \n",
       "2002  0.747905  0.580306  0.822336  0.716833  0.585058  0.784607  0.487370   \n",
       "2003  0.690466  0.545582  0.777643  0.741775  0.562399  0.750534  0.541487   \n",
       "2004  0.591485  0.374283  0.728626  0.601740  0.354690  0.588531  0.466854   \n",
       "2005  0.564267  0.467540  0.675637  0.516846  0.444728  0.562374  0.489559   \n",
       "2006  0.487638  0.428267  0.612388  0.598636  0.394026  0.406126  0.335054   \n",
       "2007  0.642427  0.508118  0.796945  0.603906  0.568423  0.658770  0.651911   \n",
       "2008  0.781057  0.681434  0.777337  0.833074  0.801005  0.804626  0.709264   \n",
       "2009  0.735642  0.707103  0.713086  0.684513  0.603146  0.654902  0.541474   \n",
       "2010  0.745700  0.710105  0.822285  0.783638  0.689896  0.730118  0.626655   \n",
       "2011  0.882045  0.691931  0.864595  0.802730  0.752379  0.800996  0.592029   \n",
       "\n",
       "      SPX       XOM  \n",
       "1990  1.0  0.517586  \n",
       "1991  1.0  0.569335  \n",
       "1992  1.0  0.318408  \n",
       "1993  1.0  0.318952  \n",
       "1994  1.0  0.395078  \n",
       "1995  1.0  0.368752  \n",
       "1996  1.0  0.538736  \n",
       "1997  1.0  0.695653  \n",
       "1998  1.0  0.369264  \n",
       "1999  1.0  0.315383  \n",
       "2000  1.0  0.084163  \n",
       "2001  1.0  0.336869  \n",
       "2002  1.0  0.760069  \n",
       "2003  1.0  0.662775  \n",
       "2004  1.0  0.557742  \n",
       "2005  1.0  0.631010  \n",
       "2006  1.0  0.518514  \n",
       "2007  1.0  0.786264  \n",
       "2008  1.0  0.828303  \n",
       "2009  1.0  0.797921  \n",
       "2010  1.0  0.839057  \n",
       "2011  1.0  0.859975  "
      ]
     },
     "execution_count": 66,
     "metadata": {},
     "output_type": "execute_result"
    }
   ],
   "source": [
    "# step 1:去掉nan\n",
    "# step 2:根据DatetimeIndex索引的year属性分组\n",
    "# step 3:应用分组计算函数\n",
    "# 计算函数：g.corrwith(g.SPX)计算每个股票的每天的收益率与年收益的关系，结果中SPX一列为1说明是ok的\n",
    "close_px.pct_change().dropna().groupby(lambda idx:idx.year).apply(lambda g:g.corrwith(g.SPX))"
   ]
  },
  {
   "cell_type": "markdown",
   "metadata": {},
   "source": [
    "### 示例:面向分组的线性回归"
   ]
  },
  {
   "cell_type": "markdown",
   "metadata": {},
   "source": [
    "可以用groupby执行更为**复杂**的**分组统计分析**,只要函数返回的是**pandas对象**或**标量值**即可。例如可以定义下面这个regress函数(利用statsmodels库)对各数据块执行普通最小二乘法(Ordinary Least Squares,OLS)回归。"
   ]
  },
  {
   "cell_type": "code",
   "execution_count": 67,
   "metadata": {},
   "outputs": [],
   "source": [
    "# 执行普通最小二乘法回归\n",
    "def regress(data, yvar, xvars):\n",
    "    Y = data[yvar]\n",
    "    X = data[xvars]\n",
    "    X['intercept'] = 1.\n",
    "    result = sm.OLS(Y, X).fit()\n",
    "    return result.params"
   ]
  },
  {
   "cell_type": "code",
   "execution_count": 68,
   "metadata": {},
   "outputs": [
    {
     "data": {
      "text/html": [
       "<div>\n",
       "<style>\n",
       "    .dataframe thead tr:only-child th {\n",
       "        text-align: right;\n",
       "    }\n",
       "\n",
       "    .dataframe thead th {\n",
       "        text-align: left;\n",
       "    }\n",
       "\n",
       "    .dataframe tbody tr th {\n",
       "        vertical-align: top;\n",
       "    }\n",
       "</style>\n",
       "<table border=\"1\" class=\"dataframe\">\n",
       "  <thead>\n",
       "    <tr style=\"text-align: right;\">\n",
       "      <th></th>\n",
       "      <th>SPX</th>\n",
       "      <th>intercept</th>\n",
       "    </tr>\n",
       "  </thead>\n",
       "  <tbody>\n",
       "    <tr>\n",
       "      <th>1990</th>\n",
       "      <td>1.512772</td>\n",
       "      <td>0.001395</td>\n",
       "    </tr>\n",
       "    <tr>\n",
       "      <th>1991</th>\n",
       "      <td>1.187351</td>\n",
       "      <td>0.000396</td>\n",
       "    </tr>\n",
       "    <tr>\n",
       "      <th>1992</th>\n",
       "      <td>1.832427</td>\n",
       "      <td>0.000164</td>\n",
       "    </tr>\n",
       "    <tr>\n",
       "      <th>1993</th>\n",
       "      <td>1.390470</td>\n",
       "      <td>-0.002657</td>\n",
       "    </tr>\n",
       "    <tr>\n",
       "      <th>1994</th>\n",
       "      <td>1.190277</td>\n",
       "      <td>0.001617</td>\n",
       "    </tr>\n",
       "    <tr>\n",
       "      <th>1995</th>\n",
       "      <td>0.858818</td>\n",
       "      <td>-0.001423</td>\n",
       "    </tr>\n",
       "    <tr>\n",
       "      <th>1996</th>\n",
       "      <td>0.829389</td>\n",
       "      <td>-0.001791</td>\n",
       "    </tr>\n",
       "    <tr>\n",
       "      <th>1997</th>\n",
       "      <td>0.749928</td>\n",
       "      <td>-0.001901</td>\n",
       "    </tr>\n",
       "    <tr>\n",
       "      <th>1998</th>\n",
       "      <td>1.164582</td>\n",
       "      <td>0.004075</td>\n",
       "    </tr>\n",
       "    <tr>\n",
       "      <th>1999</th>\n",
       "      <td>1.384989</td>\n",
       "      <td>0.003273</td>\n",
       "    </tr>\n",
       "    <tr>\n",
       "      <th>2000</th>\n",
       "      <td>1.733802</td>\n",
       "      <td>-0.002523</td>\n",
       "    </tr>\n",
       "    <tr>\n",
       "      <th>2001</th>\n",
       "      <td>1.676128</td>\n",
       "      <td>0.003122</td>\n",
       "    </tr>\n",
       "    <tr>\n",
       "      <th>2002</th>\n",
       "      <td>1.080330</td>\n",
       "      <td>-0.000199</td>\n",
       "    </tr>\n",
       "    <tr>\n",
       "      <th>2003</th>\n",
       "      <td>1.187770</td>\n",
       "      <td>0.000690</td>\n",
       "    </tr>\n",
       "    <tr>\n",
       "      <th>2004</th>\n",
       "      <td>1.363463</td>\n",
       "      <td>0.004201</td>\n",
       "    </tr>\n",
       "    <tr>\n",
       "      <th>2005</th>\n",
       "      <td>1.766415</td>\n",
       "      <td>0.003246</td>\n",
       "    </tr>\n",
       "    <tr>\n",
       "      <th>2006</th>\n",
       "      <td>1.645496</td>\n",
       "      <td>0.000080</td>\n",
       "    </tr>\n",
       "    <tr>\n",
       "      <th>2007</th>\n",
       "      <td>1.198761</td>\n",
       "      <td>0.003438</td>\n",
       "    </tr>\n",
       "    <tr>\n",
       "      <th>2008</th>\n",
       "      <td>0.968016</td>\n",
       "      <td>-0.001110</td>\n",
       "    </tr>\n",
       "    <tr>\n",
       "      <th>2009</th>\n",
       "      <td>0.879103</td>\n",
       "      <td>0.002954</td>\n",
       "    </tr>\n",
       "    <tr>\n",
       "      <th>2010</th>\n",
       "      <td>1.052608</td>\n",
       "      <td>0.001261</td>\n",
       "    </tr>\n",
       "    <tr>\n",
       "      <th>2011</th>\n",
       "      <td>0.806605</td>\n",
       "      <td>0.001514</td>\n",
       "    </tr>\n",
       "  </tbody>\n",
       "</table>\n",
       "</div>"
      ],
      "text/plain": [
       "           SPX  intercept\n",
       "1990  1.512772   0.001395\n",
       "1991  1.187351   0.000396\n",
       "1992  1.832427   0.000164\n",
       "1993  1.390470  -0.002657\n",
       "1994  1.190277   0.001617\n",
       "1995  0.858818  -0.001423\n",
       "1996  0.829389  -0.001791\n",
       "1997  0.749928  -0.001901\n",
       "1998  1.164582   0.004075\n",
       "1999  1.384989   0.003273\n",
       "2000  1.733802  -0.002523\n",
       "2001  1.676128   0.003122\n",
       "2002  1.080330  -0.000199\n",
       "2003  1.187770   0.000690\n",
       "2004  1.363463   0.004201\n",
       "2005  1.766415   0.003246\n",
       "2006  1.645496   0.000080\n",
       "2007  1.198761   0.003438\n",
       "2008  0.968016  -0.001110\n",
       "2009  0.879103   0.002954\n",
       "2010  1.052608   0.001261\n",
       "2011  0.806605   0.001514"
      ]
     },
     "execution_count": 68,
     "metadata": {},
     "output_type": "execute_result"
    }
   ],
   "source": [
    "close_px.pct_change().dropna().groupby(lambda idx:idx.year).apply(regress, 'AAPL', ['SPX'])"
   ]
  },
  {
   "cell_type": "markdown",
   "metadata": {},
   "source": [
    "## 透视表和交叉表"
   ]
  },
  {
   "cell_type": "markdown",
   "metadata": {},
   "source": [
    "### 透视表 -- pivot_table"
   ]
  },
  {
   "cell_type": "markdown",
   "metadata": {},
   "source": [
    "透视表(pivot table)是各种电子表格程序和其他数据分析软件中\n",
    "一种常见的数据汇总工具。它根据**一个或多个键**对数据进行**聚合**,并\n",
    "根据**行**和**列**上的**分组键***将数据分配到各个**矩形区域**中。在Python和\n",
    "pandas中,可以通过groupby功能以及(能够利用层次化\n",
    "索引的)重塑运算制作透视表。DataFrame有一个**pivot_table**方法,此外\n",
    "还有一个顶级的**pandas.pivot_table**函数。除能为groupby提供便利之\n",
    "外,pivot_table还可以添加**分项小计**(也叫做margins)。"
   ]
  },
  {
   "cell_type": "markdown",
   "metadata": {},
   "source": [
    "#### 小费：根据sex，smoker计算分组平均值，并将sex，smoker放到行上 -- index"
   ]
  },
  {
   "cell_type": "code",
   "execution_count": 69,
   "metadata": {},
   "outputs": [
    {
     "data": {
      "text/html": [
       "<div>\n",
       "<style>\n",
       "    .dataframe thead tr:only-child th {\n",
       "        text-align: right;\n",
       "    }\n",
       "\n",
       "    .dataframe thead th {\n",
       "        text-align: left;\n",
       "    }\n",
       "\n",
       "    .dataframe tbody tr th {\n",
       "        vertical-align: top;\n",
       "    }\n",
       "</style>\n",
       "<table border=\"1\" class=\"dataframe\">\n",
       "  <thead>\n",
       "    <tr style=\"text-align: right;\">\n",
       "      <th></th>\n",
       "      <th></th>\n",
       "      <th>size</th>\n",
       "      <th>tip</th>\n",
       "      <th>tip_proportion</th>\n",
       "      <th>total_bill</th>\n",
       "    </tr>\n",
       "    <tr>\n",
       "      <th>sex</th>\n",
       "      <th>smoker</th>\n",
       "      <th></th>\n",
       "      <th></th>\n",
       "      <th></th>\n",
       "      <th></th>\n",
       "    </tr>\n",
       "  </thead>\n",
       "  <tbody>\n",
       "    <tr>\n",
       "      <th rowspan=\"2\" valign=\"top\">female</th>\n",
       "      <th>No</th>\n",
       "      <td>2.764706</td>\n",
       "      <td>3.180882</td>\n",
       "      <td>0.162939</td>\n",
       "      <td>19.860196</td>\n",
       "    </tr>\n",
       "    <tr>\n",
       "      <th>Yes</th>\n",
       "      <td>2.316667</td>\n",
       "      <td>3.066167</td>\n",
       "      <td>0.171521</td>\n",
       "      <td>20.183333</td>\n",
       "    </tr>\n",
       "    <tr>\n",
       "      <th rowspan=\"2\" valign=\"top\">male</th>\n",
       "      <th>No</th>\n",
       "      <td>2.469388</td>\n",
       "      <td>2.598367</td>\n",
       "      <td>0.151813</td>\n",
       "      <td>17.789592</td>\n",
       "    </tr>\n",
       "    <tr>\n",
       "      <th>Yes</th>\n",
       "      <td>2.575758</td>\n",
       "      <td>2.904242</td>\n",
       "      <td>0.148060</td>\n",
       "      <td>21.798182</td>\n",
       "    </tr>\n",
       "  </tbody>\n",
       "</table>\n",
       "</div>"
      ],
      "text/plain": [
       "                   size       tip  tip_proportion  total_bill\n",
       "sex    smoker                                                \n",
       "female No      2.764706  3.180882        0.162939   19.860196\n",
       "       Yes     2.316667  3.066167        0.171521   20.183333\n",
       "male   No      2.469388  2.598367        0.151813   17.789592\n",
       "       Yes     2.575758  2.904242        0.148060   21.798182"
      ]
     },
     "execution_count": 69,
     "metadata": {},
     "output_type": "execute_result"
    }
   ],
   "source": [
    "tips.pivot_table(index=['sex','smoker'])"
   ]
  },
  {
   "cell_type": "markdown",
   "metadata": {},
   "source": [
    "#### 小费：只想聚合tip_pct和size,而且想根据day进行分组。我将smoker放到列上,把day放到行上 -- [],columns"
   ]
  },
  {
   "cell_type": "code",
   "execution_count": 70,
   "metadata": {},
   "outputs": [
    {
     "data": {
      "text/html": [
       "<div>\n",
       "<style>\n",
       "    .dataframe thead tr:only-child th {\n",
       "        text-align: right;\n",
       "    }\n",
       "\n",
       "    .dataframe thead th {\n",
       "        text-align: left;\n",
       "    }\n",
       "\n",
       "    .dataframe tbody tr th {\n",
       "        vertical-align: top;\n",
       "    }\n",
       "</style>\n",
       "<table border=\"1\" class=\"dataframe\">\n",
       "  <thead>\n",
       "    <tr>\n",
       "      <th></th>\n",
       "      <th colspan=\"2\" halign=\"left\">size</th>\n",
       "      <th colspan=\"2\" halign=\"left\">tip_proportion</th>\n",
       "    </tr>\n",
       "    <tr>\n",
       "      <th>smoker</th>\n",
       "      <th>No</th>\n",
       "      <th>Yes</th>\n",
       "      <th>No</th>\n",
       "      <th>Yes</th>\n",
       "    </tr>\n",
       "    <tr>\n",
       "      <th>day</th>\n",
       "      <th></th>\n",
       "      <th></th>\n",
       "      <th></th>\n",
       "      <th></th>\n",
       "    </tr>\n",
       "  </thead>\n",
       "  <tbody>\n",
       "    <tr>\n",
       "      <th>Fri</th>\n",
       "      <td>2.250000</td>\n",
       "      <td>2.066667</td>\n",
       "      <td>0.151650</td>\n",
       "      <td>0.174783</td>\n",
       "    </tr>\n",
       "    <tr>\n",
       "      <th>Sat</th>\n",
       "      <td>2.555556</td>\n",
       "      <td>2.476190</td>\n",
       "      <td>0.158048</td>\n",
       "      <td>0.147906</td>\n",
       "    </tr>\n",
       "    <tr>\n",
       "      <th>Sun</th>\n",
       "      <td>2.929825</td>\n",
       "      <td>2.578947</td>\n",
       "      <td>0.160113</td>\n",
       "      <td>0.187250</td>\n",
       "    </tr>\n",
       "    <tr>\n",
       "      <th>Thur</th>\n",
       "      <td>2.488889</td>\n",
       "      <td>2.352941</td>\n",
       "      <td>0.160298</td>\n",
       "      <td>0.163863</td>\n",
       "    </tr>\n",
       "  </tbody>\n",
       "</table>\n",
       "</div>"
      ],
      "text/plain": [
       "            size           tip_proportion          \n",
       "smoker        No       Yes             No       Yes\n",
       "day                                                \n",
       "Fri     2.250000  2.066667       0.151650  0.174783\n",
       "Sat     2.555556  2.476190       0.158048  0.147906\n",
       "Sun     2.929825  2.578947       0.160113  0.187250\n",
       "Thur    2.488889  2.352941       0.160298  0.163863"
      ]
     },
     "execution_count": 70,
     "metadata": {},
     "output_type": "execute_result"
    }
   ],
   "source": [
    "tips.pivot_table(['tip_proportion','size'], index=['day'], columns=['smoker'])"
   ]
  },
  {
   "cell_type": "markdown",
   "metadata": {},
   "source": [
    "#### 小费：分项小记 -- margins"
   ]
  },
  {
   "cell_type": "code",
   "execution_count": 71,
   "metadata": {},
   "outputs": [
    {
     "data": {
      "text/html": [
       "<div>\n",
       "<style>\n",
       "    .dataframe thead tr:only-child th {\n",
       "        text-align: right;\n",
       "    }\n",
       "\n",
       "    .dataframe thead th {\n",
       "        text-align: left;\n",
       "    }\n",
       "\n",
       "    .dataframe tbody tr th {\n",
       "        vertical-align: top;\n",
       "    }\n",
       "</style>\n",
       "<table border=\"1\" class=\"dataframe\">\n",
       "  <thead>\n",
       "    <tr>\n",
       "      <th></th>\n",
       "      <th colspan=\"3\" halign=\"left\">size</th>\n",
       "      <th colspan=\"3\" halign=\"left\">tip_proportion</th>\n",
       "    </tr>\n",
       "    <tr>\n",
       "      <th>smoker</th>\n",
       "      <th>No</th>\n",
       "      <th>Yes</th>\n",
       "      <th>All</th>\n",
       "      <th>No</th>\n",
       "      <th>Yes</th>\n",
       "      <th>All</th>\n",
       "    </tr>\n",
       "    <tr>\n",
       "      <th>day</th>\n",
       "      <th></th>\n",
       "      <th></th>\n",
       "      <th></th>\n",
       "      <th></th>\n",
       "      <th></th>\n",
       "      <th></th>\n",
       "    </tr>\n",
       "  </thead>\n",
       "  <tbody>\n",
       "    <tr>\n",
       "      <th>Fri</th>\n",
       "      <td>4.0</td>\n",
       "      <td>15.0</td>\n",
       "      <td>19.0</td>\n",
       "      <td>4.0</td>\n",
       "      <td>15.0</td>\n",
       "      <td>19.0</td>\n",
       "    </tr>\n",
       "    <tr>\n",
       "      <th>Sat</th>\n",
       "      <td>45.0</td>\n",
       "      <td>42.0</td>\n",
       "      <td>87.0</td>\n",
       "      <td>45.0</td>\n",
       "      <td>42.0</td>\n",
       "      <td>87.0</td>\n",
       "    </tr>\n",
       "    <tr>\n",
       "      <th>Sun</th>\n",
       "      <td>57.0</td>\n",
       "      <td>19.0</td>\n",
       "      <td>76.0</td>\n",
       "      <td>57.0</td>\n",
       "      <td>19.0</td>\n",
       "      <td>76.0</td>\n",
       "    </tr>\n",
       "    <tr>\n",
       "      <th>Thur</th>\n",
       "      <td>45.0</td>\n",
       "      <td>17.0</td>\n",
       "      <td>62.0</td>\n",
       "      <td>45.0</td>\n",
       "      <td>17.0</td>\n",
       "      <td>62.0</td>\n",
       "    </tr>\n",
       "    <tr>\n",
       "      <th>All</th>\n",
       "      <td>151.0</td>\n",
       "      <td>93.0</td>\n",
       "      <td>244.0</td>\n",
       "      <td>151.0</td>\n",
       "      <td>93.0</td>\n",
       "      <td>244.0</td>\n",
       "    </tr>\n",
       "  </tbody>\n",
       "</table>\n",
       "</div>"
      ],
      "text/plain": [
       "         size              tip_proportion             \n",
       "smoker     No   Yes    All             No   Yes    All\n",
       "day                                                   \n",
       "Fri       4.0  15.0   19.0            4.0  15.0   19.0\n",
       "Sat      45.0  42.0   87.0           45.0  42.0   87.0\n",
       "Sun      57.0  19.0   76.0           57.0  19.0   76.0\n",
       "Thur     45.0  17.0   62.0           45.0  17.0   62.0\n",
       "All     151.0  93.0  244.0          151.0  93.0  244.0"
      ]
     },
     "execution_count": 71,
     "metadata": {},
     "output_type": "execute_result"
    }
   ],
   "source": [
    "tips.pivot_table(['tip_proportion','size'], index=['day'], columns=['smoker'], aggfunc=len, margins=True)"
   ]
  },
  {
   "cell_type": "markdown",
   "metadata": {},
   "source": [
    "**小结**：可以看到，在列向的All中，数值均为左侧对应行的最大值，而在横向的All中，值均为对应列数值的累加；"
   ]
  },
  {
   "cell_type": "markdown",
   "metadata": {},
   "source": [
    "#### pivot_table参数说明"
   ]
  },
  {
   "cell_type": "markdown",
   "metadata": {},
   "source": [
    "* values：待聚合的列的名称集合，默认全部列都聚合；\n",
    "* index：用于分组的列名或者索引，出现在结果透视表的行；\n",
    "* columns：用于分组的列名或者索引，出现在结果透视表的列；\n",
    "* aggfunc：用于聚合的函数，默认求平均值；\n",
    "* fill_value：缺失值填充值；\n",
    "* margins：是否计算分项小记All；"
   ]
  },
  {
   "cell_type": "markdown",
   "metadata": {},
   "source": [
    "### 交叉表 -- pd.crosstab"
   ]
  },
  {
   "cell_type": "markdown",
   "metadata": {},
   "source": [
    "交叉表(cross-tabulation,简称crosstab)是一种用于计算**分组频率**的**特殊透视表**。"
   ]
  },
  {
   "cell_type": "code",
   "execution_count": 72,
   "metadata": {},
   "outputs": [
    {
     "data": {
      "text/html": [
       "<div>\n",
       "<style>\n",
       "    .dataframe thead tr:only-child th {\n",
       "        text-align: right;\n",
       "    }\n",
       "\n",
       "    .dataframe thead th {\n",
       "        text-align: left;\n",
       "    }\n",
       "\n",
       "    .dataframe tbody tr th {\n",
       "        vertical-align: top;\n",
       "    }\n",
       "</style>\n",
       "<table border=\"1\" class=\"dataframe\">\n",
       "  <thead>\n",
       "    <tr style=\"text-align: right;\">\n",
       "      <th></th>\n",
       "      <th>pet</th>\n",
       "      <th>sex</th>\n",
       "    </tr>\n",
       "  </thead>\n",
       "  <tbody>\n",
       "    <tr>\n",
       "      <th>0</th>\n",
       "      <td>dog</td>\n",
       "      <td>male</td>\n",
       "    </tr>\n",
       "    <tr>\n",
       "      <th>1</th>\n",
       "      <td>cat</td>\n",
       "      <td>female</td>\n",
       "    </tr>\n",
       "    <tr>\n",
       "      <th>2</th>\n",
       "      <td>dog</td>\n",
       "      <td>female</td>\n",
       "    </tr>\n",
       "    <tr>\n",
       "      <th>3</th>\n",
       "      <td>cat</td>\n",
       "      <td>male</td>\n",
       "    </tr>\n",
       "    <tr>\n",
       "      <th>4</th>\n",
       "      <td>cat</td>\n",
       "      <td>male</td>\n",
       "    </tr>\n",
       "    <tr>\n",
       "      <th>5</th>\n",
       "      <td>cat</td>\n",
       "      <td>female</td>\n",
       "    </tr>\n",
       "  </tbody>\n",
       "</table>\n",
       "</div>"
      ],
      "text/plain": [
       "   pet     sex\n",
       "0  dog    male\n",
       "1  cat  female\n",
       "2  dog  female\n",
       "3  cat    male\n",
       "4  cat    male\n",
       "5  cat  female"
      ]
     },
     "execution_count": 72,
     "metadata": {},
     "output_type": "execute_result"
    }
   ],
   "source": [
    "df = DataFrame({'sex':['male','female','female','male','male','female'],'pet':['dog','cat','dog','cat','cat','cat']})\n",
    "df"
   ]
  },
  {
   "cell_type": "code",
   "execution_count": 73,
   "metadata": {},
   "outputs": [
    {
     "data": {
      "text/html": [
       "<div>\n",
       "<style>\n",
       "    .dataframe thead tr:only-child th {\n",
       "        text-align: right;\n",
       "    }\n",
       "\n",
       "    .dataframe thead th {\n",
       "        text-align: left;\n",
       "    }\n",
       "\n",
       "    .dataframe tbody tr th {\n",
       "        vertical-align: top;\n",
       "    }\n",
       "</style>\n",
       "<table border=\"1\" class=\"dataframe\">\n",
       "  <thead>\n",
       "    <tr style=\"text-align: right;\">\n",
       "      <th>pet</th>\n",
       "      <th>cat</th>\n",
       "      <th>dog</th>\n",
       "      <th>All</th>\n",
       "    </tr>\n",
       "    <tr>\n",
       "      <th>sex</th>\n",
       "      <th></th>\n",
       "      <th></th>\n",
       "      <th></th>\n",
       "    </tr>\n",
       "  </thead>\n",
       "  <tbody>\n",
       "    <tr>\n",
       "      <th>female</th>\n",
       "      <td>2</td>\n",
       "      <td>1</td>\n",
       "      <td>3</td>\n",
       "    </tr>\n",
       "    <tr>\n",
       "      <th>male</th>\n",
       "      <td>2</td>\n",
       "      <td>1</td>\n",
       "      <td>3</td>\n",
       "    </tr>\n",
       "    <tr>\n",
       "      <th>All</th>\n",
       "      <td>4</td>\n",
       "      <td>2</td>\n",
       "      <td>6</td>\n",
       "    </tr>\n",
       "  </tbody>\n",
       "</table>\n",
       "</div>"
      ],
      "text/plain": [
       "pet     cat  dog  All\n",
       "sex                  \n",
       "female    2    1    3\n",
       "male      2    1    3\n",
       "All       4    2    6"
      ]
     },
     "execution_count": 73,
     "metadata": {},
     "output_type": "execute_result"
    }
   ],
   "source": [
    "pd.crosstab(df.sex, df.pet, margins=True)"
   ]
  },
  {
   "cell_type": "markdown",
   "metadata": {},
   "source": [
    "小结：可以看到crosstab根据指定指定的两个参数（可以是Series，数组，数组列表等）对数据进行统计汇总，基本等价于使用pivot_table分别指定index和colmuns；"
   ]
  },
  {
   "cell_type": "code",
   "execution_count": 74,
   "metadata": {},
   "outputs": [
    {
     "data": {
      "text/html": [
       "<div>\n",
       "<style>\n",
       "    .dataframe thead tr:only-child th {\n",
       "        text-align: right;\n",
       "    }\n",
       "\n",
       "    .dataframe thead th {\n",
       "        text-align: left;\n",
       "    }\n",
       "\n",
       "    .dataframe tbody tr th {\n",
       "        vertical-align: top;\n",
       "    }\n",
       "</style>\n",
       "<table border=\"1\" class=\"dataframe\">\n",
       "  <thead>\n",
       "    <tr style=\"text-align: right;\">\n",
       "      <th></th>\n",
       "      <th>smoker</th>\n",
       "      <th>No</th>\n",
       "      <th>Yes</th>\n",
       "      <th>All</th>\n",
       "    </tr>\n",
       "    <tr>\n",
       "      <th>sex</th>\n",
       "      <th>size</th>\n",
       "      <th></th>\n",
       "      <th></th>\n",
       "      <th></th>\n",
       "    </tr>\n",
       "  </thead>\n",
       "  <tbody>\n",
       "    <tr>\n",
       "      <th rowspan=\"6\" valign=\"top\">female</th>\n",
       "      <th>1</th>\n",
       "      <td>1</td>\n",
       "      <td>1</td>\n",
       "      <td>2</td>\n",
       "    </tr>\n",
       "    <tr>\n",
       "      <th>2</th>\n",
       "      <td>56</td>\n",
       "      <td>46</td>\n",
       "      <td>102</td>\n",
       "    </tr>\n",
       "    <tr>\n",
       "      <th>3</th>\n",
       "      <td>18</td>\n",
       "      <td>7</td>\n",
       "      <td>25</td>\n",
       "    </tr>\n",
       "    <tr>\n",
       "      <th>4</th>\n",
       "      <td>22</td>\n",
       "      <td>5</td>\n",
       "      <td>27</td>\n",
       "    </tr>\n",
       "    <tr>\n",
       "      <th>5</th>\n",
       "      <td>3</td>\n",
       "      <td>1</td>\n",
       "      <td>4</td>\n",
       "    </tr>\n",
       "    <tr>\n",
       "      <th>6</th>\n",
       "      <td>2</td>\n",
       "      <td>0</td>\n",
       "      <td>2</td>\n",
       "    </tr>\n",
       "    <tr>\n",
       "      <th rowspan=\"6\" valign=\"top\">male</th>\n",
       "      <th>1</th>\n",
       "      <td>1</td>\n",
       "      <td>1</td>\n",
       "      <td>2</td>\n",
       "    </tr>\n",
       "    <tr>\n",
       "      <th>2</th>\n",
       "      <td>34</td>\n",
       "      <td>20</td>\n",
       "      <td>54</td>\n",
       "    </tr>\n",
       "    <tr>\n",
       "      <th>3</th>\n",
       "      <td>8</td>\n",
       "      <td>5</td>\n",
       "      <td>13</td>\n",
       "    </tr>\n",
       "    <tr>\n",
       "      <th>4</th>\n",
       "      <td>4</td>\n",
       "      <td>6</td>\n",
       "      <td>10</td>\n",
       "    </tr>\n",
       "    <tr>\n",
       "      <th>5</th>\n",
       "      <td>0</td>\n",
       "      <td>1</td>\n",
       "      <td>1</td>\n",
       "    </tr>\n",
       "    <tr>\n",
       "      <th>6</th>\n",
       "      <td>2</td>\n",
       "      <td>0</td>\n",
       "      <td>2</td>\n",
       "    </tr>\n",
       "    <tr>\n",
       "      <th>All</th>\n",
       "      <th></th>\n",
       "      <td>151</td>\n",
       "      <td>93</td>\n",
       "      <td>244</td>\n",
       "    </tr>\n",
       "  </tbody>\n",
       "</table>\n",
       "</div>"
      ],
      "text/plain": [
       "smoker        No  Yes  All\n",
       "sex    size               \n",
       "female 1       1    1    2\n",
       "       2      56   46  102\n",
       "       3      18    7   25\n",
       "       4      22    5   27\n",
       "       5       3    1    4\n",
       "       6       2    0    2\n",
       "male   1       1    1    2\n",
       "       2      34   20   54\n",
       "       3       8    5   13\n",
       "       4       4    6   10\n",
       "       5       0    1    1\n",
       "       6       2    0    2\n",
       "All          151   93  244"
      ]
     },
     "execution_count": 74,
     "metadata": {},
     "output_type": "execute_result"
    }
   ],
   "source": [
    "pd.crosstab([tips.sex, tips['size']], tips.smoker, margins=True) # 此处不能使用tips.size去访问size列了，因为size正好是个属性值。。。。"
   ]
  },
  {
   "cell_type": "markdown",
   "metadata": {},
   "source": [
    "## 示例：2012联邦选举委员会数据库"
   ]
  },
  {
   "cell_type": "markdown",
   "metadata": {},
   "source": [
    "美国联邦选举委员会发布了有关政治竞选赞助方面的数据。其中\n",
    "包括赞助者的姓名、职业、雇主、地址以及出资额等信息。"
   ]
  },
  {
   "cell_type": "markdown",
   "metadata": {},
   "source": [
    "### 数据准备"
   ]
  },
  {
   "cell_type": "markdown",
   "metadata": {},
   "source": [
    "#### 读取数据"
   ]
  },
  {
   "cell_type": "code",
   "execution_count": 75,
   "metadata": {},
   "outputs": [
    {
     "name": "stderr",
     "output_type": "stream",
     "text": [
      "/home/helong/anaconda2/envs/python2/lib/python2.7/site-packages/IPython/core/interactiveshell.py:2718: DtypeWarning: Columns (6) have mixed types. Specify dtype option on import or set low_memory=False.\n",
      "  interactivity=interactivity, compiler=compiler, result=result)\n"
     ]
    },
    {
     "data": {
      "text/html": [
       "<div>\n",
       "<style>\n",
       "    .dataframe thead tr:only-child th {\n",
       "        text-align: right;\n",
       "    }\n",
       "\n",
       "    .dataframe thead th {\n",
       "        text-align: left;\n",
       "    }\n",
       "\n",
       "    .dataframe tbody tr th {\n",
       "        vertical-align: top;\n",
       "    }\n",
       "</style>\n",
       "<table border=\"1\" class=\"dataframe\">\n",
       "  <thead>\n",
       "    <tr style=\"text-align: right;\">\n",
       "      <th></th>\n",
       "      <th>cmte_id</th>\n",
       "      <th>cand_id</th>\n",
       "      <th>cand_nm</th>\n",
       "      <th>contbr_nm</th>\n",
       "      <th>contbr_city</th>\n",
       "      <th>contbr_st</th>\n",
       "      <th>contbr_zip</th>\n",
       "      <th>contbr_employer</th>\n",
       "      <th>contbr_occupation</th>\n",
       "      <th>contb_receipt_amt</th>\n",
       "      <th>contb_receipt_dt</th>\n",
       "      <th>receipt_desc</th>\n",
       "      <th>memo_cd</th>\n",
       "      <th>memo_text</th>\n",
       "      <th>form_tp</th>\n",
       "      <th>file_num</th>\n",
       "    </tr>\n",
       "  </thead>\n",
       "  <tbody>\n",
       "    <tr>\n",
       "      <th>0</th>\n",
       "      <td>C00410118</td>\n",
       "      <td>P20002978</td>\n",
       "      <td>Bachmann, Michelle</td>\n",
       "      <td>HARVEY, WILLIAM</td>\n",
       "      <td>MOBILE</td>\n",
       "      <td>AL</td>\n",
       "      <td>3.6601e+08</td>\n",
       "      <td>RETIRED</td>\n",
       "      <td>RETIRED</td>\n",
       "      <td>250.0</td>\n",
       "      <td>20-JUN-11</td>\n",
       "      <td>NaN</td>\n",
       "      <td>NaN</td>\n",
       "      <td>NaN</td>\n",
       "      <td>SA17A</td>\n",
       "      <td>736166</td>\n",
       "    </tr>\n",
       "    <tr>\n",
       "      <th>1</th>\n",
       "      <td>C00410118</td>\n",
       "      <td>P20002978</td>\n",
       "      <td>Bachmann, Michelle</td>\n",
       "      <td>HARVEY, WILLIAM</td>\n",
       "      <td>MOBILE</td>\n",
       "      <td>AL</td>\n",
       "      <td>3.6601e+08</td>\n",
       "      <td>RETIRED</td>\n",
       "      <td>RETIRED</td>\n",
       "      <td>50.0</td>\n",
       "      <td>23-JUN-11</td>\n",
       "      <td>NaN</td>\n",
       "      <td>NaN</td>\n",
       "      <td>NaN</td>\n",
       "      <td>SA17A</td>\n",
       "      <td>736166</td>\n",
       "    </tr>\n",
       "    <tr>\n",
       "      <th>2</th>\n",
       "      <td>C00410118</td>\n",
       "      <td>P20002978</td>\n",
       "      <td>Bachmann, Michelle</td>\n",
       "      <td>SMITH, LANIER</td>\n",
       "      <td>LANETT</td>\n",
       "      <td>AL</td>\n",
       "      <td>3.68633e+08</td>\n",
       "      <td>INFORMATION REQUESTED</td>\n",
       "      <td>INFORMATION REQUESTED</td>\n",
       "      <td>250.0</td>\n",
       "      <td>05-JUL-11</td>\n",
       "      <td>NaN</td>\n",
       "      <td>NaN</td>\n",
       "      <td>NaN</td>\n",
       "      <td>SA17A</td>\n",
       "      <td>749073</td>\n",
       "    </tr>\n",
       "    <tr>\n",
       "      <th>3</th>\n",
       "      <td>C00410118</td>\n",
       "      <td>P20002978</td>\n",
       "      <td>Bachmann, Michelle</td>\n",
       "      <td>BLEVINS, DARONDA</td>\n",
       "      <td>PIGGOTT</td>\n",
       "      <td>AR</td>\n",
       "      <td>7.24548e+08</td>\n",
       "      <td>NONE</td>\n",
       "      <td>RETIRED</td>\n",
       "      <td>250.0</td>\n",
       "      <td>01-AUG-11</td>\n",
       "      <td>NaN</td>\n",
       "      <td>NaN</td>\n",
       "      <td>NaN</td>\n",
       "      <td>SA17A</td>\n",
       "      <td>749073</td>\n",
       "    </tr>\n",
       "    <tr>\n",
       "      <th>4</th>\n",
       "      <td>C00410118</td>\n",
       "      <td>P20002978</td>\n",
       "      <td>Bachmann, Michelle</td>\n",
       "      <td>WARDENBURG, HAROLD</td>\n",
       "      <td>HOT SPRINGS NATION</td>\n",
       "      <td>AR</td>\n",
       "      <td>7.19016e+08</td>\n",
       "      <td>NONE</td>\n",
       "      <td>RETIRED</td>\n",
       "      <td>300.0</td>\n",
       "      <td>20-JUN-11</td>\n",
       "      <td>NaN</td>\n",
       "      <td>NaN</td>\n",
       "      <td>NaN</td>\n",
       "      <td>SA17A</td>\n",
       "      <td>736166</td>\n",
       "    </tr>\n",
       "  </tbody>\n",
       "</table>\n",
       "</div>"
      ],
      "text/plain": [
       "     cmte_id    cand_id             cand_nm           contbr_nm  \\\n",
       "0  C00410118  P20002978  Bachmann, Michelle     HARVEY, WILLIAM   \n",
       "1  C00410118  P20002978  Bachmann, Michelle     HARVEY, WILLIAM   \n",
       "2  C00410118  P20002978  Bachmann, Michelle       SMITH, LANIER   \n",
       "3  C00410118  P20002978  Bachmann, Michelle    BLEVINS, DARONDA   \n",
       "4  C00410118  P20002978  Bachmann, Michelle  WARDENBURG, HAROLD   \n",
       "\n",
       "          contbr_city contbr_st   contbr_zip        contbr_employer  \\\n",
       "0              MOBILE        AL   3.6601e+08                RETIRED   \n",
       "1              MOBILE        AL   3.6601e+08                RETIRED   \n",
       "2              LANETT        AL  3.68633e+08  INFORMATION REQUESTED   \n",
       "3             PIGGOTT        AR  7.24548e+08                   NONE   \n",
       "4  HOT SPRINGS NATION        AR  7.19016e+08                   NONE   \n",
       "\n",
       "       contbr_occupation  contb_receipt_amt contb_receipt_dt receipt_desc  \\\n",
       "0                RETIRED              250.0        20-JUN-11          NaN   \n",
       "1                RETIRED               50.0        23-JUN-11          NaN   \n",
       "2  INFORMATION REQUESTED              250.0        05-JUL-11          NaN   \n",
       "3                RETIRED              250.0        01-AUG-11          NaN   \n",
       "4                RETIRED              300.0        20-JUN-11          NaN   \n",
       "\n",
       "  memo_cd memo_text form_tp  file_num  \n",
       "0     NaN       NaN   SA17A    736166  \n",
       "1     NaN       NaN   SA17A    736166  \n",
       "2     NaN       NaN   SA17A    749073  \n",
       "3     NaN       NaN   SA17A    749073  \n",
       "4     NaN       NaN   SA17A    736166  "
      ]
     },
     "execution_count": 75,
     "metadata": {},
     "output_type": "execute_result"
    }
   ],
   "source": [
    "df = pd.read_csv('https://raw.githubusercontent.com/NemoHoHaloAi/pydata-book/2nd-edition/datasets/fec/P00000001-ALL.csv',\n",
    "                 header=0)\n",
    "df.head(5)"
   ]
  },
  {
   "cell_type": "code",
   "execution_count": 76,
   "metadata": {},
   "outputs": [
    {
     "name": "stdout",
     "output_type": "stream",
     "text": [
      "<class 'pandas.core.frame.DataFrame'>\n",
      "RangeIndex: 1001731 entries, 0 to 1001730\n",
      "Data columns (total 16 columns):\n",
      "cmte_id              1001731 non-null object\n",
      "cand_id              1001731 non-null object\n",
      "cand_nm              1001731 non-null object\n",
      "contbr_nm            1001731 non-null object\n",
      "contbr_city          1001712 non-null object\n",
      "contbr_st            1001727 non-null object\n",
      "contbr_zip           1001620 non-null object\n",
      "contbr_employer      988002 non-null object\n",
      "contbr_occupation    993301 non-null object\n",
      "contb_receipt_amt    1001731 non-null float64\n",
      "contb_receipt_dt     1001731 non-null object\n",
      "receipt_desc         14166 non-null object\n",
      "memo_cd              92482 non-null object\n",
      "memo_text            97770 non-null object\n",
      "form_tp              1001731 non-null object\n",
      "file_num             1001731 non-null int64\n",
      "dtypes: float64(1), int64(1), object(14)\n",
      "memory usage: 122.3+ MB\n"
     ]
    }
   ],
   "source": [
    "df.info()"
   ]
  },
  {
   "cell_type": "markdown",
   "metadata": {},
   "source": [
    "#### 增加党派信息"
   ]
  },
  {
   "cell_type": "code",
   "execution_count": 77,
   "metadata": {},
   "outputs": [
    {
     "data": {
      "text/plain": [
       "array(['Bachmann, Michelle', 'Romney, Mitt', 'Obama, Barack',\n",
       "       \"Roemer, Charles E. 'Buddy' III\", 'Pawlenty, Timothy',\n",
       "       'Johnson, Gary Earl', 'Paul, Ron', 'Santorum, Rick', 'Cain, Herman',\n",
       "       'Gingrich, Newt', 'McCotter, Thaddeus G', 'Huntsman, Jon',\n",
       "       'Perry, Rick'], dtype=object)"
      ]
     },
     "execution_count": 77,
     "metadata": {},
     "output_type": "execute_result"
    }
   ],
   "source": [
    "# step 1:获取全部候选人\n",
    "unique_cand = df.cand_nm.unique()\n",
    "unique_cand"
   ]
  },
  {
   "cell_type": "code",
   "execution_count": 78,
   "metadata": {},
   "outputs": [],
   "source": [
    "# step 2:创建映射表\n",
    "parties = {'Bachmann, Michelle': 'Republican',\n",
    "    'Cain, Herman': 'Republican',\n",
    "    'Gingrich, Newt': 'Republican',\n",
    "    'Huntsman, Jon': 'Republican',\n",
    "    'Johnson, Gary Earl': 'Republican',\n",
    "    'McCotter, Thaddeus G': 'Republican',\n",
    "    'Obama, Barack': 'Democrat',\n",
    "    'Paul, Ron': 'Republican',\n",
    "    'Pawlenty, Timothy': 'Republican',\n",
    "    'Perry, Rick': 'Republican',\n",
    "    \"Roemer, Charles E. 'Buddy' III\": 'Republican',\n",
    "    'Romney, Mitt': 'Republican',\n",
    "    'Santorum, Rick': 'Republican'}"
   ]
  },
  {
   "cell_type": "code",
   "execution_count": 79,
   "metadata": {},
   "outputs": [
    {
     "data": {
      "text/plain": [
       "array(['Republican', 'Democrat'], dtype=object)"
      ]
     },
     "execution_count": 79,
     "metadata": {},
     "output_type": "execute_result"
    }
   ],
   "source": [
    "# step 3:增加party列\n",
    "df['party'] = df.cand_nm.map(parties)\n",
    "df.party.unique()"
   ]
  },
  {
   "cell_type": "markdown",
   "metadata": {},
   "source": [
    "#### 去掉退款的记录"
   ]
  },
  {
   "cell_type": "code",
   "execution_count": 80,
   "metadata": {},
   "outputs": [
    {
     "data": {
      "text/plain": [
       "True    991475\n",
       "Name: contb_receipt_amt, dtype: int64"
      ]
     },
     "execution_count": 80,
     "metadata": {},
     "output_type": "execute_result"
    }
   ],
   "source": [
    "df = df[df.contb_receipt_amt > 0]\n",
    "(df.contb_receipt_amt > 0).value_counts()"
   ]
  },
  {
   "cell_type": "markdown",
   "metadata": {},
   "source": [
    "#### 获得一个只对比Barack Obama和Mitt Romney的子集"
   ]
  },
  {
   "cell_type": "code",
   "execution_count": 81,
   "metadata": {},
   "outputs": [
    {
     "data": {
      "text/plain": [
       "array(['Romney, Mitt', 'Obama, Barack'], dtype=object)"
      ]
     },
     "execution_count": 81,
     "metadata": {},
     "output_type": "execute_result"
    }
   ],
   "source": [
    "df_bo_mr = df[(df.cand_nm=='Obama, Barack') | (df.cand_nm=='Romney, Mitt')]\n",
    "df_bo_mr.cand_nm.unique()"
   ]
  },
  {
   "cell_type": "markdown",
   "metadata": {},
   "source": [
    "### 根据职业和雇主统计赞助信息 -- 反应职业对党派的倾向"
   ]
  },
  {
   "cell_type": "markdown",
   "metadata": {},
   "source": [
    "#### 根据职业计算出资总额top10"
   ]
  },
  {
   "cell_type": "code",
   "execution_count": 82,
   "metadata": {},
   "outputs": [
    {
     "data": {
      "text/plain": [
       "contbr_occupation\n",
       "CEO                                        3691342.20\n",
       "CONSULTANT                                 5004638.16\n",
       "EXECUTIVE                                  5494011.14\n",
       "PRESIDENT                                  6599433.71\n",
       "PHYSICIAN                                  7329445.18\n",
       "INFORMATION REQUESTED                      8763589.70\n",
       "INFORMATION REQUESTED PER BEST EFFORTS    16340533.64\n",
       "HOMEMAKER                                 17883151.58\n",
       "ATTORNEY                                  18619177.40\n",
       "RETIRED                                   48866360.87\n",
       "Name: contb_receipt_amt, dtype: float64"
      ]
     },
     "execution_count": 82,
     "metadata": {},
     "output_type": "execute_result"
    }
   ],
   "source": [
    "df.groupby(['contbr_occupation'])['contb_receipt_amt'].agg(np.sum).sort_values()[-10:]"
   ]
  },
  {
   "cell_type": "markdown",
   "metadata": {},
   "source": [
    "#### 计算职业募捐人数top10"
   ]
  },
  {
   "cell_type": "code",
   "execution_count": 83,
   "metadata": {},
   "outputs": [
    {
     "data": {
      "text/plain": [
       "RETIRED                                   233990\n",
       "INFORMATION REQUESTED                      35107\n",
       "ATTORNEY                                   34286\n",
       "HOMEMAKER                                  29931\n",
       "PHYSICIAN                                  23432\n",
       "INFORMATION REQUESTED PER BEST EFFORTS     21138\n",
       "ENGINEER                                   14334\n",
       "TEACHER                                    13990\n",
       "CONSULTANT                                 13273\n",
       "PROFESSOR                                  12555\n",
       "Name: contbr_occupation, dtype: int64"
      ]
     },
     "execution_count": 83,
     "metadata": {},
     "output_type": "execute_result"
    }
   ],
   "source": [
    "df.contbr_occupation.value_counts()[:10]"
   ]
  },
  {
   "cell_type": "markdown",
   "metadata": {},
   "source": [
    "#### 职业字段数据清理 -- 多个职业有多种变体，归为一种"
   ]
  },
  {
   "cell_type": "code",
   "execution_count": 84,
   "metadata": {},
   "outputs": [],
   "source": [
    "occ_mapping = {\n",
    "    'INFORMATION REQUESTED PER BEST EFFORTS' : 'NOT PROVIDED',\n",
    "    'INFORMATION REQUESTED' : 'NOT PROVIDED',\n",
    "    'INFORMATION REQUESTED (BEST EFFORTS)' : 'NOT PROVIDED',\n",
    "    'C.E.O.': 'CEO'\n",
    "}"
   ]
  },
  {
   "cell_type": "code",
   "execution_count": 85,
   "metadata": {},
   "outputs": [
    {
     "data": {
      "text/plain": [
       "45065"
      ]
     },
     "execution_count": 85,
     "metadata": {},
     "output_type": "execute_result"
    }
   ],
   "source": [
    "df.contbr_occupation = df.contbr_occupation.apply(lambda x:occ_mapping.get(x,x))\n",
    "len(df.contbr_occupation.unique())"
   ]
  },
  {
   "cell_type": "markdown",
   "metadata": {},
   "source": [
    "#### 雇主信息字段清理"
   ]
  },
  {
   "cell_type": "code",
   "execution_count": 86,
   "metadata": {},
   "outputs": [],
   "source": [
    "emp_mapping = {\n",
    "    'INFORMATION REQUESTED PER BEST EFFORTS' : 'NOT PROVIDED',\n",
    "    'INFORMATION REQUESTED' : 'NOT PROVIDED',\n",
    "    'SELF' : 'SELF-EMPLOYED',\n",
    "    'SELF EMPLOYED' : 'SELF-EMPLOYED',\n",
    "}"
   ]
  },
  {
   "cell_type": "code",
   "execution_count": 87,
   "metadata": {},
   "outputs": [],
   "source": [
    "df.contbr_employer = df.contbr_employer.apply(lambda x:emp_mapping.get(x,x))"
   ]
  },
  {
   "cell_type": "markdown",
   "metadata": {},
   "source": [
    "#### 通过pivot_table根据党派和职业对数据进行聚合，过滤掉总出资额不足200万美元的数据"
   ]
  },
  {
   "cell_type": "code",
   "execution_count": 88,
   "metadata": {},
   "outputs": [
    {
     "data": {
      "text/html": [
       "<div>\n",
       "<style>\n",
       "    .dataframe thead tr:only-child th {\n",
       "        text-align: right;\n",
       "    }\n",
       "\n",
       "    .dataframe thead th {\n",
       "        text-align: left;\n",
       "    }\n",
       "\n",
       "    .dataframe tbody tr th {\n",
       "        vertical-align: top;\n",
       "    }\n",
       "</style>\n",
       "<table border=\"1\" class=\"dataframe\">\n",
       "  <thead>\n",
       "    <tr>\n",
       "      <th></th>\n",
       "      <th colspan=\"2\" halign=\"left\">contb_receipt_amt</th>\n",
       "    </tr>\n",
       "    <tr>\n",
       "      <th>party</th>\n",
       "      <th>Democrat</th>\n",
       "      <th>Republican</th>\n",
       "    </tr>\n",
       "    <tr>\n",
       "      <th>contbr_occupation</th>\n",
       "      <th></th>\n",
       "      <th></th>\n",
       "    </tr>\n",
       "  </thead>\n",
       "  <tbody>\n",
       "    <tr>\n",
       "      <th>ATTORNEY</th>\n",
       "      <td>11141982.97</td>\n",
       "      <td>7.477194e+06</td>\n",
       "    </tr>\n",
       "    <tr>\n",
       "      <th>CEO</th>\n",
       "      <td>2074974.79</td>\n",
       "      <td>4.211041e+06</td>\n",
       "    </tr>\n",
       "    <tr>\n",
       "      <th>CONSULTANT</th>\n",
       "      <td>2459912.71</td>\n",
       "      <td>2.544725e+06</td>\n",
       "    </tr>\n",
       "    <tr>\n",
       "      <th>ENGINEER</th>\n",
       "      <td>951525.55</td>\n",
       "      <td>1.818374e+06</td>\n",
       "    </tr>\n",
       "    <tr>\n",
       "      <th>EXECUTIVE</th>\n",
       "      <td>1355161.05</td>\n",
       "      <td>4.138850e+06</td>\n",
       "    </tr>\n",
       "    <tr>\n",
       "      <th>HOMEMAKER</th>\n",
       "      <td>4248875.80</td>\n",
       "      <td>1.363428e+07</td>\n",
       "    </tr>\n",
       "    <tr>\n",
       "      <th>INVESTOR</th>\n",
       "      <td>884133.00</td>\n",
       "      <td>2.431769e+06</td>\n",
       "    </tr>\n",
       "    <tr>\n",
       "      <th>LAWYER</th>\n",
       "      <td>3160478.87</td>\n",
       "      <td>3.912243e+05</td>\n",
       "    </tr>\n",
       "    <tr>\n",
       "      <th>MANAGER</th>\n",
       "      <td>762883.22</td>\n",
       "      <td>1.444532e+06</td>\n",
       "    </tr>\n",
       "    <tr>\n",
       "      <th>NOT PROVIDED</th>\n",
       "      <td>4866973.96</td>\n",
       "      <td>2.056547e+07</td>\n",
       "    </tr>\n",
       "    <tr>\n",
       "      <th>OWNER</th>\n",
       "      <td>1001567.36</td>\n",
       "      <td>2.408287e+06</td>\n",
       "    </tr>\n",
       "    <tr>\n",
       "      <th>PHYSICIAN</th>\n",
       "      <td>3735124.94</td>\n",
       "      <td>3.594320e+06</td>\n",
       "    </tr>\n",
       "    <tr>\n",
       "      <th>PRESIDENT</th>\n",
       "      <td>1878509.95</td>\n",
       "      <td>4.720924e+06</td>\n",
       "    </tr>\n",
       "    <tr>\n",
       "      <th>PROFESSOR</th>\n",
       "      <td>2165071.08</td>\n",
       "      <td>2.967027e+05</td>\n",
       "    </tr>\n",
       "    <tr>\n",
       "      <th>REAL ESTATE</th>\n",
       "      <td>528902.09</td>\n",
       "      <td>1.625902e+06</td>\n",
       "    </tr>\n",
       "    <tr>\n",
       "      <th>RETIRED</th>\n",
       "      <td>25305116.38</td>\n",
       "      <td>2.356124e+07</td>\n",
       "    </tr>\n",
       "    <tr>\n",
       "      <th>SELF-EMPLOYED</th>\n",
       "      <td>672393.40</td>\n",
       "      <td>1.640253e+06</td>\n",
       "    </tr>\n",
       "  </tbody>\n",
       "</table>\n",
       "</div>"
      ],
      "text/plain": [
       "                  contb_receipt_amt              \n",
       "party                      Democrat    Republican\n",
       "contbr_occupation                                \n",
       "ATTORNEY                11141982.97  7.477194e+06\n",
       "CEO                      2074974.79  4.211041e+06\n",
       "CONSULTANT               2459912.71  2.544725e+06\n",
       "ENGINEER                  951525.55  1.818374e+06\n",
       "EXECUTIVE                1355161.05  4.138850e+06\n",
       "HOMEMAKER                4248875.80  1.363428e+07\n",
       "INVESTOR                  884133.00  2.431769e+06\n",
       "LAWYER                   3160478.87  3.912243e+05\n",
       "MANAGER                   762883.22  1.444532e+06\n",
       "NOT PROVIDED             4866973.96  2.056547e+07\n",
       "OWNER                    1001567.36  2.408287e+06\n",
       "PHYSICIAN                3735124.94  3.594320e+06\n",
       "PRESIDENT                1878509.95  4.720924e+06\n",
       "PROFESSOR                2165071.08  2.967027e+05\n",
       "REAL ESTATE               528902.09  1.625902e+06\n",
       "RETIRED                 25305116.38  2.356124e+07\n",
       "SELF-EMPLOYED             672393.40  1.640253e+06"
      ]
     },
     "execution_count": 88,
     "metadata": {},
     "output_type": "execute_result"
    }
   ],
   "source": [
    "df_party_occ = df.pivot_table(['contb_receipt_amt'], index=['contbr_occupation'], columns=['party'], aggfunc=np.sum)\n",
    "df_party_occ = df_party_occ[df_party_occ.sum(1) >= 2000000]\n",
    "df_party_occ"
   ]
  },
  {
   "cell_type": "code",
   "execution_count": 89,
   "metadata": {},
   "outputs": [
    {
     "data": {
      "text/plain": [
       "<matplotlib.axes._subplots.AxesSubplot at 0x7f5bf99e7250>"
      ]
     },
     "execution_count": 89,
     "metadata": {},
     "output_type": "execute_result"
    },
    {
     "data": {
      "image/png": "[encoded data removed]",
      "text/plain": [
       "<matplotlib.figure.Figure at 0x7f5bf993f690>"
      ]
     },
     "metadata": {},
     "output_type": "display_data"
    }
   ],
   "source": [
    "df_party_occ.plot(kind='barh')"
   ]
  },
  {
   "cell_type": "markdown",
   "metadata": {},
   "source": [
    "可以看到，HOMEMARKER更倾向于Republiican；"
   ]
  },
  {
   "cell_type": "markdown",
   "metadata": {},
   "source": [
    "#### 对Obama和Romney总出资额最高的职业和企业"
   ]
  },
  {
   "cell_type": "markdown",
   "metadata": {},
   "source": [
    "##### 出资最多的职业"
   ]
  },
  {
   "cell_type": "code",
   "execution_count": 90,
   "metadata": {},
   "outputs": [
    {
     "data": {
      "text/plain": [
       "contbr_occupation\n",
       "INFORMATION REQUESTED     4866973.96\n",
       "ATTORNEY                 11141982.97\n",
       "RETIRED                  25305116.38\n",
       "Name: contb_receipt_amt, dtype: float64"
      ]
     },
     "execution_count": 90,
     "metadata": {},
     "output_type": "execute_result"
    }
   ],
   "source": [
    "df_bo_mr[df_bo_mr.cand_nm=='Obama, Barack'].groupby(['contbr_occupation']).contb_receipt_amt.apply(np.sum).sort_values()[-3:]"
   ]
  },
  {
   "cell_type": "code",
   "execution_count": 91,
   "metadata": {},
   "outputs": [
    {
     "data": {
      "text/plain": [
       "contbr_occupation\n",
       "HOMEMAKER                                  8147446.22\n",
       "INFORMATION REQUESTED PER BEST EFFORTS    11396894.84\n",
       "RETIRED                                   11508473.59\n",
       "Name: contb_receipt_amt, dtype: float64"
      ]
     },
     "execution_count": 91,
     "metadata": {},
     "output_type": "execute_result"
    }
   ],
   "source": [
    "df_bo_mr[df_bo_mr.cand_nm=='Romney, Mitt'].groupby(['contbr_occupation']).contb_receipt_amt.apply(np.sum).sort_values()[-3:]"
   ]
  },
  {
   "cell_type": "markdown",
   "metadata": {},
   "source": [
    "##### 出资最多的企业"
   ]
  },
  {
   "cell_type": "code",
   "execution_count": 92,
   "metadata": {},
   "outputs": [
    {
     "data": {
      "text/plain": [
       "contbr_employer\n",
       "NOT EMPLOYED      8586308.70\n",
       "SELF-EMPLOYED    17080985.96\n",
       "RETIRED          22694358.85\n",
       "Name: contb_receipt_amt, dtype: float64"
      ]
     },
     "execution_count": 92,
     "metadata": {},
     "output_type": "execute_result"
    }
   ],
   "source": [
    "df_bo_mr[df_bo_mr.cand_nm=='Obama, Barack'].groupby(['contbr_employer']).contb_receipt_amt.apply(np.sum).sort_values()[-3:]"
   ]
  },
  {
   "cell_type": "code",
   "execution_count": 93,
   "metadata": {},
   "outputs": [
    {
     "data": {
      "text/plain": [
       "contbr_employer\n",
       "HOMEMAKER                                  8147196.22\n",
       "RETIRED                                   11506225.71\n",
       "INFORMATION REQUESTED PER BEST EFFORTS    12059527.24\n",
       "Name: contb_receipt_amt, dtype: float64"
      ]
     },
     "execution_count": 93,
     "metadata": {},
     "output_type": "execute_result"
    }
   ],
   "source": [
    "df_bo_mr[df_bo_mr.cand_nm=='Romney, Mitt'].groupby(['contbr_employer']).contb_receipt_amt.apply(np.sum).sort_values()[-3:]"
   ]
  },
  {
   "cell_type": "markdown",
   "metadata": {},
   "source": [
    "### 对出资额分组"
   ]
  },
  {
   "cell_type": "markdown",
   "metadata": {},
   "source": [
    "对该数据做另一种非常实用的分析:利用**cut**函数根据**出资额**的大小将**数据离散化**到多个面元中；"
   ]
  },
  {
   "cell_type": "markdown",
   "metadata": {},
   "source": [
    "#### 分析二者投资者的投资额度分布"
   ]
  },
  {
   "cell_type": "code",
   "execution_count": 109,
   "metadata": {},
   "outputs": [
    {
     "data": {
      "text/plain": [
       "cand_nm        contb_receipt_amt\n",
       "Obama, Barack  (0, 1]                  493\n",
       "               (1, 10]               40070\n",
       "               (10, 100]            372280\n",
       "               (100, 1000]          153991\n",
       "               (1000, 10000]         22284\n",
       "               (10000, 100000]           2\n",
       "Romney, Mitt   (0, 1]                   77\n",
       "               (1, 10]                3681\n",
       "               (10, 100]             31853\n",
       "               (100, 1000]           43357\n",
       "               (1000, 10000]         26186\n",
       "               (10000, 100000]           1\n",
       "dtype: int64"
      ]
     },
     "execution_count": 109,
     "metadata": {},
     "output_type": "execute_result"
    }
   ],
   "source": [
    "factor = pd.cut(df_bo_mr.contb_receipt_amt, [0,1,10,100,1000,10000,100000])\n",
    "df_bo_mr.groupby(['cand_nm',factor]).size()"
   ]
  },
  {
   "cell_type": "code",
   "execution_count": 115,
   "metadata": {},
   "outputs": [
    {
     "data": {
      "text/html": [
       "<div>\n",
       "<style>\n",
       "    .dataframe thead tr:only-child th {\n",
       "        text-align: right;\n",
       "    }\n",
       "\n",
       "    .dataframe thead th {\n",
       "        text-align: left;\n",
       "    }\n",
       "\n",
       "    .dataframe tbody tr th {\n",
       "        vertical-align: top;\n",
       "    }\n",
       "</style>\n",
       "<table border=\"1\" class=\"dataframe\">\n",
       "  <thead>\n",
       "    <tr style=\"text-align: right;\">\n",
       "      <th>cand_nm</th>\n",
       "      <th>Obama, Barack</th>\n",
       "      <th>Romney, Mitt</th>\n",
       "    </tr>\n",
       "    <tr>\n",
       "      <th>contb_receipt_amt</th>\n",
       "      <th></th>\n",
       "      <th></th>\n",
       "    </tr>\n",
       "  </thead>\n",
       "  <tbody>\n",
       "    <tr>\n",
       "      <th>(0, 1]</th>\n",
       "      <td>318.24</td>\n",
       "      <td>77.00</td>\n",
       "    </tr>\n",
       "    <tr>\n",
       "      <th>(1, 10]</th>\n",
       "      <td>337267.62</td>\n",
       "      <td>29819.66</td>\n",
       "    </tr>\n",
       "    <tr>\n",
       "      <th>(10, 100]</th>\n",
       "      <td>20288981.41</td>\n",
       "      <td>1987783.76</td>\n",
       "    </tr>\n",
       "    <tr>\n",
       "      <th>(100, 1000]</th>\n",
       "      <td>54798531.46</td>\n",
       "      <td>22363381.69</td>\n",
       "    </tr>\n",
       "    <tr>\n",
       "      <th>(1000, 10000]</th>\n",
       "      <td>51753705.67</td>\n",
       "      <td>63942145.42</td>\n",
       "    </tr>\n",
       "    <tr>\n",
       "      <th>(10000, 100000]</th>\n",
       "      <td>59100.00</td>\n",
       "      <td>12700.00</td>\n",
       "    </tr>\n",
       "  </tbody>\n",
       "</table>\n",
       "</div>"
      ],
      "text/plain": [
       "cand_nm            Obama, Barack  Romney, Mitt\n",
       "contb_receipt_amt                             \n",
       "(0, 1]                    318.24         77.00\n",
       "(1, 10]                337267.62      29819.66\n",
       "(10, 100]            20288981.41    1987783.76\n",
       "(100, 1000]          54798531.46   22363381.69\n",
       "(1000, 10000]        51753705.67   63942145.42\n",
       "(10000, 100000]         59100.00      12700.00"
      ]
     },
     "execution_count": 115,
     "metadata": {},
     "output_type": "execute_result"
    }
   ],
   "source": [
    "df_bo_mr.groupby(['cand_nm',factor]).contb_receipt_amt.sum().unstack(0)"
   ]
  },
  {
   "cell_type": "markdown",
   "metadata": {},
   "source": [
    "#### 绘图观察"
   ]
  },
  {
   "cell_type": "code",
   "execution_count": 116,
   "metadata": {},
   "outputs": [
    {
     "data": {
      "text/html": [
       "<div>\n",
       "<style>\n",
       "    .dataframe thead tr:only-child th {\n",
       "        text-align: right;\n",
       "    }\n",
       "\n",
       "    .dataframe thead th {\n",
       "        text-align: left;\n",
       "    }\n",
       "\n",
       "    .dataframe tbody tr th {\n",
       "        vertical-align: top;\n",
       "    }\n",
       "</style>\n",
       "<table border=\"1\" class=\"dataframe\">\n",
       "  <thead>\n",
       "    <tr style=\"text-align: right;\">\n",
       "      <th>cand_nm</th>\n",
       "      <th>Obama, Barack</th>\n",
       "      <th>Romney, Mitt</th>\n",
       "    </tr>\n",
       "    <tr>\n",
       "      <th>contb_receipt_amt</th>\n",
       "      <th></th>\n",
       "      <th></th>\n",
       "    </tr>\n",
       "  </thead>\n",
       "  <tbody>\n",
       "    <tr>\n",
       "      <th>(0, 1]</th>\n",
       "      <td>0.805182</td>\n",
       "      <td>0.194818</td>\n",
       "    </tr>\n",
       "    <tr>\n",
       "      <th>(1, 10]</th>\n",
       "      <td>0.918767</td>\n",
       "      <td>0.081233</td>\n",
       "    </tr>\n",
       "    <tr>\n",
       "      <th>(10, 100]</th>\n",
       "      <td>0.910769</td>\n",
       "      <td>0.089231</td>\n",
       "    </tr>\n",
       "    <tr>\n",
       "      <th>(100, 1000]</th>\n",
       "      <td>0.710176</td>\n",
       "      <td>0.289824</td>\n",
       "    </tr>\n",
       "    <tr>\n",
       "      <th>(1000, 10000]</th>\n",
       "      <td>0.447326</td>\n",
       "      <td>0.552674</td>\n",
       "    </tr>\n",
       "    <tr>\n",
       "      <th>(10000, 100000]</th>\n",
       "      <td>0.823120</td>\n",
       "      <td>0.176880</td>\n",
       "    </tr>\n",
       "  </tbody>\n",
       "</table>\n",
       "</div>"
      ],
      "text/plain": [
       "cand_nm            Obama, Barack  Romney, Mitt\n",
       "contb_receipt_amt                             \n",
       "(0, 1]                  0.805182      0.194818\n",
       "(1, 10]                 0.918767      0.081233\n",
       "(10, 100]               0.910769      0.089231\n",
       "(100, 1000]             0.710176      0.289824\n",
       "(1000, 10000]           0.447326      0.552674\n",
       "(10000, 100000]         0.823120      0.176880"
      ]
     },
     "execution_count": 116,
     "metadata": {},
     "output_type": "execute_result"
    }
   ],
   "source": [
    "bucket_sums = df_bo_mr.groupby(['cand_nm',factor]).contb_receipt_amt.sum().unstack(0)\n",
    "normal_sums = bucket_sums.div(bucket_sums.sum(axis=1), axis=0)\n",
    "normal_sums"
   ]
  },
  {
   "cell_type": "code",
   "execution_count": 119,
   "metadata": {},
   "outputs": [
    {
     "data": {
      "text/plain": [
       "<matplotlib.axes._subplots.AxesSubplot at 0x7f5befdc65d0>"
      ]
     },
     "execution_count": 119,
     "metadata": {},
     "output_type": "execute_result"
    },
    {
     "data": {
      "image/png": "[encoded data removed]",
      "text/plain": [
       "<matplotlib.figure.Figure at 0x7f5bef90a250>"
      ]
     },
     "metadata": {},
     "output_type": "display_data"
    }
   ],
   "source": [
    "normal_sums.plot(kind='barh', stacked=True)"
   ]
  },
  {
   "cell_type": "markdown",
   "metadata": {},
   "source": [
    "可以看到：在小额赞助中，奥观海远远高于对手；"
   ]
  },
  {
   "cell_type": "markdown",
   "metadata": {},
   "source": [
    "### 根据州统计赞助信息"
   ]
  },
  {
   "cell_type": "markdown",
   "metadata": {},
   "source": [
    "#### 根据候选人，州分组"
   ]
  },
  {
   "cell_type": "code",
   "execution_count": 141,
   "metadata": {},
   "outputs": [
    {
     "data": {
      "text/html": [
       "<div>\n",
       "<style>\n",
       "    .dataframe thead tr:only-child th {\n",
       "        text-align: right;\n",
       "    }\n",
       "\n",
       "    .dataframe thead th {\n",
       "        text-align: left;\n",
       "    }\n",
       "\n",
       "    .dataframe tbody tr th {\n",
       "        vertical-align: top;\n",
       "    }\n",
       "</style>\n",
       "<table border=\"1\" class=\"dataframe\">\n",
       "  <thead>\n",
       "    <tr>\n",
       "      <th></th>\n",
       "      <th colspan=\"10\" halign=\"left\">contb_receipt_amt</th>\n",
       "      <th>...</th>\n",
       "      <th colspan=\"10\" halign=\"left\">file_num</th>\n",
       "    </tr>\n",
       "    <tr>\n",
       "      <th>contbr_st</th>\n",
       "      <th>AA</th>\n",
       "      <th>AB</th>\n",
       "      <th>AE</th>\n",
       "      <th>AK</th>\n",
       "      <th>AL</th>\n",
       "      <th>AP</th>\n",
       "      <th>AR</th>\n",
       "      <th>AS</th>\n",
       "      <th>AZ</th>\n",
       "      <th>CA</th>\n",
       "      <th>...</th>\n",
       "      <th>UT</th>\n",
       "      <th>VA</th>\n",
       "      <th>VI</th>\n",
       "      <th>VT</th>\n",
       "      <th>WA</th>\n",
       "      <th>WI</th>\n",
       "      <th>WV</th>\n",
       "      <th>WY</th>\n",
       "      <th>XX</th>\n",
       "      <th>ZZ</th>\n",
       "    </tr>\n",
       "    <tr>\n",
       "      <th>cand_nm</th>\n",
       "      <th></th>\n",
       "      <th></th>\n",
       "      <th></th>\n",
       "      <th></th>\n",
       "      <th></th>\n",
       "      <th></th>\n",
       "      <th></th>\n",
       "      <th></th>\n",
       "      <th></th>\n",
       "      <th></th>\n",
       "      <th></th>\n",
       "      <th></th>\n",
       "      <th></th>\n",
       "      <th></th>\n",
       "      <th></th>\n",
       "      <th></th>\n",
       "      <th></th>\n",
       "      <th></th>\n",
       "      <th></th>\n",
       "      <th></th>\n",
       "      <th></th>\n",
       "    </tr>\n",
       "  </thead>\n",
       "  <tbody>\n",
       "    <tr>\n",
       "      <th>Obama, Barack</th>\n",
       "      <td>56405.0</td>\n",
       "      <td>2048.0</td>\n",
       "      <td>42973.75</td>\n",
       "      <td>281840.15</td>\n",
       "      <td>543123.48</td>\n",
       "      <td>37130.5</td>\n",
       "      <td>359247.28</td>\n",
       "      <td>2955.0</td>\n",
       "      <td>1506476.98</td>\n",
       "      <td>23824984.24</td>\n",
       "      <td>...</td>\n",
       "      <td>2.158762e+09</td>\n",
       "      <td>1.662582e+10</td>\n",
       "      <td>320768906.0</td>\n",
       "      <td>2.769653e+09</td>\n",
       "      <td>1.611548e+10</td>\n",
       "      <td>6.237224e+09</td>\n",
       "      <td>1.031333e+09</td>\n",
       "      <td>817247010.0</td>\n",
       "      <td>0.0</td>\n",
       "      <td>11614751.0</td>\n",
       "    </tr>\n",
       "    <tr>\n",
       "      <th>Romney, Mitt</th>\n",
       "      <td>135.0</td>\n",
       "      <td>0.0</td>\n",
       "      <td>5680.00</td>\n",
       "      <td>86204.24</td>\n",
       "      <td>527303.51</td>\n",
       "      <td>1655.0</td>\n",
       "      <td>105556.00</td>\n",
       "      <td>0.0</td>\n",
       "      <td>1888436.23</td>\n",
       "      <td>11237636.60</td>\n",
       "      <td>...</td>\n",
       "      <td>5.433571e+09</td>\n",
       "      <td>3.313021e+09</td>\n",
       "      <td>1532175.0</td>\n",
       "      <td>1.044937e+08</td>\n",
       "      <td>1.827046e+09</td>\n",
       "      <td>5.525210e+08</td>\n",
       "      <td>1.558537e+08</td>\n",
       "      <td>294092129.0</td>\n",
       "      <td>181155469.0</td>\n",
       "      <td>0.0</td>\n",
       "    </tr>\n",
       "  </tbody>\n",
       "</table>\n",
       "<p>2 rows × 134 columns</p>\n",
       "</div>"
      ],
      "text/plain": [
       "              contb_receipt_amt                                          \\\n",
       "contbr_st                    AA      AB        AE         AK         AL   \n",
       "cand_nm                                                                   \n",
       "Obama, Barack           56405.0  2048.0  42973.75  281840.15  543123.48   \n",
       "Romney, Mitt              135.0     0.0   5680.00   86204.24  527303.51   \n",
       "\n",
       "                                                                    \\\n",
       "contbr_st           AP         AR      AS          AZ           CA   \n",
       "cand_nm                                                              \n",
       "Obama, Barack  37130.5  359247.28  2955.0  1506476.98  23824984.24   \n",
       "Romney, Mitt    1655.0  105556.00     0.0  1888436.23  11237636.60   \n",
       "\n",
       "                  ...          file_num                             \\\n",
       "contbr_st         ...                UT            VA           VI   \n",
       "cand_nm           ...                                                \n",
       "Obama, Barack     ...      2.158762e+09  1.662582e+10  320768906.0   \n",
       "Romney, Mitt      ...      5.433571e+09  3.313021e+09    1532175.0   \n",
       "\n",
       "                                                                       \\\n",
       "contbr_st                VT            WA            WI            WV   \n",
       "cand_nm                                                                 \n",
       "Obama, Barack  2.769653e+09  1.611548e+10  6.237224e+09  1.031333e+09   \n",
       "Romney, Mitt   1.044937e+08  1.827046e+09  5.525210e+08  1.558537e+08   \n",
       "\n",
       "                                                     \n",
       "contbr_st               WY           XX          ZZ  \n",
       "cand_nm                                              \n",
       "Obama, Barack  817247010.0          0.0  11614751.0  \n",
       "Romney, Mitt   294092129.0  181155469.0         0.0  \n",
       "\n",
       "[2 rows x 134 columns]"
      ]
     },
     "execution_count": 141,
     "metadata": {},
     "output_type": "execute_result"
    }
   ],
   "source": [
    "grouped = df_bo_mr.groupby(['cand_nm','contbr_st'])\n",
    "grouped.sum().unstack().fillna(0)"
   ]
  },
  {
   "cell_type": "markdown",
   "metadata": {},
   "source": [
    "#### 保留资助额字段，计算所占各候选人在当前州所占资助比例"
   ]
  },
  {
   "cell_type": "code",
   "execution_count": 161,
   "metadata": {},
   "outputs": [
    {
     "data": {
      "text/html": [
       "<div>\n",
       "<style>\n",
       "    .dataframe thead tr:only-child th {\n",
       "        text-align: right;\n",
       "    }\n",
       "\n",
       "    .dataframe thead th {\n",
       "        text-align: left;\n",
       "    }\n",
       "\n",
       "    .dataframe tbody tr th {\n",
       "        vertical-align: top;\n",
       "    }\n",
       "</style>\n",
       "<table border=\"1\" class=\"dataframe\">\n",
       "  <thead>\n",
       "    <tr style=\"text-align: right;\">\n",
       "      <th>contbr_st</th>\n",
       "      <th>AA</th>\n",
       "      <th>AB</th>\n",
       "      <th>AE</th>\n",
       "      <th>AK</th>\n",
       "      <th>AL</th>\n",
       "      <th>AP</th>\n",
       "      <th>AR</th>\n",
       "      <th>AS</th>\n",
       "      <th>AZ</th>\n",
       "      <th>CA</th>\n",
       "      <th>...</th>\n",
       "      <th>UT</th>\n",
       "      <th>VA</th>\n",
       "      <th>VI</th>\n",
       "      <th>VT</th>\n",
       "      <th>WA</th>\n",
       "      <th>WI</th>\n",
       "      <th>WV</th>\n",
       "      <th>WY</th>\n",
       "      <th>XX</th>\n",
       "      <th>ZZ</th>\n",
       "    </tr>\n",
       "    <tr>\n",
       "      <th>cand_nm</th>\n",
       "      <th></th>\n",
       "      <th></th>\n",
       "      <th></th>\n",
       "      <th></th>\n",
       "      <th></th>\n",
       "      <th></th>\n",
       "      <th></th>\n",
       "      <th></th>\n",
       "      <th></th>\n",
       "      <th></th>\n",
       "      <th></th>\n",
       "      <th></th>\n",
       "      <th></th>\n",
       "      <th></th>\n",
       "      <th></th>\n",
       "      <th></th>\n",
       "      <th></th>\n",
       "      <th></th>\n",
       "      <th></th>\n",
       "      <th></th>\n",
       "      <th></th>\n",
       "    </tr>\n",
       "  </thead>\n",
       "  <tbody>\n",
       "    <tr>\n",
       "      <th>Obama, Barack</th>\n",
       "      <td>0.997612</td>\n",
       "      <td>1.0</td>\n",
       "      <td>0.883257</td>\n",
       "      <td>0.765778</td>\n",
       "      <td>0.50739</td>\n",
       "      <td>0.957329</td>\n",
       "      <td>0.772902</td>\n",
       "      <td>1.0</td>\n",
       "      <td>0.443745</td>\n",
       "      <td>0.679498</td>\n",
       "      <td>...</td>\n",
       "      <td>0.122689</td>\n",
       "      <td>0.5514</td>\n",
       "      <td>0.958438</td>\n",
       "      <td>0.946983</td>\n",
       "      <td>0.760119</td>\n",
       "      <td>0.806982</td>\n",
       "      <td>0.5717</td>\n",
       "      <td>0.434456</td>\n",
       "      <td>0.0</td>\n",
       "      <td>1.0</td>\n",
       "    </tr>\n",
       "    <tr>\n",
       "      <th>Romney, Mitt</th>\n",
       "      <td>0.002388</td>\n",
       "      <td>0.0</td>\n",
       "      <td>0.116743</td>\n",
       "      <td>0.234222</td>\n",
       "      <td>0.49261</td>\n",
       "      <td>0.042671</td>\n",
       "      <td>0.227098</td>\n",
       "      <td>0.0</td>\n",
       "      <td>0.556255</td>\n",
       "      <td>0.320502</td>\n",
       "      <td>...</td>\n",
       "      <td>0.877311</td>\n",
       "      <td>0.4486</td>\n",
       "      <td>0.041562</td>\n",
       "      <td>0.053017</td>\n",
       "      <td>0.239881</td>\n",
       "      <td>0.193018</td>\n",
       "      <td>0.4283</td>\n",
       "      <td>0.565544</td>\n",
       "      <td>1.0</td>\n",
       "      <td>0.0</td>\n",
       "    </tr>\n",
       "  </tbody>\n",
       "</table>\n",
       "<p>2 rows × 67 columns</p>\n",
       "</div>"
      ],
      "text/plain": [
       "contbr_st            AA   AB        AE        AK       AL        AP        AR  \\\n",
       "cand_nm                                                                         \n",
       "Obama, Barack  0.997612  1.0  0.883257  0.765778  0.50739  0.957329  0.772902   \n",
       "Romney, Mitt   0.002388  0.0  0.116743  0.234222  0.49261  0.042671  0.227098   \n",
       "\n",
       "contbr_st       AS        AZ        CA ...         UT      VA        VI  \\\n",
       "cand_nm                                ...                                \n",
       "Obama, Barack  1.0  0.443745  0.679498 ...   0.122689  0.5514  0.958438   \n",
       "Romney, Mitt   0.0  0.556255  0.320502 ...   0.877311  0.4486  0.041562   \n",
       "\n",
       "contbr_st            VT        WA        WI      WV        WY   XX   ZZ  \n",
       "cand_nm                                                                  \n",
       "Obama, Barack  0.946983  0.760119  0.806982  0.5717  0.434456  0.0  1.0  \n",
       "Romney, Mitt   0.053017  0.239881  0.193018  0.4283  0.565544  1.0  0.0  \n",
       "\n",
       "[2 rows x 67 columns]"
      ]
     },
     "execution_count": 161,
     "metadata": {},
     "output_type": "execute_result"
    }
   ],
   "source": [
    "grouped_sum = grouped.contb_receipt_amt.sum().unstack().fillna(0)\n",
    "grouped_sum = grouped_sum.div(grouped_sum.sum(0),1)\n",
    "grouped_sum"
   ]
  },
  {
   "cell_type": "markdown",
   "metadata": {},
   "source": [
    "#### 柱状图绘制"
   ]
  },
  {
   "cell_type": "code",
   "execution_count": 166,
   "metadata": {},
   "outputs": [
    {
     "data": {
      "text/plain": [
       "<matplotlib.axes._subplots.AxesSubplot at 0x7f5be46aab90>"
      ]
     },
     "execution_count": 166,
     "metadata": {},
     "output_type": "execute_result"
    },
    {
     "data": {
      "image/png": "[encoded data removed]",
      "text/plain": [
       "<matplotlib.figure.Figure at 0x7f5be46ea810>"
      ]
     },
     "metadata": {},
     "output_type": "display_data"
    }
   ],
   "source": [
    "grouped_sum.stack().unstack(0)[:10].plot(kind='barh')"
   ]
  },
  {
   "cell_type": "markdown",
   "metadata": {},
   "source": [
    "#### basemap地图绘制 -- so cool man!!!"
   ]
  },
  {
   "cell_type": "code",
   "execution_count": 180,
   "metadata": {},
   "outputs": [],
   "source": [
    "from mpl_toolkits.basemap import Basemap, cm\n",
    "from matplotlib import rcParams\n",
    "from matplotlib.collections import LineCollection\n",
    "import shapefile as ShapeFile\n",
    "from dbfread import DBF"
   ]
  },
  {
   "cell_type": "code",
   "execution_count": 186,
   "metadata": {},
   "outputs": [
    {
     "ename": "TypeError",
     "evalue": "'module' object is not callable",
     "output_type": "error",
     "traceback": [
      "\u001b[0;31m---------------------------------------------------------------------------\u001b[0m",
      "\u001b[0;31mTypeError\u001b[0m                                 Traceback (most recent call last)",
      "\u001b[0;32m<ipython-input-186-af982831795b>\u001b[0m in \u001b[0;36m<module>\u001b[0;34m()\u001b[0m\n\u001b[1;32m     13\u001b[0m \u001b[0mm\u001b[0m\u001b[0;34m.\u001b[0m\u001b[0mdrawcountries\u001b[0m\u001b[0;34m(\u001b[0m\u001b[0;34m)\u001b[0m\u001b[0;34m\u001b[0m\u001b[0m\n\u001b[1;32m     14\u001b[0m \u001b[0;34m\u001b[0m\u001b[0m\n\u001b[0;32m---> 15\u001b[0;31m \u001b[0mshp\u001b[0m \u001b[0;34m=\u001b[0m \u001b[0mShapeFile\u001b[0m\u001b[0;34m(\u001b[0m\u001b[0;34m'../states/statesp020'\u001b[0m\u001b[0;34m)\u001b[0m \u001b[0;31m# 找不到数据啊\u001b[0m\u001b[0;34m\u001b[0m\u001b[0m\n\u001b[0m\u001b[1;32m     16\u001b[0m \u001b[0mdbf\u001b[0m \u001b[0;34m=\u001b[0m \u001b[0mDBF\u001b[0m\u001b[0;34m(\u001b[0m\u001b[0;34m'../states/statesp020'\u001b[0m\u001b[0;34m)\u001b[0m \u001b[0;31m# 找不到数据啊\u001b[0m\u001b[0;34m\u001b[0m\u001b[0m\n\u001b[1;32m     17\u001b[0m \u001b[0;34m\u001b[0m\u001b[0m\n",
      "\u001b[0;31mTypeError\u001b[0m: 'module' object is not callable"
     ]
    },
    {
     "data": {
      "image/png": "[encoded data removed]",
      "text/plain": [
       "<matplotlib.figure.Figure at 0x7f5bd36c1b90>"
      ]
     },
     "metadata": {},
     "output_type": "display_data"
    }
   ],
   "source": [
    "obama = grouped_sum.stack().unstack(0)['Obama, Barack']\n",
    "\n",
    "fig = plt.figure(figsize=(12, 12))\n",
    "ax = fig.add_axes([0.1,0.1,0.8,0.8])\n",
    "\n",
    "lllat = 21; urlat = 53; lllon = -118; urlon = -62\n",
    "\n",
    "m = Basemap(ax=ax, projection='stere',\n",
    "            lon_0=(urlon + lllon) / 2, lat_0=(urlat + lllat) / 2,\n",
    "            llcrnrlat=lllat, urcrnrlat=urlat, llcrnrlon=lllon,\n",
    "            urcrnrlon=urlon, resolution='l')\n",
    "m.drawcoastlines()\n",
    "m.drawcountries()\n",
    "\n",
    "shp = ShapeFile('../states/statesp020') # 找不到数据啊\n",
    "dbf = DBF('../states/statesp020') # 找不到数据啊\n",
    "\n",
    "for npoly in range(shp.info()[0]):\n",
    "    # 在地图上绘制彩色多边形\n",
    "    shpsegs = []\n",
    "    shp_object = shp.read_object(npoly)\n",
    "    verts = shp_object.vertices()\n",
    "    rings = len(verts)\n",
    "    for ring in range(rings):\n",
    "        lons, lats = zip(*verts[ring])\n",
    "        x, y = m(lons, lats)\n",
    "        shpsegs.append(zip(x,y))\n",
    "        if ring == 0:\n",
    "            shapedict = dbf.read_record(npoly)\n",
    "        name = shapedict['STATE']\n",
    "    lines = LineCollection(shpsegs,antialiaseds=(1,))\n",
    "    \n",
    "    # state_to_code字典,例如'ALASKA' -> 'AK', omitted\n",
    "    try:\n",
    "        per = obama[state_to_code[name.upper()]]\n",
    "    except KeyError:\n",
    "        continue\n",
    "    \n",
    "    lines.set_facecolors('k')\n",
    "    lines.set_alpha(0.75 * per) # 把“百分比”变小一点\n",
    "    lines.set_edgecolors('k')\n",
    "    lines.set_linewidth(0.3)\n",
    "plt.show()"
   ]
  },
  {
   "cell_type": "markdown",
   "metadata": {},
   "source": [
    "## alert"
   ]
  },
  {
   "cell_type": "markdown",
   "metadata": {},
   "source": [
    "### df['a']跟df[['a']]的区别"
   ]
  },
  {
   "cell_type": "code",
   "execution_count": 95,
   "metadata": {},
   "outputs": [],
   "source": [
    "_df = DataFrame({'a':[12,23,34],'b':[11,22,33]})"
   ]
  },
  {
   "cell_type": "markdown",
   "metadata": {},
   "source": [
    "#### df['a']"
   ]
  },
  {
   "cell_type": "code",
   "execution_count": 96,
   "metadata": {},
   "outputs": [
    {
     "data": {
      "text/plain": [
       "0    12\n",
       "1    23\n",
       "2    34\n",
       "Name: a, dtype: int64"
      ]
     },
     "execution_count": 96,
     "metadata": {},
     "output_type": "execute_result"
    }
   ],
   "source": [
    "_df['a']"
   ]
  },
  {
   "cell_type": "markdown",
   "metadata": {},
   "source": [
    "#### df[['a']]"
   ]
  },
  {
   "cell_type": "code",
   "execution_count": 97,
   "metadata": {},
   "outputs": [
    {
     "data": {
      "text/html": [
       "<div>\n",
       "<style>\n",
       "    .dataframe thead tr:only-child th {\n",
       "        text-align: right;\n",
       "    }\n",
       "\n",
       "    .dataframe thead th {\n",
       "        text-align: left;\n",
       "    }\n",
       "\n",
       "    .dataframe tbody tr th {\n",
       "        vertical-align: top;\n",
       "    }\n",
       "</style>\n",
       "<table border=\"1\" class=\"dataframe\">\n",
       "  <thead>\n",
       "    <tr style=\"text-align: right;\">\n",
       "      <th></th>\n",
       "      <th>a</th>\n",
       "    </tr>\n",
       "  </thead>\n",
       "  <tbody>\n",
       "    <tr>\n",
       "      <th>0</th>\n",
       "      <td>12</td>\n",
       "    </tr>\n",
       "    <tr>\n",
       "      <th>1</th>\n",
       "      <td>23</td>\n",
       "    </tr>\n",
       "    <tr>\n",
       "      <th>2</th>\n",
       "      <td>34</td>\n",
       "    </tr>\n",
       "  </tbody>\n",
       "</table>\n",
       "</div>"
      ],
      "text/plain": [
       "    a\n",
       "0  12\n",
       "1  23\n",
       "2  34"
      ]
     },
     "execution_count": 97,
     "metadata": {},
     "output_type": "execute_result"
    }
   ],
   "source": [
    "_df[['a']]"
   ]
  },
  {
   "cell_type": "code",
   "execution_count": 98,
   "metadata": {},
   "outputs": [
    {
     "data": {
      "text/html": [
       "<div>\n",
       "<style>\n",
       "    .dataframe thead tr:only-child th {\n",
       "        text-align: right;\n",
       "    }\n",
       "\n",
       "    .dataframe thead th {\n",
       "        text-align: left;\n",
       "    }\n",
       "\n",
       "    .dataframe tbody tr th {\n",
       "        vertical-align: top;\n",
       "    }\n",
       "</style>\n",
       "<table border=\"1\" class=\"dataframe\">\n",
       "  <thead>\n",
       "    <tr style=\"text-align: right;\">\n",
       "      <th></th>\n",
       "      <th>a</th>\n",
       "      <th>b</th>\n",
       "    </tr>\n",
       "  </thead>\n",
       "  <tbody>\n",
       "    <tr>\n",
       "      <th>0</th>\n",
       "      <td>12</td>\n",
       "      <td>11</td>\n",
       "    </tr>\n",
       "    <tr>\n",
       "      <th>1</th>\n",
       "      <td>23</td>\n",
       "      <td>22</td>\n",
       "    </tr>\n",
       "    <tr>\n",
       "      <th>2</th>\n",
       "      <td>34</td>\n",
       "      <td>33</td>\n",
       "    </tr>\n",
       "  </tbody>\n",
       "</table>\n",
       "</div>"
      ],
      "text/plain": [
       "    a   b\n",
       "0  12  11\n",
       "1  23  22\n",
       "2  34  33"
      ]
     },
     "execution_count": 98,
     "metadata": {},
     "output_type": "execute_result"
    }
   ],
   "source": [
    "_df[['a','b']]"
   ]
  },
  {
   "cell_type": "markdown",
   "metadata": {},
   "source": [
    "#### 小结"
   ]
  },
  {
   "cell_type": "markdown",
   "metadata": {},
   "source": [
    "* df['a']：\n",
    "    * 得到一个由指定列名的Series；\n",
    "    * 不能指定多个列，因为多个列无法对应一个Series；\n",
    "    * 获取原DataFrame的某一列组成的低一个维度的数据；\n",
    "* df[['a']]：\n",
    "    * 得到一个DataFrame的子集，但是依然是DataFrame；\n",
    "    * 可以指定多个，因为本身是DataFrame可以有多列；\n",
    "    * 维度不变，获取指定的N个列组成的数据；"
   ]
  }
 ],
 "metadata": {
  "kernelspec": {
   "display_name": "Python 2",
   "language": "python",
   "name": "python2"
  },
  "language_info": {
   "codemirror_mode": {
    "name": "ipython",
    "version": 2
   },
   "file_extension": ".py",
   "mimetype": "text/x-python",
   "name": "python",
   "nbconvert_exporter": "python",
   "pygments_lexer": "ipython2",
   "version": "2.7.13"
  },
  "toc": {
   "nav_menu": {},
   "number_sections": true,
   "sideBar": true,
   "skip_h1_title": false,
   "title_cell": "Table of Contents",
   "title_sidebar": "Contents",
   "toc_cell": false,
   "toc_position": {},
   "toc_section_display": true,
   "toc_window_display": true
  }
 },
 "nbformat": 4,
 "nbformat_minor": 2
}
