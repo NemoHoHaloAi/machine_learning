{
 "cells": [
  {
   "cell_type": "markdown",
   "metadata": {},
   "source": [
    "# 全美婴儿姓名分析 "
   ]
  },
  {
   "cell_type": "markdown",
   "metadata": {},
   "source": [
    "## 读取数据 "
   ]
  },
  {
   "cell_type": "code",
   "execution_count": 1,
   "metadata": {
    "collapsed": true
   },
   "outputs": [],
   "source": [
    "import pandas as pd\n",
    "import os\n",
    "\n",
    "%matplotlib inline"
   ]
  },
  {
   "cell_type": "code",
   "execution_count": 2,
   "metadata": {
    "collapsed": true
   },
   "outputs": [],
   "source": [
    "babyname_data_root_path = '../../../git_data_book/pydata-book/datasets/babynames/'"
   ]
  },
  {
   "cell_type": "code",
   "execution_count": 3,
   "metadata": {},
   "outputs": [
    {
     "name": "stdout",
     "output_type": "stream",
     "text": [
      "NationalReadMe.pdf  yob1906.txt  yob1933.txt  yob1960.txt  yob1987.txt\r\n",
      "yob1880.txt\t    yob1907.txt  yob1934.txt  yob1961.txt  yob1988.txt\r\n",
      "yob1881.txt\t    yob1908.txt  yob1935.txt  yob1962.txt  yob1989.txt\r\n",
      "yob1882.txt\t    yob1909.txt  yob1936.txt  yob1963.txt  yob1990.txt\r\n",
      "yob1883.txt\t    yob1910.txt  yob1937.txt  yob1964.txt  yob1991.txt\r\n",
      "yob1884.txt\t    yob1911.txt  yob1938.txt  yob1965.txt  yob1992.txt\r\n",
      "yob1885.txt\t    yob1912.txt  yob1939.txt  yob1966.txt  yob1993.txt\r\n",
      "yob1886.txt\t    yob1913.txt  yob1940.txt  yob1967.txt  yob1994.txt\r\n",
      "yob1887.txt\t    yob1914.txt  yob1941.txt  yob1968.txt  yob1995.txt\r\n",
      "yob1888.txt\t    yob1915.txt  yob1942.txt  yob1969.txt  yob1996.txt\r\n",
      "yob1889.txt\t    yob1916.txt  yob1943.txt  yob1970.txt  yob1997.txt\r\n",
      "yob1890.txt\t    yob1917.txt  yob1944.txt  yob1971.txt  yob1998.txt\r\n",
      "yob1891.txt\t    yob1918.txt  yob1945.txt  yob1972.txt  yob1999.txt\r\n",
      "yob1892.txt\t    yob1919.txt  yob1946.txt  yob1973.txt  yob2000.txt\r\n",
      "yob1893.txt\t    yob1920.txt  yob1947.txt  yob1974.txt  yob2001.txt\r\n",
      "yob1894.txt\t    yob1921.txt  yob1948.txt  yob1975.txt  yob2002.txt\r\n",
      "yob1895.txt\t    yob1922.txt  yob1949.txt  yob1976.txt  yob2003.txt\r\n",
      "yob1896.txt\t    yob1923.txt  yob1950.txt  yob1977.txt  yob2004.txt\r\n",
      "yob1897.txt\t    yob1924.txt  yob1951.txt  yob1978.txt  yob2005.txt\r\n",
      "yob1898.txt\t    yob1925.txt  yob1952.txt  yob1979.txt  yob2006.txt\r\n",
      "yob1899.txt\t    yob1926.txt  yob1953.txt  yob1980.txt  yob2007.txt\r\n",
      "yob1900.txt\t    yob1927.txt  yob1954.txt  yob1981.txt  yob2008.txt\r\n",
      "yob1901.txt\t    yob1928.txt  yob1955.txt  yob1982.txt  yob2009.txt\r\n",
      "yob1902.txt\t    yob1929.txt  yob1956.txt  yob1983.txt  yob2010.txt\r\n",
      "yob1903.txt\t    yob1930.txt  yob1957.txt  yob1984.txt\r\n",
      "yob1904.txt\t    yob1931.txt  yob1958.txt  yob1985.txt\r\n",
      "yob1905.txt\t    yob1932.txt  yob1959.txt  yob1986.txt\r\n"
     ]
    }
   ],
   "source": [
    "!ls ../../../git_data_book/pydata-book/datasets/babynames/"
   ]
  },
  {
   "cell_type": "code",
   "execution_count": 4,
   "metadata": {},
   "outputs": [
    {
     "name": "stdout",
     "output_type": "stream",
     "text": [
      "Mary,F,7065\r",
      "\r\n",
      "Anna,F,2604\r",
      "\r\n",
      "Emma,F,2003\r",
      "\r\n",
      "Elizabeth,F,1939\r",
      "\r\n",
      "Minnie,F,1746\r",
      "\r\n",
      "Margaret,F,1578\r",
      "\r\n",
      "Ida,F,1472\r",
      "\r\n",
      "Alice,F,1414\r",
      "\r\n",
      "Bertha,F,1320\r",
      "\r\n",
      "Sarah,F,1288\r",
      "\r\n"
     ]
    }
   ],
   "source": [
    "!cat ../../../git_data_book/pydata-book/datasets/babynames/yob1880.txt | head -n 10"
   ]
  },
  {
   "cell_type": "code",
   "execution_count": 5,
   "metadata": {
    "collapsed": true
   },
   "outputs": [],
   "source": [
    "bnames = ['name', 'gender', 'birth']"
   ]
  },
  {
   "cell_type": "code",
   "execution_count": 6,
   "metadata": {},
   "outputs": [
    {
     "data": {
      "text/html": [
       "<div>\n",
       "<style>\n",
       "    .dataframe thead tr:only-child th {\n",
       "        text-align: right;\n",
       "    }\n",
       "\n",
       "    .dataframe thead th {\n",
       "        text-align: left;\n",
       "    }\n",
       "\n",
       "    .dataframe tbody tr th {\n",
       "        vertical-align: top;\n",
       "    }\n",
       "</style>\n",
       "<table border=\"1\" class=\"dataframe\">\n",
       "  <thead>\n",
       "    <tr style=\"text-align: right;\">\n",
       "      <th></th>\n",
       "      <th>name</th>\n",
       "      <th>gender</th>\n",
       "      <th>birth</th>\n",
       "    </tr>\n",
       "  </thead>\n",
       "  <tbody>\n",
       "    <tr>\n",
       "      <th>0</th>\n",
       "      <td>Mary</td>\n",
       "      <td>F</td>\n",
       "      <td>7065</td>\n",
       "    </tr>\n",
       "    <tr>\n",
       "      <th>1</th>\n",
       "      <td>Anna</td>\n",
       "      <td>F</td>\n",
       "      <td>2604</td>\n",
       "    </tr>\n",
       "    <tr>\n",
       "      <th>2</th>\n",
       "      <td>Emma</td>\n",
       "      <td>F</td>\n",
       "      <td>2003</td>\n",
       "    </tr>\n",
       "  </tbody>\n",
       "</table>\n",
       "</div>"
      ],
      "text/plain": [
       "   name gender  birth\n",
       "0  Mary      F   7065\n",
       "1  Anna      F   2604\n",
       "2  Emma      F   2003"
      ]
     },
     "execution_count": 6,
     "metadata": {},
     "output_type": "execute_result"
    }
   ],
   "source": [
    "bn_1880 = pd.read_table(babyname_data_root_path + 'yob1880.txt', sep = ',', header = None, names = bnames)\n",
    "bn_1880.head(3)"
   ]
  },
  {
   "cell_type": "code",
   "execution_count": 7,
   "metadata": {
    "collapsed": true
   },
   "outputs": [],
   "source": [
    "babynames = os.listdir(babyname_data_root_path)\n",
    "del babynames[babynames.index('NationalReadMe.pdf')] # 从列表中去掉NationalReadMe.pdf"
   ]
  },
  {
   "cell_type": "code",
   "execution_count": 8,
   "metadata": {},
   "outputs": [
    {
     "data": {
      "text/html": [
       "<div>\n",
       "<style>\n",
       "    .dataframe thead tr:only-child th {\n",
       "        text-align: right;\n",
       "    }\n",
       "\n",
       "    .dataframe thead th {\n",
       "        text-align: left;\n",
       "    }\n",
       "\n",
       "    .dataframe tbody tr th {\n",
       "        vertical-align: top;\n",
       "    }\n",
       "</style>\n",
       "<table border=\"1\" class=\"dataframe\">\n",
       "  <thead>\n",
       "    <tr style=\"text-align: right;\">\n",
       "      <th></th>\n",
       "      <th>name</th>\n",
       "      <th>gender</th>\n",
       "      <th>birth</th>\n",
       "      <th>year</th>\n",
       "    </tr>\n",
       "  </thead>\n",
       "  <tbody>\n",
       "    <tr>\n",
       "      <th>0</th>\n",
       "      <td>Mary</td>\n",
       "      <td>F</td>\n",
       "      <td>12078</td>\n",
       "      <td>1890</td>\n",
       "    </tr>\n",
       "    <tr>\n",
       "      <th>1</th>\n",
       "      <td>Anna</td>\n",
       "      <td>F</td>\n",
       "      <td>5233</td>\n",
       "      <td>1890</td>\n",
       "    </tr>\n",
       "    <tr>\n",
       "      <th>2</th>\n",
       "      <td>Elizabeth</td>\n",
       "      <td>F</td>\n",
       "      <td>3112</td>\n",
       "      <td>1890</td>\n",
       "    </tr>\n",
       "  </tbody>\n",
       "</table>\n",
       "</div>"
      ],
      "text/plain": [
       "        name gender  birth  year\n",
       "0       Mary      F  12078  1890\n",
       "1       Anna      F   5233  1890\n",
       "2  Elizabeth      F   3112  1890"
      ]
     },
     "execution_count": 8,
     "metadata": {},
     "output_type": "execute_result"
    }
   ],
   "source": [
    "# 合并各个年份的数据到同一个DataFrame，并加入year列\n",
    "bn_list = [pd.read_table(babyname_data_root_path + babyname, sep = ',', header = None, names = bnames) for babyname in babynames]\n",
    "for i in range(len(bn_list)):\n",
    "    bn_list[i]['year'] = babynames[i][3:7]\n",
    "data = pd.concat(bn_list, ignore_index=True) # 忽略原DataFrame中的行号\n",
    "data.head(3)"
   ]
  },
  {
   "cell_type": "markdown",
   "metadata": {},
   "source": [
    "## 数据分析目标 "
   ]
  },
  {
   "cell_type": "markdown",
   "metadata": {},
   "source": [
    "#### 计算各个年度的婴儿性别数量 -- Mary "
   ]
  },
  {
   "cell_type": "code",
   "execution_count": 9,
   "metadata": {},
   "outputs": [
    {
     "data": {
      "text/plain": [
       "<matplotlib.axes._subplots.AxesSubplot at 0x7f2f75fe6e90>"
      ]
     },
     "execution_count": 9,
     "metadata": {},
     "output_type": "execute_result"
    },
    {
     "data": {
      "image/png": "[encoded data removed]",
      "text/plain": [
       "<matplotlib.figure.Figure at 0x7f2f75fe6710>"
      ]
     },
     "metadata": {},
     "output_type": "display_data"
    }
   ],
   "source": [
    "# 分析每个年度（index），在性别（columns）上的婴儿出生数量对比图\n",
    "data.pivot_table('birth', index='year', columns='gender', aggfunc='sum').plot()"
   ]
  },
  {
   "cell_type": "markdown",
   "metadata": {},
   "source": [
    "结论：可以看到1940后之后，男性婴儿的出生数量一直高于女性婴儿，1940~1945年是二战时期，估计此时人口上涨也是因为战争导致的国家倡导生育；"
   ]
  },
  {
   "cell_type": "markdown",
   "metadata": {},
   "source": [
    "#### 计算指定名字(可以是你自己的,也可以是别人的)的年度比例 -- Mary "
   ]
  },
  {
   "cell_type": "code",
   "execution_count": 10,
   "metadata": {},
   "outputs": [],
   "source": [
    "# 增加prop字段，并按照年份和性别分组\n",
    "def add_proportion(group):\n",
    "    birth = group.birth.astype(float)\n",
    "    group['prop'] = birth / birth.sum()\n",
    "    return group\n",
    "data = data.groupby(['year', 'gender']).apply(add_proportion)"
   ]
  },
  {
   "cell_type": "code",
   "execution_count": 11,
   "metadata": {},
   "outputs": [
    {
     "data": {
      "text/plain": [
       "<matplotlib.axes._subplots.AxesSubplot at 0x7f2fc8feefd0>"
      ]
     },
     "execution_count": 11,
     "metadata": {},
     "output_type": "execute_result"
    },
    {
     "data": {
      "image/png": "[encoded data removed]",
      "text/plain": [
       "<matplotlib.figure.Figure at 0x7f2f819d9290>"
      ]
     },
     "metadata": {},
     "output_type": "display_data"
    }
   ],
   "source": [
    "data.groupby(['year']).first().prop.plot(kind='line', title='year+gender -- name')"
   ]
  },
  {
   "cell_type": "markdown",
   "metadata": {},
   "source": [
    "结论：能够看到随着时间的推进，使用率最大的名字的所占比例基本一直在降低，这也说明了文件更加的多元化，时间在进步；"
   ]
  },
  {
   "cell_type": "markdown",
   "metadata": {},
   "source": [
    "#### 计算某个名字的相对排名 -- Mary"
   ]
  },
  {
   "cell_type": "code",
   "execution_count": 37,
   "metadata": {},
   "outputs": [
    {
     "data": {
      "text/plain": [
       "<matplotlib.axes._subplots.AxesSubplot at 0x7f2f73d17d10>"
      ]
     },
     "execution_count": 37,
     "metadata": {},
     "output_type": "execute_result"
    },
    {
     "data": {
      "image/png": "[encoded data removed]",
      "text/plain": [
       "<matplotlib.figure.Figure at 0x7f2f6bd592d0>"
      ]
     },
     "metadata": {},
     "output_type": "display_data"
    }
   ],
   "source": [
    "# 计算Mary这个名字在所有年份中的所占比例的变化\n",
    "data.loc[data['name']=='Mary'].loc[data['gender']=='F'].sort_values(by='year').plot(x='year', y='prop')"
   ]
  },
  {
   "cell_type": "markdown",
   "metadata": {},
   "source": [
    "结论：Mary这个名字在当年女性婴儿的名字中所占比例呈现一个持续下降的态势，最大的可能是随着时间的推移，美国的迁入人种的多样化，文化的多样化，使得在取名字这件事情上也趋近于多样化，也就是的不存在某个名字占很大比例的情况，当然了人口增长也是一个很重要的原因；"
   ]
  },
  {
   "cell_type": "code",
   "execution_count": 38,
   "metadata": {},
   "outputs": [
    {
     "data": {
      "text/plain": [
       "<matplotlib.axes._subplots.AxesSubplot at 0x7f2f6bd74e10>"
      ]
     },
     "execution_count": 38,
     "metadata": {},
     "output_type": "execute_result"
    },
    {
     "data": {
      "image/png": "[encoded data removed]",
      "text/plain": [
       "<matplotlib.figure.Figure at 0x7f2f6bc44150>"
      ]
     },
     "metadata": {},
     "output_type": "display_data"
    }
   ],
   "source": [
    "# 计算Mary这个名字在所有年份中的所占比例的变化\n",
    "data.loc[data['name']=='Mary'].loc[data['gender']=='F'].sort_values(by='year').plot(x='year', y='birth')"
   ]
  },
  {
   "cell_type": "markdown",
   "metadata": {},
   "source": [
    "结论：结合两张图看，Mary的比例基本在下降，但是在1910年前后开始稳重有升，直到1930年左右才再次下降，而从人数看这段时间叫Mary的人数也确实有大幅增加，不知道是否跟尊敬的玛丽居里夫人有关（Marie Curie，1867年11月7日—1934年7月4日），从时间上看1910前后这段时间，居里夫人分别在1903和1911年获得两次诺贝尔奖，1910年前后正是其个人声望地位的顶峰，此时出生的女性婴儿或许较青睐取居里夫人的名字Mary（确切将距离夫人的名是Marie，Mary主要用于英语和圣经中，Marie则主要是出现在法语、捷克语、德语、英语、瑞典语、挪威语以及丹麦语中），而在1930年前后，此时居里夫人由于长期接触放射性物质，且生涯后期虽然有很多贡献，但不在媒体等出现，且有被污蔑的情况，因此此时名字的热度下降，纯属猜测；"
   ]
  },
  {
   "cell_type": "markdown",
   "metadata": {},
   "source": [
    "#### 计算最流行的名字Top10 -- 1880年 "
   ]
  },
  {
   "cell_type": "code",
   "execution_count": 13,
   "metadata": {},
   "outputs": [
    {
     "name": "stderr",
     "output_type": "stream",
     "text": [
      "/home/helong/anaconda2/lib/python2.7/site-packages/ipykernel_launcher.py:1: FutureWarning: by argument to sort_index is deprecated, pls use .sort_values(by=...)\n",
      "  \"\"\"Entry point for launching an IPython kernel.\n"
     ]
    },
    {
     "data": {
      "text/html": [
       "<div>\n",
       "<style>\n",
       "    .dataframe thead tr:only-child th {\n",
       "        text-align: right;\n",
       "    }\n",
       "\n",
       "    .dataframe thead th {\n",
       "        text-align: left;\n",
       "    }\n",
       "\n",
       "    .dataframe tbody tr th {\n",
       "        vertical-align: top;\n",
       "    }\n",
       "</style>\n",
       "<table border=\"1\" class=\"dataframe\">\n",
       "  <thead>\n",
       "    <tr style=\"text-align: right;\">\n",
       "      <th></th>\n",
       "      <th>name</th>\n",
       "      <th>gender</th>\n",
       "      <th>birth</th>\n",
       "      <th>year</th>\n",
       "      <th>prop</th>\n",
       "    </tr>\n",
       "  </thead>\n",
       "  <tbody>\n",
       "    <tr>\n",
       "      <th>453308</th>\n",
       "      <td>John</td>\n",
       "      <td>M</td>\n",
       "      <td>9655</td>\n",
       "      <td>1880</td>\n",
       "      <td>0.087381</td>\n",
       "    </tr>\n",
       "    <tr>\n",
       "      <th>87069</th>\n",
       "      <td>John</td>\n",
       "      <td>M</td>\n",
       "      <td>8769</td>\n",
       "      <td>1881</td>\n",
       "      <td>0.087039</td>\n",
       "    </tr>\n",
       "    <tr>\n",
       "      <th>453309</th>\n",
       "      <td>William</td>\n",
       "      <td>M</td>\n",
       "      <td>9533</td>\n",
       "      <td>1880</td>\n",
       "      <td>0.086277</td>\n",
       "    </tr>\n",
       "    <tr>\n",
       "      <th>130008</th>\n",
       "      <td>John</td>\n",
       "      <td>M</td>\n",
       "      <td>8894</td>\n",
       "      <td>1883</td>\n",
       "      <td>0.085003</td>\n",
       "    </tr>\n",
       "    <tr>\n",
       "      <th>87070</th>\n",
       "      <td>William</td>\n",
       "      <td>M</td>\n",
       "      <td>8524</td>\n",
       "      <td>1881</td>\n",
       "      <td>0.084607</td>\n",
       "    </tr>\n",
       "    <tr>\n",
       "      <th>835971</th>\n",
       "      <td>John</td>\n",
       "      <td>M</td>\n",
       "      <td>9557</td>\n",
       "      <td>1882</td>\n",
       "      <td>0.084064</td>\n",
       "    </tr>\n",
       "    <tr>\n",
       "      <th>1123784</th>\n",
       "      <td>John</td>\n",
       "      <td>M</td>\n",
       "      <td>9387</td>\n",
       "      <td>1884</td>\n",
       "      <td>0.082022</td>\n",
       "    </tr>\n",
       "    <tr>\n",
       "      <th>835972</th>\n",
       "      <td>William</td>\n",
       "      <td>M</td>\n",
       "      <td>9298</td>\n",
       "      <td>1882</td>\n",
       "      <td>0.081786</td>\n",
       "    </tr>\n",
       "    <tr>\n",
       "      <th>487851</th>\n",
       "      <td>John</td>\n",
       "      <td>M</td>\n",
       "      <td>9026</td>\n",
       "      <td>1886</td>\n",
       "      <td>0.081473</td>\n",
       "    </tr>\n",
       "    <tr>\n",
       "      <th>1568348</th>\n",
       "      <td>John</td>\n",
       "      <td>M</td>\n",
       "      <td>8756</td>\n",
       "      <td>1885</td>\n",
       "      <td>0.081223</td>\n",
       "    </tr>\n",
       "  </tbody>\n",
       "</table>\n",
       "</div>"
      ],
      "text/plain": [
       "            name gender  birth  year      prop\n",
       "453308      John      M   9655  1880  0.087381\n",
       "87069       John      M   8769  1881  0.087039\n",
       "453309   William      M   9533  1880  0.086277\n",
       "130008      John      M   8894  1883  0.085003\n",
       "87070    William      M   8524  1881  0.084607\n",
       "835971      John      M   9557  1882  0.084064\n",
       "1123784     John      M   9387  1884  0.082022\n",
       "835972   William      M   9298  1882  0.081786\n",
       "487851      John      M   9026  1886  0.081473\n",
       "1568348     John      M   8756  1885  0.081223"
      ]
     },
     "execution_count": 13,
     "metadata": {},
     "output_type": "execute_result"
    }
   ],
   "source": [
    "data.sort_index(by='prop', ascending=False).head(10)"
   ]
  },
  {
   "cell_type": "markdown",
   "metadata": {},
   "source": [
    "结论：发现都集中在188x年，说明两个问题，那个时代人数比较少，因此很容易使得某些常用名的所占比例很大，另一个是那个时代的人们取名字都相对普通集中在几个常用名中；"
   ]
  },
  {
   "cell_type": "code",
   "execution_count": 58,
   "metadata": {},
   "outputs": [
    {
     "data": {
      "text/plain": [
       "<matplotlib.axes._subplots.AxesSubplot at 0x7f2f73dbab90>"
      ]
     },
     "execution_count": 58,
     "metadata": {},
     "output_type": "execute_result"
    },
    {
     "data": {
      "image/png": "[encoded data removed]",
      "text/plain": [
       "<matplotlib.figure.Figure at 0x7f2f6b804f50>"
      ]
     },
     "metadata": {},
     "output_type": "display_data"
    }
   ],
   "source": [
    "# 绘制各个年份最受欢迎名字所占比例图\n",
    "data.groupby(['year']).max().plot(y='prop')"
   ]
  },
  {
   "cell_type": "markdown",
   "metadata": {},
   "source": [
    "结论：能够看到最受欢迎名字所占比例一直在逐年下降，说明了大家更倾向于取多种多样的名字，而不再局限于少数的几个常用名字；"
   ]
  }
 ],
 "metadata": {
  "kernelspec": {
   "display_name": "Python 2",
   "language": "python",
   "name": "python2"
  },
  "language_info": {
   "codemirror_mode": {
    "name": "ipython",
    "version": 2
   },
   "file_extension": ".py",
   "mimetype": "text/x-python",
   "name": "python",
   "nbconvert_exporter": "python",
   "pygments_lexer": "ipython2",
   "version": "2.7.13"
  }
 },
 "nbformat": 4,
 "nbformat_minor": 2
}
