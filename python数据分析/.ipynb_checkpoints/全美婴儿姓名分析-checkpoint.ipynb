{
 "cells": [
  {
   "cell_type": "markdown",
   "metadata": {},
   "source": [
    "# 全美婴儿姓名分析 "
   ]
  },
  {
   "cell_type": "markdown",
   "metadata": {},
   "source": [
    "## 读取数据 "
   ]
  },
  {
   "cell_type": "code",
   "execution_count": 1,
   "metadata": {
    "collapsed": true
   },
   "outputs": [],
   "source": [
    "import pandas as pd"
   ]
  },
  {
   "cell_type": "code",
   "execution_count": 5,
   "metadata": {
    "collapsed": true
   },
   "outputs": [],
   "source": [
    "babyname_data_root_path = '../../../git_data_book/pydata-book/datasets/babynames/'"
   ]
  },
  {
   "cell_type": "code",
   "execution_count": 6,
   "metadata": {},
   "outputs": [
    {
     "name": "stdout",
     "output_type": "stream",
     "text": [
      "NationalReadMe.pdf  yob1906.txt  yob1933.txt  yob1960.txt  yob1987.txt\r\n",
      "yob1880.txt\t    yob1907.txt  yob1934.txt  yob1961.txt  yob1988.txt\r\n",
      "yob1881.txt\t    yob1908.txt  yob1935.txt  yob1962.txt  yob1989.txt\r\n",
      "yob1882.txt\t    yob1909.txt  yob1936.txt  yob1963.txt  yob1990.txt\r\n",
      "yob1883.txt\t    yob1910.txt  yob1937.txt  yob1964.txt  yob1991.txt\r\n",
      "yob1884.txt\t    yob1911.txt  yob1938.txt  yob1965.txt  yob1992.txt\r\n",
      "yob1885.txt\t    yob1912.txt  yob1939.txt  yob1966.txt  yob1993.txt\r\n",
      "yob1886.txt\t    yob1913.txt  yob1940.txt  yob1967.txt  yob1994.txt\r\n",
      "yob1887.txt\t    yob1914.txt  yob1941.txt  yob1968.txt  yob1995.txt\r\n",
      "yob1888.txt\t    yob1915.txt  yob1942.txt  yob1969.txt  yob1996.txt\r\n",
      "yob1889.txt\t    yob1916.txt  yob1943.txt  yob1970.txt  yob1997.txt\r\n",
      "yob1890.txt\t    yob1917.txt  yob1944.txt  yob1971.txt  yob1998.txt\r\n",
      "yob1891.txt\t    yob1918.txt  yob1945.txt  yob1972.txt  yob1999.txt\r\n",
      "yob1892.txt\t    yob1919.txt  yob1946.txt  yob1973.txt  yob2000.txt\r\n",
      "yob1893.txt\t    yob1920.txt  yob1947.txt  yob1974.txt  yob2001.txt\r\n",
      "yob1894.txt\t    yob1921.txt  yob1948.txt  yob1975.txt  yob2002.txt\r\n",
      "yob1895.txt\t    yob1922.txt  yob1949.txt  yob1976.txt  yob2003.txt\r\n",
      "yob1896.txt\t    yob1923.txt  yob1950.txt  yob1977.txt  yob2004.txt\r\n",
      "yob1897.txt\t    yob1924.txt  yob1951.txt  yob1978.txt  yob2005.txt\r\n",
      "yob1898.txt\t    yob1925.txt  yob1952.txt  yob1979.txt  yob2006.txt\r\n",
      "yob1899.txt\t    yob1926.txt  yob1953.txt  yob1980.txt  yob2007.txt\r\n",
      "yob1900.txt\t    yob1927.txt  yob1954.txt  yob1981.txt  yob2008.txt\r\n",
      "yob1901.txt\t    yob1928.txt  yob1955.txt  yob1982.txt  yob2009.txt\r\n",
      "yob1902.txt\t    yob1929.txt  yob1956.txt  yob1983.txt  yob2010.txt\r\n",
      "yob1903.txt\t    yob1930.txt  yob1957.txt  yob1984.txt\r\n",
      "yob1904.txt\t    yob1931.txt  yob1958.txt  yob1985.txt\r\n",
      "yob1905.txt\t    yob1932.txt  yob1959.txt  yob1986.txt\r\n"
     ]
    }
   ],
   "source": [
    "!ls ../../../git_data_book/pydata-book/datasets/babynames/"
   ]
  },
  {
   "cell_type": "code",
   "execution_count": 12,
   "metadata": {},
   "outputs": [
    {
     "name": "stdout",
     "output_type": "stream",
     "text": [
      "Mary,F,7065\r",
      "\r\n",
      "Anna,F,2604\r",
      "\r\n",
      "Emma,F,2003\r",
      "\r\n",
      "Elizabeth,F,1939\r",
      "\r\n",
      "Minnie,F,1746\r",
      "\r\n",
      "Margaret,F,1578\r",
      "\r\n",
      "Ida,F,1472\r",
      "\r\n",
      "Alice,F,1414\r",
      "\r\n",
      "Bertha,F,1320\r",
      "\r\n",
      "Sarah,F,1288\r",
      "\r\n"
     ]
    }
   ],
   "source": [
    "!cat ../../../git_data_book/pydata-book/datasets/babynames/yob1880.txt | head -n 10"
   ]
  },
  {
   "cell_type": "code",
   "execution_count": 13,
   "metadata": {
    "collapsed": true
   },
   "outputs": [],
   "source": [
    "bnames = ['name', 'gender', 'birth']"
   ]
  },
  {
   "cell_type": "code",
   "execution_count": 14,
   "metadata": {},
   "outputs": [
    {
     "data": {
      "text/html": [
       "<div>\n",
       "<style>\n",
       "    .dataframe thead tr:only-child th {\n",
       "        text-align: right;\n",
       "    }\n",
       "\n",
       "    .dataframe thead th {\n",
       "        text-align: left;\n",
       "    }\n",
       "\n",
       "    .dataframe tbody tr th {\n",
       "        vertical-align: top;\n",
       "    }\n",
       "</style>\n",
       "<table border=\"1\" class=\"dataframe\">\n",
       "  <thead>\n",
       "    <tr style=\"text-align: right;\">\n",
       "      <th></th>\n",
       "      <th>name</th>\n",
       "      <th>gender</th>\n",
       "      <th>birth</th>\n",
       "    </tr>\n",
       "  </thead>\n",
       "  <tbody>\n",
       "    <tr>\n",
       "      <th>0</th>\n",
       "      <td>Mary</td>\n",
       "      <td>F</td>\n",
       "      <td>7065</td>\n",
       "    </tr>\n",
       "    <tr>\n",
       "      <th>1</th>\n",
       "      <td>Anna</td>\n",
       "      <td>F</td>\n",
       "      <td>2604</td>\n",
       "    </tr>\n",
       "    <tr>\n",
       "      <th>2</th>\n",
       "      <td>Emma</td>\n",
       "      <td>F</td>\n",
       "      <td>2003</td>\n",
       "    </tr>\n",
       "  </tbody>\n",
       "</table>\n",
       "</div>"
      ],
      "text/plain": [
       "   name gender  birth\n",
       "0  Mary      F   7065\n",
       "1  Anna      F   2604\n",
       "2  Emma      F   2003"
      ]
     },
     "execution_count": 14,
     "metadata": {},
     "output_type": "execute_result"
    }
   ],
   "source": [
    "bn_1880 = pd.read_table(babyname_data_root_path + 'yob1880.txt', sep = ',', header = None, names = bnames)\n",
    "bn_1880.head(3)"
   ]
  },
  {
   "cell_type": "code",
   "execution_count": null,
   "metadata": {
    "collapsed": true
   },
   "outputs": [],
   "source": []
  },
  {
   "cell_type": "markdown",
   "metadata": {},
   "source": [
    "## 数据分析目标 "
   ]
  },
  {
   "cell_type": "markdown",
   "metadata": {},
   "source": [
    "#### 计算指定名字(可以是你自己的,也可以是别人的)的年度比例 -- Mary "
   ]
  },
  {
   "cell_type": "markdown",
   "metadata": {},
   "source": [
    "#### 计算某个名字的相对排名 -- Mary"
   ]
  },
  {
   "cell_type": "markdown",
   "metadata": {},
   "source": [
    "#### 计算各年度最流行的名字,以及增长或减少最快的名字 -- 1880年 "
   ]
  },
  {
   "cell_type": "markdown",
   "metadata": {},
   "source": [
    "#### 计算最中性的名字 -- 1880年 "
   ]
  }
 ],
 "metadata": {
  "kernelspec": {
   "display_name": "Python 2",
   "language": "python",
   "name": "python2"
  },
  "language_info": {
   "codemirror_mode": {
    "name": "ipython",
    "version": 2
   },
   "file_extension": ".py",
   "mimetype": "text/x-python",
   "name": "python",
   "nbconvert_exporter": "python",
   "pygments_lexer": "ipython2",
   "version": "2.7.13"
  }
 },
 "nbformat": 4,
 "nbformat_minor": 2
}
