{
 "cells": [
  {
   "cell_type": "markdown",
   "metadata": {},
   "source": [
    "# NumPy基础 "
   ]
  },
  {
   "cell_type": "markdown",
   "metadata": {},
   "source": [
    "NumPy：高性能科学计算以及数据分析的基础包（pandas），理解它有助于更好的使用pandas等数据分析包；\n",
    "NumPy内容包括：\n",
    "1. ndarray：一种具有矢量算术能力和复杂广播能力的快速且节省空间的多维数组；\n",
    "2. 对整组数据（ndarray）进行快速（低级语言实现）运算的标准数学函数（无需编写for循环等）；\n",
    "3. 读写磁盘数据以及操作内存映射文件的工具；\n",
    "4. 线性代数、随机数生成和傅里叶变换；\n",
    "5. 集成C、C++、Fortran等其他语言代码的工具（粘合剂）；"
   ]
  },
  {
   "cell_type": "code",
   "execution_count": 168,
   "metadata": {
    "collapsed": true
   },
   "outputs": [],
   "source": [
    "import numpy as np\n",
    "import matplotlib.pyplot as plt\n",
    "\n",
    "import math,random\n",
    "\n",
    "%matplotlib inline"
   ]
  },
  {
   "cell_type": "markdown",
   "metadata": {},
   "source": [
    "## ndarray -- 一种多维数组对象 "
   ]
  },
  {
   "cell_type": "markdown",
   "metadata": {},
   "source": [
    "### 创建ndarray "
   ]
  },
  {
   "cell_type": "markdown",
   "metadata": {},
   "source": [
    "#### np.array "
   ]
  },
  {
   "cell_type": "code",
   "execution_count": 2,
   "metadata": {},
   "outputs": [
    {
     "name": "stdout",
     "output_type": "stream",
     "text": [
      "(4,)\n",
      "int64\n"
     ]
    }
   ],
   "source": [
    "arr1 = np.array([1, 2, 3, 4])\n",
    "print arr1.shape\n",
    "print arr1.dtype"
   ]
  },
  {
   "cell_type": "code",
   "execution_count": 3,
   "metadata": {},
   "outputs": [
    {
     "name": "stdout",
     "output_type": "stream",
     "text": [
      "(2, 4)\n",
      "int64\n"
     ]
    }
   ],
   "source": [
    "arr2 = np.array([[1, 2, 3, 4],[4, 3, 2, 1]])\n",
    "print arr2.shape\n",
    "print arr2.dtype"
   ]
  },
  {
   "cell_type": "code",
   "execution_count": 4,
   "metadata": {},
   "outputs": [
    {
     "name": "stdout",
     "output_type": "stream",
     "text": [
      "(2,)\n",
      "object\n"
     ]
    }
   ],
   "source": [
    "arr2 = np.array([[2, 3, 4],[4, 3, 2, 1]])\n",
    "print arr2.shape\n",
    "print arr2.dtype"
   ]
  },
  {
   "cell_type": "markdown",
   "metadata": {},
   "source": [
    "#### np.zeros/zeros_like "
   ]
  },
  {
   "cell_type": "code",
   "execution_count": 5,
   "metadata": {},
   "outputs": [
    {
     "data": {
      "text/plain": [
       "array([ 0.,  0.])"
      ]
     },
     "execution_count": 5,
     "metadata": {},
     "output_type": "execute_result"
    }
   ],
   "source": [
    "arr_zeros = np.zeros([2])\n",
    "arr_zeros"
   ]
  },
  {
   "cell_type": "code",
   "execution_count": 6,
   "metadata": {},
   "outputs": [
    {
     "data": {
      "text/plain": [
       "array([[ 0.,  0.,  0.,  0.],\n",
       "       [ 0.,  0.,  0.,  0.]])"
      ]
     },
     "execution_count": 6,
     "metadata": {},
     "output_type": "execute_result"
    }
   ],
   "source": [
    "arr_zeros = np.zeros([2,4])\n",
    "arr_zeros"
   ]
  },
  {
   "cell_type": "code",
   "execution_count": 7,
   "metadata": {},
   "outputs": [
    {
     "data": {
      "text/plain": [
       "array([[0, 0, 0, 0],\n",
       "       [0, 0, 0, 0]])"
      ]
     },
     "execution_count": 7,
     "metadata": {},
     "output_type": "execute_result"
    }
   ],
   "source": [
    "test = np.array([[1,2,3,4],[4,3,2,1]])\n",
    "arr_zeros_like = np.zeros_like(test)\n",
    "arr_zeros_like"
   ]
  },
  {
   "cell_type": "markdown",
   "metadata": {},
   "source": [
    "#### np.ones/ones_like "
   ]
  },
  {
   "cell_type": "code",
   "execution_count": 8,
   "metadata": {},
   "outputs": [
    {
     "data": {
      "text/plain": [
       "array([ 1.,  1.])"
      ]
     },
     "execution_count": 8,
     "metadata": {},
     "output_type": "execute_result"
    }
   ],
   "source": [
    "arr_ones = np.ones([2])\n",
    "arr_ones"
   ]
  },
  {
   "cell_type": "code",
   "execution_count": 9,
   "metadata": {},
   "outputs": [
    {
     "data": {
      "text/plain": [
       "array([[ 1.,  1.,  1.,  1.],\n",
       "       [ 1.,  1.,  1.,  1.]])"
      ]
     },
     "execution_count": 9,
     "metadata": {},
     "output_type": "execute_result"
    }
   ],
   "source": [
    "arr_ones = np.ones([2,4])\n",
    "arr_ones"
   ]
  },
  {
   "cell_type": "code",
   "execution_count": 10,
   "metadata": {},
   "outputs": [
    {
     "data": {
      "text/plain": [
       "array([[1, 1, 1, 1],\n",
       "       [1, 1, 1, 1]])"
      ]
     },
     "execution_count": 10,
     "metadata": {},
     "output_type": "execute_result"
    }
   ],
   "source": [
    "test = np.array([[1,2,3,4],[4,3,2,1]])\n",
    "arr_ones_like = np.ones_like(test)\n",
    "arr_ones_like"
   ]
  },
  {
   "cell_type": "markdown",
   "metadata": {},
   "source": [
    "#### np.empty/empty_like 不等同于zeros/zeros_like，开辟内存空间后不修改当中的内容，因此结果是不可预知的 "
   ]
  },
  {
   "cell_type": "code",
   "execution_count": 11,
   "metadata": {},
   "outputs": [
    {
     "data": {
      "text/plain": [
       "array([ 0.,  0.])"
      ]
     },
     "execution_count": 11,
     "metadata": {},
     "output_type": "execute_result"
    }
   ],
   "source": [
    "arr_empty = np.empty([2])\n",
    "arr_empty"
   ]
  },
  {
   "cell_type": "code",
   "execution_count": 12,
   "metadata": {},
   "outputs": [
    {
     "data": {
      "text/plain": [
       "array([[ 0.,  0.,  0.,  0.],\n",
       "       [ 0.,  0.,  0.,  0.]])"
      ]
     },
     "execution_count": 12,
     "metadata": {},
     "output_type": "execute_result"
    }
   ],
   "source": [
    "arr_empty = np.empty([2,4])\n",
    "arr_empty"
   ]
  },
  {
   "cell_type": "code",
   "execution_count": 13,
   "metadata": {},
   "outputs": [
    {
     "data": {
      "text/plain": [
       "array([[1, 2, 3, 4],\n",
       "       [4, 3, 2, 1]])"
      ]
     },
     "execution_count": 13,
     "metadata": {},
     "output_type": "execute_result"
    }
   ],
   "source": [
    "test = np.array([[1,2,3,4],[4,3,2,1]])\n",
    "arr_empty_like = np.empty_like(test)\n",
    "arr_empty_like"
   ]
  },
  {
   "cell_type": "markdown",
   "metadata": {},
   "source": [
    "#### np.arange 类似与python的range，但是返回的不是array而是ndarray "
   ]
  },
  {
   "cell_type": "code",
   "execution_count": 14,
   "metadata": {},
   "outputs": [
    {
     "data": {
      "text/plain": [
       "array([0, 1, 2, 3, 4])"
      ]
     },
     "execution_count": 14,
     "metadata": {},
     "output_type": "execute_result"
    }
   ],
   "source": [
    "arr_arange = np.arange(5)\n",
    "arr_arange"
   ]
  },
  {
   "cell_type": "markdown",
   "metadata": {},
   "source": [
    "#### np.eye/identity "
   ]
  },
  {
   "cell_type": "code",
   "execution_count": 15,
   "metadata": {},
   "outputs": [
    {
     "data": {
      "text/plain": [
       "array([[ 1.,  0.,  0.,  0.,  0.],\n",
       "       [ 0.,  1.,  0.,  0.,  0.],\n",
       "       [ 0.,  0.,  1.,  0.,  0.],\n",
       "       [ 0.,  0.,  0.,  1.,  0.],\n",
       "       [ 0.,  0.,  0.,  0.,  1.]])"
      ]
     },
     "execution_count": 15,
     "metadata": {},
     "output_type": "execute_result"
    }
   ],
   "source": [
    "arr_identity = np.identity(5) # 单位矩阵\n",
    "arr_identity"
   ]
  },
  {
   "cell_type": "code",
   "execution_count": 16,
   "metadata": {},
   "outputs": [
    {
     "data": {
      "text/plain": [
       "array([[ 1.,  0.,  0.,  0.,  0.],\n",
       "       [ 0.,  1.,  0.,  0.,  0.],\n",
       "       [ 0.,  0.,  1.,  0.,  0.],\n",
       "       [ 0.,  0.,  0.,  1.,  0.],\n",
       "       [ 0.,  0.,  0.,  0.,  1.]])"
      ]
     },
     "execution_count": 16,
     "metadata": {},
     "output_type": "execute_result"
    }
   ],
   "source": [
    "arr_eye = np.eye(5) # 单位矩阵\n",
    "arr_eye"
   ]
  },
  {
   "cell_type": "code",
   "execution_count": 17,
   "metadata": {},
   "outputs": [
    {
     "data": {
      "text/plain": [
       "array([[ 1.,  0.,  0.],\n",
       "       [ 0.,  1.,  0.],\n",
       "       [ 0.,  0.,  1.],\n",
       "       [ 0.,  0.,  0.],\n",
       "       [ 0.,  0.,  0.]])"
      ]
     },
     "execution_count": 17,
     "metadata": {},
     "output_type": "execute_result"
    }
   ],
   "source": [
    "arr_eye = np.eye(5, M=3) # 非方阵\n",
    "arr_eye"
   ]
  },
  {
   "cell_type": "code",
   "execution_count": 18,
   "metadata": {},
   "outputs": [
    {
     "data": {
      "text/plain": [
       "array([[ 0.,  1.,  0.],\n",
       "       [ 0.,  0.,  1.],\n",
       "       [ 0.,  0.,  0.],\n",
       "       [ 0.,  0.,  0.],\n",
       "       [ 0.,  0.,  0.]])"
      ]
     },
     "execution_count": 18,
     "metadata": {},
     "output_type": "execute_result"
    }
   ],
   "source": [
    "arr_eye = np.eye(5, M=3, k=1) # 非方阵，向上偏离1\n",
    "arr_eye"
   ]
  },
  {
   "cell_type": "code",
   "execution_count": 19,
   "metadata": {},
   "outputs": [
    {
     "data": {
      "text/plain": [
       "array([[ 0.,  0.,  0.],\n",
       "       [ 1.,  0.,  0.],\n",
       "       [ 0.,  1.,  0.],\n",
       "       [ 0.,  0.,  1.],\n",
       "       [ 0.,  0.,  0.]])"
      ]
     },
     "execution_count": 19,
     "metadata": {},
     "output_type": "execute_result"
    }
   ],
   "source": [
    "arr_eye = np.eye(5, M=3, k=-1) # 非方阵，向下偏离1\n",
    "arr_eye"
   ]
  },
  {
   "cell_type": "markdown",
   "metadata": {},
   "source": [
    "### numpy数组运算以及与标量的运算 "
   ]
  },
  {
   "cell_type": "code",
   "execution_count": 20,
   "metadata": {
    "collapsed": true
   },
   "outputs": [],
   "source": [
    "arr = np.array([[1,2,3],[4,5,6]])"
   ]
  },
  {
   "cell_type": "markdown",
   "metadata": {},
   "source": [
    "#### 相同shape的数组之间的运算会应用到每一个元素上 "
   ]
  },
  {
   "cell_type": "code",
   "execution_count": 21,
   "metadata": {},
   "outputs": [
    {
     "data": {
      "text/plain": [
       "array([[ 1,  4,  9],\n",
       "       [16, 25, 36]])"
      ]
     },
     "execution_count": 21,
     "metadata": {},
     "output_type": "execute_result"
    }
   ],
   "source": [
    "arr * arr"
   ]
  },
  {
   "cell_type": "code",
   "execution_count": 22,
   "metadata": {},
   "outputs": [
    {
     "data": {
      "text/plain": [
       "array([[ 2,  4,  6],\n",
       "       [ 8, 10, 12]])"
      ]
     },
     "execution_count": 22,
     "metadata": {},
     "output_type": "execute_result"
    }
   ],
   "source": [
    "arr + arr"
   ]
  },
  {
   "cell_type": "code",
   "execution_count": 23,
   "metadata": {},
   "outputs": [
    {
     "data": {
      "text/plain": [
       "array([[1, 1, 1],\n",
       "       [1, 1, 1]])"
      ]
     },
     "execution_count": 23,
     "metadata": {},
     "output_type": "execute_result"
    }
   ],
   "source": [
    "arr / arr"
   ]
  },
  {
   "cell_type": "code",
   "execution_count": 24,
   "metadata": {},
   "outputs": [
    {
     "data": {
      "text/plain": [
       "array([[0, 0, 0],\n",
       "       [0, 0, 0]])"
      ]
     },
     "execution_count": 24,
     "metadata": {},
     "output_type": "execute_result"
    }
   ],
   "source": [
    "arr - arr"
   ]
  },
  {
   "cell_type": "markdown",
   "metadata": {},
   "source": [
    "#### 数组与标量的运算同样会应用到每一个元素上 "
   ]
  },
  {
   "cell_type": "code",
   "execution_count": 25,
   "metadata": {},
   "outputs": [
    {
     "data": {
      "text/plain": [
       "array([[ 2,  4,  6],\n",
       "       [ 8, 10, 12]])"
      ]
     },
     "execution_count": 25,
     "metadata": {},
     "output_type": "execute_result"
    }
   ],
   "source": [
    "arr * 2"
   ]
  },
  {
   "cell_type": "code",
   "execution_count": 26,
   "metadata": {},
   "outputs": [
    {
     "data": {
      "text/plain": [
       "array([[-1,  0,  1],\n",
       "       [ 2,  3,  4]])"
      ]
     },
     "execution_count": 26,
     "metadata": {},
     "output_type": "execute_result"
    }
   ],
   "source": [
    "arr - 2"
   ]
  },
  {
   "cell_type": "code",
   "execution_count": 27,
   "metadata": {},
   "outputs": [
    {
     "data": {
      "text/plain": [
       "array([[3, 4, 5],\n",
       "       [6, 7, 8]])"
      ]
     },
     "execution_count": 27,
     "metadata": {},
     "output_type": "execute_result"
    }
   ],
   "source": [
    "arr + 2"
   ]
  },
  {
   "cell_type": "code",
   "execution_count": 28,
   "metadata": {},
   "outputs": [
    {
     "data": {
      "text/plain": [
       "array([[0, 1, 1],\n",
       "       [2, 2, 3]])"
      ]
     },
     "execution_count": 28,
     "metadata": {},
     "output_type": "execute_result"
    }
   ],
   "source": [
    "arr / 2"
   ]
  },
  {
   "cell_type": "markdown",
   "metadata": {},
   "source": [
    "#### 不同大小的数组同样可以运算，称为广播，暂时不讨论 "
   ]
  },
  {
   "cell_type": "markdown",
   "metadata": {},
   "source": [
    "### 基本索引和切片（重点，pandas中应用很广） "
   ]
  },
  {
   "cell_type": "markdown",
   "metadata": {},
   "source": [
    "#### 一维数组 "
   ]
  },
  {
   "cell_type": "code",
   "execution_count": 29,
   "metadata": {},
   "outputs": [
    {
     "data": {
      "text/plain": [
       "array([0, 1, 2, 3, 4, 5, 6, 7, 8, 9])"
      ]
     },
     "execution_count": 29,
     "metadata": {},
     "output_type": "execute_result"
    }
   ],
   "source": [
    "arr = np.arange(10)\n",
    "arr"
   ]
  },
  {
   "cell_type": "code",
   "execution_count": 30,
   "metadata": {},
   "outputs": [
    {
     "data": {
      "text/plain": [
       "3"
      ]
     },
     "execution_count": 30,
     "metadata": {},
     "output_type": "execute_result"
    }
   ],
   "source": [
    "arr[3]"
   ]
  },
  {
   "cell_type": "code",
   "execution_count": 31,
   "metadata": {},
   "outputs": [
    {
     "data": {
      "text/plain": [
       "array([5, 6, 7, 8, 9])"
      ]
     },
     "execution_count": 31,
     "metadata": {},
     "output_type": "execute_result"
    }
   ],
   "source": [
    "arr[5:]"
   ]
  },
  {
   "cell_type": "code",
   "execution_count": 32,
   "metadata": {},
   "outputs": [
    {
     "data": {
      "text/plain": [
       "array([0, 1])"
      ]
     },
     "execution_count": 32,
     "metadata": {},
     "output_type": "execute_result"
    }
   ],
   "source": [
    "arr[:2]"
   ]
  },
  {
   "cell_type": "code",
   "execution_count": 33,
   "metadata": {},
   "outputs": [
    {
     "data": {
      "text/plain": [
       "array([2, 3, 4, 5, 6, 7])"
      ]
     },
     "execution_count": 33,
     "metadata": {},
     "output_type": "execute_result"
    }
   ],
   "source": [
    "arr[2:8]"
   ]
  },
  {
   "cell_type": "code",
   "execution_count": 34,
   "metadata": {},
   "outputs": [
    {
     "data": {
      "text/plain": [
       "array([ 0,  1,  2,  3,  4,  5, -1, -1, -1, -1])"
      ]
     },
     "execution_count": 34,
     "metadata": {},
     "output_type": "execute_result"
    }
   ],
   "source": [
    "arr[6:] = -1 # 广播：某个值被传播给多个位置的元素\n",
    "arr"
   ]
  },
  {
   "cell_type": "code",
   "execution_count": 35,
   "metadata": {},
   "outputs": [
    {
     "data": {
      "text/plain": [
       "array([123, 123, 123])"
      ]
     },
     "execution_count": 35,
     "metadata": {},
     "output_type": "execute_result"
    }
   ],
   "source": [
    "cp_arr = arr[3:6] # ndarray的子集选取（切片操作）是不会复制数据的，因此任何改动都会影响数据源，出于大数据量的性能内存等考虑\n",
    "cp_arr[:] = 123\n",
    "cp_arr"
   ]
  },
  {
   "cell_type": "code",
   "execution_count": 36,
   "metadata": {},
   "outputs": [
    {
     "data": {
      "text/plain": [
       "array([  0,   1,   2, 123, 123, 123,  -1,  -1,  -1,  -1])"
      ]
     },
     "execution_count": 36,
     "metadata": {},
     "output_type": "execute_result"
    }
   ],
   "source": [
    "arr # u see"
   ]
  },
  {
   "cell_type": "code",
   "execution_count": 37,
   "metadata": {},
   "outputs": [
    {
     "data": {
      "text/plain": [
       "array([  0,   1,   2, 123, 123, 123,  -1,  -1,  -1,  -1])"
      ]
     },
     "execution_count": 37,
     "metadata": {},
     "output_type": "execute_result"
    }
   ],
   "source": [
    "real_cp_arr = arr[3:6].copy() # 如果需要副本而不是引用，需要显示调用copy方法\n",
    "real_cp_arr[:] = -999\n",
    "arr"
   ]
  },
  {
   "cell_type": "markdown",
   "metadata": {},
   "source": [
    "#### 多维数组 "
   ]
  },
  {
   "cell_type": "code",
   "execution_count": 38,
   "metadata": {},
   "outputs": [
    {
     "data": {
      "text/plain": [
       "array([[1, 2, 3],\n",
       "       [2, 1, 3],\n",
       "       [3, 2, 1]])"
      ]
     },
     "execution_count": 38,
     "metadata": {},
     "output_type": "execute_result"
    }
   ],
   "source": [
    "arr2d = np.array([[1,2,3],[2,1,3],[3,2,1]])\n",
    "arr2d"
   ]
  },
  {
   "cell_type": "code",
   "execution_count": 39,
   "metadata": {},
   "outputs": [
    {
     "data": {
      "text/plain": [
       "array([2, 1, 3])"
      ]
     },
     "execution_count": 39,
     "metadata": {},
     "output_type": "execute_result"
    }
   ],
   "source": [
    "arr2d[1]"
   ]
  },
  {
   "cell_type": "code",
   "execution_count": 40,
   "metadata": {},
   "outputs": [
    {
     "data": {
      "text/plain": [
       "3"
      ]
     },
     "execution_count": 40,
     "metadata": {},
     "output_type": "execute_result"
    }
   ],
   "source": [
    "arr2d[1][2]"
   ]
  },
  {
   "cell_type": "code",
   "execution_count": 41,
   "metadata": {},
   "outputs": [
    {
     "data": {
      "text/plain": [
       "3"
      ]
     },
     "execution_count": 41,
     "metadata": {},
     "output_type": "execute_result"
    }
   ],
   "source": [
    "arr2d[1,2] # 效果同上"
   ]
  },
  {
   "cell_type": "markdown",
   "metadata": {},
   "source": [
    "### 切片索引（重点）"
   ]
  },
  {
   "cell_type": "code",
   "execution_count": 42,
   "metadata": {},
   "outputs": [
    {
     "data": {
      "text/plain": [
       "array([[1, 2, 3],\n",
       "       [2, 1, 3],\n",
       "       [3, 2, 1]])"
      ]
     },
     "execution_count": 42,
     "metadata": {},
     "output_type": "execute_result"
    }
   ],
   "source": [
    "arr2d"
   ]
  },
  {
   "cell_type": "code",
   "execution_count": 43,
   "metadata": {},
   "outputs": [
    {
     "data": {
      "text/plain": [
       "array([[2, 1, 3],\n",
       "       [3, 2, 1]])"
      ]
     },
     "execution_count": 43,
     "metadata": {},
     "output_type": "execute_result"
    }
   ],
   "source": [
    "arr2d[1:] # axis0轴上切片，也就是行"
   ]
  },
  {
   "cell_type": "code",
   "execution_count": 44,
   "metadata": {},
   "outputs": [
    {
     "data": {
      "text/plain": [
       "array([[1],\n",
       "       [2],\n",
       "       [3]])"
      ]
     },
     "execution_count": 44,
     "metadata": {},
     "output_type": "execute_result"
    }
   ],
   "source": [
    "arr2d[:, :1] # axis1轴上切片，也就是列"
   ]
  },
  {
   "cell_type": "code",
   "execution_count": 45,
   "metadata": {},
   "outputs": [
    {
     "data": {
      "text/plain": [
       "array([[2, 1],\n",
       "       [3, 2]])"
      ]
     },
     "execution_count": 45,
     "metadata": {},
     "output_type": "execute_result"
    }
   ],
   "source": [
    "arr2d[1:, :2] # 两个方向上都做切片处理"
   ]
  },
  {
   "cell_type": "code",
   "execution_count": 46,
   "metadata": {},
   "outputs": [
    {
     "data": {
      "text/plain": [
       "array([2, 1])"
      ]
     },
     "execution_count": 46,
     "metadata": {},
     "output_type": "execute_result"
    }
   ],
   "source": [
    "arr2d[1, :2] # 集合索引和切片实现降维切片子集获取"
   ]
  },
  {
   "cell_type": "code",
   "execution_count": 47,
   "metadata": {},
   "outputs": [
    {
     "data": {
      "text/plain": [
       "array([[ 1,  2,  3],\n",
       "       [21, 21,  3],\n",
       "       [21, 21,  1]])"
      ]
     },
     "execution_count": 47,
     "metadata": {},
     "output_type": "execute_result"
    }
   ],
   "source": [
    "arr2d[1:, :2] = 21 # 同样对切片获取的子集复制同样会传播到整个区域\n",
    "arr2d"
   ]
  },
  {
   "cell_type": "markdown",
   "metadata": {},
   "source": [
    "### 布尔型索引（应用得当可以大大简化代码，与其他获取子集不同的是该方式得到的总是副本） "
   ]
  },
  {
   "cell_type": "code",
   "execution_count": 48,
   "metadata": {
    "collapsed": true
   },
   "outputs": [],
   "source": [
    "names = np.array(['Jobs', 'Mike', 'Jobs', 'Mary', 'Jack', 'Mike'])\n",
    "scores = np.array([[12,23],[34,45],[56,67],[78,89],[90,101],[110,123]])"
   ]
  },
  {
   "cell_type": "code",
   "execution_count": 49,
   "metadata": {},
   "outputs": [
    {
     "data": {
      "text/plain": [
       "array([[ 34,  45],\n",
       "       [110, 123]])"
      ]
     },
     "execution_count": 49,
     "metadata": {},
     "output_type": "execute_result"
    }
   ],
   "source": [
    "scores[names == 'Mike'] # 首先通过names == 'Mike'获取到一个布尔型一维数组，再使用这个一维数组来获取scores中的行"
   ]
  },
  {
   "cell_type": "code",
   "execution_count": 50,
   "metadata": {},
   "outputs": [
    {
     "name": "stderr",
     "output_type": "stream",
     "text": [
      "/home/helong/anaconda2/lib/python2.7/site-packages/ipykernel_launcher.py:1: DeprecationWarning: numpy boolean negative, the `-` operator, is deprecated, use the `~` operator or the logical_not function instead.\n",
      "  \"\"\"Entry point for launching an IPython kernel.\n"
     ]
    },
    {
     "data": {
      "text/plain": [
       "array([[ 12,  23],\n",
       "       [ 56,  67],\n",
       "       [ 78,  89],\n",
       "       [ 90, 101]])"
      ]
     },
     "execution_count": 50,
     "metadata": {},
     "output_type": "execute_result"
    }
   ],
   "source": [
    "scores[-(names == 'Mike')] # 取反，同样可以使用!=号来实现"
   ]
  },
  {
   "cell_type": "code",
   "execution_count": 51,
   "metadata": {},
   "outputs": [
    {
     "data": {
      "text/plain": [
       "array([[ 34,  45],\n",
       "       [ 90, 101],\n",
       "       [110, 123]])"
      ]
     },
     "execution_count": 51,
     "metadata": {},
     "output_type": "execute_result"
    }
   ],
   "source": [
    "scores[(names == 'Mike') | (names == 'Jack')] # 注意：由于其本质是在布尔型数组上做运算，因此不能使用逻辑运算符and, or这些，而是要用&, | 这些位运算符来替代"
   ]
  },
  {
   "cell_type": "code",
   "execution_count": 52,
   "metadata": {},
   "outputs": [
    {
     "data": {
      "text/plain": [
       "array([ 45, 123])"
      ]
     },
     "execution_count": 52,
     "metadata": {},
     "output_type": "execute_result"
    }
   ],
   "source": [
    "scores[names == 'Mike', 1] # 结合切片，索引使用"
   ]
  },
  {
   "cell_type": "code",
   "execution_count": 53,
   "metadata": {},
   "outputs": [
    {
     "data": {
      "text/plain": [
       "array([[ 12,  23],\n",
       "       [ 34,  45],\n",
       "       [ 56,  67],\n",
       "       [ 78,  89],\n",
       "       [ 90, 101],\n",
       "       [110, 123]])"
      ]
     },
     "execution_count": 53,
     "metadata": {},
     "output_type": "execute_result"
    }
   ],
   "source": [
    "mary_scores = scores[names == 'Mary']\n",
    "mary_scores[:] = -999 # 使用布尔型索引得到的总是副本，即使是一模一样的结果\n",
    "scores"
   ]
  },
  {
   "cell_type": "code",
   "execution_count": 54,
   "metadata": {},
   "outputs": [
    {
     "data": {
      "text/plain": [
       "array([[ 12,  23],\n",
       "       [ 34,  45],\n",
       "       [ 56,  67],\n",
       "       [  0,   0],\n",
       "       [ 90, 101],\n",
       "       [110, 123]])"
      ]
     },
     "execution_count": 54,
     "metadata": {},
     "output_type": "execute_result"
    }
   ],
   "source": [
    "scores[names == 'Mary'] = 0 # 通过该方式设置整个区域的值很方便（这个Mary可能是作弊了。。。。）\n",
    "scores"
   ]
  },
  {
   "cell_type": "code",
   "execution_count": 55,
   "metadata": {},
   "outputs": [
    {
     "data": {
      "text/plain": [
       "array([[ 12,  23],\n",
       "       [ 34,  45],\n",
       "       [ 56,  67],\n",
       "       [  0,   0],\n",
       "       [  0, 101],\n",
       "       [110, 123]])"
      ]
     },
     "execution_count": 55,
     "metadata": {},
     "output_type": "execute_result"
    }
   ],
   "source": [
    "scores[names == 'Jack', 0] = 0 # 单科作弊0分处理\n",
    "scores"
   ]
  },
  {
   "cell_type": "markdown",
   "metadata": {},
   "source": [
    "### 花式索引 （用于交换调整数组的行列顺序，与其他获取子集不同的是该方式得到的总是副本） "
   ]
  },
  {
   "cell_type": "code",
   "execution_count": 56,
   "metadata": {},
   "outputs": [
    {
     "data": {
      "text/plain": [
       "array([[1, 2, 3],\n",
       "       [4, 5, 6],\n",
       "       [7, 8, 9]])"
      ]
     },
     "execution_count": 56,
     "metadata": {},
     "output_type": "execute_result"
    }
   ],
   "source": [
    "arr = np.array([[1,2,3],[4,5,6],[7,8,9]])\n",
    "arr"
   ]
  },
  {
   "cell_type": "code",
   "execution_count": 57,
   "metadata": {},
   "outputs": [
    {
     "data": {
      "text/plain": [
       "array([[7, 8, 9],\n",
       "       [1, 2, 3]])"
      ]
     },
     "execution_count": 57,
     "metadata": {},
     "output_type": "execute_result"
    }
   ],
   "source": [
    "arr[[2,0]] # 使用一维数组做索引，达到按照顺序获取axis0的元素的目的"
   ]
  },
  {
   "cell_type": "code",
   "execution_count": 58,
   "metadata": {},
   "outputs": [
    {
     "data": {
      "text/plain": [
       "array([9, 1])"
      ]
     },
     "execution_count": 58,
     "metadata": {},
     "output_type": "execute_result"
    }
   ],
   "source": [
    "arr[[2,0],[2,0]] # 最终获取到的是arr[2][2]，arr[0][0]这两个元素"
   ]
  },
  {
   "cell_type": "code",
   "execution_count": 59,
   "metadata": {},
   "outputs": [
    {
     "data": {
      "text/plain": [
       "array([[9, 7],\n",
       "       [3, 1]])"
      ]
     },
     "execution_count": 59,
     "metadata": {},
     "output_type": "execute_result"
    }
   ],
   "source": [
    "arr[[2,0]][:,[2,0]] # 这种写法的效果才是先按顺序获取2,0两行，再在基础上按顺序获取2,0两列"
   ]
  },
  {
   "cell_type": "code",
   "execution_count": 60,
   "metadata": {},
   "outputs": [
    {
     "data": {
      "text/plain": [
       "array([[9, 7],\n",
       "       [3, 1]])"
      ]
     },
     "execution_count": 60,
     "metadata": {},
     "output_type": "execute_result"
    }
   ],
   "source": [
    "arr[np.ix_([2,0],[2,0])] # 使用ix_达到arr[[2,0]][:,[2,0]]一样的效果，本质上ix_就是构建一个获取指定区域的索引器"
   ]
  },
  {
   "cell_type": "markdown",
   "metadata": {},
   "source": [
    "### 数组转置和轴对换 "
   ]
  },
  {
   "cell_type": "markdown",
   "metadata": {},
   "source": [
    "#### 2维 "
   ]
  },
  {
   "cell_type": "code",
   "execution_count": 61,
   "metadata": {},
   "outputs": [
    {
     "data": {
      "text/plain": [
       "array([[ 0,  1,  2,  3],\n",
       "       [ 4,  5,  6,  7],\n",
       "       [ 8,  9, 10, 11],\n",
       "       [12, 13, 14, 15]])"
      ]
     },
     "execution_count": 61,
     "metadata": {},
     "output_type": "execute_result"
    }
   ],
   "source": [
    "arr = np.arange(16).reshape(4,4)\n",
    "arr"
   ]
  },
  {
   "cell_type": "code",
   "execution_count": 62,
   "metadata": {},
   "outputs": [
    {
     "data": {
      "text/plain": [
       "array([[ 0,  4,  8, 12],\n",
       "       [ 1,  5,  9, 13],\n",
       "       [ 2,  6, 10, 14],\n",
       "       [ 3,  7, 11, 15]])"
      ]
     },
     "execution_count": 62,
     "metadata": {},
     "output_type": "execute_result"
    }
   ],
   "source": [
    "arr.T # ndarray的一个属性，表示数组对应的转置数组"
   ]
  },
  {
   "cell_type": "markdown",
   "metadata": {},
   "source": [
    "#### 3维 "
   ]
  },
  {
   "cell_type": "code",
   "execution_count": 63,
   "metadata": {},
   "outputs": [
    {
     "data": {
      "text/plain": [
       "array([[[ 0,  1,  2,  3],\n",
       "        [ 4,  5,  6,  7],\n",
       "        [ 8,  9, 10, 11]],\n",
       "\n",
       "       [[12, 13, 14, 15],\n",
       "        [16, 17, 18, 19],\n",
       "        [20, 21, 22, 23]]])"
      ]
     },
     "execution_count": 63,
     "metadata": {},
     "output_type": "execute_result"
    }
   ],
   "source": [
    "arr3d = np.arange(24).reshape(2,3,4)\n",
    "arr3d"
   ]
  },
  {
   "cell_type": "code",
   "execution_count": 64,
   "metadata": {},
   "outputs": [
    {
     "data": {
      "text/plain": [
       "array([[[ 0, 12],\n",
       "        [ 4, 16],\n",
       "        [ 8, 20]],\n",
       "\n",
       "       [[ 1, 13],\n",
       "        [ 5, 17],\n",
       "        [ 9, 21]],\n",
       "\n",
       "       [[ 2, 14],\n",
       "        [ 6, 18],\n",
       "        [10, 22]],\n",
       "\n",
       "       [[ 3, 15],\n",
       "        [ 7, 19],\n",
       "        [11, 23]]])"
      ]
     },
     "execution_count": 64,
     "metadata": {},
     "output_type": "execute_result"
    }
   ],
   "source": [
    "arr3d.T # 数组结构变为4,3,2"
   ]
  },
  {
   "cell_type": "code",
   "execution_count": 65,
   "metadata": {},
   "outputs": [
    {
     "data": {
      "text/plain": [
       "array([[[ 0, 12],\n",
       "        [ 4, 16],\n",
       "        [ 8, 20]],\n",
       "\n",
       "       [[ 1, 13],\n",
       "        [ 5, 17],\n",
       "        [ 9, 21]],\n",
       "\n",
       "       [[ 2, 14],\n",
       "        [ 6, 18],\n",
       "        [10, 22]],\n",
       "\n",
       "       [[ 3, 15],\n",
       "        [ 7, 19],\n",
       "        [11, 23]]])"
      ]
     },
     "execution_count": 65,
     "metadata": {},
     "output_type": "execute_result"
    }
   ],
   "source": [
    "arr3d.transpose([2,1,0]) #  transpose方法需要给定一个指定轴角标顺序的集合，指定[2,1,0]等价于arr.T"
   ]
  },
  {
   "cell_type": "code",
   "execution_count": 66,
   "metadata": {},
   "outputs": [
    {
     "data": {
      "text/plain": [
       "array([[[ 0, 12],\n",
       "        [ 4, 16],\n",
       "        [ 8, 20]],\n",
       "\n",
       "       [[ 1, 13],\n",
       "        [ 5, 17],\n",
       "        [ 9, 21]],\n",
       "\n",
       "       [[ 2, 14],\n",
       "        [ 6, 18],\n",
       "        [10, 22]],\n",
       "\n",
       "       [[ 3, 15],\n",
       "        [ 7, 19],\n",
       "        [11, 23]]])"
      ]
     },
     "execution_count": 66,
     "metadata": {},
     "output_type": "execute_result"
    }
   ],
   "source": [
    "arr3d.swapaxes(0,2) # 交换某两个轴角标，同样等价于transpose([2,1,0])，因此轴1没变，本质上只需要交换0，2就好"
   ]
  },
  {
   "cell_type": "markdown",
   "metadata": {},
   "source": [
    "## 通用函数：快速的元素级数组函数 "
   ]
  },
  {
   "cell_type": "markdown",
   "metadata": {},
   "source": [
    "ufunc：看做是一般函数的矢量化封装，使得操作作用于数组中的每个元素，比如sqrt，exp；"
   ]
  },
  {
   "cell_type": "markdown",
   "metadata": {},
   "source": [
    "### 一元ufunc "
   ]
  },
  {
   "cell_type": "code",
   "execution_count": 67,
   "metadata": {},
   "outputs": [
    {
     "data": {
      "text/plain": [
       "array([0, 1, 2, 3, 4, 5, 6, 7, 8])"
      ]
     },
     "execution_count": 67,
     "metadata": {},
     "output_type": "execute_result"
    }
   ],
   "source": [
    "arr = np.arange(9)\n",
    "arr"
   ]
  },
  {
   "cell_type": "code",
   "execution_count": 68,
   "metadata": {},
   "outputs": [
    {
     "data": {
      "text/plain": [
       "array([ 0.        ,  1.        ,  1.41421356,  1.73205081,  2.        ,\n",
       "        2.23606798,  2.44948974,  2.64575131,  2.82842712])"
      ]
     },
     "execution_count": 68,
     "metadata": {},
     "output_type": "execute_result"
    }
   ],
   "source": [
    "np.sqrt(arr) # 不会修改数据源"
   ]
  },
  {
   "cell_type": "code",
   "execution_count": 69,
   "metadata": {},
   "outputs": [
    {
     "data": {
      "text/plain": [
       "array([  1.00000000e+00,   2.71828183e+00,   7.38905610e+00,\n",
       "         2.00855369e+01,   5.45981500e+01,   1.48413159e+02,\n",
       "         4.03428793e+02,   1.09663316e+03,   2.98095799e+03])"
      ]
     },
     "execution_count": 69,
     "metadata": {},
     "output_type": "execute_result"
    }
   ],
   "source": [
    "np.exp(arr) # e的指数"
   ]
  },
  {
   "cell_type": "code",
   "execution_count": 70,
   "metadata": {},
   "outputs": [
    {
     "data": {
      "text/plain": [
       "3"
      ]
     },
     "execution_count": 70,
     "metadata": {},
     "output_type": "execute_result"
    }
   ],
   "source": [
    "arr2d = np.array([[1,2,3],[2,1,3],[3,2,1]])\n",
    "np.max(arr2d)"
   ]
  },
  {
   "cell_type": "code",
   "execution_count": 71,
   "metadata": {},
   "outputs": [
    {
     "name": "stdout",
     "output_type": "stream",
     "text": [
      "[[ 0.   0.2  0.4]\n",
      " [ 0.6  0.8  1. ]\n",
      " [ 1.2  1.4  1.6]]\n"
     ]
    },
    {
     "data": {
      "text/plain": [
       "(array([[ 0. ,  0.2,  0.4],\n",
       "        [ 0.6,  0.8,  0. ],\n",
       "        [ 0.2,  0.4,  0.6]]), array([[ 0.,  0.,  0.],\n",
       "        [ 0.,  0.,  1.],\n",
       "        [ 1.,  1.,  1.]]))"
      ]
     },
     "execution_count": 71,
     "metadata": {},
     "output_type": "execute_result"
    }
   ],
   "source": [
    "arr_float = np.arange(9).reshape(3,3) / 5. # 返回多个数组的通用函数，modf用于整数小数的分离\n",
    "print arr_float\n",
    "np.modf(arr_float)"
   ]
  },
  {
   "cell_type": "markdown",
   "metadata": {},
   "source": [
    "### 常用一元ufunc "
   ]
  },
  {
   "cell_type": "markdown",
   "metadata": {},
   "source": [
    "* abs/fabs：求整数，浮点数，复数的绝对值，对于非复数，可以使用更快的fabs；\n",
    "* sqrt：开平方；\n",
    "* square：2次方；\n",
    "* exp：计算指数e的X次方；\n",
    "* log、log10、log2、log1p：分别对应自然对数（底数为e）、底数为10的log、底数为2的log、log(1+x)；\n",
    "* sign：计算正负号，1代表整数，0代表0，,1代表负数；\n",
    "* ceil：大于等于该值的最小整数；\n",
    "* floor：小于等于该值的最大整数；\n",
    "* rint：四舍五入到最近的整数，保留dtype；\n",
    "* modf：将整数和小数分开返回；\n",
    "* isnan：返回一个哪些元素不是数字的布尔型数组；\n",
    "* isfinite/isinf：返回一个哪些数是 有穷/无穷 的布尔型数组；\n",
    "* cos/cosh/sin/sinh/tan/tanh：普通型和双曲线的三角函数；\n",
    "* arccos/arccosh/arcsin/arcsinh/arctan/arctanh：反三角函数；\n",
    "* logical_not：计算not x的真值，相当于-arr；"
   ]
  },
  {
   "cell_type": "markdown",
   "metadata": {},
   "source": [
    "### 二元ufunc "
   ]
  },
  {
   "cell_type": "code",
   "execution_count": 72,
   "metadata": {},
   "outputs": [
    {
     "data": {
      "text/plain": [
       "array([2, 2, 3])"
      ]
     },
     "execution_count": 72,
     "metadata": {},
     "output_type": "execute_result"
    }
   ],
   "source": [
    "np.maximum(arr2d[0], arr2d[1]) # 逐位比较大小，将结果组成一个维度低一级的数组返回"
   ]
  },
  {
   "cell_type": "code",
   "execution_count": 73,
   "metadata": {},
   "outputs": [
    {
     "data": {
      "text/plain": [
       "array([[12, 13, 14, 15],\n",
       "       [16, 17, 18, 19],\n",
       "       [20, 21, 22, 23]])"
      ]
     },
     "execution_count": 73,
     "metadata": {},
     "output_type": "execute_result"
    }
   ],
   "source": [
    "arr3d = np.arange(24).reshape(2,3,4)\n",
    "np.maximum(arr3d[0], arr3d[1])"
   ]
  },
  {
   "cell_type": "markdown",
   "metadata": {},
   "source": [
    "### 常用二元ufunc "
   ]
  },
  {
   "cell_type": "markdown",
   "metadata": {},
   "source": [
    "* add/subtract/multiply/divide：数组的加减乘除，相当于+,-,*,/；\n",
    "* floor_divide：向下圆整除法，丢弃余数；\n",
    "* power：针对每个数组A中的元素，取对应位置的数组B中的元素做次方运算；\n",
    "* maximum/fmax/minimum/fmin：最大最小元素级计算，fxxx会忽略NaN；\n",
    "* mod：求模运算；\n",
    "* copysign：将参数二数组中的符号付给参数一的数组中的元素；\n",
    "* greater/greater_equal/less/less_equal/equal/not_equal：>、>=、<、<=、==、!=；\n",
    "* logical_and/logical_or/logical_xor：&、|、^；"
   ]
  },
  {
   "cell_type": "markdown",
   "metadata": {},
   "source": [
    "## 利用数组进行数据处理 "
   ]
  },
  {
   "cell_type": "markdown",
   "metadata": {},
   "source": [
    "ndarray可以使得不必进行循环而是直接在数组级上操作，通常来讲这种方式要比纯python循环快一两个数量级，这种方式也称为矢量化（广播就是针对矢量化计算的一种强大手段，12章介绍）；"
   ]
  },
  {
   "cell_type": "markdown",
   "metadata": {},
   "source": [
    "### 对比下速度 -- 在一组值(网格型)上计算函数sqrt(x^2+y^2) "
   ]
  },
  {
   "cell_type": "markdown",
   "metadata": {},
   "source": [
    "#### 普通循环方式 "
   ]
  },
  {
   "cell_type": "code",
   "execution_count": 74,
   "metadata": {
    "collapsed": true
   },
   "outputs": [],
   "source": [
    "def normal_for():\n",
    "    data = [[0 for i in range(1000)] for j in range(1000)]\n",
    "    for i in range(1000):\n",
    "        for j in range(1000):\n",
    "            x = i + j\n",
    "            y = i - j\n",
    "            data[i][j] = math.sqrt(x**2 + y**2)"
   ]
  },
  {
   "cell_type": "code",
   "execution_count": 75,
   "metadata": {},
   "outputs": [
    {
     "name": "stdout",
     "output_type": "stream",
     "text": [
      "CPU times: user 292 ms, sys: 12 ms, total: 304 ms\n",
      "Wall time: 306 ms\n"
     ]
    }
   ],
   "source": [
    "%time normal_for()"
   ]
  },
  {
   "cell_type": "markdown",
   "metadata": {},
   "source": [
    "#### 数组方式 "
   ]
  },
  {
   "cell_type": "code",
   "execution_count": 76,
   "metadata": {
    "collapsed": true
   },
   "outputs": [],
   "source": [
    "def ndarray_way():\n",
    "    points = np.arange(-5, 5, 0.01)\n",
    "    xs, ys = np.meshgrid(points, points)\n",
    "    print xs.shape\n",
    "    data = np.sqrt(xs**2 + ys**2)"
   ]
  },
  {
   "cell_type": "code",
   "execution_count": 77,
   "metadata": {},
   "outputs": [
    {
     "name": "stdout",
     "output_type": "stream",
     "text": [
      "(1000, 1000)\n",
      "CPU times: user 16 ms, sys: 32 ms, total: 48 ms\n",
      "Wall time: 47.3 ms\n"
     ]
    }
   ],
   "source": [
    "%time ndarray_way()"
   ]
  },
  {
   "cell_type": "markdown",
   "metadata": {},
   "source": [
    "能够看到，同样是在1000 × 1000的数量级上运算，数组方式要快15倍左右，且代码可读性更高，也更精简，不易出错；"
   ]
  },
  {
   "cell_type": "markdown",
   "metadata": {},
   "source": [
    "### 将条件逻辑表述为数组运算 "
   ]
  },
  {
   "cell_type": "markdown",
   "metadata": {},
   "source": [
    "#### np.where是三元运算符 x if condition else y的矢量化形式 "
   ]
  },
  {
   "cell_type": "markdown",
   "metadata": {},
   "source": [
    "根据条件集合选择数据源A或者B中的数据"
   ]
  },
  {
   "cell_type": "code",
   "execution_count": 78,
   "metadata": {
    "collapsed": true
   },
   "outputs": [],
   "source": [
    "cond_arr = [True, True, False, False, True]\n",
    "data_a = [70, 80, 35, 45, 90]\n",
    "data_b = [55, 75, 95, 87, 66]\n",
    "\n",
    "cond_arr_np = np.asarray(cond_arr)\n",
    "data_a_np = np.asarray(data_a)\n",
    "data_b_np = np.asarray(data_b)"
   ]
  },
  {
   "cell_type": "code",
   "execution_count": 79,
   "metadata": {},
   "outputs": [
    {
     "data": {
      "text/plain": [
       "[70, 80, 95, 87, 90]"
      ]
     },
     "execution_count": 79,
     "metadata": {},
     "output_type": "execute_result"
    }
   ],
   "source": [
    "# 普通列表推导式\n",
    "[a if cond else b for cond, a, b in zip(cond_arr, data_a, data_b)]"
   ]
  },
  {
   "cell_type": "code",
   "execution_count": 80,
   "metadata": {},
   "outputs": [
    {
     "data": {
      "text/plain": [
       "array([70, 80, 95, 87, 90])"
      ]
     },
     "execution_count": 80,
     "metadata": {},
     "output_type": "execute_result"
    }
   ],
   "source": [
    "# 数组方式\n",
    "np.where(cond_arr_np, data_a_np, data_b_np)"
   ]
  },
  {
   "cell_type": "markdown",
   "metadata": {},
   "source": [
    "分析：\n",
    "* 列表推导式：\n",
    "    * 可读性较差；\n",
    "    * 不适用于多维数组（依赖于zip的解包操作）；\n",
    "    * 作用于大数组时性能问题（毕竟是纯python实现）；\n",
    "* np.where：\n",
    "    * 可读性较强；\n",
    "    * 代码简单；\n",
    "    * 适用于多维数组；\n",
    "    * 性能更优秀（底层实现使用C）；"
   ]
  },
  {
   "cell_type": "markdown",
   "metadata": {},
   "source": [
    "#### 假设有一个由随机数据组成的矩阵,你希望将所有正值替换为2,将所有负值替换为-2 "
   ]
  },
  {
   "cell_type": "code",
   "execution_count": 81,
   "metadata": {},
   "outputs": [
    {
     "name": "stdout",
     "output_type": "stream",
     "text": [
      "[ 12   2  -7 -90  23  44 -65  34  22  -9 -21]\n",
      "[ 2  2 -2 -2  2  2 -2  2  2 -2 -2]\n",
      "[  2   2  -7 -90   2   2 -65   2   2  -9 -21]\n"
     ]
    }
   ],
   "source": [
    "data = np.array([12,2,-7,-90,23,44,-65,34,22,-9,-21])\n",
    "print data\n",
    "print np.where(data>=0, 2, -2) # 将正数和0设置为2，负数设置为-2\n",
    "print np.where(data>=0, 2, data) # 将正数和0设置为2，负数不处理"
   ]
  },
  {
   "cell_type": "markdown",
   "metadata": {},
   "source": [
    "#### 两个布尔型数组cond1和cond2,希望根据4种不同的布尔值组合实现不同的赋值操作"
   ]
  },
  {
   "cell_type": "code",
   "execution_count": 82,
   "metadata": {},
   "outputs": [
    {
     "name": "stdout",
     "output_type": "stream",
     "text": [
      "['yes' 'yes' 'yes' 'yes' 'yes']\n",
      "['yes' 'no' 'no' 'no' 'no']\n",
      "['no' 'yes' 'yes' 'yes' 'yes']\n",
      "[4 2 1 1 2]\n"
     ]
    }
   ],
   "source": [
    "cond1 = np.array([True, False, True, True, False])\n",
    "cond2 = np.array([True, True, False, False, True])\n",
    "print np.where(cond1 | cond2, 'yes', 'no') # 两组条件满足其一\n",
    "print np.where(cond1 & cond2, 'yes', 'no') # 两组条件全满足\n",
    "print np.where(cond1 ^ cond2, 'yes', 'no') # 两组条件相反\n",
    "print np.where(cond1 & cond2, 4, np.where(cond1, 1, np.where(cond2, 2, 0))) # 满足两个赋值4，满足cond1赋值1，满足cond2赋值2，都不满足赋值0"
   ]
  },
  {
   "cell_type": "markdown",
   "metadata": {},
   "source": [
    "### 数学和统计方法 "
   ]
  },
  {
   "cell_type": "markdown",
   "metadata": {},
   "source": [
    "可以通过一组数学函数针对整个数组或者某个轴向上进行运算，进行聚合或非聚合；"
   ]
  },
  {
   "cell_type": "markdown",
   "metadata": {},
   "source": [
    "#### 聚合 -- sum,mean,std "
   ]
  },
  {
   "cell_type": "code",
   "execution_count": 83,
   "metadata": {},
   "outputs": [
    {
     "name": "stdout",
     "output_type": "stream",
     "text": [
      "4950\n",
      "49.5\n",
      "28.8660700477\n"
     ]
    }
   ],
   "source": [
    "data = np.arange(100).reshape(10, 10)\n",
    "print data.sum() # 求和\n",
    "print np.mean(data) # 求平均值\n",
    "print data.std() # 求标准差"
   ]
  },
  {
   "cell_type": "markdown",
   "metadata": {},
   "source": [
    "#### 非聚合 非聚合返回的不再是一个标量，而是降低一个维度的数组"
   ]
  },
  {
   "cell_type": "code",
   "execution_count": 84,
   "metadata": {},
   "outputs": [
    {
     "name": "stdout",
     "output_type": "stream",
     "text": [
      "[[ 0  1  2  3  4  5  6  7  8  9]\n",
      " [10 11 12 13 14 15 16 17 18 19]\n",
      " [20 21 22 23 24 25 26 27 28 29]\n",
      " [30 31 32 33 34 35 36 37 38 39]\n",
      " [40 41 42 43 44 45 46 47 48 49]\n",
      " [50 51 52 53 54 55 56 57 58 59]\n",
      " [60 61 62 63 64 65 66 67 68 69]\n",
      " [70 71 72 73 74 75 76 77 78 79]\n",
      " [80 81 82 83 84 85 86 87 88 89]\n",
      " [90 91 92 93 94 95 96 97 98 99]]\n",
      "[450 460 470 480 490 500 510 520 530 540]\n",
      "[  4.5  14.5  24.5  34.5  44.5  54.5  64.5  74.5  84.5  94.5]\n",
      "[ 2.87228132  2.87228132  2.87228132  2.87228132  2.87228132  2.87228132\n",
      "  2.87228132  2.87228132  2.87228132  2.87228132]\n"
     ]
    }
   ],
   "source": [
    "print data\n",
    "print data.sum(axis=0) # 求和\n",
    "print np.mean(data, axis=1) # 求平均值\n",
    "print data.std(1) # 求标准差"
   ]
  },
  {
   "cell_type": "markdown",
   "metadata": {},
   "source": [
    "#### 数组中由中间结果组成结果 -- cumsum,cumprod "
   ]
  },
  {
   "cell_type": "code",
   "execution_count": 85,
   "metadata": {},
   "outputs": [
    {
     "name": "stdout",
     "output_type": "stream",
     "text": [
      "[ 1  3  6 10 15 21 28 36 45]\n",
      "\n",
      "\n",
      "[[ 1  2  3]\n",
      " [ 5  7  9]\n",
      " [12 15 18]]\n",
      "\n",
      "\n",
      "[[ 1  3  6]\n",
      " [ 4  9 15]\n",
      " [ 7 15 24]]\n"
     ]
    }
   ],
   "source": [
    "data = np.array([[1,2,3],[4,5,6],[7,8,9]])\n",
    "print data.cumsum() # 作为一个线性数列进行sum递增求和，得到一个一维数组\n",
    "print '\\n'\n",
    "print data.cumsum(0) # 取行作为计算单元，得到一个二维数组\n",
    "print '\\n'\n",
    "print data.cumsum(1) # 取列作为计算单元，得到一个二维数组"
   ]
  },
  {
   "cell_type": "code",
   "execution_count": 86,
   "metadata": {},
   "outputs": [
    {
     "name": "stdout",
     "output_type": "stream",
     "text": [
      "[     1      2      6     24    120    720   5040  40320 362880]\n",
      "\n",
      "\n",
      "[[  1   2   3]\n",
      " [  4  10  18]\n",
      " [ 28  80 162]]\n",
      "\n",
      "\n",
      "[[  1   2   6]\n",
      " [  4  20 120]\n",
      " [  7  56 504]]\n"
     ]
    }
   ],
   "source": [
    "data = np.array([[1,2,3],[4,5,6],[7,8,9]])\n",
    "print data.cumprod() # 作为一个线性数列进行sum递乘求和，得到一个一维数组\n",
    "print '\\n'\n",
    "print data.cumprod(0) # 取行作为计算单元，得到一个二维数组\n",
    "print '\\n'\n",
    "print data.cumprod(1) # 取列作为计算单元，得到一个二维数组"
   ]
  },
  {
   "cell_type": "markdown",
   "metadata": {},
   "source": [
    "#### 基本统计方法"
   ]
  },
  {
   "cell_type": "markdown",
   "metadata": {},
   "source": [
    "* sum,mean,std,var,min,max,argmin,argmax：默认是得到一个标量，通过设置axis可以按照轴来计算得到一维数组；\n",
    "    * sum：求和\n",
    "    * mean：平均值\n",
    "    * std：标准差\n",
    "    * var：方差\n",
    "    * min：最小值\n",
    "    * argmin：最大值\n",
    "    * max：最小值索引\n",
    "    * argmax：最大值索引\n",
    "* cumsum,cumprod：默认得到一维数组，将原数据当做一个长列来处理，通过设置axis可以按照轴来计算得到同数据维度的数组；\n",
    "    * cumsum：元素累计和\n",
    "    * cumprod：元素累计积"
   ]
  },
  {
   "cell_type": "markdown",
   "metadata": {},
   "source": [
    "### 用于布尔型数组的方法"
   ]
  },
  {
   "cell_type": "markdown",
   "metadata": {},
   "source": [
    "#### python中布尔型可以被算数计算，分别当做1和0 "
   ]
  },
  {
   "cell_type": "code",
   "execution_count": 95,
   "metadata": {},
   "outputs": [
    {
     "name": "stdout",
     "output_type": "stream",
     "text": [
      "43\n",
      "[ True  True False  True False  True False  True  True False  True False\n",
      "  True False  True  True False False  True  True False False False False\n",
      "  True False  True False False False  True  True False  True  True  True\n",
      "  True False False  True  True  True  True  True False False False False\n",
      "  True False False False False  True False  True False False False False\n",
      "  True  True  True False  True False False  True False  True False False\n",
      "  True False False  True  True  True False False False False False False\n",
      " False False False False False  True  True False  True  True False False\n",
      " False False False  True]\n",
      "[2 2 0 2 0 2 0 2 2 0 2 0 2 0 2 2 0 0 2 2 0 0 0 0 2 0 2 0 0 0 2 2 0 2 2 2 2\n",
      " 0 0 2 2 2 2 2 0 0 0 0 2 0 0 0 0 2 0 2 0 0 0 0 2 2 2 0 2 0 0 2 0 2 0 0 2 0\n",
      " 0 2 2 2 0 0 0 0 0 0 0 0 0 0 0 2 2 0 2 2 0 0 0 0 0 2]\n"
     ]
    }
   ],
   "source": [
    "data = np.random.randn(100)\n",
    "print (data > 0).sum() # 根据data>0得到的布尔型数组通过sum来计算整数的个数\n",
    "print data > 0\n",
    "print (data > 0) * 2 # 在运算符时，就是当做1和0来理解"
   ]
  },
  {
   "cell_type": "markdown",
   "metadata": {},
   "source": [
    "#### any "
   ]
  },
  {
   "cell_type": "code",
   "execution_count": 108,
   "metadata": {},
   "outputs": [
    {
     "name": "stdout",
     "output_type": "stream",
     "text": [
      "True\n",
      "True\n",
      "False\n",
      "[ True  True  True  True  True  True  True  True  True  True]\n"
     ]
    }
   ],
   "source": [
    "data = np.random.randn(100).reshape(10, 10)\n",
    "print (data > 0).any() # 任何一个为True则返回True\n",
    "print data.any() # 可以作用于非布尔型数组，此时所有非0均为True\n",
    "print np.array([0.]).any()\n",
    "print (data > 0).any(axis=0) # 同统计求和部分，可以通过axis来将计算指向到某个轴上从而得到一维数组结果"
   ]
  },
  {
   "cell_type": "markdown",
   "metadata": {},
   "source": [
    "#### all "
   ]
  },
  {
   "cell_type": "code",
   "execution_count": 110,
   "metadata": {},
   "outputs": [
    {
     "name": "stdout",
     "output_type": "stream",
     "text": [
      "False\n",
      "True\n",
      "True\n",
      "[False False False False False False False False False False]\n"
     ]
    }
   ],
   "source": [
    "data = np.random.randn(100).reshape(10, 10)\n",
    "print (data > 0).all() # 全部为True则返回True\n",
    "print data.all() # 可以作用于非布尔型数组，此时所有非0均为True\n",
    "print np.array([0.1]).all()\n",
    "print (data > 0).all(axis=0) # 同统计求和部分，可以通过axis来将计算指向到某个轴上从而得到一维数组结果"
   ]
  },
  {
   "cell_type": "markdown",
   "metadata": {},
   "source": [
    "### 排序 "
   ]
  },
  {
   "cell_type": "markdown",
   "metadata": {},
   "source": [
    "#### 数组自身排序 -- 会修改数组本身顺序 "
   ]
  },
  {
   "cell_type": "code",
   "execution_count": 119,
   "metadata": {},
   "outputs": [
    {
     "data": {
      "text/plain": [
       "array([-1.67313195,  0.00551965,  0.00843488,  0.12100903,  0.25699465,\n",
       "        0.25734936,  0.58861909,  0.754374  ,  0.77282982,  0.77509179])"
      ]
     },
     "execution_count": 119,
     "metadata": {},
     "output_type": "execute_result"
    }
   ],
   "source": [
    "data = np.random.randn(10)\n",
    "data.sort()\n",
    "data"
   ]
  },
  {
   "cell_type": "markdown",
   "metadata": {},
   "source": [
    "#### np顶级排序 -- 返回排序的数组副本 "
   ]
  },
  {
   "cell_type": "code",
   "execution_count": 116,
   "metadata": {},
   "outputs": [
    {
     "data": {
      "text/plain": [
       "array([-1.32388801, -1.13208594, -1.0615483 , -1.00737014, -0.37109673,\n",
       "       -0.36580835,  0.07025476,  0.25509695,  0.94536529,  2.11301638])"
      ]
     },
     "execution_count": 116,
     "metadata": {},
     "output_type": "execute_result"
    }
   ],
   "source": [
    "data = np.random.randn(10)\n",
    "np.sort(data)"
   ]
  },
  {
   "cell_type": "markdown",
   "metadata": {},
   "source": [
    "#### 多维数组排序 "
   ]
  },
  {
   "cell_type": "code",
   "execution_count": 125,
   "metadata": {},
   "outputs": [
    {
     "name": "stdout",
     "output_type": "stream",
     "text": [
      "[[-2.31394073 -2.29621811  0.1171308   0.81430759  0.97166236]\n",
      " [-0.5897459  -0.16601679  0.10598839  0.74025233  1.16775598]\n",
      " [-1.53192665 -1.26969425 -0.65120537  0.08648574  2.03057525]\n",
      " [-0.34873943 -0.30550124  0.7682611   1.60001368  2.28861167]\n",
      " [-0.67693927 -0.62706063 -0.33440652  0.29131686  1.44934295]]\n",
      "\n",
      "\n",
      "[[-2.31394073 -2.29621811  0.1171308   0.81430759  0.97166236]\n",
      " [-0.5897459  -0.16601679  0.10598839  0.74025233  1.16775598]\n",
      " [-1.53192665 -1.26969425 -0.65120537  0.08648574  2.03057525]\n",
      " [-0.34873943 -0.30550124  0.7682611   1.60001368  2.28861167]\n",
      " [-0.67693927 -0.62706063 -0.33440652  0.29131686  1.44934295]]\n",
      "\n",
      "\n",
      "[[-0.5897459  -0.62706063 -1.26969425 -2.29621811 -2.31394073]\n",
      " [ 0.08648574  0.74025233 -0.67693927 -1.53192665 -0.65120537]\n",
      " [ 0.29131686  0.81430759 -0.16601679 -0.30550124 -0.34873943]\n",
      " [ 0.7682611   1.60001368  0.1171308   1.16775598 -0.33440652]\n",
      " [ 0.97166236  2.03057525  2.28861167  1.44934295  0.10598839]]\n"
     ]
    }
   ],
   "source": [
    "data = np.random.randn(5, 5)\n",
    "print np.sort(data) # 默认是按axis=1排序的\n",
    "print '\\n'\n",
    "print np.sort(data, axis=1)\n",
    "print '\\n'\n",
    "print np.sort(data, axis=0) # 按行排序"
   ]
  },
  {
   "cell_type": "markdown",
   "metadata": {},
   "source": [
    "### 唯一化以及其他的集合逻辑 "
   ]
  },
  {
   "cell_type": "markdown",
   "metadata": {},
   "source": [
    "#### 唯一化unique -- 还顺带排序哦 "
   ]
  },
  {
   "cell_type": "code",
   "execution_count": 126,
   "metadata": {},
   "outputs": [
    {
     "data": {
      "text/plain": [
       "array(['Hill', 'Jack', 'Jobs'], \n",
       "      dtype='|S4')"
      ]
     },
     "execution_count": 126,
     "metadata": {},
     "output_type": "execute_result"
    }
   ],
   "source": [
    "data = np.array(['Jobs', 'Hill', 'Jack', 'Hill', 'Jack'])\n",
    "np.unique(data)"
   ]
  },
  {
   "cell_type": "code",
   "execution_count": 129,
   "metadata": {},
   "outputs": [
    {
     "data": {
      "text/plain": [
       "array([1, 2, 3, 4])"
      ]
     },
     "execution_count": 129,
     "metadata": {},
     "output_type": "execute_result"
    }
   ],
   "source": [
    "data = np.array([2, 3, 2, 4, 1])\n",
    "np.unique(data)"
   ]
  },
  {
   "cell_type": "code",
   "execution_count": 133,
   "metadata": {},
   "outputs": [
    {
     "data": {
      "text/plain": [
       "['Hill', 'Jack', 'Jobs']"
      ]
     },
     "execution_count": 133,
     "metadata": {},
     "output_type": "execute_result"
    }
   ],
   "source": [
    "# 纯python方法 先去重，再排序，两步走\n",
    "sorted(set(np.array(['Jobs', 'Hill', 'Jack', 'Hill', 'Jack'])))"
   ]
  },
  {
   "cell_type": "markdown",
   "metadata": {},
   "source": [
    "#### np.in1d -- 测试一个数组中的元素是否存在与另一个数组中"
   ]
  },
  {
   "cell_type": "code",
   "execution_count": 135,
   "metadata": {},
   "outputs": [
    {
     "data": {
      "text/plain": [
       "array([ True, False,  True, False,  True], dtype=bool)"
      ]
     },
     "execution_count": 135,
     "metadata": {},
     "output_type": "execute_result"
    }
   ],
   "source": [
    "np.in1d(np.array([1, 2, 3, 4, 5]), np.array([1, 3, 5])) # 获取[1,2,3,4,5]中的值是否为1/3/5的布尔型数组"
   ]
  },
  {
   "cell_type": "markdown",
   "metadata": {},
   "source": [
    "#### 常用集合函数"
   ]
  },
  {
   "cell_type": "markdown",
   "metadata": {},
   "source": [
    "* unique：求唯一值，一元函数；\n",
    "* intersect1d：求交集，二元函数；\n",
    "* union1d：求并集，二元函数；\n",
    "* in1d：前者元素是否存在于后者的布尔型数组结果，二元函数；\n",
    "* setdiff1d：在x中但不在y中，二元函数；\n",
    "* setxor1d：只存在于某一个数组中，二元函数；"
   ]
  },
  {
   "cell_type": "code",
   "execution_count": 136,
   "metadata": {},
   "outputs": [
    {
     "data": {
      "text/plain": [
       "array([1, 4])"
      ]
     },
     "execution_count": 136,
     "metadata": {},
     "output_type": "execute_result"
    }
   ],
   "source": [
    "np.setxor1d(np.array([1,2,3]), np.array([2,3,4]))"
   ]
  },
  {
   "cell_type": "code",
   "execution_count": 137,
   "metadata": {},
   "outputs": [
    {
     "data": {
      "text/plain": [
       "array([1])"
      ]
     },
     "execution_count": 137,
     "metadata": {},
     "output_type": "execute_result"
    }
   ],
   "source": [
    "np.setdiff1d(np.array([1,2,3]), np.array([2,3,4]))"
   ]
  },
  {
   "cell_type": "markdown",
   "metadata": {},
   "source": [
    "## 用于数组的文件输入输出 "
   ]
  },
  {
   "cell_type": "markdown",
   "metadata": {},
   "source": [
    "### 二进制方式"
   ]
  },
  {
   "cell_type": "markdown",
   "metadata": {},
   "source": [
    "#### 单个数组 "
   ]
  },
  {
   "cell_type": "code",
   "execution_count": 142,
   "metadata": {},
   "outputs": [
    {
     "name": "stdout",
     "output_type": "stream",
     "text": [
      "np_save.npy\r\n"
     ]
    }
   ],
   "source": [
    "data = np.random.randn(10, 10)\n",
    "np.save('data/np_save', data)\n",
    "!ls data"
   ]
  },
  {
   "cell_type": "code",
   "execution_count": 144,
   "metadata": {},
   "outputs": [
    {
     "data": {
      "text/plain": [
       "array([[-0.51872665, -0.89768315, -0.6344221 , -0.35117882, -0.60530866,\n",
       "        -0.92853884, -1.30714436,  1.55801467,  0.14808436,  3.02176163],\n",
       "       [-1.74360027,  0.40577302, -0.71692686,  0.39398537,  1.26531666,\n",
       "         1.56466159, -0.02177681,  0.06806766, -1.42504262,  2.36210895],\n",
       "       [-0.9280141 ,  0.57432839,  0.43204843,  1.19653887, -1.42651904,\n",
       "        -0.45965631,  0.46624122,  0.61025348,  1.68360852, -0.10892967],\n",
       "       [-0.52461154, -0.41201682, -0.44754113,  0.01550712,  0.56380904,\n",
       "         0.76153868,  0.22024003, -0.56209844, -0.71553776, -0.69146266],\n",
       "       [-0.88990635,  0.92049535,  0.98615568, -2.74357816, -1.78353326,\n",
       "        -1.00860049, -2.14797378, -0.21586331, -1.17602916, -0.43934755],\n",
       "       [ 0.16961542, -0.80577545,  2.26230418, -0.95458272,  1.73309932,\n",
       "        -1.14011126,  0.15454721, -0.85392377, -1.36602   , -0.40411664],\n",
       "       [-0.34058429,  0.07231424, -0.24239079, -0.18409774,  0.02879999,\n",
       "         0.58126975,  0.38358469,  1.94238718,  0.70283806,  1.42751986],\n",
       "       [-0.27169019, -0.17726001, -0.49632839,  0.04160981, -1.16504696,\n",
       "        -0.27435466,  0.80710388,  1.0388468 , -0.8820671 , -0.70599584],\n",
       "       [ 0.66242589,  0.01508431, -1.68926014,  0.52072273, -1.27987276,\n",
       "         0.30530487,  0.33002905, -0.72429506,  0.21320971,  0.913976  ],\n",
       "       [-0.36236914, -0.05686013,  0.9741739 , -1.69980221, -0.58885133,\n",
       "         1.37072926,  1.5155791 , -0.90688595,  0.34985033, -0.23604638]])"
      ]
     },
     "execution_count": 144,
     "metadata": {},
     "output_type": "execute_result"
    }
   ],
   "source": [
    "np.load('data/np_save.npy')"
   ]
  },
  {
   "cell_type": "markdown",
   "metadata": {},
   "source": [
    "#### 多个数组 "
   ]
  },
  {
   "cell_type": "code",
   "execution_count": 145,
   "metadata": {},
   "outputs": [
    {
     "name": "stdout",
     "output_type": "stream",
     "text": [
      "np_save.npy  np_savez.npz\r\n"
     ]
    }
   ],
   "source": [
    "data_a = np.random.randn(5, 5)\n",
    "data_b = np.random.randn(5, 5)\n",
    "np.savez('data/np_savez', a=data_a, b=data_b)\n",
    "!ls data"
   ]
  },
  {
   "cell_type": "code",
   "execution_count": 148,
   "metadata": {},
   "outputs": [
    {
     "data": {
      "text/plain": [
       "array([[ 1.02672332,  0.06329227,  0.53010671,  1.20475368,  0.4584274 ],\n",
       "       [-0.93812047, -0.38504007,  0.58565354,  2.00500698, -0.72911063],\n",
       "       [-1.55795504,  0.87740219,  1.36013844,  0.30954772, -0.22908768],\n",
       "       [-1.2216182 , -1.52749027,  0.31937895, -1.04211644,  0.92724684],\n",
       "       [ 0.91279073, -0.49942656,  1.36525734, -1.7034101 ,  0.87165617]])"
      ]
     },
     "execution_count": 148,
     "metadata": {},
     "output_type": "execute_result"
    }
   ],
   "source": [
    "np.load('data/np_savez.npz')['b'] # load xxx.npz 得到一个类似字典一样的实例，key为a和b"
   ]
  },
  {
   "cell_type": "code",
   "execution_count": 149,
   "metadata": {},
   "outputs": [
    {
     "data": {
      "text/plain": [
       "array([[ 0.64574292, -0.40458346,  1.17366455,  0.29681499, -0.95742706],\n",
       "       [ 0.13617232,  0.01058252,  1.05656635,  0.06592022,  0.80908766],\n",
       "       [ 0.28061506,  0.45243871, -0.39266155, -2.30859686,  1.14600764],\n",
       "       [ 0.07134108,  0.23822032,  0.34915181,  0.85638029, -0.44839945],\n",
       "       [ 0.73549462,  0.00801274, -0.21017778, -0.14151638, -0.85638165]])"
      ]
     },
     "execution_count": 149,
     "metadata": {},
     "output_type": "execute_result"
    }
   ],
   "source": [
    "np.load('data/np_savez.npz')['a']"
   ]
  },
  {
   "cell_type": "markdown",
   "metadata": {},
   "source": [
    "### 存取文本文件"
   ]
  },
  {
   "cell_type": "code",
   "execution_count": 158,
   "metadata": {},
   "outputs": [
    {
     "name": "stdout",
     "output_type": "stream",
     "text": [
      "np_save.npy  np_savetxt.txt  np_savez.npz\n",
      "rm: 无法删除'np_savetxt': 没有那个文件或目录\n"
     ]
    }
   ],
   "source": [
    "data = np.random.randn(8, 8)\n",
    "np.savetxt('data/np_savetxt.txt', data)\n",
    "!ls data"
   ]
  },
  {
   "cell_type": "code",
   "execution_count": 159,
   "metadata": {},
   "outputs": [
    {
     "data": {
      "text/plain": [
       "array([[-0.39488342,  1.27625639, -1.07904231,  1.83624657, -0.80620082,\n",
       "         1.19380987,  0.59702868, -0.8386713 ],\n",
       "       [-0.120669  , -1.30339481,  0.84112529, -0.43012386,  0.48082888,\n",
       "        -0.64400191,  0.42296434, -1.06481647],\n",
       "       [ 0.17351447, -1.25352172,  0.20624911,  1.40556728, -0.57870403,\n",
       "        -0.03851826, -0.27527108,  1.38852282],\n",
       "       [-1.6392091 ,  1.1960432 , -0.35371123,  0.12386463,  0.2849831 ,\n",
       "         0.45169626, -0.51748063, -0.54830665],\n",
       "       [-0.15358575,  0.00271863, -0.53058051, -0.33055311,  0.73203652,\n",
       "         0.49572415,  0.89686713,  0.75041149],\n",
       "       [-0.06137562,  1.25362289, -0.01488251, -0.14381895,  1.31001545,\n",
       "         0.11723508, -1.16232529, -0.26040972],\n",
       "       [-1.48911207, -0.80974234, -0.3054316 ,  1.16844145, -0.24931779,\n",
       "        -0.40248048, -0.83482463, -1.53966653],\n",
       "       [ 0.66804127, -0.33167094, -0.96394919,  0.40323008,  1.00243066,\n",
       "        -0.68464728, -0.71761983, -1.10056973]])"
      ]
     },
     "execution_count": 159,
     "metadata": {},
     "output_type": "execute_result"
    }
   ],
   "source": [
    "np.loadtxt('data/np_savetxt.txt')"
   ]
  },
  {
   "cell_type": "markdown",
   "metadata": {},
   "source": [
    "## 线性代数"
   ]
  },
  {
   "cell_type": "markdown",
   "metadata": {},
   "source": [
    "* diag：以一维数组的方式返回方阵的对角线元素（或非对角线元素），或将一维数组转换为方阵（非对角线元素置0）；\n",
    "* dot：矩阵乘法；\n",
    "* trace：对角线元素和；\n",
    "* det：矩阵行列式；\n",
    "* eig：方阵的本征值和本征向量；\n",
    "* inv：方阵的逆；\n",
    "* pinv：矩阵的Moore-Penrose伪逆；\n",
    "* qr：QR分解；\n",
    "* svd：奇异值分解；\n",
    "* solve：解线性方程Ax=b，其中A为一个方阵；\n",
    "* lstsq：计算Ax=b的最小二乘解；"
   ]
  },
  {
   "cell_type": "markdown",
   "metadata": {},
   "source": [
    "## 随机数生成 "
   ]
  },
  {
   "cell_type": "markdown",
   "metadata": {},
   "source": [
    "NumPy的random模块是对python的random模块的一个很有力的补充，不仅增加了很多针对科学计算等出现的特色随机数生成（比如正态分布的随机数normal），而且在大量生成时，NumPy的random模块的速度要快很多；"
   ]
  },
  {
   "cell_type": "markdown",
   "metadata": {},
   "source": [
    "### 正态分布的随机数"
   ]
  },
  {
   "cell_type": "code",
   "execution_count": 166,
   "metadata": {},
   "outputs": [
    {
     "data": {
      "text/plain": [
       "[<matplotlib.lines.Line2D at 0x7f0a59987a50>]"
      ]
     },
     "execution_count": 166,
     "metadata": {},
     "output_type": "execute_result"
    },
    {
     "data": {
      "image/png": "[encoded data removed]",
      "text/plain": [
       "<matplotlib.figure.Figure at 0x7f0a59a89790>"
      ]
     },
     "metadata": {},
     "output_type": "display_data"
    }
   ],
   "source": [
    "samples = np.random.normal(size=(1000))\n",
    "plt.plot(samples)"
   ]
  },
  {
   "cell_type": "markdown",
   "metadata": {},
   "source": [
    "### 速度对比"
   ]
  },
  {
   "cell_type": "code",
   "execution_count": 169,
   "metadata": {},
   "outputs": [
    {
     "name": "stdout",
     "output_type": "stream",
     "text": [
      "1 loop, best of 3: 677 ms per loop\n"
     ]
    }
   ],
   "source": [
    "%timeit samples = [random.normalvariate(0, 1) for _ in xrange(1000000)]"
   ]
  },
  {
   "cell_type": "code",
   "execution_count": 170,
   "metadata": {},
   "outputs": [
    {
     "name": "stdout",
     "output_type": "stream",
     "text": [
      "10 loops, best of 3: 42 ms per loop\n"
     ]
    }
   ],
   "source": [
    "%timeit np.random.normal(size=1000000)"
   ]
  },
  {
   "cell_type": "markdown",
   "metadata": {},
   "source": [
    "能够看到将近16倍速度的提升；"
   ]
  },
  {
   "cell_type": "markdown",
   "metadata": {},
   "source": [
    "### 常用的np.random函数"
   ]
  },
  {
   "cell_type": "markdown",
   "metadata": {},
   "source": [
    "* seed：确定随机数生成器的种子；\n",
    "* permutation：返回一个序列的随机排列或一个随机排列的范围你；\n",
    "* shuffle：对一个序列就地随机排列；\n",
    "* rand：产生均匀分布的样本值；\n",
    "* randint：从给定的上下限中随机选取整数；\n",
    "* randn：产生正态分布的样本值（平均值为0，标准差为1）；\n",
    "* binomial：产生二项分布的样本值；\n",
    "* normal：产生正态（高斯）分布的样本值；\n",
    "* beta：产生Beta分布的样本值；\n",
    "* chisquare：产生卡方分布的样本值；\n",
    "* gamma：产生Gamma分布的样本值；\n",
    "* uniform：产生[0,1)中均匀分布的样本值；"
   ]
  },
  {
   "cell_type": "markdown",
   "metadata": {},
   "source": [
    "## 范例：随机漫步"
   ]
  },
  {
   "cell_type": "markdown",
   "metadata": {},
   "source": [
    "### 单次随机漫步"
   ]
  },
  {
   "cell_type": "code",
   "execution_count": 192,
   "metadata": {},
   "outputs": [
    {
     "data": {
      "text/plain": [
       "[<matplotlib.lines.Line2D at 0x7f0a58fbd850>]"
      ]
     },
     "execution_count": 192,
     "metadata": {},
     "output_type": "execute_result"
    },
    {
     "data": {
      "image/png": "[encoded data removed]",
      "text/plain": [
       "<matplotlib.figure.Figure at 0x7f0a5917ee10>"
      ]
     },
     "metadata": {},
     "output_type": "display_data"
    }
   ],
   "source": [
    "steps = np.random.randint(size=1000,low=0,high=2) # 从0和1之间随机挑选1000次\n",
    "steps = np.where(steps==0, -1, steps) # 将0设置为-1\n",
    "walks = steps.cumsum() # 求累积和\n",
    "plt.plot(walks)"
   ]
  },
  {
   "cell_type": "code",
   "execution_count": 193,
   "metadata": {},
   "outputs": [
    {
     "data": {
      "text/plain": [
       "-34"
      ]
     },
     "execution_count": 193,
     "metadata": {},
     "output_type": "execute_result"
    }
   ],
   "source": [
    "walks.min() # 反向最远位置"
   ]
  },
  {
   "cell_type": "code",
   "execution_count": 194,
   "metadata": {},
   "outputs": [
    {
     "data": {
      "text/plain": [
       "15"
      ]
     },
     "execution_count": 194,
     "metadata": {},
     "output_type": "execute_result"
    }
   ],
   "source": [
    "walks.max() # 正向最远位置"
   ]
  },
  {
   "cell_type": "code",
   "execution_count": 200,
   "metadata": {},
   "outputs": [
    {
     "data": {
      "text/plain": [
       "273"
      ]
     },
     "execution_count": 200,
     "metadata": {},
     "output_type": "execute_result"
    }
   ],
   "source": [
    "(np.abs(walks) >= 10).argmax() # 首次距离起点10的回合数，1.得到绝对值，2.得到大于等于10的布尔型数组，3.获取第一个为True的索引"
   ]
  },
  {
   "cell_type": "markdown",
   "metadata": {},
   "source": [
    "### 模拟多次随机漫步"
   ]
  },
  {
   "cell_type": "code",
   "execution_count": 244,
   "metadata": {},
   "outputs": [
    {
     "data": {
      "text/plain": [
       "[<matplotlib.lines.Line2D at 0x7f0a499ca650>]"
      ]
     },
     "execution_count": 244,
     "metadata": {},
     "output_type": "execute_result"
    },
    {
     "data": {
      "image/png": "[encoded data removed]",
      "text/plain": [
       "<matplotlib.figure.Figure at 0x7f0a49b46310>"
      ]
     },
     "metadata": {},
     "output_type": "display_data"
    }
   ],
   "source": [
    "steps = np.random.randint(size=10000,low=0,high=2).reshape(10, 1000) # 从0和1之间随机挑选1000次\n",
    "steps = np.where(steps==0, -1, steps) # 将0设置为-1]\n",
    "walks = steps.cumsum(axis=1) # 求累积和\n",
    "plt.plot(walks[0])\n",
    "plt.plot(walks[1])\n",
    "plt.plot(walks[2])\n",
    "plt.plot(walks[3])\n",
    "plt.plot(walks[4])\n",
    "plt.plot(walks[5])\n",
    "plt.plot(walks[6])\n",
    "plt.plot(walks[7])\n",
    "plt.plot(walks[8])\n",
    "plt.plot(walks[9]) # 不知道为啥，如果直接plt.plot(walks)会绘制超级多条数据到图上"
   ]
  },
  {
   "cell_type": "code",
   "execution_count": 245,
   "metadata": {},
   "outputs": [
    {
     "data": {
      "text/plain": [
       "62"
      ]
     },
     "execution_count": 245,
     "metadata": {},
     "output_type": "execute_result"
    }
   ],
   "source": [
    "walks.max() # 所有行者的最大值"
   ]
  },
  {
   "cell_type": "code",
   "execution_count": 246,
   "metadata": {},
   "outputs": [
    {
     "data": {
      "text/plain": [
       "array([ 6, 43, 15, 21,  2,  8, 20, 61, 62, 22])"
      ]
     },
     "execution_count": 246,
     "metadata": {},
     "output_type": "execute_result"
    }
   ],
   "source": [
    "walks.max(axis=1) # 分别计算最大值"
   ]
  },
  {
   "cell_type": "code",
   "execution_count": 247,
   "metadata": {},
   "outputs": [
    {
     "data": {
      "text/plain": [
       "-38"
      ]
     },
     "execution_count": 247,
     "metadata": {},
     "output_type": "execute_result"
    }
   ],
   "source": [
    "walks.min()"
   ]
  },
  {
   "cell_type": "code",
   "execution_count": 255,
   "metadata": {},
   "outputs": [
    {
     "data": {
      "text/plain": [
       "array([402, 562, 614, 466, 122, 306])"
      ]
     },
     "execution_count": 255,
     "metadata": {},
     "output_type": "execute_result"
    }
   ],
   "source": [
    "hit35 = (np.abs(walks)>=35).any(axis=1) # 先获取每个行者中是否走到了指定位置的布尔型数组，否则没有走到位置的行者的argmax会得到0\n",
    "(np.abs(walks[hit35])>=35).argmax(axis=1) # 使用上一步的数组获取满足要求的行者，然后做之前的操作"
   ]
  },
  {
   "cell_type": "markdown",
   "metadata": {},
   "source": [
    "可以尝试使用多种随机数生成方式来实现随机漫步观察区别；"
   ]
  }
 ],
 "metadata": {
  "kernelspec": {
   "display_name": "Python 2",
   "language": "python",
   "name": "python2"
  },
  "language_info": {
   "codemirror_mode": {
    "name": "ipython",
    "version": 2
   },
   "file_extension": ".py",
   "mimetype": "text/x-python",
   "name": "python",
   "nbconvert_exporter": "python",
   "pygments_lexer": "ipython2",
   "version": "2.7.13"
  }
 },
 "nbformat": 4,
 "nbformat_minor": 2
}
