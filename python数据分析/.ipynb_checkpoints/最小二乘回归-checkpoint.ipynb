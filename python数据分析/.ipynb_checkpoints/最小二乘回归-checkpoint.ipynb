{
 "cells": [
  {
   "cell_type": "markdown",
   "metadata": {},
   "source": [
    "# 最小二乘回归"
   ]
  },
  {
   "cell_type": "code",
   "execution_count": 12,
   "metadata": {},
   "outputs": [],
   "source": [
    "import numpy as np\n",
    "import matplotlib.pyplot as plt\n",
    "\n",
    "%matplotlib inline"
   ]
  },
  {
   "cell_type": "markdown",
   "metadata": {},
   "source": [
    "## 构建假数据"
   ]
  },
  {
   "cell_type": "code",
   "execution_count": 29,
   "metadata": {},
   "outputs": [
    {
     "data": {
      "text/plain": [
       "<matplotlib.collections.PathCollection at 0x7fce5485cfd0>"
      ]
     },
     "execution_count": 29,
     "metadata": {},
     "output_type": "execute_result"
    },
    {
     "data": {
      "image/png": "[encoded data removed]",
      "text/plain": [
       "<matplotlib.figure.Figure at 0x7fce548c83d0>"
      ]
     },
     "metadata": {},
     "output_type": "display_data"
    }
   ],
   "source": [
    "years = np.arange(1896,2009,4)\n",
    "times = [10. - year/1000. + np.random.rand()/30 for year in years]\n",
    "plt.scatter(years,times)"
   ]
  },
  {
   "cell_type": "markdown",
   "metadata": {},
   "source": [
    "## 模型假设"
   ]
  },
  {
   "cell_type": "markdown",
   "metadata": {},
   "source": [
    "看形态，估计为线性模型：\n",
    "\n",
    "$$t = f(x;w_0,w_1) = w_0 * x + w_1$$\n",
    "\n",
    "下面的任务就很简单了，如何使用已有的数据去估计$w_0$和$w_1$；"
   ]
  },
  {
   "cell_type": "markdown",
   "metadata": {},
   "source": [
    "## 定义什么是最好的模型"
   ]
  },
  {
   "cell_type": "markdown",
   "metadata": {},
   "source": [
    "要想找到最好的模型,就是这条直线和所有的数据点都**尽量**的接近；\n",
    "\n",
    "设$x_n,t_n$表示真实数据集中第n次年份和时间.那么使得：\n",
    "$$(t_n - f(x_n;w_0,w_1))^2$$\n",
    "的值最小意味着所估计参数越接近真实值；\n",
    "\n",
    "根据这个引出第n个实例的**平方损失函数**：\n",
    "$$\\Psi_n(t_n,f(x_n;w_0,w_1)) = (t_n - f(x_n;w_0,w_1))^2$$\n",
    "\n",
    "整个数据集上面的**平均平方损失函数**：\n",
    "$$\\Psi=\\frac{1}{N}\\sum_{n=1}^N\\Psi_n(t_n,f(x_n;w_0,w_1))$$\n",
    "\n",
    "**调整模型参数**的值,使得平均平方损失函数最小：\n",
    "$$argmin_{w_0,w_1}\\frac{1}{N}\\sum_{n=1}^N\\Psi_n(t_n,f(x_n;w_0,w_1))$$\n",
    "\n",
    "（其中,argmin是数学上找到最小化参数的缩写.平方损失能够找到两个参数的最好值.）"
   ]
  },
  {
   "cell_type": "markdown",
   "metadata": {},
   "source": [
    "## 最小二乘解"
   ]
  },
  {
   "cell_type": "markdown",
   "metadata": {},
   "source": [
    "要通过平均平方损失函数来找到$w_0,w_1$的值使得我们求的的函数尽量能够接近数据集. \n",
    "因此我们自然的对损失函数求最小值：\n",
    "\\begin{eqnarray*}\n",
    "\\Psi & = & \\frac{1}{N}\\sum_{n=1}^N\\Psi_n(t_n,f(x_n;w_0,w_1))\\\\\n",
    "& = & \\frac{1}{N}\\sum_{n=1}^N(t_n - f(x_n;w_0,w_1))^2 \\\\\n",
    "& = & \\frac{1}{N}\\sum_{n=1}^N(t_n - (w_0x + w_1))^2 \\\\\n",
    "& = & \\frac{1}{N}\\sum_{n=1}^N(t_n^2 - 2t_n(w_0x+w_1) + (w_0x+w_1)^2) \\\\\n",
    "& = & \\frac{1}{N}\\sum_{n=1}^N(t_n^2 - 2t_nw_0x - 2t_nw_1 + w_0^2x^2+2w_0w_1x+w_1^2) \\\\\n",
    "\\end{eqnarray*}\n",
    "\n",
    "现在我们要求的便是以$w_0,w_1$为变量，其他量都是常量的函数最小值；"
   ]
  }
 ],
 "metadata": {
  "kernelspec": {
   "display_name": "Python 2",
   "language": "python",
   "name": "python2"
  },
  "language_info": {
   "codemirror_mode": {
    "name": "ipython",
    "version": 2
   },
   "file_extension": ".py",
   "mimetype": "text/x-python",
   "name": "python",
   "nbconvert_exporter": "python",
   "pygments_lexer": "ipython2",
   "version": "2.7.13"
  },
  "toc": {
   "nav_menu": {},
   "number_sections": true,
   "sideBar": true,
   "skip_h1_title": false,
   "title_cell": "Table of Contents",
   "title_sidebar": "Contents",
   "toc_cell": false,
   "toc_position": {},
   "toc_section_display": true,
   "toc_window_display": true
  }
 },
 "nbformat": 4,
 "nbformat_minor": 2
}
