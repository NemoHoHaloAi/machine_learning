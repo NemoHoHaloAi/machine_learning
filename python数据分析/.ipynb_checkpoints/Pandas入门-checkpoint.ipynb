{
 "cells": [
  {
   "cell_type": "markdown",
   "metadata": {
    "collapsed": true
   },
   "source": [
    "# Pandas入门"
   ]
  },
  {
   "cell_type": "markdown",
   "metadata": {},
   "source": [
    "一个能够使得数据分析工作变得更加简单高效的包含高级数据结构以及处理工具的库，基于NumPy构建，更加接近解决业务问题；"
   ]
  },
  {
   "cell_type": "code",
   "execution_count": 1,
   "metadata": {
    "collapsed": true
   },
   "outputs": [],
   "source": [
    "from pandas import Series, DataFrame\n",
    "import pandas as pd"
   ]
  },
  {
   "cell_type": "markdown",
   "metadata": {},
   "source": [
    "## Pandas的数据结构"
   ]
  },
  {
   "cell_type": "markdown",
   "metadata": {},
   "source": [
    "主要数据结构，为解决数据分析问题提供基础：\n",
    "* Series\n",
    "* DataFrame"
   ]
  },
  {
   "cell_type": "markdown",
   "metadata": {},
   "source": [
    "### Series"
   ]
  },
  {
   "cell_type": "markdown",
   "metadata": {},
   "source": [
    "Series类似于一维数组（跟字典也有点像），它由一组数据以及对应该组数据的索引组成（默认就是角标）；"
   ]
  },
  {
   "cell_type": "markdown",
   "metadata": {},
   "source": [
    "#### 创建 "
   ]
  },
  {
   "cell_type": "code",
   "execution_count": 4,
   "metadata": {},
   "outputs": [
    {
     "data": {
      "text/plain": [
       "0    1\n",
       "1    3\n",
       "2    5\n",
       "3    2\n",
       "4    6\n",
       "dtype: int64"
      ]
     },
     "execution_count": 4,
     "metadata": {},
     "output_type": "execute_result"
    }
   ],
   "source": [
    "se = Series([1, 3, 5, 2, 6]) # 默认索引\n",
    "se # 左侧是默认索引，角标index，右侧是对应的数组数据values"
   ]
  },
  {
   "cell_type": "code",
   "execution_count": 5,
   "metadata": {},
   "outputs": [
    {
     "data": {
      "text/plain": [
       "HoLoong    68\n",
       "Kael       44\n",
       "Nemo       75\n",
       "dtype: int64"
      ]
     },
     "execution_count": 5,
     "metadata": {},
     "output_type": "execute_result"
    }
   ],
   "source": [
    "se = Series([68, 44, 75], index=['HoLoong', 'Kael', 'Nemo']) # 指定的有意义的索引\n",
    "se"
   ]
  },
  {
   "cell_type": "code",
   "execution_count": 26,
   "metadata": {},
   "outputs": [
    {
     "data": {
      "text/plain": [
       "A    11\n",
       "B    22\n",
       "C    33\n",
       "dtype: int64"
      ]
     },
     "execution_count": 26,
     "metadata": {},
     "output_type": "execute_result"
    }
   ],
   "source": [
    "Series({'A':11, 'C':33, 'B':22}) # 不使用index参数的字典构造（会自动按照key排序）"
   ]
  },
  {
   "cell_type": "code",
   "execution_count": 25,
   "metadata": {},
   "outputs": [
    {
     "data": {
      "text/plain": [
       "A    11\n",
       "B    22\n",
       "C    33\n",
       "dtype: int64"
      ]
     },
     "execution_count": 25,
     "metadata": {},
     "output_type": "execute_result"
    }
   ],
   "source": [
    "Series({'A':11, 'C':33, 'B':22}, index=['A', 'B', 'C']) # 使用相同的key的index参数的字典构造"
   ]
  },
  {
   "cell_type": "code",
   "execution_count": 29,
   "metadata": {},
   "outputs": [
    {
     "data": {
      "text/plain": [
       "D     NaN\n",
       "B    22.0\n",
       "C    33.0\n",
       "dtype: float64"
      ]
     },
     "execution_count": 29,
     "metadata": {},
     "output_type": "execute_result"
    }
   ],
   "source": [
    "Series({'A':11, 'C':33, 'B':22}, index=['D', 'B', 'C']) # 使用不同的key的index参数的字典构造，缺失的index值对应value为NaN"
   ]
  },
  {
   "cell_type": "markdown",
   "metadata": {},
   "source": [
    "#### 对比NumPy数组具有特殊索引"
   ]
  },
  {
   "cell_type": "code",
   "execution_count": 12,
   "metadata": {},
   "outputs": [
    {
     "name": "stdout",
     "output_type": "stream",
     "text": [
      "68\n",
      "75\n",
      "HoLoong    68\n",
      "Kael       44\n",
      "dtype: int64\n"
     ]
    }
   ],
   "source": [
    "# 角标索引是默认的，使用特殊索引需要设置\n",
    "print se[0]\n",
    "print se['Nemo']\n",
    "print se[['HoLoong', 'Kael']] # 可以通过传入[]来获取多个元素"
   ]
  },
  {
   "cell_type": "markdown",
   "metadata": {},
   "source": [
    "#### 数组运算会保留索引"
   ]
  },
  {
   "cell_type": "code",
   "execution_count": 13,
   "metadata": {},
   "outputs": [
    {
     "data": {
      "text/plain": [
       "HoLoong    78\n",
       "Kael       54\n",
       "Nemo       85\n",
       "dtype: int64"
      ]
     },
     "execution_count": 13,
     "metadata": {},
     "output_type": "execute_result"
    }
   ],
   "source": [
    "se + 10"
   ]
  },
  {
   "cell_type": "markdown",
   "metadata": {},
   "source": [
    "#### 看做定长字典"
   ]
  },
  {
   "cell_type": "code",
   "execution_count": 23,
   "metadata": {},
   "outputs": [
    {
     "name": "stdout",
     "output_type": "stream",
     "text": [
      "HoLoong    68\n",
      "Kael       44\n",
      "Nemo       75\n",
      "dtype: int64\n",
      "True\n",
      "False\n"
     ]
    }
   ],
   "source": [
    "print se\n",
    "print 'Kael' in se # key in dataset\n",
    "print 'Murphy' in se"
   ]
  },
  {
   "cell_type": "markdown",
   "metadata": {},
   "source": [
    "#### 算术运算中会自动对齐不同索引的数据（后续会细讲）"
   ]
  },
  {
   "cell_type": "code",
   "execution_count": 30,
   "metadata": {},
   "outputs": [
    {
     "data": {
      "text/plain": [
       "HeLong      NaN\n",
       "HoLoong     NaN\n",
       "Kael       62.0\n",
       "Nemo       81.0\n",
       "dtype: float64"
      ]
     },
     "execution_count": 30,
     "metadata": {},
     "output_type": "execute_result"
    }
   ],
   "source": [
    "se1 = Series({'Nemo':56,'HoLoong':35,'Kael':44})\n",
    "se2 = Series({'Nemo':25,'HeLong':32,'Kael':18})\n",
    "se1 + se2"
   ]
  },
  {
   "cell_type": "markdown",
   "metadata": {},
   "source": [
    "#### Series以及其index属性都有一个name属性"
   ]
  },
  {
   "cell_type": "code",
   "execution_count": 34,
   "metadata": {},
   "outputs": [
    {
     "data": {
      "text/plain": [
       "学员姓名\n",
       "HoLoong    68\n",
       "Kael       44\n",
       "Nemo       75\n",
       "Name: 分数表, dtype: int64"
      ]
     },
     "execution_count": 34,
     "metadata": {},
     "output_type": "execute_result"
    }
   ],
   "source": [
    "se.name = '分数表'\n",
    "se.index.name = '学员姓名'\n",
    "se"
   ]
  },
  {
   "cell_type": "markdown",
   "metadata": {},
   "source": [
    "#### Series的索引可以通过赋值的方式就地修改"
   ]
  },
  {
   "cell_type": "code",
   "execution_count": 36,
   "metadata": {},
   "outputs": [
    {
     "data": {
      "text/plain": [
       "学员姓名缩写\n",
       "HL    68\n",
       "KL    44\n",
       "NM    75\n",
       "Name: 分数表, dtype: int64"
      ]
     },
     "execution_count": 36,
     "metadata": {},
     "output_type": "execute_result"
    }
   ],
   "source": [
    "se.index = ['HL', 'KL', 'NM']\n",
    "se.index.name = '学员姓名缩写'\n",
    "se"
   ]
  },
  {
   "cell_type": "markdown",
   "metadata": {},
   "source": [
    "### DataFrame"
   ]
  },
  {
   "cell_type": "markdown",
   "metadata": {},
   "source": [
    "DataFrame是一个**表格型**的数据结构,它含有一组有序的列,每列可以是**不同**的值类型(数值、字符串、布尔值等)，DataFrame既有**行索引**也有**列索引**,它可以被看做由Series组成的字典(共用同一个索引)，跟其他类似的数据结构相比(如R的data.frame),DataFrame中面向行和面向列的操作基本上是**平衡**的，其实,DataFrame中的数据是以一个或多个**二维块**存放的(而不是列表、字典或别的一维数据结构)；"
   ]
  },
  {
   "cell_type": "markdown",
   "metadata": {},
   "source": [
    "#### 创建"
   ]
  },
  {
   "cell_type": "code",
   "execution_count": 37,
   "metadata": {},
   "outputs": [
    {
     "data": {
      "text/html": [
       "<div>\n",
       "<style>\n",
       "    .dataframe thead tr:only-child th {\n",
       "        text-align: right;\n",
       "    }\n",
       "\n",
       "    .dataframe thead th {\n",
       "        text-align: left;\n",
       "    }\n",
       "\n",
       "    .dataframe tbody tr th {\n",
       "        vertical-align: top;\n",
       "    }\n",
       "</style>\n",
       "<table border=\"1\" class=\"dataframe\">\n",
       "  <thead>\n",
       "    <tr style=\"text-align: right;\">\n",
       "      <th></th>\n",
       "      <th>age</th>\n",
       "      <th>score</th>\n",
       "    </tr>\n",
       "  </thead>\n",
       "  <tbody>\n",
       "    <tr>\n",
       "      <th>0</th>\n",
       "      <td>18</td>\n",
       "      <td>68</td>\n",
       "    </tr>\n",
       "    <tr>\n",
       "      <th>1</th>\n",
       "      <td>20</td>\n",
       "      <td>70</td>\n",
       "    </tr>\n",
       "    <tr>\n",
       "      <th>2</th>\n",
       "      <td>19</td>\n",
       "      <td>56</td>\n",
       "    </tr>\n",
       "  </tbody>\n",
       "</table>\n",
       "</div>"
      ],
      "text/plain": [
       "   age  score\n",
       "0   18     68\n",
       "1   20     70\n",
       "2   19     56"
      ]
     },
     "execution_count": 37,
     "metadata": {},
     "output_type": "execute_result"
    }
   ],
   "source": [
    "data = {\n",
    "    'age':[18, 20, 19],\n",
    "    'score':[68, 70, 56]\n",
    "} # 这个是一列一列的来表示的\n",
    "df = DataFrame(data) # 默认索引\n",
    "df"
   ]
  },
  {
   "cell_type": "code",
   "execution_count": 61,
   "metadata": {},
   "outputs": [
    {
     "name": "stdout",
     "output_type": "stream",
     "text": [
      "    age  score\n",
      "HL   23     77\n",
      "NM   43     66\n",
      "       HL  NM\n",
      "age    23  43\n",
      "score  77  66\n"
     ]
    }
   ],
   "source": [
    "# 字典的字典，相当于同时指定了index和columns，外层字典key作为列，内层字典key作为行\n",
    "data = {\n",
    "    'age':{'HL':23,'NM':43},\n",
    "    'score':{'HL':77,'NM':66}\n",
    "} # 这个是一列一列的来表示的\n",
    "df = DataFrame(data) # 默认索引\n",
    "print df\n",
    "print df.T # 转置过来"
   ]
  },
  {
   "cell_type": "code",
   "execution_count": 40,
   "metadata": {},
   "outputs": [
    {
     "data": {
      "text/html": [
       "<div>\n",
       "<style>\n",
       "    .dataframe thead tr:only-child th {\n",
       "        text-align: right;\n",
       "    }\n",
       "\n",
       "    .dataframe thead th {\n",
       "        text-align: left;\n",
       "    }\n",
       "\n",
       "    .dataframe tbody tr th {\n",
       "        vertical-align: top;\n",
       "    }\n",
       "</style>\n",
       "<table border=\"1\" class=\"dataframe\">\n",
       "  <thead>\n",
       "    <tr style=\"text-align: right;\">\n",
       "      <th></th>\n",
       "      <th>age</th>\n",
       "      <th>score</th>\n",
       "    </tr>\n",
       "  </thead>\n",
       "  <tbody>\n",
       "    <tr>\n",
       "      <th>Nemo</th>\n",
       "      <td>18</td>\n",
       "      <td>68</td>\n",
       "    </tr>\n",
       "    <tr>\n",
       "      <th>HoLoong</th>\n",
       "      <td>20</td>\n",
       "      <td>70</td>\n",
       "    </tr>\n",
       "    <tr>\n",
       "      <th>Kael</th>\n",
       "      <td>19</td>\n",
       "      <td>56</td>\n",
       "    </tr>\n",
       "  </tbody>\n",
       "</table>\n",
       "</div>"
      ],
      "text/plain": [
       "         age  score\n",
       "Nemo      18     68\n",
       "HoLoong   20     70\n",
       "Kael      19     56"
      ]
     },
     "execution_count": 40,
     "metadata": {},
     "output_type": "execute_result"
    }
   ],
   "source": [
    "df = DataFrame(data, index=['Nemo', 'HoLoong', 'Kael']) # 指定索引，也就是行的名称\n",
    "df"
   ]
  },
  {
   "cell_type": "code",
   "execution_count": 43,
   "metadata": {},
   "outputs": [
    {
     "data": {
      "text/html": [
       "<div>\n",
       "<style>\n",
       "    .dataframe thead tr:only-child th {\n",
       "        text-align: right;\n",
       "    }\n",
       "\n",
       "    .dataframe thead th {\n",
       "        text-align: left;\n",
       "    }\n",
       "\n",
       "    .dataframe tbody tr th {\n",
       "        vertical-align: top;\n",
       "    }\n",
       "</style>\n",
       "<table border=\"1\" class=\"dataframe\">\n",
       "  <thead>\n",
       "    <tr style=\"text-align: right;\">\n",
       "      <th></th>\n",
       "      <th>score</th>\n",
       "      <th>age</th>\n",
       "      <th>state</th>\n",
       "    </tr>\n",
       "  </thead>\n",
       "  <tbody>\n",
       "    <tr>\n",
       "      <th>Nemo</th>\n",
       "      <td>68</td>\n",
       "      <td>18</td>\n",
       "      <td>NaN</td>\n",
       "    </tr>\n",
       "    <tr>\n",
       "      <th>HoLoong</th>\n",
       "      <td>70</td>\n",
       "      <td>20</td>\n",
       "      <td>NaN</td>\n",
       "    </tr>\n",
       "    <tr>\n",
       "      <th>Kael</th>\n",
       "      <td>56</td>\n",
       "      <td>19</td>\n",
       "      <td>NaN</td>\n",
       "    </tr>\n",
       "  </tbody>\n",
       "</table>\n",
       "</div>"
      ],
      "text/plain": [
       "         score  age state\n",
       "Nemo        68   18   NaN\n",
       "HoLoong     70   20   NaN\n",
       "Kael        56   19   NaN"
      ]
     },
     "execution_count": 43,
     "metadata": {},
     "output_type": "execute_result"
    }
   ],
   "source": [
    "df = DataFrame(data, index=['Nemo', 'HoLoong', 'Kael'], columns=['score', 'age', 'state']) # 指定列的顺序，没有的置NaN\n",
    "df"
   ]
  },
  {
   "cell_type": "markdown",
   "metadata": {},
   "source": [
    "#### 行列的访问以及写入"
   ]
  },
  {
   "cell_type": "code",
   "execution_count": 45,
   "metadata": {},
   "outputs": [
    {
     "data": {
      "text/plain": [
       "Nemo       18\n",
       "HoLoong    20\n",
       "Kael       19\n",
       "Name: age, dtype: int64"
      ]
     },
     "execution_count": 45,
     "metadata": {},
     "output_type": "execute_result"
    }
   ],
   "source": [
    "df['age'] # 通过column访问列，得到一个具有索引和name的Series"
   ]
  },
  {
   "cell_type": "code",
   "execution_count": 46,
   "metadata": {},
   "outputs": [
    {
     "data": {
      "text/plain": [
       "Nemo       68\n",
       "HoLoong    70\n",
       "Kael       56\n",
       "Name: score, dtype: int64"
      ]
     },
     "execution_count": 46,
     "metadata": {},
     "output_type": "execute_result"
    }
   ],
   "source": [
    "df.score # 同上效果"
   ]
  },
  {
   "cell_type": "code",
   "execution_count": 49,
   "metadata": {},
   "outputs": [
    {
     "data": {
      "text/plain": [
       "score     68\n",
       "age       18\n",
       "state    NaN\n",
       "Name: Nemo, dtype: object"
      ]
     },
     "execution_count": 49,
     "metadata": {},
     "output_type": "execute_result"
    }
   ],
   "source": [
    "df.ix['Nemo'] # 访问行需要通过ix属性"
   ]
  },
  {
   "cell_type": "code",
   "execution_count": 52,
   "metadata": {},
   "outputs": [
    {
     "data": {
      "text/html": [
       "<div>\n",
       "<style>\n",
       "    .dataframe thead tr:only-child th {\n",
       "        text-align: right;\n",
       "    }\n",
       "\n",
       "    .dataframe thead th {\n",
       "        text-align: left;\n",
       "    }\n",
       "\n",
       "    .dataframe tbody tr th {\n",
       "        vertical-align: top;\n",
       "    }\n",
       "</style>\n",
       "<table border=\"1\" class=\"dataframe\">\n",
       "  <thead>\n",
       "    <tr style=\"text-align: right;\">\n",
       "      <th></th>\n",
       "      <th>score</th>\n",
       "      <th>age</th>\n",
       "      <th>state</th>\n",
       "    </tr>\n",
       "  </thead>\n",
       "  <tbody>\n",
       "    <tr>\n",
       "      <th>Nemo</th>\n",
       "      <td>68</td>\n",
       "      <td>18</td>\n",
       "      <td>Unknown</td>\n",
       "    </tr>\n",
       "    <tr>\n",
       "      <th>HoLoong</th>\n",
       "      <td>70</td>\n",
       "      <td>20</td>\n",
       "      <td>Unknown</td>\n",
       "    </tr>\n",
       "    <tr>\n",
       "      <th>Kael</th>\n",
       "      <td>56</td>\n",
       "      <td>19</td>\n",
       "      <td>Unknown</td>\n",
       "    </tr>\n",
       "  </tbody>\n",
       "</table>\n",
       "</div>"
      ],
      "text/plain": [
       "         score  age    state\n",
       "Nemo        68   18  Unknown\n",
       "HoLoong     70   20  Unknown\n",
       "Kael        56   19  Unknown"
      ]
     },
     "execution_count": 52,
     "metadata": {},
     "output_type": "execute_result"
    }
   ],
   "source": [
    "df.state = 'Unknown' # 写入列，使用标量\n",
    "df"
   ]
  },
  {
   "cell_type": "code",
   "execution_count": 54,
   "metadata": {},
   "outputs": [
    {
     "data": {
      "text/html": [
       "<div>\n",
       "<style>\n",
       "    .dataframe thead tr:only-child th {\n",
       "        text-align: right;\n",
       "    }\n",
       "\n",
       "    .dataframe thead th {\n",
       "        text-align: left;\n",
       "    }\n",
       "\n",
       "    .dataframe tbody tr th {\n",
       "        vertical-align: top;\n",
       "    }\n",
       "</style>\n",
       "<table border=\"1\" class=\"dataframe\">\n",
       "  <thead>\n",
       "    <tr style=\"text-align: right;\">\n",
       "      <th></th>\n",
       "      <th>score</th>\n",
       "      <th>age</th>\n",
       "      <th>state</th>\n",
       "    </tr>\n",
       "  </thead>\n",
       "  <tbody>\n",
       "    <tr>\n",
       "      <th>Nemo</th>\n",
       "      <td>68</td>\n",
       "      <td>18</td>\n",
       "      <td>Ohio</td>\n",
       "    </tr>\n",
       "    <tr>\n",
       "      <th>HoLoong</th>\n",
       "      <td>70</td>\n",
       "      <td>20</td>\n",
       "      <td>DC</td>\n",
       "    </tr>\n",
       "    <tr>\n",
       "      <th>Kael</th>\n",
       "      <td>56</td>\n",
       "      <td>19</td>\n",
       "      <td>NewYork</td>\n",
       "    </tr>\n",
       "  </tbody>\n",
       "</table>\n",
       "</div>"
      ],
      "text/plain": [
       "         score  age    state\n",
       "Nemo        68   18     Ohio\n",
       "HoLoong     70   20       DC\n",
       "Kael        56   19  NewYork"
      ]
     },
     "execution_count": 54,
     "metadata": {},
     "output_type": "execute_result"
    }
   ],
   "source": [
    "df.state = ['Ohio', 'DC', 'NewYork'] # 长度需要跟df行数一致，否则报错\n",
    "df"
   ]
  },
  {
   "cell_type": "code",
   "execution_count": 57,
   "metadata": {},
   "outputs": [
    {
     "data": {
      "text/html": [
       "<div>\n",
       "<style>\n",
       "    .dataframe thead tr:only-child th {\n",
       "        text-align: right;\n",
       "    }\n",
       "\n",
       "    .dataframe thead th {\n",
       "        text-align: left;\n",
       "    }\n",
       "\n",
       "    .dataframe tbody tr th {\n",
       "        vertical-align: top;\n",
       "    }\n",
       "</style>\n",
       "<table border=\"1\" class=\"dataframe\">\n",
       "  <thead>\n",
       "    <tr style=\"text-align: right;\">\n",
       "      <th></th>\n",
       "      <th>score</th>\n",
       "      <th>age</th>\n",
       "      <th>state</th>\n",
       "    </tr>\n",
       "  </thead>\n",
       "  <tbody>\n",
       "    <tr>\n",
       "      <th>Nemo</th>\n",
       "      <td>68</td>\n",
       "      <td>18</td>\n",
       "      <td>Nanjing</td>\n",
       "    </tr>\n",
       "    <tr>\n",
       "      <th>HoLoong</th>\n",
       "      <td>70</td>\n",
       "      <td>20</td>\n",
       "      <td>NaN</td>\n",
       "    </tr>\n",
       "    <tr>\n",
       "      <th>Kael</th>\n",
       "      <td>56</td>\n",
       "      <td>19</td>\n",
       "      <td>Beijing</td>\n",
       "    </tr>\n",
       "  </tbody>\n",
       "</table>\n",
       "</div>"
      ],
      "text/plain": [
       "         score  age    state\n",
       "Nemo        68   18  Nanjing\n",
       "HoLoong     70   20      NaN\n",
       "Kael        56   19  Beijing"
      ]
     },
     "execution_count": 57,
     "metadata": {},
     "output_type": "execute_result"
    }
   ],
   "source": [
    "df.state = Series({'Kael':'Beijing', 'Nemo':'Nanjing'}) # 缺少的那些索引对应的位置都会被设置为NaN，即使之前是有值的\n",
    "df"
   ]
  },
  {
   "cell_type": "markdown",
   "metadata": {},
   "source": [
    "**警告**: 通过索引方式返回的列只是相应数据的视图而已,并**不是副本**，因此,对返回的Series所做的任何就地修改全都会反映到源DataFrame上，通过Series的**copy**方法即可显式地复制列；"
   ]
  },
  {
   "cell_type": "markdown",
   "metadata": {},
   "source": [
    "#### DataFrame接受的各种数据"
   ]
  },
  {
   "cell_type": "markdown",
   "metadata": {},
   "source": [
    "* 二维ndarray：数据矩阵，可以传入行标列标；\n",
    "* 由数组、列表或元组组成的字典：每个序列作为DataFrame的一列，长度必须相等；\n",
    "* NumPy的结构化/记录数组：类似于数组组成的字典；\n",
    "* 由Series组成的字典：每个Series作为一列，如果没有指定索引，则由多个Series合并索引（并集）；\n",
    "* 由字典组成的字典：内层每个字典作为一列，索引情况同上；\n",
    "* 字典或Series的列表：各项会作为DataFrame的一行，字典key和Series索引会作为列标；\n",
    "* 由列表或元组组成的列表：类似二维ndarray；\n",
    "* 另一个DataFrame：除非显示指定索引，否则基本一致；\n",
    "* NumPy的MaskedArray：类似二维ndarray，只是掩码值在结果DataFrame中表示为NA/缺失值；"
   ]
  },
  {
   "cell_type": "markdown",
   "metadata": {},
   "source": [
    "#### 索引对象 Index"
   ]
  },
  {
   "cell_type": "markdown",
   "metadata": {},
   "source": [
    "pandas的索引对象负责管理**轴标签**和其他**元数据**(比如轴名称等)，构建Series或DataFrame时，所用到的任何**数组**或其他**序列**的**标签**都会被转换成一个**Index**；\n",
    "> 不可修改性（Immutable）：使得Index可以在多个数据结构中安全传递；\n",
    "\n",
    "Pandas内置的Index类：\n",
    "* Index：最泛化的Index类，将轴标签表示为一个由Python对象组成的NumPy数组；\n",
    "* Int64Index：针对整数的特殊Index；\n",
    "* MultiIndex：“层次化”索引对象，表示单个轴上的多层索引，可以看做是由元组组成的数组；\n",
    "* DatetimeIndex：存储纳秒级时间戳（由NumPy的datetime64类型表示）；\n",
    "* PeriodIndex：针对Period数据（时间间隔）的特殊Index；\n",
    "\n",
    "索引方法和属性：\n",
    "* append：连接另一个Index，并返回一个新的Index对象；\n",
    "* diff：计算差集，返回Index对象；\n",
    "* intersection：计算交集；\n",
    "* union：计算并集；\n",
    "* isin：得到一个各个值是否都在参数集中中的布尔型数组；\n",
    "* delete：删除索引i处的元素，返回Index对象；\n",
    "* drop：删除传入的值对应的元素，返回Index对象；\n",
    "* insert：元素插入到i处，返回Index对象；\n",
    "* is_monotonic：各元素均大于前一个元素（即元素是递增的）时，返回True；\n",
    "* is_unique：没有重复元素时，返回True；\n",
    "* unique：计算Index中唯一值的数组；"
   ]
  },
  {
   "cell_type": "markdown",
   "metadata": {},
   "source": [
    "## 基本功能 "
   ]
  },
  {
   "cell_type": "code",
   "execution_count": null,
   "metadata": {},
   "outputs": [],
   "source": [
    "    "
   ]
  }
 ],
 "metadata": {
  "kernelspec": {
   "display_name": "Python 2",
   "language": "python",
   "name": "python2"
  },
  "language_info": {
   "codemirror_mode": {
    "name": "ipython",
    "version": 2
   },
   "file_extension": ".py",
   "mimetype": "text/x-python",
   "name": "python",
   "nbconvert_exporter": "python",
   "pygments_lexer": "ipython2",
   "version": "2.7.13"
  },
  "toc": {
   "nav_menu": {},
   "number_sections": true,
   "sideBar": true,
   "skip_h1_title": false,
   "title_cell": "Table of Contents",
   "title_sidebar": "Contents",
   "toc_cell": false,
   "toc_position": {
    "height": "calc(100% - 180px)",
    "left": "10px",
    "top": "150px",
    "width": "474px"
   },
   "toc_section_display": true,
   "toc_window_display": true
  }
 },
 "nbformat": 4,
 "nbformat_minor": 2
}
