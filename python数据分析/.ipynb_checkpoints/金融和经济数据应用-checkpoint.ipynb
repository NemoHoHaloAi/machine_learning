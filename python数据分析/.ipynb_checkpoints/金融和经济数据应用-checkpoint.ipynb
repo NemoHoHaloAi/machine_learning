{
 "cells": [
  {
   "cell_type": "markdown",
   "metadata": {},
   "source": [
    "# 金融和经济数据应用"
   ]
  },
  {
   "cell_type": "markdown",
   "metadata": {},
   "source": [
    "从2005年开始,Python在金融行业中的应用越来越多,这主要得\n",
    "益于众多**成熟**的函数库(NumPy和pandas)以及大量经验丰富的Python\n",
    "程序员。许多机构都发现Python不仅非常适合成为**交互式**的分析环\n",
    "境,也非常适合开发**稳健**的系统,而且所需的时间比Java或C++少得\n",
    "多。Python还是一种非常好的**粘合层**,可以非常轻松地为C或C++编写\n",
    "的库构建Python**接口**。\n",
    "\n",
    "\n",
    "金融分析领域的内容博大精深,甚至拿一整本书来讲都不为过,\n",
    "在这里我只是希望告诉你如何利用本书中的工具去解决金融领域中的\n",
    "一些特殊问题。跟其他的研究和分析领域一样,在**数据规整化**方面所\n",
    "花费的精力常常会比解决**核心建模**和研究问题所花费的要多得多。就\n",
    "是因为找不到合适的数据处理工具,所以我才在2008年开始创立\n",
    "pandas的。\n",
    "\n",
    "\n",
    "在本章的示例中,我将使用术语“**截面**”(cross-section)来表示某\n",
    "个时间点的数据。例如,标准普尔500指数中所有成分股在特定日期的\n",
    "收盘价就形成了一个截面。多个数据项(例如价格和成交量)在多个时\n",
    "间点的截面数据就构成了一个**面板**(panel)。面板数据既可以被表示为\n",
    "**层次化**索引的DataFrame,也可以被表示为**三维**的Panel pandas对象。"
   ]
  },
  {
   "cell_type": "code",
   "execution_count": 1,
   "metadata": {},
   "outputs": [],
   "source": [
    "import pandas as pd\n",
    "from pandas import Series,DataFrame\n",
    "\n",
    "import numpy as np\n",
    "\n",
    "import matplotlib.pyplot as plt\n",
    "%matplotlib inline"
   ]
  },
  {
   "cell_type": "markdown",
   "metadata": {},
   "source": [
    "## 数据规整化"
   ]
  },
  {
   "cell_type": "markdown",
   "metadata": {},
   "source": [
    "### 时间序列以及截面对齐"
   ]
  },
  {
   "cell_type": "markdown",
   "metadata": {},
   "source": [
    "在处理金融数据时,最费神的一个问题就是所谓的“**数据对\n",
    "齐**”(data alignment)问题。两个相关的时间序列的索引可能**没有**很好\n",
    "的对齐,或两个DataFrame对象可能含有**不匹配**的列或行。MATLAB、\n",
    "R以及其他矩阵编程语言的用户常常需要花费大量的精力将数据规整\n",
    "化为完全对齐的形式。以我的经验来看,手工处理数据对齐问题是一\n",
    "件令人非常郁闷的工作,而验证数据是否对齐则还要更郁闷一些。不\n",
    "仅如此,合并未对齐的数据还很有可能带来各种bug。"
   ]
  },
  {
   "cell_type": "code",
   "execution_count": 2,
   "metadata": {},
   "outputs": [
    {
     "name": "stdout",
     "output_type": "stream",
     "text": [
      "    a  b  c\n",
      "hl  0  1  2\n",
      "mk  3  4  5\n",
      "jk  6  7  8\n",
      "\n",
      "\n",
      "    d  b  c\n",
      "ph  0  1  2\n",
      "mk  3  4  5\n",
      "jk  6  7  8\n"
     ]
    }
   ],
   "source": [
    "df1 = DataFrame(np.arange(9).reshape(3,3),\n",
    "               columns=['a','b','c'],\n",
    "               index=['hl','mk','jk'])\n",
    "\n",
    "df2 = DataFrame(np.arange(9).reshape(3,3),\n",
    "               columns=['d','b','c'],\n",
    "               index=['ph','mk','jk'])\n",
    "print df1\n",
    "print '\\n'\n",
    "print df2"
   ]
  },
  {
   "cell_type": "markdown",
   "metadata": {},
   "source": [
    "#### pandas在算术中的自动对齐"
   ]
  },
  {
   "cell_type": "code",
   "execution_count": 8,
   "metadata": {},
   "outputs": [
    {
     "data": {
      "text/html": [
       "<div>\n",
       "<style>\n",
       "    .dataframe thead tr:only-child th {\n",
       "        text-align: right;\n",
       "    }\n",
       "\n",
       "    .dataframe thead th {\n",
       "        text-align: left;\n",
       "    }\n",
       "\n",
       "    .dataframe tbody tr th {\n",
       "        vertical-align: top;\n",
       "    }\n",
       "</style>\n",
       "<table border=\"1\" class=\"dataframe\">\n",
       "  <thead>\n",
       "    <tr style=\"text-align: right;\">\n",
       "      <th></th>\n",
       "      <th>a</th>\n",
       "      <th>b</th>\n",
       "      <th>c</th>\n",
       "      <th>d</th>\n",
       "    </tr>\n",
       "  </thead>\n",
       "  <tbody>\n",
       "    <tr>\n",
       "      <th>hl</th>\n",
       "      <td>NaN</td>\n",
       "      <td>NaN</td>\n",
       "      <td>NaN</td>\n",
       "      <td>NaN</td>\n",
       "    </tr>\n",
       "    <tr>\n",
       "      <th>jk</th>\n",
       "      <td>NaN</td>\n",
       "      <td>14.0</td>\n",
       "      <td>16.0</td>\n",
       "      <td>NaN</td>\n",
       "    </tr>\n",
       "    <tr>\n",
       "      <th>mk</th>\n",
       "      <td>NaN</td>\n",
       "      <td>8.0</td>\n",
       "      <td>10.0</td>\n",
       "      <td>NaN</td>\n",
       "    </tr>\n",
       "    <tr>\n",
       "      <th>ph</th>\n",
       "      <td>NaN</td>\n",
       "      <td>NaN</td>\n",
       "      <td>NaN</td>\n",
       "      <td>NaN</td>\n",
       "    </tr>\n",
       "  </tbody>\n",
       "</table>\n",
       "</div>"
      ],
      "text/plain": [
       "     a     b     c   d\n",
       "hl NaN   NaN   NaN NaN\n",
       "jk NaN  14.0  16.0 NaN\n",
       "mk NaN   8.0  10.0 NaN\n",
       "ph NaN   NaN   NaN NaN"
      ]
     },
     "execution_count": 8,
     "metadata": {},
     "output_type": "execute_result"
    }
   ],
   "source": [
    "df1 + df2"
   ]
  },
  {
   "cell_type": "markdown",
   "metadata": {},
   "source": [
    "#### DataFrame的align方法 -- 返回一个元组，是两个对象的重索引版本"
   ]
  },
  {
   "cell_type": "code",
   "execution_count": 10,
   "metadata": {},
   "outputs": [
    {
     "data": {
      "text/plain": [
       "(      a    b    c   d\n",
       " hl  0.0  1.0  2.0 NaN\n",
       " jk  6.0  7.0  8.0 NaN\n",
       " mk  3.0  4.0  5.0 NaN\n",
       " ph  NaN  NaN  NaN NaN,      a    b    c    d\n",
       " hl NaN  NaN  NaN  NaN\n",
       " jk NaN  7.0  8.0  6.0\n",
       " mk NaN  4.0  5.0  3.0\n",
       " ph NaN  1.0  2.0  0.0)"
      ]
     },
     "execution_count": 10,
     "metadata": {},
     "output_type": "execute_result"
    }
   ],
   "source": [
    "df1.align(df2, join='outer')"
   ]
  },
  {
   "cell_type": "markdown",
   "metadata": {},
   "source": [
    "#### 通过索引不同的Series构建DataFrame"
   ]
  },
  {
   "cell_type": "code",
   "execution_count": 12,
   "metadata": {},
   "outputs": [
    {
     "data": {
      "text/html": [
       "<div>\n",
       "<style>\n",
       "    .dataframe thead tr:only-child th {\n",
       "        text-align: right;\n",
       "    }\n",
       "\n",
       "    .dataframe thead th {\n",
       "        text-align: left;\n",
       "    }\n",
       "\n",
       "    .dataframe tbody tr th {\n",
       "        vertical-align: top;\n",
       "    }\n",
       "</style>\n",
       "<table border=\"1\" class=\"dataframe\">\n",
       "  <thead>\n",
       "    <tr style=\"text-align: right;\">\n",
       "      <th></th>\n",
       "      <th>col 1</th>\n",
       "      <th>col 2</th>\n",
       "      <th>col 3</th>\n",
       "    </tr>\n",
       "  </thead>\n",
       "  <tbody>\n",
       "    <tr>\n",
       "      <th>b</th>\n",
       "      <td>1.0</td>\n",
       "      <td>1</td>\n",
       "      <td>NaN</td>\n",
       "    </tr>\n",
       "    <tr>\n",
       "      <th>c</th>\n",
       "      <td>2.0</td>\n",
       "      <td>2</td>\n",
       "      <td>2.0</td>\n",
       "    </tr>\n",
       "    <tr>\n",
       "      <th>d</th>\n",
       "      <td>NaN</td>\n",
       "      <td>0</td>\n",
       "      <td>0.0</td>\n",
       "    </tr>\n",
       "  </tbody>\n",
       "</table>\n",
       "</div>"
      ],
      "text/plain": [
       "   col 1  col 2  col 3\n",
       "b    1.0      1    NaN\n",
       "c    2.0      2    2.0\n",
       "d    NaN      0    0.0"
      ]
     },
     "execution_count": 12,
     "metadata": {},
     "output_type": "execute_result"
    }
   ],
   "source": [
    "se1 = Series(np.arange(3),index=['a','b','c'])\n",
    "se2 = Series(np.arange(3),index=['d','b','c'])\n",
    "se3 = Series(np.arange(3),index=['d','e','c'])\n",
    "\n",
    "DataFrame({'col 1':se1,'col 2':se2,'col 3':se3}, index=list('bcd')) # 显示指定索引，丢弃其他"
   ]
  },
  {
   "cell_type": "markdown",
   "metadata": {},
   "source": [
    "### 频率不同的时间序列的运算"
   ]
  },
  {
   "cell_type": "markdown",
   "metadata": {},
   "source": [
    "经济学时间序列常常有着按年、季、月、日计算的或其他更特殊\n",
    "的频率。有些完全就是**不规则**的,比如说,盈利预测调整随时都可能会\n",
    "发生。**频率转换**和**重对齐**的两大主要工具是**resample**和**reindex**方法。\n",
    "\n",
    "* resample：用于将数据转换到固定频率，支持插值(如前向填充)逻辑。\n",
    "* reindex：用于使数据符合一个新索引，支持插值(如前向填充)逻辑。"
   ]
  },
  {
   "cell_type": "markdown",
   "metadata": {},
   "source": [
    "#### 周型时间序列"
   ]
  },
  {
   "cell_type": "code",
   "execution_count": 13,
   "metadata": {},
   "outputs": [
    {
     "data": {
      "text/plain": [
       "2012-01-04    0\n",
       "2012-01-11    1\n",
       "2012-01-18    2\n",
       "2012-01-25    3\n",
       "2012-02-01    4\n",
       "Freq: W-WED, dtype: int64"
      ]
     },
     "execution_count": 13,
     "metadata": {},
     "output_type": "execute_result"
    }
   ],
   "source": [
    "se_week = Series(np.arange(5),index=pd.date_range('2012/01/01',periods=5,freq='W-WED'))\n",
    "se_week"
   ]
  },
  {
   "cell_type": "markdown",
   "metadata": {},
   "source": [
    "#### 重采样到工作日(星期一到星期五)频率"
   ]
  },
  {
   "cell_type": "code",
   "execution_count": 16,
   "metadata": {},
   "outputs": [
    {
     "data": {
      "text/plain": [
       "2012-01-04    0.0\n",
       "2012-01-05    NaN\n",
       "2012-01-06    NaN\n",
       "2012-01-09    NaN\n",
       "2012-01-10    NaN\n",
       "2012-01-11    1.0\n",
       "2012-01-12    NaN\n",
       "2012-01-13    NaN\n",
       "2012-01-16    NaN\n",
       "2012-01-17    NaN\n",
       "2012-01-18    2.0\n",
       "2012-01-19    NaN\n",
       "2012-01-20    NaN\n",
       "2012-01-23    NaN\n",
       "2012-01-24    NaN\n",
       "2012-01-25    3.0\n",
       "2012-01-26    NaN\n",
       "2012-01-27    NaN\n",
       "2012-01-30    NaN\n",
       "2012-01-31    NaN\n",
       "2012-02-01    4.0\n",
       "Freq: B, dtype: float64"
      ]
     },
     "execution_count": 16,
     "metadata": {},
     "output_type": "execute_result"
    }
   ],
   "source": [
    "se_week.resample('B').mean() # 升采样，出现大量NaN"
   ]
  },
  {
   "cell_type": "markdown",
   "metadata": {},
   "source": [
    "#### 填充重采样产生的NaN值"
   ]
  },
  {
   "cell_type": "code",
   "execution_count": 19,
   "metadata": {},
   "outputs": [
    {
     "data": {
      "text/plain": [
       "2012-01-04    0\n",
       "2012-01-05    0\n",
       "2012-01-06    0\n",
       "2012-01-09    0\n",
       "2012-01-10    0\n",
       "2012-01-11    1\n",
       "2012-01-12    1\n",
       "2012-01-13    1\n",
       "2012-01-16    1\n",
       "2012-01-17    1\n",
       "2012-01-18    2\n",
       "2012-01-19    2\n",
       "2012-01-20    2\n",
       "2012-01-23    2\n",
       "2012-01-24    2\n",
       "2012-01-25    3\n",
       "2012-01-26    3\n",
       "2012-01-27    3\n",
       "2012-01-30    3\n",
       "2012-01-31    3\n",
       "2012-02-01    4\n",
       "Freq: B, dtype: int64"
      ]
     },
     "execution_count": 19,
     "metadata": {},
     "output_type": "execute_result"
    }
   ],
   "source": [
    "se_week.resample('B').ffill() # NaN值前向填充"
   ]
  },
  {
   "cell_type": "markdown",
   "metadata": {},
   "source": [
    "#### 重对齐的应用 -- 将se_week与se_no相加"
   ]
  },
  {
   "cell_type": "markdown",
   "metadata": {},
   "source": [
    "这种情况下，一般优先考虑将低频数据升采样到高频数据，这样不会产生数据丢失的问题，而空数据可以使用各种填充方式去填充；"
   ]
  },
  {
   "cell_type": "code",
   "execution_count": 25,
   "metadata": {},
   "outputs": [
    {
     "data": {
      "text/plain": [
       "2012-01-01    0\n",
       "2012-01-22    1\n",
       "2012-02-08    2\n",
       "2012-03-11    3\n",
       "2012-05-12    4\n",
       "dtype: int64"
      ]
     },
     "execution_count": 25,
     "metadata": {},
     "output_type": "execute_result"
    }
   ],
   "source": [
    "dates = pd.DatetimeIndex(['2012/01/01','2012/01/022','2012/02/08','2012/03/11','2012/05/12'])\n",
    "se_no = Series(np.arange(5),index=dates)\n",
    "se_no"
   ]
  },
  {
   "cell_type": "markdown",
   "metadata": {},
   "source": [
    "##### 先将se_week重对齐到se_no的索引上"
   ]
  },
  {
   "cell_type": "code",
   "execution_count": 29,
   "metadata": {},
   "outputs": [
    {
     "data": {
      "text/plain": [
       "2012-01-04    0\n",
       "2012-01-11    1\n",
       "2012-01-18    2\n",
       "2012-01-25    3\n",
       "2012-02-01    4\n",
       "Freq: W-WED, dtype: int64"
      ]
     },
     "execution_count": 29,
     "metadata": {},
     "output_type": "execute_result"
    }
   ],
   "source": [
    "se_week"
   ]
  },
  {
   "cell_type": "code",
   "execution_count": 27,
   "metadata": {},
   "outputs": [
    {
     "data": {
      "text/plain": [
       "2012-01-01    NaN\n",
       "2012-01-22    2.0\n",
       "2012-02-08    4.0\n",
       "2012-03-11    4.0\n",
       "2012-05-12    4.0\n",
       "dtype: float64"
      ]
     },
     "execution_count": 27,
     "metadata": {},
     "output_type": "execute_result"
    }
   ],
   "source": [
    "se_week_ridx = se_week.reindex(se_no.index,method='ffill')\n",
    "se_week_ridx"
   ]
  },
  {
   "cell_type": "markdown",
   "metadata": {},
   "source": [
    "##### 相加"
   ]
  },
  {
   "cell_type": "code",
   "execution_count": 28,
   "metadata": {},
   "outputs": [
    {
     "data": {
      "text/plain": [
       "2012-01-01    NaN\n",
       "2012-01-22    3.0\n",
       "2012-02-08    6.0\n",
       "2012-03-11    7.0\n",
       "2012-05-12    8.0\n",
       "dtype: float64"
      ]
     },
     "execution_count": 28,
     "metadata": {},
     "output_type": "execute_result"
    }
   ],
   "source": [
    "se_no + se_week_ridx"
   ]
  },
  {
   "cell_type": "markdown",
   "metadata": {},
   "source": [
    "### 使用Period -- 时间区间，而不同于Timestamp的时间点"
   ]
  },
  {
   "cell_type": "markdown",
   "metadata": {},
   "source": [
    "Period(表示时间区间)提供了另一种处理不同频率时间序列的办\n",
    "法,尤其是那些有着特殊规范的以年或季度为频率的金融或经济序\n",
    "列。比如说,一个公司可能会发布其以6月结尾的财年的每季度盈利报\n",
    "告,即频率为Q-JUN。"
   ]
  },
  {
   "cell_type": "markdown",
   "metadata": {},
   "source": [
    "#### 举个栗子"
   ]
  },
  {
   "cell_type": "code",
   "execution_count": 31,
   "metadata": {},
   "outputs": [],
   "source": [
    "# gdp，季度型时区\n",
    "gdp = Series([1.78, 1.94, 2.08, 2.01, 2.15, 2.31, 2.46],index=pd.period_range('1984Q2', periods=7, freq='Q-SEP'))\n",
    "# 通货膨胀，年度型时区\n",
    "infl = Series([0.025, 0.045, 0.037, 0.04],index=pd.period_range('1982', periods=4, freq='A-DEC'))"
   ]
  },
  {
   "cell_type": "code",
   "execution_count": 34,
   "metadata": {},
   "outputs": [
    {
     "data": {
      "text/plain": [
       "1984Q2    1.78\n",
       "1984Q3    1.94\n",
       "1984Q4    2.08\n",
       "1985Q1    2.01\n",
       "1985Q2    2.15\n",
       "1985Q3    2.31\n",
       "1985Q4    2.46\n",
       "Freq: Q-SEP, dtype: float64"
      ]
     },
     "execution_count": 34,
     "metadata": {},
     "output_type": "execute_result"
    }
   ],
   "source": [
    "gdp"
   ]
  },
  {
   "cell_type": "code",
   "execution_count": 35,
   "metadata": {},
   "outputs": [
    {
     "data": {
      "text/plain": [
       "1982    0.025\n",
       "1983    0.045\n",
       "1984    0.037\n",
       "1985    0.040\n",
       "Freq: A-DEC, dtype: float64"
      ]
     },
     "execution_count": 35,
     "metadata": {},
     "output_type": "execute_result"
    }
   ],
   "source": [
    "infl"
   ]
  },
  {
   "cell_type": "code",
   "execution_count": 38,
   "metadata": {},
   "outputs": [],
   "source": [
    "# 直接重对齐infl会报以下错误，原因是PeriodIndex不一致导致的，因此需要先显示转换二者的索引到统一的freq上\n",
    "# Input has different freq=Q-SEP from PeriodIndex(freq=A-DEC)\n",
    "# infl.reindex(gdp.index,method='ffill')"
   ]
  },
  {
   "cell_type": "markdown",
   "metadata": {},
   "source": [
    "跟Timestamp的时间序列不同,由Period索引的两个不同频率的\n",
    "时间序列之间的运算必须进行**显式转换**。在本例中,假设已知infl值是\n",
    "在每年**年末**观测的,于是我们就可以将其转换到Q-SEP以得到该频率\n",
    "下的正确时期:"
   ]
  },
  {
   "cell_type": "markdown",
   "metadata": {},
   "source": [
    "##### 显示转换年度型时区到季度型时区"
   ]
  },
  {
   "cell_type": "code",
   "execution_count": 32,
   "metadata": {},
   "outputs": [
    {
     "data": {
      "text/plain": [
       "1983Q1    0.025\n",
       "1984Q1    0.045\n",
       "1985Q1    0.037\n",
       "1986Q1    0.040\n",
       "Freq: Q-SEP, dtype: float64"
      ]
     },
     "execution_count": 32,
     "metadata": {},
     "output_type": "execute_result"
    }
   ],
   "source": [
    "infl_q = infl.asfreq('Q-SEP', how='end')\n",
    "infl_q"
   ]
  },
  {
   "cell_type": "markdown",
   "metadata": {},
   "source": [
    "##### 重对齐"
   ]
  },
  {
   "cell_type": "code",
   "execution_count": 33,
   "metadata": {},
   "outputs": [
    {
     "data": {
      "text/plain": [
       "1984Q2    0.045\n",
       "1984Q3    0.045\n",
       "1984Q4    0.045\n",
       "1985Q1    0.037\n",
       "1985Q2    0.037\n",
       "1985Q3    0.037\n",
       "1985Q4    0.037\n",
       "Freq: Q-SEP, dtype: float64"
      ]
     },
     "execution_count": 33,
     "metadata": {},
     "output_type": "execute_result"
    }
   ],
   "source": [
    "infl_q.reindex(gdp.index, method='ffill')"
   ]
  },
  {
   "cell_type": "markdown",
   "metadata": {},
   "source": [
    "### 时间和“最当前”数据选取"
   ]
  },
  {
   "cell_type": "markdown",
   "metadata": {},
   "source": [
    "假设你有一个很长的盘中市场数据时间序列,现在希望抽取其中\n",
    "每天**特定时间**的价格数据。如果数据**不规整**(观测值没有精确地落在\n",
    "期望的时间点上),该怎么办?"
   ]
  },
  {
   "cell_type": "markdown",
   "metadata": {},
   "source": [
    "#### 数据"
   ]
  },
  {
   "cell_type": "code",
   "execution_count": 41,
   "metadata": {},
   "outputs": [
    {
     "data": {
      "text/plain": [
       "2012-06-01 09:00:00    0.0\n",
       "2012-06-01 09:01:00    1.0\n",
       "2012-06-01 09:02:00    2.0\n",
       "2012-06-01 09:03:00    3.0\n",
       "2012-06-01 09:04:00    4.0\n",
       "dtype: float64"
      ]
     },
     "execution_count": 41,
     "metadata": {},
     "output_type": "execute_result"
    }
   ],
   "source": [
    "# 生成一个交易日内的日期范围和时间序列\n",
    "rng = pd.date_range('2012-06-01 09:00','2012-06-01 15:59', freq='T')\n",
    "# 生成5天的时间点(9:30~15:59之间的值)\n",
    "rng = rng.append([rng + pd.offsets.BDay(i) for i in range(1, 4)])\n",
    "ts = Series(np.arange(len(rng), dtype=float), index=rng)\n",
    "ts.head(5)"
   ]
  },
  {
   "cell_type": "markdown",
   "metadata": {},
   "source": [
    "#### 利用datetime.time实例索引数据"
   ]
  },
  {
   "cell_type": "code",
   "execution_count": 42,
   "metadata": {},
   "outputs": [
    {
     "data": {
      "text/plain": [
       "2012-06-01 10:00:00      60.0\n",
       "2012-06-04 10:00:00     480.0\n",
       "2012-06-05 10:00:00     900.0\n",
       "2012-06-06 10:00:00    1320.0\n",
       "dtype: float64"
      ]
     },
     "execution_count": 42,
     "metadata": {},
     "output_type": "execute_result"
    }
   ],
   "source": [
    "from datetime import time\n",
    "ts[time(10,0)] # 索引十点整的数据"
   ]
  },
  {
   "cell_type": "markdown",
   "metadata": {},
   "source": [
    "#### 使用at_time获取指定时间点数据"
   ]
  },
  {
   "cell_type": "code",
   "execution_count": 50,
   "metadata": {},
   "outputs": [
    {
     "data": {
      "text/plain": [
       "2012-06-01 11:05:00     125.0\n",
       "2012-06-04 11:05:00     545.0\n",
       "2012-06-05 11:05:00     965.0\n",
       "2012-06-06 11:05:00    1385.0\n",
       "dtype: float64"
      ]
     },
     "execution_count": 50,
     "metadata": {},
     "output_type": "execute_result"
    }
   ],
   "source": [
    "ts.at_time(time(11,5))"
   ]
  },
  {
   "cell_type": "markdown",
   "metadata": {},
   "source": [
    "#### 使用between_time获取指定时间段数据 -- 包头包尾"
   ]
  },
  {
   "cell_type": "code",
   "execution_count": 54,
   "metadata": {},
   "outputs": [
    {
     "data": {
      "text/plain": [
       "2012-06-01 11:05:00     125.0\n",
       "2012-06-01 11:06:00     126.0\n",
       "2012-06-01 11:07:00     127.0\n",
       "2012-06-04 11:05:00     545.0\n",
       "2012-06-04 11:06:00     546.0\n",
       "2012-06-04 11:07:00     547.0\n",
       "2012-06-05 11:05:00     965.0\n",
       "2012-06-05 11:06:00     966.0\n",
       "2012-06-05 11:07:00     967.0\n",
       "2012-06-06 11:05:00    1385.0\n",
       "2012-06-06 11:06:00    1386.0\n",
       "2012-06-06 11:07:00    1387.0\n",
       "dtype: float64"
      ]
     },
     "execution_count": 54,
     "metadata": {},
     "output_type": "execute_result"
    }
   ],
   "source": [
    "ts.between_time(time(11,5),time(11,7))"
   ]
  },
  {
   "cell_type": "markdown",
   "metadata": {},
   "source": [
    "#### 获取时间点无数据的情况 -- asof（获取当前点或之前最近的值）"
   ]
  },
  {
   "cell_type": "code",
   "execution_count": 70,
   "metadata": {},
   "outputs": [
    {
     "data": {
      "text/plain": [
       "2012-06-01 09:00:00    0.0\n",
       "2012-06-01 09:01:00    NaN\n",
       "2012-06-01 09:02:00    2.0\n",
       "2012-06-01 09:03:00    3.0\n",
       "2012-06-01 09:04:00    NaN\n",
       "2012-06-01 09:05:00    NaN\n",
       "2012-06-01 09:06:00    6.0\n",
       "2012-06-01 09:07:00    7.0\n",
       "2012-06-01 09:08:00    NaN\n",
       "2012-06-01 09:09:00    NaN\n",
       "dtype: float64"
      ]
     },
     "execution_count": 70,
     "metadata": {},
     "output_type": "execute_result"
    }
   ],
   "source": [
    "ts_nan = ts.copy()\n",
    "ts_nan[np.random.permutation(len(ts_nan))[:int(len(ts_nan)/1.6)]] = np.nan\n",
    "ts_nan[:10]"
   ]
  },
  {
   "cell_type": "code",
   "execution_count": 71,
   "metadata": {},
   "outputs": [
    {
     "data": {
      "text/plain": [
       "2012-06-01 10:00:00     60.0\n",
       "2012-06-04 10:00:00      NaN\n",
       "2012-06-05 10:00:00    900.0\n",
       "2012-06-06 10:00:00      NaN\n",
       "dtype: float64"
      ]
     },
     "execution_count": 71,
     "metadata": {},
     "output_type": "execute_result"
    }
   ],
   "source": [
    "ts_nan[time(10,0)] # 直接获取有NaN值"
   ]
  },
  {
   "cell_type": "code",
   "execution_count": 72,
   "metadata": {},
   "outputs": [
    {
     "data": {
      "text/plain": [
       "2012-06-01 10:00:00      60.0\n",
       "2012-06-04 10:00:00     475.0\n",
       "2012-06-05 10:00:00     900.0\n",
       "2012-06-06 10:00:00    1317.0\n",
       "Freq: B, dtype: float64"
      ]
     },
     "execution_count": 72,
     "metadata": {},
     "output_type": "execute_result"
    }
   ],
   "source": [
    "# 此处不接收datetime.time类型输入\n",
    "ts_nan.asof(pd.date_range('2012/06/01 10:00',periods=4,freq='B'))"
   ]
  },
  {
   "cell_type": "markdown",
   "metadata": {},
   "source": [
    "### 拼接多个数据源"
   ]
  },
  {
   "cell_type": "markdown",
   "metadata": {},
   "source": [
    "在金融或经济领域中,还有另外几个经常出现的情况:\n",
    "* 在一个特定的时间点上,从一个数据源切换到另一个数据源。\n",
    "* 用另一个时间序列对当前时间序列中的缺失值“打补丁”。\n",
    "* 将数据中的符号(国家、资产代码等)替换为实际数据。"
   ]
  },
  {
   "cell_type": "markdown",
   "metadata": {},
   "source": [
    "#### 数据中间时间段确实了一部分 -- concat"
   ]
  },
  {
   "cell_type": "code",
   "execution_count": 80,
   "metadata": {},
   "outputs": [],
   "source": [
    "se1 = Series(np.arange(3),pd.date_range('2012/01/01',periods=3,freq='D')).append(\n",
    "    Series(np.arange(3),pd.date_range('2012/01/07',periods=3,freq='D')))\n",
    "se2 = Series(np.arange(3),pd.date_range('2012/01/04',periods=3,freq='D'))"
   ]
  },
  {
   "cell_type": "code",
   "execution_count": 81,
   "metadata": {},
   "outputs": [
    {
     "data": {
      "text/plain": [
       "2012-01-01    0\n",
       "2012-01-02    1\n",
       "2012-01-03    2\n",
       "2012-01-07    0\n",
       "2012-01-08    1\n",
       "2012-01-09    2\n",
       "dtype: int64"
      ]
     },
     "execution_count": 81,
     "metadata": {},
     "output_type": "execute_result"
    }
   ],
   "source": [
    "se1"
   ]
  },
  {
   "cell_type": "code",
   "execution_count": 82,
   "metadata": {},
   "outputs": [
    {
     "data": {
      "text/plain": [
       "2012-01-04    0\n",
       "2012-01-05    1\n",
       "2012-01-06    2\n",
       "Freq: D, dtype: int64"
      ]
     },
     "execution_count": 82,
     "metadata": {},
     "output_type": "execute_result"
    }
   ],
   "source": [
    "se2"
   ]
  },
  {
   "cell_type": "code",
   "execution_count": 84,
   "metadata": {},
   "outputs": [
    {
     "data": {
      "text/plain": [
       "2012-01-01    0\n",
       "2012-01-02    1\n",
       "2012-01-03    2\n",
       "2012-01-04    0\n",
       "2012-01-05    1\n",
       "2012-01-06    2\n",
       "2012-01-07    0\n",
       "2012-01-08    1\n",
       "2012-01-09    2\n",
       "dtype: int64"
      ]
     },
     "execution_count": 84,
     "metadata": {},
     "output_type": "execute_result"
    }
   ],
   "source": [
    "pd.concat([se1.loc[:'2012/01/04'],se2,se1.loc['2012/01/04':]])"
   ]
  },
  {
   "cell_type": "markdown",
   "metadata": {},
   "source": [
    "#### combine_first -- 上述问题用该方法更简便"
   ]
  },
  {
   "cell_type": "code",
   "execution_count": 85,
   "metadata": {},
   "outputs": [
    {
     "data": {
      "text/plain": [
       "2012-01-01    0.0\n",
       "2012-01-02    1.0\n",
       "2012-01-03    2.0\n",
       "2012-01-04    0.0\n",
       "2012-01-05    1.0\n",
       "2012-01-06    2.0\n",
       "2012-01-07    0.0\n",
       "2012-01-08    1.0\n",
       "2012-01-09    2.0\n",
       "Freq: D, dtype: float64"
      ]
     },
     "execution_count": 85,
     "metadata": {},
     "output_type": "execute_result"
    }
   ],
   "source": [
    "se1.combine_first(se2)"
   ]
  },
  {
   "cell_type": "markdown",
   "metadata": {},
   "source": [
    "#### DataFrame.update -- 实现就地更新，如果指向填充NaN值，需指定overwrite为False"
   ]
  },
  {
   "cell_type": "markdown",
   "metadata": {},
   "source": [
    "#### 直接通过索引去设置"
   ]
  },
  {
   "cell_type": "markdown",
   "metadata": {},
   "source": [
    "### 收益指数和累计指数"
   ]
  },
  {
   "cell_type": "markdown",
   "metadata": {},
   "source": [
    "在金融领域中,收益(return)通常指的是某资产价格的百分比变化。"
   ]
  },
  {
   "cell_type": "markdown",
   "metadata": {},
   "source": [
    "#### 加载苹果股票数据"
   ]
  },
  {
   "cell_type": "code",
   "execution_count": 135,
   "metadata": {},
   "outputs": [
    {
     "data": {
      "text/plain": [
       "Date\n",
       "2018-04-16    175.820007\n",
       "2018-04-17    178.240005\n",
       "2018-04-18    177.839996\n",
       "2018-04-19    172.800003\n",
       "2018-04-20    165.720001\n",
       "Name: Adj Close, dtype: float64"
      ]
     },
     "execution_count": 135,
     "metadata": {},
     "output_type": "execute_result"
    }
   ],
   "source": [
    "from pandas_datareader import data as web\n",
    "price = web.get_data_yahoo('AAPL', '2011-01-01')['Adj Close']\n",
    "price[-5:]"
   ]
  },
  {
   "cell_type": "markdown",
   "metadata": {},
   "source": [
    "#### 简单计算回报率 -- 注意非工作日是没有数据的，因此通过pd.tseries.offsets.BDay来获取工作日，注意传入0，如果传入1会跳后一天"
   ]
  },
  {
   "cell_type": "code",
   "execution_count": 124,
   "metadata": {},
   "outputs": [
    {
     "data": {
      "text/plain": [
       "139.621262"
      ]
     },
     "execution_count": 124,
     "metadata": {},
     "output_type": "execute_result"
    }
   ],
   "source": [
    "workday_20170416 = pd.datetime(2017,4,16) + pd.tseries.offsets.BDay(0)\n",
    "price[workday_20170416]"
   ]
  },
  {
   "cell_type": "code",
   "execution_count": 125,
   "metadata": {},
   "outputs": [
    {
     "data": {
      "text/plain": [
       "175.820007"
      ]
     },
     "execution_count": 125,
     "metadata": {},
     "output_type": "execute_result"
    }
   ],
   "source": [
    "workday_20180416 = pd.datetime(2018,4,16) + pd.tseries.offsets.BDay(0)\n",
    "price[workday_20180416]"
   ]
  },
  {
   "cell_type": "code",
   "execution_count": 126,
   "metadata": {},
   "outputs": [
    {
     "data": {
      "text/plain": [
       "0.25926384335360031"
      ]
     },
     "execution_count": 126,
     "metadata": {},
     "output_type": "execute_result"
    }
   ],
   "source": [
    "price[workday_20180416] / price[workday_20170416] - 1"
   ]
  },
  {
   "cell_type": "markdown",
   "metadata": {},
   "source": [
    "#### 收益指数 -- 苹果11年以来收益比例持续下跌"
   ]
  },
  {
   "cell_type": "code",
   "execution_count": 137,
   "metadata": {},
   "outputs": [
    {
     "data": {
      "text/plain": [
       "<matplotlib.axes._subplots.AxesSubplot at 0x7f900e5a3950>"
      ]
     },
     "execution_count": 137,
     "metadata": {},
     "output_type": "execute_result"
    },
    {
     "data": {
      "image/png": "[encoded data removed]",
      "text/plain": [
       "<matplotlib.figure.Figure at 0x7f900e5a38d0>"
      ]
     },
     "metadata": {},
     "output_type": "display_data"
    }
   ],
   "source": [
    "ret = (1-price.pct_change()).cumprod()\n",
    "ret[0]=1\n",
    "ret.plot()"
   ]
  },
  {
   "cell_type": "markdown",
   "metadata": {},
   "source": [
    "#### 累计收益"
   ]
  },
  {
   "cell_type": "markdown",
   "metadata": {},
   "source": [
    "##### 先重采样到每月最后一个工作日"
   ]
  },
  {
   "cell_type": "code",
   "execution_count": 143,
   "metadata": {},
   "outputs": [
    {
     "data": {
      "text/plain": [
       "Date\n",
       "2010-12-31    1.000000\n",
       "2011-01-31    0.946717\n",
       "2011-02-28    0.906364\n",
       "2011-03-31    0.913337\n",
       "2011-04-29    0.906775\n",
       "Freq: BM, Name: Adj Close, dtype: float64"
      ]
     },
     "execution_count": 143,
     "metadata": {},
     "output_type": "execute_result"
    }
   ],
   "source": [
    "ret_bm = ret.resample('BM').last()\n",
    "ret_bm[:5]"
   ]
  },
  {
   "cell_type": "markdown",
   "metadata": {},
   "source": [
    "##### 计算累计收益的百分比变化"
   ]
  },
  {
   "cell_type": "code",
   "execution_count": 142,
   "metadata": {},
   "outputs": [
    {
     "data": {
      "text/plain": [
       "Date\n",
       "2010-12-31         NaN\n",
       "2011-01-31   -0.053283\n",
       "2011-02-28   -0.042624\n",
       "2011-03-31    0.007693\n",
       "2011-04-29   -0.007185\n",
       "Freq: BM, Name: Adj Close, dtype: float64"
      ]
     },
     "execution_count": 142,
     "metadata": {},
     "output_type": "execute_result"
    }
   ],
   "source": [
    "ret_bm.pct_change()[:5]"
   ]
  },
  {
   "cell_type": "markdown",
   "metadata": {},
   "source": [
    "## 分组变换和分析"
   ]
  },
  {
   "cell_type": "markdown",
   "metadata": {},
   "source": [
    "## 示例应用"
   ]
  }
 ],
 "metadata": {
  "kernelspec": {
   "display_name": "Python 2",
   "language": "python",
   "name": "python2"
  },
  "language_info": {
   "codemirror_mode": {
    "name": "ipython",
    "version": 2
   },
   "file_extension": ".py",
   "mimetype": "text/x-python",
   "name": "python",
   "nbconvert_exporter": "python",
   "pygments_lexer": "ipython2",
   "version": "2.7.13"
  },
  "toc": {
   "nav_menu": {},
   "number_sections": true,
   "sideBar": true,
   "skip_h1_title": false,
   "title_cell": "Table of Contents",
   "title_sidebar": "Contents",
   "toc_cell": false,
   "toc_position": {},
   "toc_section_display": true,
   "toc_window_display": true
  }
 },
 "nbformat": 4,
 "nbformat_minor": 2
}
