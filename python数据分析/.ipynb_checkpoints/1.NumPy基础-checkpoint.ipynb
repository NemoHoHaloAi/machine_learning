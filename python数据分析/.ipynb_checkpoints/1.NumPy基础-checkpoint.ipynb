{
 "cells": [
  {
   "cell_type": "markdown",
   "metadata": {},
   "source": [
    "# NumPy基础 "
   ]
  },
  {
   "cell_type": "markdown",
   "metadata": {},
   "source": [
    "NumPy：高性能科学计算以及数据分析的基础包（pandas），理解它有助于更好的使用pandas等数据分析包；\n",
    "NumPy内容包括：\n",
    "1. ndarray：一种具有矢量算术能力和复杂广播能力的快速且节省空间的多维数组；\n",
    "2. 对整组数据（ndarray）进行快速（低级语言实现）运算的标准数学函数（无需编写for循环等）；\n",
    "3. 读写磁盘数据以及操作内存映射文件的工具；\n",
    "4. 线性代数、随机数生成和傅里叶变换；\n",
    "5. 集成C、C++、Fortran等其他语言代码的工具（粘合剂）；\n",
    "\n",
    "[文档地址](https://docs.scipy.org/doc/numpy/reference/)"
   ]
  },
  {
   "cell_type": "code",
   "execution_count": 1,
   "metadata": {},
   "outputs": [],
   "source": [
    "import numpy as np\n",
    "import matplotlib.pyplot as plt\n",
    "\n",
    "import math,random\n",
    "\n",
    "%matplotlib inline"
   ]
  },
  {
   "cell_type": "markdown",
   "metadata": {},
   "source": [
    "## ndarray -- 一种多维数组对象 "
   ]
  },
  {
   "cell_type": "markdown",
   "metadata": {},
   "source": [
    "### 创建ndarray "
   ]
  },
  {
   "cell_type": "markdown",
   "metadata": {},
   "source": [
    "#### np.array "
   ]
  },
  {
   "cell_type": "code",
   "execution_count": 2,
   "metadata": {},
   "outputs": [
    {
     "name": "stdout",
     "output_type": "stream",
     "text": [
      "(4,)\n",
      "int64\n",
      "[1 2 3 4]\n"
     ]
    }
   ],
   "source": [
    "arr1 = np.array([1, 2, 3, 4])\n",
    "print arr1.shape\n",
    "print arr1.dtype\n",
    "print arr1"
   ]
  },
  {
   "cell_type": "code",
   "execution_count": 3,
   "metadata": {},
   "outputs": [
    {
     "name": "stdout",
     "output_type": "stream",
     "text": [
      "(2, 4)\n",
      "int64\n",
      "[[1 2 3 4]\n",
      " [4 3 2 1]]\n"
     ]
    }
   ],
   "source": [
    "arr2 = np.array([[1, 2, 3, 4],[4, 3, 2, 1]])\n",
    "print arr2.shape\n",
    "print arr2.dtype\n",
    "print arr2"
   ]
  },
  {
   "cell_type": "code",
   "execution_count": 4,
   "metadata": {},
   "outputs": [
    {
     "name": "stdout",
     "output_type": "stream",
     "text": [
      "(2,)\n",
      "object\n",
      "[list([2, 3, 4]) list([4, 3, 2, 1])]\n"
     ]
    }
   ],
   "source": [
    "arr3 = np.array([[2, 3, 4],[4, 3, 2, 1]])\n",
    "print arr3.shape\n",
    "print arr3.dtype\n",
    "print arr3"
   ]
  },
  {
   "cell_type": "markdown",
   "metadata": {},
   "source": [
    "可以看到，如果每行元素个数**不等**时，无法创建多维数组，而是会创建一维，同时每个元素用**object**来表示实际为**list**的数据。"
   ]
  },
  {
   "cell_type": "markdown",
   "metadata": {},
   "source": [
    "#### np.zeros/zeros_like "
   ]
  },
  {
   "cell_type": "code",
   "execution_count": 5,
   "metadata": {},
   "outputs": [
    {
     "data": {
      "text/plain": [
       "array([ 0.,  0.])"
      ]
     },
     "execution_count": 5,
     "metadata": {},
     "output_type": "execute_result"
    }
   ],
   "source": [
    "arr_zeros = np.zeros([2])\n",
    "arr_zeros"
   ]
  },
  {
   "cell_type": "code",
   "execution_count": 6,
   "metadata": {},
   "outputs": [
    {
     "data": {
      "text/plain": [
       "array([[ 0.,  0.,  0.,  0.],\n",
       "       [ 0.,  0.,  0.,  0.]])"
      ]
     },
     "execution_count": 6,
     "metadata": {},
     "output_type": "execute_result"
    }
   ],
   "source": [
    "arr_zeros = np.zeros([2,4])\n",
    "arr_zeros"
   ]
  },
  {
   "cell_type": "code",
   "execution_count": 7,
   "metadata": {},
   "outputs": [
    {
     "data": {
      "text/plain": [
       "array([[0, 0, 0, 0],\n",
       "       [0, 0, 0, 0]])"
      ]
     },
     "execution_count": 7,
     "metadata": {},
     "output_type": "execute_result"
    }
   ],
   "source": [
    "test = np.array([[1,2,3,4],[4,3,2,1]])\n",
    "arr_zeros_like = np.zeros_like(test)\n",
    "arr_zeros_like"
   ]
  },
  {
   "cell_type": "markdown",
   "metadata": {},
   "source": [
    "#### np.ones/ones_like "
   ]
  },
  {
   "cell_type": "code",
   "execution_count": 8,
   "metadata": {},
   "outputs": [
    {
     "data": {
      "text/plain": [
       "array([ 1.,  1.])"
      ]
     },
     "execution_count": 8,
     "metadata": {},
     "output_type": "execute_result"
    }
   ],
   "source": [
    "arr_ones = np.ones([2])\n",
    "arr_ones"
   ]
  },
  {
   "cell_type": "code",
   "execution_count": 9,
   "metadata": {},
   "outputs": [
    {
     "data": {
      "text/plain": [
       "array([[ 1.,  1.,  1.,  1.],\n",
       "       [ 1.,  1.,  1.,  1.]])"
      ]
     },
     "execution_count": 9,
     "metadata": {},
     "output_type": "execute_result"
    }
   ],
   "source": [
    "arr_ones = np.ones([2,4])\n",
    "arr_ones"
   ]
  },
  {
   "cell_type": "code",
   "execution_count": 10,
   "metadata": {},
   "outputs": [
    {
     "data": {
      "text/plain": [
       "array([[1, 1, 1, 1],\n",
       "       [1, 1, 1, 1]])"
      ]
     },
     "execution_count": 10,
     "metadata": {},
     "output_type": "execute_result"
    }
   ],
   "source": [
    "test = np.array([[1,2,3,4],[4,3,2,1]])\n",
    "arr_ones_like = np.ones_like(test)\n",
    "arr_ones_like"
   ]
  },
  {
   "cell_type": "markdown",
   "metadata": {},
   "source": [
    "#### np.empty/empty_like 不等同于zeros/zeros_like，开辟内存空间后不修改当中的内容，因此结果是不可预知的 "
   ]
  },
  {
   "cell_type": "code",
   "execution_count": 11,
   "metadata": {},
   "outputs": [
    {
     "data": {
      "text/plain": [
       "array([ 1.,  1.])"
      ]
     },
     "execution_count": 11,
     "metadata": {},
     "output_type": "execute_result"
    }
   ],
   "source": [
    "arr_empty = np.empty([2])\n",
    "arr_empty"
   ]
  },
  {
   "cell_type": "code",
   "execution_count": 12,
   "metadata": {},
   "outputs": [
    {
     "data": {
      "text/plain": [
       "array([[ 1.,  1.,  1.,  1.],\n",
       "       [ 1.,  1.,  1.,  1.]])"
      ]
     },
     "execution_count": 12,
     "metadata": {},
     "output_type": "execute_result"
    }
   ],
   "source": [
    "arr_empty = np.empty([2,4])\n",
    "arr_empty"
   ]
  },
  {
   "cell_type": "code",
   "execution_count": 13,
   "metadata": {},
   "outputs": [
    {
     "data": {
      "text/plain": [
       "array([[1, 2, 3, 4],\n",
       "       [4, 3, 2, 1]])"
      ]
     },
     "execution_count": 13,
     "metadata": {},
     "output_type": "execute_result"
    }
   ],
   "source": [
    "test = np.array([[1,2,3,4],[4,3,2,1]])\n",
    "arr_empty_like = np.empty_like(test)\n",
    "arr_empty_like"
   ]
  },
  {
   "cell_type": "markdown",
   "metadata": {},
   "source": [
    "可以看到，当使用empty_like创建empty数组时，其中的值保持了原样而没有修改，这就是与zero不同的地方。"
   ]
  },
  {
   "cell_type": "markdown",
   "metadata": {},
   "source": [
    "#### np.arange 类似与python的range，但是返回的不是array而是ndarray "
   ]
  },
  {
   "cell_type": "code",
   "execution_count": 14,
   "metadata": {},
   "outputs": [
    {
     "data": {
      "text/plain": [
       "array([0, 1, 2, 3, 4])"
      ]
     },
     "execution_count": 14,
     "metadata": {},
     "output_type": "execute_result"
    }
   ],
   "source": [
    "arr_arange = np.arange(5)\n",
    "arr_arange"
   ]
  },
  {
   "cell_type": "code",
   "execution_count": 15,
   "metadata": {},
   "outputs": [
    {
     "data": {
      "text/plain": [
       "array([0, 2, 4])"
      ]
     },
     "execution_count": 15,
     "metadata": {},
     "output_type": "execute_result"
    }
   ],
   "source": [
    "arr_arange = np.arange(0,5,2)\n",
    "arr_arange"
   ]
  },
  {
   "cell_type": "markdown",
   "metadata": {},
   "source": [
    "#### np.eye/identity "
   ]
  },
  {
   "cell_type": "code",
   "execution_count": 16,
   "metadata": {},
   "outputs": [
    {
     "data": {
      "text/plain": [
       "array([[ 1.,  0.,  0.,  0.,  0.],\n",
       "       [ 0.,  1.,  0.,  0.,  0.],\n",
       "       [ 0.,  0.,  1.,  0.,  0.],\n",
       "       [ 0.,  0.,  0.,  1.,  0.],\n",
       "       [ 0.,  0.,  0.,  0.,  1.]])"
      ]
     },
     "execution_count": 16,
     "metadata": {},
     "output_type": "execute_result"
    }
   ],
   "source": [
    "arr_identity = np.identity(5) # 单位矩阵\n",
    "arr_identity"
   ]
  },
  {
   "cell_type": "code",
   "execution_count": 17,
   "metadata": {},
   "outputs": [
    {
     "data": {
      "text/plain": [
       "array([[ 1.,  0.,  0.,  0.,  0.],\n",
       "       [ 0.,  1.,  0.,  0.,  0.],\n",
       "       [ 0.,  0.,  1.,  0.,  0.],\n",
       "       [ 0.,  0.,  0.,  1.,  0.],\n",
       "       [ 0.,  0.,  0.,  0.,  1.]])"
      ]
     },
     "execution_count": 17,
     "metadata": {},
     "output_type": "execute_result"
    }
   ],
   "source": [
    "arr_eye = np.eye(5) # 单位矩阵\n",
    "arr_eye"
   ]
  },
  {
   "cell_type": "code",
   "execution_count": 18,
   "metadata": {},
   "outputs": [
    {
     "data": {
      "text/plain": [
       "array([[ 1.,  0.,  0.],\n",
       "       [ 0.,  1.,  0.],\n",
       "       [ 0.,  0.,  1.],\n",
       "       [ 0.,  0.,  0.],\n",
       "       [ 0.,  0.,  0.]])"
      ]
     },
     "execution_count": 18,
     "metadata": {},
     "output_type": "execute_result"
    }
   ],
   "source": [
    "arr_eye = np.eye(5, M=3) # 非方阵\n",
    "arr_eye"
   ]
  },
  {
   "cell_type": "code",
   "execution_count": 19,
   "metadata": {},
   "outputs": [
    {
     "data": {
      "text/plain": [
       "array([[ 0.,  1.,  0.],\n",
       "       [ 0.,  0.,  1.],\n",
       "       [ 0.,  0.,  0.],\n",
       "       [ 0.,  0.,  0.],\n",
       "       [ 0.,  0.,  0.]])"
      ]
     },
     "execution_count": 19,
     "metadata": {},
     "output_type": "execute_result"
    }
   ],
   "source": [
    "arr_eye = np.eye(5, M=3, k=1) # 非方阵，向上偏离1\n",
    "arr_eye"
   ]
  },
  {
   "cell_type": "code",
   "execution_count": 20,
   "metadata": {},
   "outputs": [
    {
     "data": {
      "text/plain": [
       "array([[ 0.,  0.,  0.],\n",
       "       [ 1.,  0.,  0.],\n",
       "       [ 0.,  1.,  0.],\n",
       "       [ 0.,  0.,  1.],\n",
       "       [ 0.,  0.,  0.]])"
      ]
     },
     "execution_count": 20,
     "metadata": {},
     "output_type": "execute_result"
    }
   ],
   "source": [
    "arr_eye = np.eye(5, M=3, k=-1) # 非方阵，向下偏离1\n",
    "arr_eye"
   ]
  },
  {
   "cell_type": "markdown",
   "metadata": {},
   "source": [
    "### numpy数组运算以及与标量的运算 "
   ]
  },
  {
   "cell_type": "code",
   "execution_count": 21,
   "metadata": {},
   "outputs": [],
   "source": [
    "arr = np.array([[1,2,3],[4,5,6]])"
   ]
  },
  {
   "cell_type": "markdown",
   "metadata": {},
   "source": [
    "#### 相同shape的数组之间的运算会应用到每一个元素上 "
   ]
  },
  {
   "cell_type": "code",
   "execution_count": 22,
   "metadata": {},
   "outputs": [
    {
     "data": {
      "text/plain": [
       "array([[ 1,  4,  9],\n",
       "       [16, 25, 36]])"
      ]
     },
     "execution_count": 22,
     "metadata": {},
     "output_type": "execute_result"
    }
   ],
   "source": [
    "arr * arr"
   ]
  },
  {
   "cell_type": "code",
   "execution_count": 23,
   "metadata": {},
   "outputs": [
    {
     "data": {
      "text/plain": [
       "array([[ 2,  4,  6],\n",
       "       [ 8, 10, 12]])"
      ]
     },
     "execution_count": 23,
     "metadata": {},
     "output_type": "execute_result"
    }
   ],
   "source": [
    "arr + arr"
   ]
  },
  {
   "cell_type": "code",
   "execution_count": 24,
   "metadata": {},
   "outputs": [
    {
     "data": {
      "text/plain": [
       "array([[1, 1, 1],\n",
       "       [1, 1, 1]])"
      ]
     },
     "execution_count": 24,
     "metadata": {},
     "output_type": "execute_result"
    }
   ],
   "source": [
    "arr / arr"
   ]
  },
  {
   "cell_type": "code",
   "execution_count": 25,
   "metadata": {},
   "outputs": [
    {
     "data": {
      "text/plain": [
       "array([[0, 0, 0],\n",
       "       [0, 0, 0]])"
      ]
     },
     "execution_count": 25,
     "metadata": {},
     "output_type": "execute_result"
    }
   ],
   "source": [
    "arr - arr"
   ]
  },
  {
   "cell_type": "markdown",
   "metadata": {},
   "source": [
    "#### 数组与标量的运算同样会应用到每一个元素上 "
   ]
  },
  {
   "cell_type": "code",
   "execution_count": 26,
   "metadata": {},
   "outputs": [
    {
     "data": {
      "text/plain": [
       "array([[ 2,  4,  6],\n",
       "       [ 8, 10, 12]])"
      ]
     },
     "execution_count": 26,
     "metadata": {},
     "output_type": "execute_result"
    }
   ],
   "source": [
    "arr * 2"
   ]
  },
  {
   "cell_type": "code",
   "execution_count": 27,
   "metadata": {},
   "outputs": [
    {
     "data": {
      "text/plain": [
       "array([[-1,  0,  1],\n",
       "       [ 2,  3,  4]])"
      ]
     },
     "execution_count": 27,
     "metadata": {},
     "output_type": "execute_result"
    }
   ],
   "source": [
    "arr - 2"
   ]
  },
  {
   "cell_type": "code",
   "execution_count": 28,
   "metadata": {},
   "outputs": [
    {
     "data": {
      "text/plain": [
       "array([[3, 4, 5],\n",
       "       [6, 7, 8]])"
      ]
     },
     "execution_count": 28,
     "metadata": {},
     "output_type": "execute_result"
    }
   ],
   "source": [
    "arr + 2"
   ]
  },
  {
   "cell_type": "code",
   "execution_count": 29,
   "metadata": {},
   "outputs": [
    {
     "data": {
      "text/plain": [
       "array([[0, 1, 1],\n",
       "       [2, 2, 3]])"
      ]
     },
     "execution_count": 29,
     "metadata": {},
     "output_type": "execute_result"
    }
   ],
   "source": [
    "arr / 2"
   ]
  },
  {
   "cell_type": "markdown",
   "metadata": {},
   "source": [
    "PS:不同大小的数组同样可以运算，称为**广播**，暂时不讨论 "
   ]
  },
  {
   "cell_type": "markdown",
   "metadata": {},
   "source": [
    "### 基本索引和切片（重点，pandas中应用很广） "
   ]
  },
  {
   "cell_type": "markdown",
   "metadata": {},
   "source": [
    "#### 一维数组 "
   ]
  },
  {
   "cell_type": "code",
   "execution_count": 30,
   "metadata": {},
   "outputs": [
    {
     "data": {
      "text/plain": [
       "array([0, 1, 2, 3, 4, 5, 6, 7, 8, 9])"
      ]
     },
     "execution_count": 30,
     "metadata": {},
     "output_type": "execute_result"
    }
   ],
   "source": [
    "arr = np.arange(10)\n",
    "arr"
   ]
  },
  {
   "cell_type": "code",
   "execution_count": 31,
   "metadata": {},
   "outputs": [
    {
     "data": {
      "text/plain": [
       "3"
      ]
     },
     "execution_count": 31,
     "metadata": {},
     "output_type": "execute_result"
    }
   ],
   "source": [
    "arr[3]"
   ]
  },
  {
   "cell_type": "code",
   "execution_count": 32,
   "metadata": {},
   "outputs": [
    {
     "data": {
      "text/plain": [
       "array([5, 6, 7, 8, 9])"
      ]
     },
     "execution_count": 32,
     "metadata": {},
     "output_type": "execute_result"
    }
   ],
   "source": [
    "arr[5:]"
   ]
  },
  {
   "cell_type": "code",
   "execution_count": 33,
   "metadata": {},
   "outputs": [
    {
     "data": {
      "text/plain": [
       "array([0, 1])"
      ]
     },
     "execution_count": 33,
     "metadata": {},
     "output_type": "execute_result"
    }
   ],
   "source": [
    "arr[:2]"
   ]
  },
  {
   "cell_type": "code",
   "execution_count": 34,
   "metadata": {},
   "outputs": [
    {
     "data": {
      "text/plain": [
       "array([2, 3, 4, 5, 6, 7])"
      ]
     },
     "execution_count": 34,
     "metadata": {},
     "output_type": "execute_result"
    }
   ],
   "source": [
    "arr[2:8]"
   ]
  },
  {
   "cell_type": "code",
   "execution_count": 35,
   "metadata": {},
   "outputs": [
    {
     "data": {
      "text/plain": [
       "array([ 0,  1,  2,  3,  4,  5, -1, -1, -1, -1])"
      ]
     },
     "execution_count": 35,
     "metadata": {},
     "output_type": "execute_result"
    }
   ],
   "source": [
    "arr[6:] = -1 # 广播：某个值被传播给多个位置的元素\n",
    "arr"
   ]
  },
  {
   "cell_type": "code",
   "execution_count": 36,
   "metadata": {},
   "outputs": [
    {
     "data": {
      "text/plain": [
       "array([123, 123, 123])"
      ]
     },
     "execution_count": 36,
     "metadata": {},
     "output_type": "execute_result"
    }
   ],
   "source": [
    "cp_arr = arr[3:6] # ndarray的子集选取（切片操作）是不会复制数据的，因此任何改动都会影响数据源，出于大数据量的性能内存等考虑\n",
    "cp_arr[:] = 123\n",
    "cp_arr"
   ]
  },
  {
   "cell_type": "code",
   "execution_count": 37,
   "metadata": {},
   "outputs": [
    {
     "data": {
      "text/plain": [
       "array([  0,   1,   2, 123, 123, 123,  -1,  -1,  -1,  -1])"
      ]
     },
     "execution_count": 37,
     "metadata": {},
     "output_type": "execute_result"
    }
   ],
   "source": [
    "arr # u see"
   ]
  },
  {
   "cell_type": "code",
   "execution_count": 38,
   "metadata": {},
   "outputs": [
    {
     "data": {
      "text/plain": [
       "array([  0,   1,   2, 123, 123, 123,  -1,  -1,  -1,  -1])"
      ]
     },
     "execution_count": 38,
     "metadata": {},
     "output_type": "execute_result"
    }
   ],
   "source": [
    "real_cp_arr = arr[3:6].copy() # 如果需要副本而不是引用，需要显示调用copy方法\n",
    "real_cp_arr[:] = -999\n",
    "arr"
   ]
  },
  {
   "cell_type": "markdown",
   "metadata": {},
   "source": [
    "一维数据的切片、下标跟python数组一致。"
   ]
  },
  {
   "cell_type": "markdown",
   "metadata": {},
   "source": [
    "#### 多维数组 "
   ]
  },
  {
   "cell_type": "code",
   "execution_count": 39,
   "metadata": {},
   "outputs": [
    {
     "data": {
      "text/plain": [
       "array([[1, 2, 3],\n",
       "       [2, 1, 3],\n",
       "       [3, 2, 1]])"
      ]
     },
     "execution_count": 39,
     "metadata": {},
     "output_type": "execute_result"
    }
   ],
   "source": [
    "arr2d = np.array([[1,2,3],[2,1,3],[3,2,1]])\n",
    "arr2d"
   ]
  },
  {
   "cell_type": "code",
   "execution_count": 40,
   "metadata": {},
   "outputs": [
    {
     "data": {
      "text/plain": [
       "array([2, 1, 3])"
      ]
     },
     "execution_count": 40,
     "metadata": {},
     "output_type": "execute_result"
    }
   ],
   "source": [
    "arr2d[1]"
   ]
  },
  {
   "cell_type": "code",
   "execution_count": 41,
   "metadata": {},
   "outputs": [
    {
     "data": {
      "text/plain": [
       "3"
      ]
     },
     "execution_count": 41,
     "metadata": {},
     "output_type": "execute_result"
    }
   ],
   "source": [
    "arr2d[1][2]"
   ]
  },
  {
   "cell_type": "code",
   "execution_count": 42,
   "metadata": {},
   "outputs": [
    {
     "data": {
      "text/plain": [
       "3"
      ]
     },
     "execution_count": 42,
     "metadata": {},
     "output_type": "execute_result"
    }
   ],
   "source": [
    "arr2d[1,2] # 效果同上"
   ]
  },
  {
   "cell_type": "markdown",
   "metadata": {},
   "source": [
    "注意[1][2]与[1,2]的使用情况。"
   ]
  },
  {
   "cell_type": "markdown",
   "metadata": {},
   "source": [
    "### 切片索引（重点）"
   ]
  },
  {
   "cell_type": "code",
   "execution_count": 43,
   "metadata": {},
   "outputs": [
    {
     "data": {
      "text/plain": [
       "array([[1, 2, 3],\n",
       "       [2, 1, 3],\n",
       "       [3, 2, 1]])"
      ]
     },
     "execution_count": 43,
     "metadata": {},
     "output_type": "execute_result"
    }
   ],
   "source": [
    "arr2d"
   ]
  },
  {
   "cell_type": "code",
   "execution_count": 44,
   "metadata": {},
   "outputs": [
    {
     "data": {
      "text/plain": [
       "array([[2, 1, 3],\n",
       "       [3, 2, 1]])"
      ]
     },
     "execution_count": 44,
     "metadata": {},
     "output_type": "execute_result"
    }
   ],
   "source": [
    "arr2d[1:] # axis0轴上切片，也就是行"
   ]
  },
  {
   "cell_type": "code",
   "execution_count": 45,
   "metadata": {},
   "outputs": [
    {
     "data": {
      "text/plain": [
       "array([[1],\n",
       "       [2],\n",
       "       [3]])"
      ]
     },
     "execution_count": 45,
     "metadata": {},
     "output_type": "execute_result"
    }
   ],
   "source": [
    "arr2d[:, :1] # axis1轴上切片，也就是列"
   ]
  },
  {
   "cell_type": "code",
   "execution_count": 46,
   "metadata": {},
   "outputs": [
    {
     "data": {
      "text/plain": [
       "array([[2, 1],\n",
       "       [3, 2]])"
      ]
     },
     "execution_count": 46,
     "metadata": {},
     "output_type": "execute_result"
    }
   ],
   "source": [
    "arr2d[1:, :2] # 两个方向上都做切片处理"
   ]
  },
  {
   "cell_type": "code",
   "execution_count": 47,
   "metadata": {},
   "outputs": [
    {
     "data": {
      "text/plain": [
       "array([2, 1])"
      ]
     },
     "execution_count": 47,
     "metadata": {},
     "output_type": "execute_result"
    }
   ],
   "source": [
    "arr2d[1, :2] # 集合索引和切片实现降维切片子集获取"
   ]
  },
  {
   "cell_type": "code",
   "execution_count": 48,
   "metadata": {},
   "outputs": [
    {
     "data": {
      "text/plain": [
       "array([[ 1,  2,  3],\n",
       "       [21, 21,  3],\n",
       "       [21, 21,  1]])"
      ]
     },
     "execution_count": 48,
     "metadata": {},
     "output_type": "execute_result"
    }
   ],
   "source": [
    "arr2d[1:, :2] = 21 # 同样对切片获取的子集复制同样会传播到整个区域\n",
    "arr2d"
   ]
  },
  {
   "cell_type": "markdown",
   "metadata": {},
   "source": [
    "注意，带:表示切片操作，切片是获取原数据的子集，并不会改变数据的结构，而不带:的索引操作是会使得数据维度降低的。"
   ]
  },
  {
   "cell_type": "markdown",
   "metadata": {},
   "source": [
    "### 布尔型索引（应用得当可以大大简化代码，与其他获取子集不同的是该方式得到的总是副本） "
   ]
  },
  {
   "cell_type": "code",
   "execution_count": 49,
   "metadata": {},
   "outputs": [],
   "source": [
    "names = np.array(['Jobs', 'Mike', 'Jobs', 'Mary', 'Jack', 'Mike'])\n",
    "scores = np.array([[12,23],[34,45],[56,67],[78,89],[90,101],[110,123]])"
   ]
  },
  {
   "cell_type": "code",
   "execution_count": 50,
   "metadata": {},
   "outputs": [
    {
     "data": {
      "text/plain": [
       "array([[ 34,  45],\n",
       "       [110, 123]])"
      ]
     },
     "execution_count": 50,
     "metadata": {},
     "output_type": "execute_result"
    }
   ],
   "source": [
    "scores[names == 'Mike'] # 首先通过names == 'Mike'获取到一个布尔型一维数组，再使用这个一维数组来获取scores中的行"
   ]
  },
  {
   "cell_type": "code",
   "execution_count": 53,
   "metadata": {},
   "outputs": [
    {
     "data": {
      "text/plain": [
       "array([[ 12,  23],\n",
       "       [ 56,  67],\n",
       "       [ 78,  89],\n",
       "       [ 90, 101]])"
      ]
     },
     "execution_count": 53,
     "metadata": {},
     "output_type": "execute_result"
    }
   ],
   "source": [
    "scores[~(names == 'Mike')]"
   ]
  },
  {
   "cell_type": "markdown",
   "metadata": {},
   "source": [
    "取反操作有三种方式：\n",
    "1. ~(a==b)\n",
    "2. -(a==b)，这一种被废弃了\n",
    "3. (a!=b)"
   ]
  },
  {
   "cell_type": "code",
   "execution_count": 54,
   "metadata": {},
   "outputs": [
    {
     "data": {
      "text/plain": [
       "array([[ 34,  45],\n",
       "       [ 90, 101],\n",
       "       [110, 123]])"
      ]
     },
     "execution_count": 54,
     "metadata": {},
     "output_type": "execute_result"
    }
   ],
   "source": [
    "scores[(names == 'Mike') | (names == 'Jack')] # 注意：由于其本质是在布尔型数组上做运算，因此不能使用逻辑运算符and, or这些，而是要用&, | 这些位运算符来替代"
   ]
  },
  {
   "cell_type": "code",
   "execution_count": 55,
   "metadata": {},
   "outputs": [
    {
     "data": {
      "text/plain": [
       "array([ 45, 123])"
      ]
     },
     "execution_count": 55,
     "metadata": {},
     "output_type": "execute_result"
    }
   ],
   "source": [
    "scores[names == 'Mike', 1] # 结合切片，索引使用，使用bool数组切片，再索引第1列。"
   ]
  },
  {
   "cell_type": "code",
   "execution_count": 56,
   "metadata": {},
   "outputs": [
    {
     "data": {
      "text/plain": [
       "array([[ 12,  23],\n",
       "       [ 34,  45],\n",
       "       [ 56,  67],\n",
       "       [ 78,  89],\n",
       "       [ 90, 101],\n",
       "       [110, 123]])"
      ]
     },
     "execution_count": 56,
     "metadata": {},
     "output_type": "execute_result"
    }
   ],
   "source": [
    "mary_scores = scores[names == 'Mary']\n",
    "mary_scores[:] = -999 # 使用布尔型索引得到的总是副本，即使是一模一样的结果\n",
    "scores"
   ]
  },
  {
   "cell_type": "code",
   "execution_count": 54,
   "metadata": {},
   "outputs": [
    {
     "data": {
      "text/plain": [
       "array([[ 12,  23],\n",
       "       [ 34,  45],\n",
       "       [ 56,  67],\n",
       "       [  0,   0],\n",
       "       [ 90, 101],\n",
       "       [110, 123]])"
      ]
     },
     "execution_count": 54,
     "metadata": {},
     "output_type": "execute_result"
    }
   ],
   "source": [
    "scores[names == 'Mary'] = 0 # 通过该方式设置整个区域的值很方便（这个Mary可能是作弊了。。。。）\n",
    "scores"
   ]
  },
  {
   "cell_type": "code",
   "execution_count": 58,
   "metadata": {},
   "outputs": [
    {
     "data": {
      "text/plain": [
       "array([[ 12,  23],\n",
       "       [ 34,  45],\n",
       "       [ 56,  67],\n",
       "       [ 78,  89],\n",
       "       [  0, 101],\n",
       "       [110, 123]])"
      ]
     },
     "execution_count": 58,
     "metadata": {},
     "output_type": "execute_result"
    }
   ],
   "source": [
    "scores[names == 'Jack', 0] = 0 # 单科作弊0分处理\n",
    "scores"
   ]
  },
  {
   "cell_type": "markdown",
   "metadata": {},
   "source": [
    "通过bool值筛选，然后设置值，本质上等同于通过切片或者索引后赋值，但是条件可以更复杂，更贴近业务，代码简短，且运行速度块。"
   ]
  },
  {
   "cell_type": "markdown",
   "metadata": {},
   "source": [
    "### 花式索引 （用于交换调整数组的行列顺序，与其他获取子集不同的是该方式得到的总是副本） "
   ]
  },
  {
   "cell_type": "code",
   "execution_count": 59,
   "metadata": {},
   "outputs": [
    {
     "data": {
      "text/plain": [
       "array([[1, 2, 3],\n",
       "       [4, 5, 6],\n",
       "       [7, 8, 9]])"
      ]
     },
     "execution_count": 59,
     "metadata": {},
     "output_type": "execute_result"
    }
   ],
   "source": [
    "arr = np.array([[1,2,3],[4,5,6],[7,8,9]])\n",
    "arr"
   ]
  },
  {
   "cell_type": "code",
   "execution_count": 60,
   "metadata": {},
   "outputs": [
    {
     "data": {
      "text/plain": [
       "array([[7, 8, 9],\n",
       "       [1, 2, 3]])"
      ]
     },
     "execution_count": 60,
     "metadata": {},
     "output_type": "execute_result"
    }
   ],
   "source": [
    "arr[[2,0]] # 使用一维数组做索引，达到按照顺序获取axis0的元素的目的"
   ]
  },
  {
   "cell_type": "markdown",
   "metadata": {},
   "source": [
    "关键在于理解[2,0]的用法，这里的[2,0]要理解为列表，类似于上面的bool数组[true,false]，只不过[true,false]描述的是第0行要，第一行不要，而这里的[2,0]描述的是我的第0行要放置元数据的第2行，我的第1行要放置元数据的第0行，仅此而已。"
   ]
  },
  {
   "cell_type": "code",
   "execution_count": 63,
   "metadata": {},
   "outputs": [
    {
     "data": {
      "text/plain": [
       "array([9, 1])"
      ]
     },
     "execution_count": 63,
     "metadata": {},
     "output_type": "execute_result"
    }
   ],
   "source": [
    "arr[[2,0],[2,0]] # 最终获取到的是arr[2][2]，arr[0][0]这两个元素，结构为一维数组。"
   ]
  },
  {
   "cell_type": "code",
   "execution_count": 67,
   "metadata": {},
   "outputs": [
    {
     "data": {
      "text/plain": [
       "array([5, 6])"
      ]
     },
     "execution_count": 67,
     "metadata": {},
     "output_type": "execute_result"
    }
   ],
   "source": [
    "arr[[1],[1,2]] # 最终获取到的是arr[1][1]，arr[1][2]这两个元素，结构为一维数组。"
   ]
  },
  {
   "cell_type": "code",
   "execution_count": 66,
   "metadata": {},
   "outputs": [
    {
     "data": {
      "text/plain": [
       "array([5])"
      ]
     },
     "execution_count": 66,
     "metadata": {},
     "output_type": "execute_result"
    }
   ],
   "source": [
    "arr[[1],[1]] # 最终获取到的是arr[1][1]这个元素，结构为一维数组。"
   ]
  },
  {
   "cell_type": "code",
   "execution_count": 68,
   "metadata": {},
   "outputs": [
    {
     "data": {
      "text/plain": [
       "5"
      ]
     },
     "execution_count": 68,
     "metadata": {},
     "output_type": "execute_result"
    }
   ],
   "source": [
    "arr[1,1] # 对比这种情况，取到的数值是一样的，但是结构不一样。"
   ]
  },
  {
   "cell_type": "markdown",
   "metadata": {},
   "source": [
    "首先看到，结果均为一维数组，因此还是索引操作（只不过只降了一维）。\n",
    "\n",
    "本质是索引，只不过不是[x,y]的单个元素索引，而是[[a,b],[c,b]]的一维索引，因此结果也是一维的，[a,b]在x的位置上，因此a和b都是指定的行号，而对应的c和d指定的就是列号，最终拼成[a][c]和[b][d]组成的一维数组，如果是[[a],[b]]，那么就是[a][b]自己组成的一维数组。"
   ]
  },
  {
   "cell_type": "code",
   "execution_count": 59,
   "metadata": {},
   "outputs": [
    {
     "data": {
      "text/plain": [
       "array([[9, 7],\n",
       "       [3, 1]])"
      ]
     },
     "execution_count": 59,
     "metadata": {},
     "output_type": "execute_result"
    }
   ],
   "source": [
    "arr[[2,0]][:,[2,0]] # 这种写法的效果才是先按顺序获取2,0两行，再在基础上按顺序获取2,0两列"
   ]
  },
  {
   "cell_type": "markdown",
   "metadata": {},
   "source": [
    "与上面类似，只不过做了两次切片，第一次[[2,0]]，按顺序取了第2行和第0行，第二次在之前基础上，按顺序取了第2列和第0列。"
   ]
  },
  {
   "cell_type": "code",
   "execution_count": 69,
   "metadata": {},
   "outputs": [
    {
     "data": {
      "text/plain": [
       "array([[9, 7],\n",
       "       [3, 1]])"
      ]
     },
     "execution_count": 69,
     "metadata": {},
     "output_type": "execute_result"
    }
   ],
   "source": [
    "arr[np.ix_([2,0],[2,0])] # 使用ix_达到arr[[2,0]][:,[2,0]]一样的效果，本质上ix_就是构建一个获取指定区域的索引器"
   ]
  },
  {
   "cell_type": "markdown",
   "metadata": {},
   "source": [
    "### 数组转置和轴对换 "
   ]
  },
  {
   "cell_type": "markdown",
   "metadata": {},
   "source": [
    "#### 2维 "
   ]
  },
  {
   "cell_type": "code",
   "execution_count": 70,
   "metadata": {},
   "outputs": [
    {
     "data": {
      "text/plain": [
       "array([[ 0,  1,  2,  3],\n",
       "       [ 4,  5,  6,  7],\n",
       "       [ 8,  9, 10, 11],\n",
       "       [12, 13, 14, 15]])"
      ]
     },
     "execution_count": 70,
     "metadata": {},
     "output_type": "execute_result"
    }
   ],
   "source": [
    "arr = np.arange(16).reshape(4,4)\n",
    "arr"
   ]
  },
  {
   "cell_type": "code",
   "execution_count": 71,
   "metadata": {},
   "outputs": [
    {
     "data": {
      "text/plain": [
       "array([[ 0,  4,  8, 12],\n",
       "       [ 1,  5,  9, 13],\n",
       "       [ 2,  6, 10, 14],\n",
       "       [ 3,  7, 11, 15]])"
      ]
     },
     "execution_count": 71,
     "metadata": {},
     "output_type": "execute_result"
    }
   ],
   "source": [
    "arr.T # ndarray的一个属性，表示数组对应的转置数组"
   ]
  },
  {
   "cell_type": "markdown",
   "metadata": {},
   "source": [
    "#### 3维 "
   ]
  },
  {
   "cell_type": "code",
   "execution_count": 72,
   "metadata": {},
   "outputs": [
    {
     "data": {
      "text/plain": [
       "array([[[ 0,  1,  2,  3],\n",
       "        [ 4,  5,  6,  7],\n",
       "        [ 8,  9, 10, 11]],\n",
       "\n",
       "       [[12, 13, 14, 15],\n",
       "        [16, 17, 18, 19],\n",
       "        [20, 21, 22, 23]]])"
      ]
     },
     "execution_count": 72,
     "metadata": {},
     "output_type": "execute_result"
    }
   ],
   "source": [
    "arr3d = np.arange(24).reshape(2,3,4)\n",
    "arr3d"
   ]
  },
  {
   "cell_type": "code",
   "execution_count": 73,
   "metadata": {},
   "outputs": [
    {
     "data": {
      "text/plain": [
       "array([[[ 0, 12],\n",
       "        [ 4, 16],\n",
       "        [ 8, 20]],\n",
       "\n",
       "       [[ 1, 13],\n",
       "        [ 5, 17],\n",
       "        [ 9, 21]],\n",
       "\n",
       "       [[ 2, 14],\n",
       "        [ 6, 18],\n",
       "        [10, 22]],\n",
       "\n",
       "       [[ 3, 15],\n",
       "        [ 7, 19],\n",
       "        [11, 23]]])"
      ]
     },
     "execution_count": 73,
     "metadata": {},
     "output_type": "execute_result"
    }
   ],
   "source": [
    "arr3d.T # 数组结构变为4,3,2"
   ]
  },
  {
   "cell_type": "code",
   "execution_count": 74,
   "metadata": {},
   "outputs": [
    {
     "data": {
      "text/plain": [
       "array([[[ 0, 12],\n",
       "        [ 4, 16],\n",
       "        [ 8, 20]],\n",
       "\n",
       "       [[ 1, 13],\n",
       "        [ 5, 17],\n",
       "        [ 9, 21]],\n",
       "\n",
       "       [[ 2, 14],\n",
       "        [ 6, 18],\n",
       "        [10, 22]],\n",
       "\n",
       "       [[ 3, 15],\n",
       "        [ 7, 19],\n",
       "        [11, 23]]])"
      ]
     },
     "execution_count": 74,
     "metadata": {},
     "output_type": "execute_result"
    }
   ],
   "source": [
    "arr3d.transpose([2,1,0]) #  transpose方法需要给定一个指定轴角标顺序的集合，指定[2,1,0]等价于arr.T"
   ]
  },
  {
   "cell_type": "code",
   "execution_count": 66,
   "metadata": {},
   "outputs": [
    {
     "data": {
      "text/plain": [
       "array([[[ 0, 12],\n",
       "        [ 4, 16],\n",
       "        [ 8, 20]],\n",
       "\n",
       "       [[ 1, 13],\n",
       "        [ 5, 17],\n",
       "        [ 9, 21]],\n",
       "\n",
       "       [[ 2, 14],\n",
       "        [ 6, 18],\n",
       "        [10, 22]],\n",
       "\n",
       "       [[ 3, 15],\n",
       "        [ 7, 19],\n",
       "        [11, 23]]])"
      ]
     },
     "execution_count": 66,
     "metadata": {},
     "output_type": "execute_result"
    }
   ],
   "source": [
    "arr3d.swapaxes(0,2) # 交换某两个轴角标，同样等价于transpose([2,1,0])，因此轴1没变，本质上只需要交换0，2就好"
   ]
  },
  {
   "cell_type": "markdown",
   "metadata": {},
   "source": [
    "所以可以说轴对换是更加灵活的转置，转置做到的轴对换都可以做到，反之亦然。"
   ]
  },
  {
   "cell_type": "markdown",
   "metadata": {},
   "source": [
    "## 通用函数：快速的元素级数组函数 "
   ]
  },
  {
   "cell_type": "markdown",
   "metadata": {},
   "source": [
    "ufunc：看做是一般函数的矢量化封装，使得操作作用于数组中的每个元素，比如sqrt，exp等等，用于代替循环等，效率更高，速度更快。"
   ]
  },
  {
   "cell_type": "markdown",
   "metadata": {},
   "source": [
    "### 一元ufunc "
   ]
  },
  {
   "cell_type": "code",
   "execution_count": 75,
   "metadata": {},
   "outputs": [
    {
     "data": {
      "text/plain": [
       "array([0, 1, 2, 3, 4, 5, 6, 7, 8])"
      ]
     },
     "execution_count": 75,
     "metadata": {},
     "output_type": "execute_result"
    }
   ],
   "source": [
    "arr = np.arange(9)\n",
    "arr"
   ]
  },
  {
   "cell_type": "code",
   "execution_count": 76,
   "metadata": {},
   "outputs": [
    {
     "data": {
      "text/plain": [
       "array([ 0.        ,  1.        ,  1.41421356,  1.73205081,  2.        ,\n",
       "        2.23606798,  2.44948974,  2.64575131,  2.82842712])"
      ]
     },
     "execution_count": 76,
     "metadata": {},
     "output_type": "execute_result"
    }
   ],
   "source": [
    "np.sqrt(arr) # 不会修改数据源"
   ]
  },
  {
   "cell_type": "code",
   "execution_count": 77,
   "metadata": {},
   "outputs": [
    {
     "data": {
      "text/plain": [
       "array([  1.00000000e+00,   2.71828183e+00,   7.38905610e+00,\n",
       "         2.00855369e+01,   5.45981500e+01,   1.48413159e+02,\n",
       "         4.03428793e+02,   1.09663316e+03,   2.98095799e+03])"
      ]
     },
     "execution_count": 77,
     "metadata": {},
     "output_type": "execute_result"
    }
   ],
   "source": [
    "np.exp(arr) # e的指数"
   ]
  },
  {
   "cell_type": "code",
   "execution_count": 78,
   "metadata": {},
   "outputs": [
    {
     "data": {
      "text/plain": [
       "3"
      ]
     },
     "execution_count": 78,
     "metadata": {},
     "output_type": "execute_result"
    }
   ],
   "source": [
    "arr2d = np.array([[1,2,3],[2,1,3],[3,2,1]])\n",
    "np.max(arr2d)"
   ]
  },
  {
   "cell_type": "code",
   "execution_count": 79,
   "metadata": {},
   "outputs": [
    {
     "name": "stdout",
     "output_type": "stream",
     "text": [
      "[[ 0.   0.2  0.4]\n",
      " [ 0.6  0.8  1. ]\n",
      " [ 1.2  1.4  1.6]]\n"
     ]
    },
    {
     "data": {
      "text/plain": [
       "(array([[ 0. ,  0.2,  0.4],\n",
       "        [ 0.6,  0.8,  0. ],\n",
       "        [ 0.2,  0.4,  0.6]]), array([[ 0.,  0.,  0.],\n",
       "        [ 0.,  0.,  1.],\n",
       "        [ 1.,  1.,  1.]]))"
      ]
     },
     "execution_count": 79,
     "metadata": {},
     "output_type": "execute_result"
    }
   ],
   "source": [
    "arr_float = np.arange(9).reshape(3,3) / 5. # 返回多个数组的通用函数，modf用于整数小数的分离\n",
    "print arr_float\n",
    "np.modf(arr_float)"
   ]
  },
  {
   "cell_type": "markdown",
   "metadata": {},
   "source": [
    "### 常用一元ufunc "
   ]
  },
  {
   "cell_type": "markdown",
   "metadata": {},
   "source": [
    "* abs/fabs：求整数，浮点数，复数的绝对值，对于非复数，可以使用更快的fabs；\n",
    "* sqrt：开平方；\n",
    "* square：2次方；\n",
    "* exp：计算指数e的X次方；\n",
    "* log、log10、log2、log1p：分别对应自然对数（底数为e）、底数为10的log、底数为2的log、log(1+x)；\n",
    "* sign：计算正负号，1代表整数，0代表0，,1代表负数；\n",
    "* ceil：大于等于该值的最小整数；\n",
    "* floor：小于等于该值的最大整数；\n",
    "* rint：四舍五入到最近的整数，保留dtype；\n",
    "* modf：将整数和小数分开返回；\n",
    "* isnan：返回一个哪些元素不是数字的布尔型数组；\n",
    "* isfinite/isinf：返回一个哪些数是 有穷/无穷 的布尔型数组；\n",
    "* cos/cosh/sin/sinh/tan/tanh：普通型和双曲线的三角函数；\n",
    "* arccos/arccosh/arcsin/arcsinh/arctan/arctanh：反三角函数；\n",
    "* logical_not：计算not x的真值，相当于-arr；"
   ]
  },
  {
   "cell_type": "markdown",
   "metadata": {},
   "source": [
    "### 二元ufunc "
   ]
  },
  {
   "cell_type": "code",
   "execution_count": 80,
   "metadata": {},
   "outputs": [
    {
     "data": {
      "text/plain": [
       "array([2, 2, 3])"
      ]
     },
     "execution_count": 80,
     "metadata": {},
     "output_type": "execute_result"
    }
   ],
   "source": [
    "np.maximum(arr2d[0], arr2d[1]) # 逐位比较大小，将结果组成一个维度低一级的数组返回"
   ]
  },
  {
   "cell_type": "code",
   "execution_count": 81,
   "metadata": {},
   "outputs": [
    {
     "data": {
      "text/plain": [
       "array([[12, 13, 14, 15],\n",
       "       [16, 17, 18, 19],\n",
       "       [20, 21, 22, 23]])"
      ]
     },
     "execution_count": 81,
     "metadata": {},
     "output_type": "execute_result"
    }
   ],
   "source": [
    "arr3d = np.arange(24).reshape(2,3,4)\n",
    "np.maximum(arr3d[0], arr3d[1])"
   ]
  },
  {
   "cell_type": "markdown",
   "metadata": {},
   "source": [
    "### 常用二元ufunc "
   ]
  },
  {
   "cell_type": "markdown",
   "metadata": {},
   "source": [
    "* add/subtract/multiply/divide：数组的加减乘除，相当于+,-,*,/；\n",
    "* floor_divide：向下圆整除法，丢弃余数；\n",
    "* power：针对每个数组A中的元素，取对应位置的数组B中的元素做次方运算；\n",
    "* maximum/fmax/minimum/fmin：最大最小元素级计算，fxxx会忽略NaN；\n",
    "* mod：求模运算；\n",
    "* copysign：将参数二数组中的符号付给参数一的数组中的元素；\n",
    "* greater/greater_equal/less/less_equal/equal/not_equal：>、>=、<、<=、==、!=；\n",
    "* logical_and/logical_or/logical_xor：&、|、^；"
   ]
  },
  {
   "cell_type": "markdown",
   "metadata": {},
   "source": [
    "## 利用数组进行数据处理 "
   ]
  },
  {
   "cell_type": "markdown",
   "metadata": {},
   "source": [
    "ndarray可以使得不必进行循环而是直接在数组级上操作，通常来讲这种方式要比纯python循环快一两个数量级，这种方式也称为矢量化（广播就是针对矢量化计算的一种强大手段，12章介绍）；"
   ]
  },
  {
   "cell_type": "markdown",
   "metadata": {},
   "source": [
    "### 对比下速度 -- 在一组值(网格型)上计算函数sqrt(x^2+y^2) "
   ]
  },
  {
   "cell_type": "markdown",
   "metadata": {},
   "source": [
    "#### 普通循环方式 "
   ]
  },
  {
   "cell_type": "code",
   "execution_count": 86,
   "metadata": {},
   "outputs": [],
   "source": [
    "def normal_for():\n",
    "    data = [[0 for i in range(1000)] for j in range(1000)]\n",
    "    for i in range(1000):\n",
    "        for j in range(1000):\n",
    "            x = i + j\n",
    "            y = i - j\n",
    "            data[i][j] = math.sqrt(x**2 + y**2)\n",
    "    print len(data)"
   ]
  },
  {
   "cell_type": "code",
   "execution_count": 87,
   "metadata": {},
   "outputs": [
    {
     "name": "stdout",
     "output_type": "stream",
     "text": [
      "1000\n",
      "CPU times: user 310 ms, sys: 7.13 ms, total: 317 ms\n",
      "Wall time: 315 ms\n"
     ]
    }
   ],
   "source": [
    "%time normal_for()"
   ]
  },
  {
   "cell_type": "markdown",
   "metadata": {},
   "source": [
    "#### 数组方式 "
   ]
  },
  {
   "cell_type": "code",
   "execution_count": 88,
   "metadata": {},
   "outputs": [],
   "source": [
    "def ndarray_way():\n",
    "    points = np.arange(-5, 5, 0.01)\n",
    "    xs, ys = np.meshgrid(points, points)\n",
    "    print xs.shape\n",
    "    data = np.sqrt(xs**2 + ys**2)\n",
    "    print len(data)"
   ]
  },
  {
   "cell_type": "code",
   "execution_count": 89,
   "metadata": {},
   "outputs": [
    {
     "name": "stdout",
     "output_type": "stream",
     "text": [
      "(1000, 1000)\n",
      "1000\n",
      "CPU times: user 12.9 ms, sys: 7.8 ms, total: 20.7 ms\n",
      "Wall time: 19.3 ms\n"
     ]
    }
   ],
   "source": [
    "%time ndarray_way()"
   ]
  },
  {
   "cell_type": "markdown",
   "metadata": {},
   "source": [
    "能够看到，同样是在1000 × 1000的数量级上运算，数组方式要快15倍左右，且代码可读性更高，也更精简，不易出错，比如图片、音频等数据转换成向量来处理时（归一化、二值化、灰度），使用这种方式更加有实际意义，因为图片音频数据通常都很大，生成的数据向量也很大。"
   ]
  },
  {
   "cell_type": "markdown",
   "metadata": {},
   "source": [
    "### 将条件逻辑表述为数组运算 "
   ]
  },
  {
   "cell_type": "markdown",
   "metadata": {},
   "source": [
    "#### np.where是三元运算符 x if condition else y的矢量化形式 "
   ]
  },
  {
   "cell_type": "markdown",
   "metadata": {},
   "source": [
    "根据条件集合选择数据源A或者B中的数据"
   ]
  },
  {
   "cell_type": "code",
   "execution_count": 90,
   "metadata": {},
   "outputs": [],
   "source": [
    "cond_arr = [True, True, False, False, True]\n",
    "data_a = [70, 80, 35, 45, 90]\n",
    "data_b = [55, 75, 95, 87, 66]\n",
    "\n",
    "cond_arr_np = np.asarray(cond_arr)\n",
    "data_a_np = np.asarray(data_a)\n",
    "data_b_np = np.asarray(data_b)"
   ]
  },
  {
   "cell_type": "code",
   "execution_count": 91,
   "metadata": {},
   "outputs": [
    {
     "data": {
      "text/plain": [
       "[70, 80, 95, 87, 90]"
      ]
     },
     "execution_count": 91,
     "metadata": {},
     "output_type": "execute_result"
    }
   ],
   "source": [
    "# 普通列表推导式\n",
    "[a if cond else b for cond, a, b in zip(cond_arr, data_a, data_b)]"
   ]
  },
  {
   "cell_type": "code",
   "execution_count": 92,
   "metadata": {},
   "outputs": [
    {
     "data": {
      "text/plain": [
       "array([70, 80, 95, 87, 90])"
      ]
     },
     "execution_count": 92,
     "metadata": {},
     "output_type": "execute_result"
    }
   ],
   "source": [
    "# 数组方式\n",
    "np.where(cond_arr_np, data_a_np, data_b_np)"
   ]
  },
  {
   "cell_type": "markdown",
   "metadata": {},
   "source": [
    "np.where抽象度更高，封装复用性更好，代码简单，速度更快。\n",
    "\n",
    "分析：\n",
    "* 列表推导式：\n",
    "    * 可读性较差；\n",
    "    * 不适用于多维数组（依赖于zip的解包操作）；\n",
    "    * 作用于大数组时性能问题（毕竟是纯python实现）；\n",
    "* np.where：\n",
    "    * 可读性较强；\n",
    "    * 代码简单；\n",
    "    * 适用于多维数组；\n",
    "    * 性能更优秀（底层实现使用C）；"
   ]
  },
  {
   "cell_type": "markdown",
   "metadata": {},
   "source": [
    "#### 假设有一个由随机数据组成的矩阵,你希望将所有正值替换为2,将所有负值替换为-2 "
   ]
  },
  {
   "cell_type": "code",
   "execution_count": 93,
   "metadata": {},
   "outputs": [
    {
     "name": "stdout",
     "output_type": "stream",
     "text": [
      "[ 12   2  -7 -90  23  44 -65  34  22  -9 -21]\n",
      "[ 2  2 -2 -2  2  2 -2  2  2 -2 -2]\n",
      "[  2   2  -7 -90   2   2 -65   2   2  -9 -21]\n"
     ]
    }
   ],
   "source": [
    "data = np.array([12,2,-7,-90,23,44,-65,34,22,-9,-21])\n",
    "print data\n",
    "print np.where(data>=0, 2, -2) # 将正数和0设置为2，负数设置为-2\n",
    "print np.where(data>=0, 2, data) # 将正数和0设置为2，负数不处理"
   ]
  },
  {
   "cell_type": "markdown",
   "metadata": {},
   "source": [
    "利用np.where批处理数组数据，代码量非常少，二值化就可以这样处理：np.where(data>=0,1,-1)。"
   ]
  },
  {
   "cell_type": "markdown",
   "metadata": {},
   "source": [
    "#### 两个布尔型数组cond1和cond2,希望根据4种不同的布尔值组合实现不同的赋值操作"
   ]
  },
  {
   "cell_type": "code",
   "execution_count": 94,
   "metadata": {},
   "outputs": [
    {
     "name": "stdout",
     "output_type": "stream",
     "text": [
      "['yes' 'yes' 'yes' 'yes' 'yes']\n",
      "['yes' 'no' 'no' 'no' 'no']\n",
      "['no' 'yes' 'yes' 'yes' 'yes']\n",
      "[4 2 1 1 2]\n"
     ]
    }
   ],
   "source": [
    "cond1 = np.array([True, False, True, True, False])\n",
    "cond2 = np.array([True, True, False, False, True])\n",
    "print np.where(cond1 | cond2, 'yes', 'no') # 两组条件满足其一\n",
    "print np.where(cond1 & cond2, 'yes', 'no') # 两组条件全满足\n",
    "print np.where(cond1 ^ cond2, 'yes', 'no') # 两组条件相反\n",
    "print np.where(cond1 & cond2, 4, np.where(cond1, 1, np.where(cond2, 2, 0))) # 满足两个赋值4，满足cond1赋值1，满足cond2赋值2，都不满足赋值0"
   ]
  },
  {
   "cell_type": "markdown",
   "metadata": {},
   "source": [
    "因为条件部分使用数组来表示，而数组是支持&|运算的，因此可以实现复杂的条件表达式，同样因为可以**嵌套**，因此想象空间又大了一层。"
   ]
  },
  {
   "cell_type": "markdown",
   "metadata": {},
   "source": [
    "### 数学和统计方法 "
   ]
  },
  {
   "cell_type": "markdown",
   "metadata": {},
   "source": [
    "可以通过一组数学函数针对整个数组或者某个轴向上进行运算，进行聚合或非聚合；"
   ]
  },
  {
   "cell_type": "markdown",
   "metadata": {},
   "source": [
    "#### 聚合 返回标量 -- sum,mean,std "
   ]
  },
  {
   "cell_type": "code",
   "execution_count": 95,
   "metadata": {},
   "outputs": [
    {
     "name": "stdout",
     "output_type": "stream",
     "text": [
      "4950\n",
      "49.5\n",
      "28.8660700477\n"
     ]
    }
   ],
   "source": [
    "data = np.arange(100).reshape(10, 10)\n",
    "print data.sum() # 求和\n",
    "print np.mean(data) # 求平均值\n",
    "print data.std() # 求标准差"
   ]
  },
  {
   "cell_type": "markdown",
   "metadata": {},
   "source": [
    "#### 非聚合，即作用于某一个维度上，返回的不再是一个标量，而是降低一个维度的数组"
   ]
  },
  {
   "cell_type": "code",
   "execution_count": 96,
   "metadata": {},
   "outputs": [
    {
     "name": "stdout",
     "output_type": "stream",
     "text": [
      "[[ 0  1  2  3  4  5  6  7  8  9]\n",
      " [10 11 12 13 14 15 16 17 18 19]\n",
      " [20 21 22 23 24 25 26 27 28 29]\n",
      " [30 31 32 33 34 35 36 37 38 39]\n",
      " [40 41 42 43 44 45 46 47 48 49]\n",
      " [50 51 52 53 54 55 56 57 58 59]\n",
      " [60 61 62 63 64 65 66 67 68 69]\n",
      " [70 71 72 73 74 75 76 77 78 79]\n",
      " [80 81 82 83 84 85 86 87 88 89]\n",
      " [90 91 92 93 94 95 96 97 98 99]]\n",
      "[450 460 470 480 490 500 510 520 530 540]\n",
      "[  4.5  14.5  24.5  34.5  44.5  54.5  64.5  74.5  84.5  94.5]\n",
      "[ 2.87228132  2.87228132  2.87228132  2.87228132  2.87228132  2.87228132\n",
      "  2.87228132  2.87228132  2.87228132  2.87228132]\n"
     ]
    }
   ],
   "source": [
    "print data\n",
    "print data.sum(axis=0) # 求和\n",
    "print np.mean(data, axis=1) # 求平均值\n",
    "print data.std(1) # 求标准差"
   ]
  },
  {
   "cell_type": "markdown",
   "metadata": {},
   "source": [
    "#### 数组中由中间结果组成结果 -- cumsum,cumprod "
   ]
  },
  {
   "cell_type": "code",
   "execution_count": 97,
   "metadata": {},
   "outputs": [
    {
     "name": "stdout",
     "output_type": "stream",
     "text": [
      "[ 1  3  6 10 15 21 28 36 45]\n",
      "\n",
      "\n",
      "[[ 1  2  3]\n",
      " [ 5  7  9]\n",
      " [12 15 18]]\n",
      "\n",
      "\n",
      "[[ 1  3  6]\n",
      " [ 4  9 15]\n",
      " [ 7 15 24]]\n"
     ]
    }
   ],
   "source": [
    "data = np.array([[1,2,3],[4,5,6],[7,8,9]])\n",
    "print data.cumsum() # 作为一个线性数列进行sum递增求和，得到一个一维数组\n",
    "print '\\n'\n",
    "print data.cumsum(0) # 取行作为计算单元，得到一个二维数组\n",
    "print '\\n'\n",
    "print data.cumsum(1) # 取列作为计算单元，得到一个二维数组"
   ]
  },
  {
   "cell_type": "code",
   "execution_count": 98,
   "metadata": {},
   "outputs": [
    {
     "name": "stdout",
     "output_type": "stream",
     "text": [
      "[     1      2      6     24    120    720   5040  40320 362880]\n",
      "\n",
      "\n",
      "[[  1   2   3]\n",
      " [  4  10  18]\n",
      " [ 28  80 162]]\n",
      "\n",
      "\n",
      "[[  1   2   6]\n",
      " [  4  20 120]\n",
      " [  7  56 504]]\n"
     ]
    }
   ],
   "source": [
    "data = np.array([[1,2,3],[4,5,6],[7,8,9]])\n",
    "print data.cumprod() # 作为一个线性数列进行sum递乘求和，得到一个一维数组\n",
    "print '\\n'\n",
    "print data.cumprod(0) # 取行作为计算单元，得到一个二维数组\n",
    "print '\\n'\n",
    "print data.cumprod(1) # 取列作为计算单元，得到一个二维数组"
   ]
  },
  {
   "cell_type": "markdown",
   "metadata": {},
   "source": [
    "#### 基本统计方法"
   ]
  },
  {
   "cell_type": "markdown",
   "metadata": {},
   "source": [
    "* sum,mean,std,var,min,max,argmin,argmax：默认是得到一个标量，通过设置axis可以按照轴来计算得到一维数组；\n",
    "    * sum：求和\n",
    "    * mean：平均值\n",
    "    * std：标准差\n",
    "    * var：方差\n",
    "    * min：最小值\n",
    "    * argmin：最小值索引\n",
    "    * max：最大值\n",
    "    * argmax：最大值索引\n",
    "* cumsum,cumprod：默认得到一维数组，将原数据当做一个长列来处理，通过设置axis可以按照轴来计算得到同数据维度的数组；\n",
    "    * cumsum：元素累计和\n",
    "    * cumprod：元素累计积"
   ]
  },
  {
   "cell_type": "markdown",
   "metadata": {},
   "source": [
    "### 用于布尔型数组的方法"
   ]
  },
  {
   "cell_type": "markdown",
   "metadata": {},
   "source": [
    "#### python中布尔型可以被算数计算，分别当做1和0 "
   ]
  },
  {
   "cell_type": "code",
   "execution_count": 99,
   "metadata": {},
   "outputs": [
    {
     "name": "stdout",
     "output_type": "stream",
     "text": [
      "40\n",
      "[False False False  True  True  True  True  True False  True False False\n",
      " False False False  True False  True  True False  True  True  True False\n",
      " False  True False  True  True False False  True False  True  True False\n",
      " False  True  True  True False False False False  True  True  True False\n",
      "  True False False False  True False False  True False  True  True False\n",
      " False  True False False False False  True False  True False False False\n",
      " False False False  True False False False False False False False False\n",
      "  True False  True  True  True False False False  True  True False False\n",
      "  True False False False]\n",
      "[0 0 0 2 2 2 2 2 0 2 0 0 0 0 0 2 0 2 2 0 2 2 2 0 0 2 0 2 2 0 0 2 0 2 2 0 0\n",
      " 2 2 2 0 0 0 0 2 2 2 0 2 0 0 0 2 0 0 2 0 2 2 0 0 2 0 0 0 0 2 0 2 0 0 0 0 0\n",
      " 0 2 0 0 0 0 0 0 0 0 2 0 2 2 2 0 0 0 2 2 0 0 2 0 0 0]\n"
     ]
    }
   ],
   "source": [
    "data = np.random.randn(100)\n",
    "print (data > 0).sum() # 根据data>0得到的布尔型数组通过sum来计算整数的个数\n",
    "print data > 0\n",
    "print (data > 0) * 2 # 在运算符时，就是当做1和0来理解"
   ]
  },
  {
   "cell_type": "markdown",
   "metadata": {},
   "source": [
    "#### any "
   ]
  },
  {
   "cell_type": "code",
   "execution_count": 100,
   "metadata": {},
   "outputs": [
    {
     "name": "stdout",
     "output_type": "stream",
     "text": [
      "True\n",
      "True\n",
      "False\n",
      "[ True  True  True  True  True  True  True  True  True  True]\n"
     ]
    }
   ],
   "source": [
    "data = np.random.randn(100).reshape(10, 10)\n",
    "print (data > 0).any() # 任何一个为True则返回True\n",
    "print data.any() # 可以作用于非布尔型数组，此时所有非0均为True\n",
    "print np.array([0.]).any()\n",
    "print (data > 0).any(axis=0) # 同统计求和部分，可以通过axis来将计算指向到某个轴上从而得到一维数组结果"
   ]
  },
  {
   "cell_type": "markdown",
   "metadata": {},
   "source": [
    "#### all "
   ]
  },
  {
   "cell_type": "code",
   "execution_count": 101,
   "metadata": {},
   "outputs": [
    {
     "name": "stdout",
     "output_type": "stream",
     "text": [
      "False\n",
      "True\n",
      "True\n",
      "[False False False False False False False False False False]\n"
     ]
    }
   ],
   "source": [
    "data = np.random.randn(100).reshape(10, 10)\n",
    "print (data > 0).all() # 全部为True则返回True\n",
    "print data.all() # 可以作用于非布尔型数组，此时所有非0均为True\n",
    "print np.array([0.1]).all()\n",
    "print (data > 0).all(axis=0) # 同统计求和部分，可以通过axis来将计算指向到某个轴上从而得到一维数组结果"
   ]
  },
  {
   "cell_type": "markdown",
   "metadata": {},
   "source": [
    "### 排序 "
   ]
  },
  {
   "cell_type": "markdown",
   "metadata": {},
   "source": [
    "#### 数组自身排序 -- 会修改数组本身顺序 "
   ]
  },
  {
   "cell_type": "code",
   "execution_count": 102,
   "metadata": {},
   "outputs": [
    {
     "data": {
      "text/plain": [
       "array([-1.42696142, -1.02628454, -0.39982467, -0.22800979,  0.02312723,\n",
       "        0.23283813,  0.39368242,  0.55660195,  0.736473  ,  1.73438452])"
      ]
     },
     "execution_count": 102,
     "metadata": {},
     "output_type": "execute_result"
    }
   ],
   "source": [
    "data = np.random.randn(10)\n",
    "data.sort()\n",
    "data"
   ]
  },
  {
   "cell_type": "markdown",
   "metadata": {},
   "source": [
    "#### np顶级排序 -- 返回排序的数组副本 "
   ]
  },
  {
   "cell_type": "code",
   "execution_count": 103,
   "metadata": {},
   "outputs": [
    {
     "data": {
      "text/plain": [
       "array([-2.19094769, -0.59677168,  0.12439647,  0.18592969,  0.28504795,\n",
       "        0.56402065,  0.83432351,  0.87573367,  0.91032865,  1.19109385])"
      ]
     },
     "execution_count": 103,
     "metadata": {},
     "output_type": "execute_result"
    }
   ],
   "source": [
    "data = np.random.randn(10)\n",
    "np.sort(data)"
   ]
  },
  {
   "cell_type": "markdown",
   "metadata": {},
   "source": [
    "#### 多维数组排序 "
   ]
  },
  {
   "cell_type": "code",
   "execution_count": 104,
   "metadata": {},
   "outputs": [
    {
     "name": "stdout",
     "output_type": "stream",
     "text": [
      "[[-0.91975923 -0.58891605 -0.19220832  0.00914847  0.83177361]\n",
      " [-0.93520192 -0.65795865  0.2890127   0.73898213  0.94661431]\n",
      " [-0.56257373  0.01132068  0.67940658  0.96129156  1.47109741]\n",
      " [-0.62235149  0.55136623  0.61487438  1.77507116  3.22627562]\n",
      " [-0.69214394 -0.49170107 -0.32259977 -0.1664167   0.24933293]]\n",
      "\n",
      "\n",
      "[[-0.91975923 -0.58891605 -0.19220832  0.00914847  0.83177361]\n",
      " [-0.93520192 -0.65795865  0.2890127   0.73898213  0.94661431]\n",
      " [-0.56257373  0.01132068  0.67940658  0.96129156  1.47109741]\n",
      " [-0.62235149  0.55136623  0.61487438  1.77507116  3.22627562]\n",
      " [-0.69214394 -0.49170107 -0.32259977 -0.1664167   0.24933293]]\n",
      "\n",
      "\n",
      "[[-0.58891605 -0.1664167  -0.93520192 -0.91975923 -0.69214394]\n",
      " [-0.32259977  0.67940658 -0.56257373 -0.62235149 -0.65795865]\n",
      " [ 0.2890127   0.83177361  0.00914847 -0.49170107 -0.19220832]\n",
      " [ 0.55136623  0.94661431  0.24933293  0.73898213  0.01132068]\n",
      " [ 0.96129156  1.77507116  0.61487438  1.47109741  3.22627562]]\n"
     ]
    }
   ],
   "source": [
    "data = np.random.randn(5, 5)\n",
    "print np.sort(data) # 默认是按axis=1排序的\n",
    "print '\\n'\n",
    "print np.sort(data, axis=1) # \n",
    "print '\\n'\n",
    "print np.sort(data, axis=0) # 按行排序"
   ]
  },
  {
   "cell_type": "markdown",
   "metadata": {},
   "source": [
    "### 唯一化以及其他的集合逻辑 "
   ]
  },
  {
   "cell_type": "markdown",
   "metadata": {},
   "source": [
    "#### 唯一化unique -- 还顺带排序哦 "
   ]
  },
  {
   "cell_type": "code",
   "execution_count": 105,
   "metadata": {},
   "outputs": [
    {
     "data": {
      "text/plain": [
       "array(['Hill', 'Jack', 'Jobs'],\n",
       "      dtype='|S4')"
      ]
     },
     "execution_count": 105,
     "metadata": {},
     "output_type": "execute_result"
    }
   ],
   "source": [
    "data = np.array(['Jobs', 'Hill', 'Jack', 'Hill', 'Jack'])\n",
    "np.unique(data)"
   ]
  },
  {
   "cell_type": "code",
   "execution_count": 106,
   "metadata": {},
   "outputs": [
    {
     "data": {
      "text/plain": [
       "array([1, 2, 3, 4])"
      ]
     },
     "execution_count": 106,
     "metadata": {},
     "output_type": "execute_result"
    }
   ],
   "source": [
    "data = np.array([2, 3, 2, 4, 1])\n",
    "np.unique(data)"
   ]
  },
  {
   "cell_type": "code",
   "execution_count": 107,
   "metadata": {},
   "outputs": [
    {
     "data": {
      "text/plain": [
       "['Hill', 'Jack', 'Jobs']"
      ]
     },
     "execution_count": 107,
     "metadata": {},
     "output_type": "execute_result"
    }
   ],
   "source": [
    "# 纯python方法 先去重，再排序，两步走\n",
    "sorted(set(np.array(['Jobs', 'Hill', 'Jack', 'Hill', 'Jack'])))"
   ]
  },
  {
   "cell_type": "markdown",
   "metadata": {},
   "source": [
    "#### np.in1d -- 测试一个数组中的元素是否存在与另一个数组中"
   ]
  },
  {
   "cell_type": "code",
   "execution_count": 108,
   "metadata": {},
   "outputs": [
    {
     "data": {
      "text/plain": [
       "array([ True, False,  True, False,  True], dtype=bool)"
      ]
     },
     "execution_count": 108,
     "metadata": {},
     "output_type": "execute_result"
    }
   ],
   "source": [
    "np.in1d(np.array([1, 2, 3, 4, 5]), np.array([1, 3, 5])) # 获取[1,2,3,4,5]中的值是否为1/3/5的布尔型数组"
   ]
  },
  {
   "cell_type": "markdown",
   "metadata": {},
   "source": [
    "#### 常用集合函数"
   ]
  },
  {
   "cell_type": "markdown",
   "metadata": {},
   "source": [
    "* unique：求唯一值，一元函数；\n",
    "* intersect1d：求交集，二元函数；\n",
    "* union1d：求并集，二元函数；\n",
    "* in1d：前者元素是否存在于后者的布尔型数组结果，二元函数；\n",
    "* setdiff1d：在x中但不在y中，二元函数；\n",
    "* setxor1d：只存在于某一个数组中，二元函数；"
   ]
  },
  {
   "cell_type": "code",
   "execution_count": 109,
   "metadata": {},
   "outputs": [
    {
     "data": {
      "text/plain": [
       "array([1, 4])"
      ]
     },
     "execution_count": 109,
     "metadata": {},
     "output_type": "execute_result"
    }
   ],
   "source": [
    "np.setxor1d(np.array([1,2,3]), np.array([2,3,4]))"
   ]
  },
  {
   "cell_type": "code",
   "execution_count": 110,
   "metadata": {},
   "outputs": [
    {
     "data": {
      "text/plain": [
       "array([1])"
      ]
     },
     "execution_count": 110,
     "metadata": {},
     "output_type": "execute_result"
    }
   ],
   "source": [
    "np.setdiff1d(np.array([1,2,3]), np.array([2,3,4]))"
   ]
  },
  {
   "cell_type": "markdown",
   "metadata": {},
   "source": [
    "## 用于数组的文件输入输出 "
   ]
  },
  {
   "cell_type": "markdown",
   "metadata": {},
   "source": [
    "### 二进制方式"
   ]
  },
  {
   "cell_type": "markdown",
   "metadata": {},
   "source": [
    "#### 单个数组 "
   ]
  },
  {
   "cell_type": "code",
   "execution_count": 111,
   "metadata": {},
   "outputs": [
    {
     "name": "stdout",
     "output_type": "stream",
     "text": [
      "ex1.csv  ex3.csv  ex5.csv  ex7.csv  excel.xls\t np_savetxt.txt  test_pickle\r\n",
      "ex2.csv  ex4.csv  ex6.csv  ex8.csv  np_save.npy  np_savez.npz\r\n"
     ]
    }
   ],
   "source": [
    "data = np.random.randn(10, 10)\n",
    "np.save('data/np_save', data)\n",
    "!ls data"
   ]
  },
  {
   "cell_type": "code",
   "execution_count": 113,
   "metadata": {},
   "outputs": [
    {
     "data": {
      "text/plain": [
       "array([[-0.11615087,  0.54558143,  0.98675562, -0.08049406, -0.58814239,\n",
       "        -1.41243755,  0.23018142, -1.2016273 , -0.3677364 ,  0.44584194],\n",
       "       [ 1.02806767, -2.62786446,  0.37581941, -1.02260635,  0.06410453,\n",
       "         1.04415119, -1.08180088, -0.55447303,  0.03444758, -0.34733598],\n",
       "       [ 1.05152726, -0.91890982,  0.50279441, -1.04754977, -1.3562724 ,\n",
       "        -0.1440242 ,  0.10548789, -1.13563492, -1.91319704,  1.08384286],\n",
       "       [-0.79887514,  0.60335939, -1.09073512,  0.73353912,  0.04767636,\n",
       "        -0.52723322, -0.95437494, -0.14439647,  0.90914187, -0.77618882],\n",
       "       [ 0.92826659,  1.50495281,  0.52608658,  1.43869378,  0.31143549,\n",
       "        -0.35001325,  0.63306502, -1.21063505, -1.54888531,  0.23458472],\n",
       "       [-0.96657474,  1.33310297, -1.57810697, -0.01461355, -3.30273821,\n",
       "         0.8487238 ,  0.07349435, -0.1137977 ,  1.31248639,  1.11200251],\n",
       "       [ 0.01008423,  1.53878322,  0.35755832,  1.17270429,  1.69006816,\n",
       "        -0.84786928,  0.83063663, -1.21413089, -1.35097457, -0.81516891],\n",
       "       [-0.01049338, -1.32676068,  1.23359493, -0.2066565 ,  0.28082561,\n",
       "        -0.51214583, -0.3267765 , -1.14557205,  0.49857065,  0.31091898],\n",
       "       [ 0.20695706, -0.0872344 , -0.56987413, -0.92990233, -0.81550696,\n",
       "        -1.16196943,  0.57531352,  0.12407987,  1.07424999, -0.3455587 ],\n",
       "       [ 0.90924348, -1.34977606,  0.0576645 , -1.86492679,  1.13338306,\n",
       "         1.19229075,  1.46004764, -0.58398628,  0.89023591,  0.66470039]])"
      ]
     },
     "execution_count": 113,
     "metadata": {},
     "output_type": "execute_result"
    }
   ],
   "source": [
    "np.load('data/np_save.npy') # npy是二进制的不可读文件，因此体积更小"
   ]
  },
  {
   "cell_type": "markdown",
   "metadata": {},
   "source": [
    "#### 多个数组保存到一个二进制文件中-npz"
   ]
  },
  {
   "cell_type": "code",
   "execution_count": 114,
   "metadata": {},
   "outputs": [
    {
     "name": "stdout",
     "output_type": "stream",
     "text": [
      "ex1.csv  ex3.csv  ex5.csv  ex7.csv  excel.xls\t np_savetxt.txt  test_pickle\r\n",
      "ex2.csv  ex4.csv  ex6.csv  ex8.csv  np_save.npy  np_savez.npz\r\n"
     ]
    }
   ],
   "source": [
    "data_a = np.random.randn(5, 5)\n",
    "data_b = np.random.randn(5, 5)\n",
    "np.savez('data/np_savez', a=data_a, b=data_b)\n",
    "!ls data"
   ]
  },
  {
   "cell_type": "code",
   "execution_count": 115,
   "metadata": {},
   "outputs": [
    {
     "data": {
      "text/plain": [
       "array([[-0.51392245, -0.88233318,  0.20050134,  0.56177935,  0.64087221],\n",
       "       [-0.24618332, -0.3592558 ,  0.5762851 , -0.43815527, -0.77468013],\n",
       "       [ 0.15952368,  0.39283743, -0.93528052,  0.96287884, -0.06572006],\n",
       "       [ 0.42884584, -0.13137047, -0.1205596 , -1.57507194, -0.36596952],\n",
       "       [-1.80874623, -0.87449712,  0.48028064,  0.63949317, -1.46767644]])"
      ]
     },
     "execution_count": 115,
     "metadata": {},
     "output_type": "execute_result"
    }
   ],
   "source": [
    "np.load('data/np_savez.npz')['b'] # load xxx.npz 得到一个类似字典一样的实例，key为a和b"
   ]
  },
  {
   "cell_type": "code",
   "execution_count": 116,
   "metadata": {},
   "outputs": [
    {
     "data": {
      "text/plain": [
       "array([[-0.3646829 , -1.23931563, -1.02449955,  0.24511136,  2.08255286],\n",
       "       [-0.39842585, -0.46085181, -0.20526599,  0.56265817,  1.18086938],\n",
       "       [ 0.97843323, -0.8933016 ,  0.40809418, -0.92409182,  0.78927174],\n",
       "       [-0.42560741, -1.84702185,  0.01363251, -0.40292036, -0.89364055],\n",
       "       [-0.03599576,  0.24836986,  1.56663405, -0.06961851, -0.41246668]])"
      ]
     },
     "execution_count": 116,
     "metadata": {},
     "output_type": "execute_result"
    }
   ],
   "source": [
    "np.load('data/np_savez.npz')['a']"
   ]
  },
  {
   "cell_type": "markdown",
   "metadata": {},
   "source": [
    "### 存取文本文件，这种是可读的"
   ]
  },
  {
   "cell_type": "code",
   "execution_count": 117,
   "metadata": {},
   "outputs": [
    {
     "name": "stdout",
     "output_type": "stream",
     "text": [
      "ex1.csv  ex3.csv  ex5.csv  ex7.csv  excel.xls\t np_savetxt\t np_savez.npz\r\n",
      "ex2.csv  ex4.csv  ex6.csv  ex8.csv  np_save.npy  np_savetxt.txt  test_pickle\r\n"
     ]
    }
   ],
   "source": [
    "data = np.random.randn(8, 8)\n",
    "np.savetxt('data/np_savetxt', data)\n",
    "!ls data"
   ]
  },
  {
   "cell_type": "code",
   "execution_count": 119,
   "metadata": {},
   "outputs": [
    {
     "data": {
      "text/plain": [
       "array([[-0.39488342,  1.27625639, -1.07904231,  1.83624657, -0.80620082,\n",
       "         1.19380987,  0.59702868, -0.8386713 ],\n",
       "       [-0.120669  , -1.30339481,  0.84112529, -0.43012386,  0.48082888,\n",
       "        -0.64400191,  0.42296434, -1.06481647],\n",
       "       [ 0.17351447, -1.25352172,  0.20624911,  1.40556728, -0.57870403,\n",
       "        -0.03851826, -0.27527108,  1.38852282],\n",
       "       [-1.6392091 ,  1.1960432 , -0.35371123,  0.12386463,  0.2849831 ,\n",
       "         0.45169626, -0.51748063, -0.54830665],\n",
       "       [-0.15358575,  0.00271863, -0.53058051, -0.33055311,  0.73203652,\n",
       "         0.49572415,  0.89686713,  0.75041149],\n",
       "       [-0.06137562,  1.25362289, -0.01488251, -0.14381895,  1.31001545,\n",
       "         0.11723508, -1.16232529, -0.26040972],\n",
       "       [-1.48911207, -0.80974234, -0.3054316 ,  1.16844145, -0.24931779,\n",
       "        -0.40248048, -0.83482463, -1.53966653],\n",
       "       [ 0.66804127, -0.33167094, -0.96394919,  0.40323008,  1.00243066,\n",
       "        -0.68464728, -0.71761983, -1.10056973]])"
      ]
     },
     "execution_count": 119,
     "metadata": {},
     "output_type": "execute_result"
    }
   ],
   "source": [
    "np.loadtxt('data/np_savetxt.txt')"
   ]
  },
  {
   "cell_type": "markdown",
   "metadata": {},
   "source": [
    "## 线性代数"
   ]
  },
  {
   "cell_type": "markdown",
   "metadata": {},
   "source": [
    "* diag：以一维数组的方式返回方阵的对角线元素（或非对角线元素），或将一维数组转换为方阵（非对角线元素置0）；\n",
    "* dot：矩阵乘法；\n",
    "* trace：对角线元素和；\n",
    "* det：矩阵行列式；\n",
    "* eig：方阵的本征值和本征向量；\n",
    "* inv：方阵的逆；\n",
    "* pinv：矩阵的Moore-Penrose伪逆；\n",
    "* qr：QR分解；\n",
    "* svd：奇异值分解；\n",
    "* solve：解线性方程Ax=b，其中A为一个方阵；\n",
    "* lstsq：计算Ax=b的最小二乘解；"
   ]
  },
  {
   "cell_type": "markdown",
   "metadata": {},
   "source": [
    "## 随机数生成 "
   ]
  },
  {
   "cell_type": "markdown",
   "metadata": {},
   "source": [
    "NumPy的random模块是对python的random模块的一个很有力的补充，不仅增加了很多针对科学计算等出现的特色随机数生成（比如正态分布的随机数normal），而且在大量生成时，NumPy的random模块的速度要快很多；"
   ]
  },
  {
   "cell_type": "markdown",
   "metadata": {},
   "source": [
    "### 正态分布的随机数"
   ]
  },
  {
   "cell_type": "code",
   "execution_count": 127,
   "metadata": {},
   "outputs": [
    {
     "data": {
      "text/plain": [
       "[<matplotlib.lines.Line2D at 0x7fb9a894c750>]"
      ]
     },
     "execution_count": 127,
     "metadata": {},
     "output_type": "execute_result"
    },
    {
     "data": {
      "image/png": "[encoded data removed]",
      "text/plain": [
       "<matplotlib.figure.Figure at 0x7fb9a8a72a90>"
      ]
     },
     "metadata": {
      "needs_background": "light"
     },
     "output_type": "display_data"
    }
   ],
   "source": [
    "samples = np.random.normal(size=(1000))\n",
    "samples = np.rint(samples)\n",
    "plt.plot(range(-5,6,1),[np.sum(samples==i)for i in range(-5,6,1)])"
   ]
  },
  {
   "cell_type": "markdown",
   "metadata": {},
   "source": [
    "### 速度对比"
   ]
  },
  {
   "cell_type": "code",
   "execution_count": 128,
   "metadata": {},
   "outputs": [
    {
     "name": "stdout",
     "output_type": "stream",
     "text": [
      "1 loop, best of 3: 738 ms per loop\n"
     ]
    }
   ],
   "source": [
    "%timeit samples = [random.normalvariate(0, 1) for _ in xrange(1000000)]"
   ]
  },
  {
   "cell_type": "code",
   "execution_count": 129,
   "metadata": {},
   "outputs": [
    {
     "name": "stdout",
     "output_type": "stream",
     "text": [
      "10 loops, best of 3: 45.9 ms per loop\n"
     ]
    }
   ],
   "source": [
    "%timeit np.random.normal(size=1000000)"
   ]
  },
  {
   "cell_type": "markdown",
   "metadata": {},
   "source": [
    "能够看到将近16倍速度的提升，提升主要来自两方面，一方面是单个随机数的生成速度，另一个是矢量化代替循环的因素。"
   ]
  },
  {
   "cell_type": "markdown",
   "metadata": {},
   "source": [
    "### 常用的np.random函数"
   ]
  },
  {
   "cell_type": "markdown",
   "metadata": {},
   "source": [
    "* seed：确定随机数生成器的种子；\n",
    "* permutation：返回一个序列的随机排列或一个随机排列的范围你；\n",
    "* shuffle：对一个序列就地随机排列；\n",
    "* rand：产生均匀分布的样本值；\n",
    "* randint：从给定的上下限中随机选取整数；\n",
    "* randn：产生正态分布的样本值（平均值为0，标准差为1）；\n",
    "* binomial：产生二项分布的样本值；\n",
    "* normal：产生正态（高斯）分布的样本值，即生成的数据，经过统计后可视化，是符合正态分布钟形结构的。\n",
    "* beta：产生Beta分布的样本值；\n",
    "* chisquare：产生卡方分布的样本值；\n",
    "* gamma：产生Gamma分布的样本值；\n",
    "* uniform：产生[0,1)中均匀分布的样本值；"
   ]
  },
  {
   "cell_type": "markdown",
   "metadata": {},
   "source": [
    "## 范例：随机漫步"
   ]
  },
  {
   "cell_type": "markdown",
   "metadata": {},
   "source": [
    "### 单次随机漫步"
   ]
  },
  {
   "cell_type": "code",
   "execution_count": 130,
   "metadata": {},
   "outputs": [
    {
     "data": {
      "text/plain": [
       "[<matplotlib.lines.Line2D at 0x7fb9a87a4490>]"
      ]
     },
     "execution_count": 130,
     "metadata": {},
     "output_type": "execute_result"
    },
    {
     "data": {
      "image/png": "[encoded data removed]",
      "text/plain": [
       "<matplotlib.figure.Figure at 0x7fb9a883e150>"
      ]
     },
     "metadata": {
      "needs_background": "light"
     },
     "output_type": "display_data"
    }
   ],
   "source": [
    "steps = np.random.randint(size=1000,low=0,high=2) # 从0和1之间随机挑选1000次\n",
    "steps = np.where(steps==0, -1, steps) # 将0设置为-1\n",
    "walks = steps.cumsum() # 求累积和\n",
    "plt.plot(walks)"
   ]
  },
  {
   "cell_type": "code",
   "execution_count": 131,
   "metadata": {},
   "outputs": [
    {
     "data": {
      "text/plain": [
       "-1"
      ]
     },
     "execution_count": 131,
     "metadata": {},
     "output_type": "execute_result"
    }
   ],
   "source": [
    "walks.min() # 反向最远位置"
   ]
  },
  {
   "cell_type": "code",
   "execution_count": 132,
   "metadata": {},
   "outputs": [
    {
     "data": {
      "text/plain": [
       "25"
      ]
     },
     "execution_count": 132,
     "metadata": {},
     "output_type": "execute_result"
    }
   ],
   "source": [
    "walks.max() # 正向最远位置"
   ]
  },
  {
   "cell_type": "code",
   "execution_count": 133,
   "metadata": {},
   "outputs": [
    {
     "data": {
      "text/plain": [
       "57"
      ]
     },
     "execution_count": 133,
     "metadata": {},
     "output_type": "execute_result"
    }
   ],
   "source": [
    "(np.abs(walks) >= 10).argmax() # 首次距离起点10的回合数，1.得到绝对值，2.得到大于等于10的布尔型数组，3.获取第一个为True的索引"
   ]
  },
  {
   "cell_type": "markdown",
   "metadata": {},
   "source": [
    "### 模拟多次随机漫步"
   ]
  },
  {
   "cell_type": "code",
   "execution_count": 134,
   "metadata": {},
   "outputs": [
    {
     "data": {
      "text/plain": [
       "[<matplotlib.lines.Line2D at 0x7fb9a8701fd0>]"
      ]
     },
     "execution_count": 134,
     "metadata": {},
     "output_type": "execute_result"
    },
    {
     "data": {
      "image/png": "[encoded data removed]",
      "text/plain": [
       "<matplotlib.figure.Figure at 0x7fb9a8831cd0>"
      ]
     },
     "metadata": {
      "needs_background": "light"
     },
     "output_type": "display_data"
    }
   ],
   "source": [
    "steps = np.random.randint(size=10000,low=0,high=2).reshape(10, 1000) # 从0和1之间随机挑选1000次\n",
    "steps = np.where(steps==0, -1, steps) # 将0设置为-1]\n",
    "walks = steps.cumsum(axis=1) # 求累积和\n",
    "plt.plot(walks[0])\n",
    "plt.plot(walks[1])\n",
    "plt.plot(walks[2])\n",
    "plt.plot(walks[3])\n",
    "plt.plot(walks[4])\n",
    "plt.plot(walks[5])\n",
    "plt.plot(walks[6])\n",
    "plt.plot(walks[7])\n",
    "plt.plot(walks[8])\n",
    "plt.plot(walks[9]) # 不知道为啥，如果直接plt.plot(walks)会绘制超级多条数据到图上"
   ]
  },
  {
   "cell_type": "code",
   "execution_count": 135,
   "metadata": {},
   "outputs": [
    {
     "data": {
      "text/plain": [
       "62"
      ]
     },
     "execution_count": 135,
     "metadata": {},
     "output_type": "execute_result"
    }
   ],
   "source": [
    "walks.max() # 所有行者的最大值"
   ]
  },
  {
   "cell_type": "code",
   "execution_count": 136,
   "metadata": {},
   "outputs": [
    {
     "data": {
      "text/plain": [
       "array([62, 15, 30, 13, 32,  3, 36,  7, 34,  0])"
      ]
     },
     "execution_count": 136,
     "metadata": {},
     "output_type": "execute_result"
    }
   ],
   "source": [
    "walks.max(axis=1) # 分别计算最大值"
   ]
  },
  {
   "cell_type": "code",
   "execution_count": 137,
   "metadata": {},
   "outputs": [
    {
     "data": {
      "text/plain": [
       "-66"
      ]
     },
     "execution_count": 137,
     "metadata": {},
     "output_type": "execute_result"
    }
   ],
   "source": [
    "walks.min()"
   ]
  },
  {
   "cell_type": "code",
   "execution_count": 138,
   "metadata": {},
   "outputs": [
    {
     "data": {
      "text/plain": [
       "array([324, 134, 904, 476, 486])"
      ]
     },
     "execution_count": 138,
     "metadata": {},
     "output_type": "execute_result"
    }
   ],
   "source": [
    "hit35 = (np.abs(walks)>=35).any(axis=1) # 先获取每个行者中是否走到了指定位置的布尔型数组，否则没有走到位置的行者的argmax会得到0\n",
    "(np.abs(walks[hit35])>=35).argmax(axis=1) # 使用上一步的数组获取满足要求的行者，然后做之前的操作"
   ]
  }
 ],
 "metadata": {
  "kernelspec": {
   "display_name": "Python 2",
   "language": "python",
   "name": "python2"
  },
  "language_info": {
   "codemirror_mode": {
    "name": "ipython",
    "version": 2
   },
   "file_extension": ".py",
   "mimetype": "text/x-python",
   "name": "python",
   "nbconvert_exporter": "python",
   "pygments_lexer": "ipython2",
   "version": "2.7.13"
  }
 },
 "nbformat": 4,
 "nbformat_minor": 2
}
