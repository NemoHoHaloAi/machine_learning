{
 "cells": [
  {
   "cell_type": "markdown",
   "metadata": {},
   "source": [
    "# Numpy高级应用"
   ]
  },
  {
   "cell_type": "code",
   "execution_count": 4,
   "metadata": {},
   "outputs": [],
   "source": [
    "import numpy as np"
   ]
  },
  {
   "cell_type": "markdown",
   "metadata": {},
   "source": [
    "## ndarray对象内部机理"
   ]
  },
  {
   "cell_type": "markdown",
   "metadata": {},
   "source": [
    "### ndarray内部组成结构"
   ]
  },
  {
   "cell_type": "markdown",
   "metadata": {},
   "source": [
    "NumPy的ndarray提供了一种将**同质数据块**(可以是连续或跨越的,稍后将详细讲解)解释为**多维数组**对象的方式。正如你之前所\n",
    "看到的那样,数据类型(dtype)决定了数据的解释方式,比如浮点数、整数、布尔值等。\n",
    "\n",
    "ndarray如此强大的部分原因是所有数组对象都是数据块的一个跨度视图(strided view)。你可能想知道数组视图arr[::2,::-1]不复制任\n",
    "何数据的原因是什么。简单地说,ndarray不只是一块内存和一个dtype,它还有跨度信息,这使得数组能以各种步幅(step size)在内存中\n",
    "移动。更准确地讲,ndarray内部由以下内容组成：\n",
    "* 一个指向数组(一个系统内存块)的**指针**。\n",
    "* **数据类型**或dtype。\n",
    "* 一个表示数组**形状**(shape)的**元组**,例如,一个10×5的数组,其形状为(10,5)。\n",
    "        np.ones((10, 5)).shape\n",
    "        (10, 5)\n",
    "* 一个**跨度元组**(stride),其中的整数指的是为了前进到当前维度下一个元素需要“跨过”的字节数,例如,一个典型的(C顺序,稍后将详细讲解)3×4×5的float64(8个字节)数组,其跨度为(160,40,8)。\n",
    "        np.ones((3, 4, 5),dtype=np.float64).strides\n",
    "        (160, 40, 8)\n",
    "        \n",
    "虽然NumPy用户很少会对数组的跨度信息感兴趣,但它们却是构建**非复制式数组视图**的重要因素。跨度甚至可以是**负数**,这样会使\n",
    "数组在内存中**后向**移动,比如在切片obj[::-1]或obj[:,::-1]中就是这样的，下图很好的描述了ndarray的内部结构组成：\n",
    "\n",
    "![ndarray的内部结构](https://raw.githubusercontent.com/NemoHoHaloAi/machine_learning/master/python%E6%95%B0%E6%8D%AE%E5%88%86%E6%9E%90/images/ndarray%E7%9A%84%E5%86%85%E9%83%A8%E7%BB%93%E6%9E%84.png)"
   ]
  },
  {
   "cell_type": "markdown",
   "metadata": {},
   "source": [
    "### NumPy数据类型体系"
   ]
  },
  {
   "cell_type": "markdown",
   "metadata": {},
   "source": [
    "你可能偶尔需要检查数组中所包含的是否是整数、浮点数、字符\n",
    "串或Python对象。因为浮点数的种类很多,判断dtype是否属于某个大\n",
    "类的工作非常繁琐。幸运的是,dtype都有一个**超类**(比如np.integer和\n",
    "np.floating),它们可以跟**np.issubdtype**函数结合使用:\n",
    "\n",
    "        ints = np.ones(10, dtype=np.uint16)\n",
    "        floats = np.ones(10, dtype=np.float32)\n",
    "        np.issubdtype(ints.dtype, np.integer)\n",
    "        True\n",
    "        np.issubdtype(floats.dtype, np.floating)\n",
    "        True\n",
    "        \n",
    "调用dtype的**mro**方法即可查看其所有的父类:\n",
    "        \n",
    "        np.float64.mro()\n",
    "        [numpy.float64,\n",
    "        numpy.floating,\n",
    "        numpy.inexact,\n",
    "        numpy.number,\n",
    "        numpy.generic,float,\n",
    "        object]\n",
    "        \n",
    "大部分NumPy用户完全不需要了解这些知识,但是这些知识偶尔还是能派上用场的。下图说明了dtype体系以及父子类关系：\n",
    "![dtype类体系结构](https://github.com/NemoHoHaloAi/machine_learning/blob/master/python%E6%95%B0%E6%8D%AE%E5%88%86%E6%9E%90/images/dtype%E7%B1%BB%E4%BD%93%E7%B3%BB%E7%BB%93%E6%9E%84.png?raw=true)"
   ]
  },
  {
   "cell_type": "markdown",
   "metadata": {},
   "source": [
    "## 高级数组操作"
   ]
  },
  {
   "cell_type": "markdown",
   "metadata": {},
   "source": [
    "除**花式索引**、**切片**、**布尔条件取子集**等操作之外,数组的操作方\n",
    "式还有很多。虽然pandas中的高级函数可以处理数据分析工作中的许\n",
    "多重型任务,但有时你还是需要编写一些在现有库中找不到的数据算\n",
    "法。"
   ]
  },
  {
   "cell_type": "markdown",
   "metadata": {},
   "source": [
    "### 数组重塑"
   ]
  },
  {
   "cell_type": "markdown",
   "metadata": {},
   "source": [
    "鉴于我们已经学过的有关NumPy数组的知识,当你知道“无需复\n",
    "制任何数据,数组就能从一个形状转换为另一个形状”时应该会感到\n",
    "有一点吃惊。只需向数组的实例方法reshape传入一个表示新形状的元\n",
    "组即可实现该目的。"
   ]
  },
  {
   "cell_type": "markdown",
   "metadata": {},
   "source": [
    "#### 一维到多维 -- reshape"
   ]
  },
  {
   "cell_type": "code",
   "execution_count": 5,
   "metadata": {},
   "outputs": [
    {
     "data": {
      "text/plain": [
       "array([ 2.19968261, -2.51749262, -2.04008776, -0.60886891,  1.78442242,\n",
       "        0.90907107,  0.81324603,  0.60564975])"
      ]
     },
     "execution_count": 5,
     "metadata": {},
     "output_type": "execute_result"
    }
   ],
   "source": [
    "arr = np.random.randn(8)\n",
    "arr"
   ]
  },
  {
   "cell_type": "code",
   "execution_count": 6,
   "metadata": {},
   "outputs": [
    {
     "data": {
      "text/plain": [
       "array([[ 2.19968261, -2.51749262],\n",
       "       [-2.04008776, -0.60886891],\n",
       "       [ 1.78442242,  0.90907107],\n",
       "       [ 0.81324603,  0.60564975]])"
      ]
     },
     "execution_count": 6,
     "metadata": {},
     "output_type": "execute_result"
    }
   ],
   "source": [
    "arr.reshape(4,2)"
   ]
  },
  {
   "cell_type": "code",
   "execution_count": 7,
   "metadata": {},
   "outputs": [
    {
     "data": {
      "text/plain": [
       "array([[ 2.19968261, -2.51749262, -2.04008776, -0.60886891],\n",
       "       [ 1.78442242,  0.90907107,  0.81324603,  0.60564975]])"
      ]
     },
     "execution_count": 7,
     "metadata": {},
     "output_type": "execute_result"
    }
   ],
   "source": [
    "(arr.reshape(4,2)).reshape(2,4)"
   ]
  },
  {
   "cell_type": "code",
   "execution_count": 8,
   "metadata": {},
   "outputs": [
    {
     "data": {
      "text/plain": [
       "array([[ 2.19968261, -2.51749262, -2.04008776, -0.60886891],\n",
       "       [ 1.78442242,  0.90907107,  0.81324603,  0.60564975]])"
      ]
     },
     "execution_count": 8,
     "metadata": {},
     "output_type": "execute_result"
    }
   ],
   "source": [
    "arr.reshape(np.random.randn(2,4).shape)"
   ]
  },
  {
   "cell_type": "code",
   "execution_count": 10,
   "metadata": {},
   "outputs": [
    {
     "data": {
      "text/plain": [
       "array([[ 2.19968261, -2.51749262, -2.04008776, -0.60886891],\n",
       "       [ 1.78442242,  0.90907107,  0.81324603,  0.60564975]])"
      ]
     },
     "execution_count": 10,
     "metadata": {},
     "output_type": "execute_result"
    }
   ],
   "source": [
    "arr.reshape(2,-1) # -1,它表示该维度的大小由数据本身推断而来"
   ]
  },
  {
   "cell_type": "markdown",
   "metadata": {},
   "source": [
    "#### 多维到一维 -- ravel,flatten"
   ]
  },
  {
   "cell_type": "code",
   "execution_count": 11,
   "metadata": {},
   "outputs": [
    {
     "data": {
      "text/plain": [
       "array([ 2.19968261, -2.51749262, -2.04008776, -0.60886891,  1.78442242,\n",
       "        0.90907107,  0.81324603,  0.60564975])"
      ]
     },
     "execution_count": 11,
     "metadata": {},
     "output_type": "execute_result"
    }
   ],
   "source": [
    "arr.reshape(2,4).ravel()"
   ]
  },
  {
   "cell_type": "code",
   "execution_count": 12,
   "metadata": {},
   "outputs": [
    {
     "data": {
      "text/plain": [
       "array([ 2.19968261, -2.51749262, -2.04008776, -0.60886891,  1.78442242,\n",
       "        0.90907107,  0.81324603,  0.60564975])"
      ]
     },
     "execution_count": 12,
     "metadata": {},
     "output_type": "execute_result"
    }
   ],
   "source": [
    "arr.reshape(2,4).flatten()"
   ]
  },
  {
   "cell_type": "markdown",
   "metadata": {},
   "source": [
    "### C和Fortran顺序"
   ]
  },
  {
   "cell_type": "markdown",
   "metadata": {},
   "source": [
    "与其他科学计算环境相反(如R和MATLAB),NumPy允许你更为灵活地控制数据在内存中的布局。默认情况下,NumPy数组是按行优先顺序创建的。在空间方面,这就意味着,对于一个二维数组,**每行**中的数据项是被存放在**相邻内存位置**上的。另一种顺序是列优先顺序,它意味着(猜到了吧)每列中的数据项是被存放在相邻内存位置上的。\n",
    "\n",
    "由于一些历史原因,行和列优先顺序又分别称为C和Fortran顺序。在FORTRAN 77中(前辈们的语言),矩阵全都是列优先的。\n",
    "\n",
    "像reshape和reval这样的函数,都可以接受一个表示数组数据存放顺序的**order**参数。一般可以是'**C**'或'**F**'(还有'A'和'K'等不常用的选项,具体请参考NumPy的文档)。"
   ]
  },
  {
   "cell_type": "code",
   "execution_count": 16,
   "metadata": {},
   "outputs": [
    {
     "data": {
      "text/plain": [
       "array([[ 2.19968261, -2.51749262, -2.04008776, -0.60886891],\n",
       "       [ 1.78442242,  0.90907107,  0.81324603,  0.60564975]])"
      ]
     },
     "execution_count": 16,
     "metadata": {},
     "output_type": "execute_result"
    }
   ],
   "source": [
    "arr.reshape(2,4)"
   ]
  },
  {
   "cell_type": "code",
   "execution_count": 14,
   "metadata": {},
   "outputs": [
    {
     "data": {
      "text/plain": [
       "array([ 2.19968261, -2.51749262, -2.04008776, -0.60886891,  1.78442242,\n",
       "        0.90907107,  0.81324603,  0.60564975])"
      ]
     },
     "execution_count": 14,
     "metadata": {},
     "output_type": "execute_result"
    }
   ],
   "source": [
    "arr.reshape(2,4).ravel(order='C')"
   ]
  },
  {
   "cell_type": "code",
   "execution_count": 15,
   "metadata": {},
   "outputs": [
    {
     "data": {
      "text/plain": [
       "array([ 2.19968261,  1.78442242, -2.51749262,  0.90907107, -2.04008776,\n",
       "        0.81324603, -0.60886891,  0.60564975])"
      ]
     },
     "execution_count": 15,
     "metadata": {},
     "output_type": "execute_result"
    }
   ],
   "source": [
    "arr.reshape(2,4).ravel(order='F')"
   ]
  },
  {
   "cell_type": "markdown",
   "metadata": {},
   "source": [
    "## 广播"
   ]
  },
  {
   "cell_type": "markdown",
   "metadata": {},
   "source": [
    "## ufunc高级应用"
   ]
  },
  {
   "cell_type": "markdown",
   "metadata": {},
   "source": [
    "## 结构化和记录式数组"
   ]
  },
  {
   "cell_type": "markdown",
   "metadata": {},
   "source": [
    "## 更多有关排序的话题"
   ]
  },
  {
   "cell_type": "markdown",
   "metadata": {},
   "source": [
    "## Numpy的Matrix类"
   ]
  },
  {
   "cell_type": "markdown",
   "metadata": {},
   "source": [
    "## 高级数组输入输出"
   ]
  },
  {
   "cell_type": "markdown",
   "metadata": {},
   "source": [
    "## 性能建议"
   ]
  }
 ],
 "metadata": {
  "kernelspec": {
   "display_name": "Python 2",
   "language": "python",
   "name": "python2"
  },
  "language_info": {
   "codemirror_mode": {
    "name": "ipython",
    "version": 2
   },
   "file_extension": ".py",
   "mimetype": "text/x-python",
   "name": "python",
   "nbconvert_exporter": "python",
   "pygments_lexer": "ipython2",
   "version": "2.7.13"
  },
  "toc": {
   "nav_menu": {},
   "number_sections": true,
   "sideBar": true,
   "skip_h1_title": false,
   "title_cell": "Table of Contents",
   "title_sidebar": "Contents",
   "toc_cell": false,
   "toc_position": {},
   "toc_section_display": true,
   "toc_window_display": true
  }
 },
 "nbformat": 4,
 "nbformat_minor": 2
}
