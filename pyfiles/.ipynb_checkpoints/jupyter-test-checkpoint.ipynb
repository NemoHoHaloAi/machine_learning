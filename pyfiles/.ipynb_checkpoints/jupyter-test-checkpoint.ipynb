{
 "cells": [
  {
   "cell_type": "code",
   "execution_count": 1,
   "metadata": {
    "scrolled": true
   },
   "outputs": [
    {
     "name": "stdout",
     "output_type": "stream",
     "text": [
      "3\n",
      "2\n",
      "1\n",
      "Gogogogo!!!\n"
     ]
    }
   ],
   "source": [
    "print '3'\n",
    "print '2'\n",
    "print '1'\n",
    "print 'Gogogogo!!!'"
   ]
  },
  {
   "cell_type": "markdown",
   "metadata": {},
   "source": [
    "# mk test\n",
    "```\n",
    "print '3':打印3\n",
    "```"
   ]
  },
  {
   "cell_type": "markdown",
   "metadata": {},
   "source": [
    "$ $ z = frac{x}{y} $ $"
   ]
  },
  {
   "cell_type": "code",
   "execution_count": 3,
   "metadata": {},
   "outputs": [
    {
     "name": "stdout",
     "output_type": "stream",
     "text": [
      "congruent.csv\t    histogram2.py    jupyter-test.ipynb  q_q.py      stacked.py\r\n",
      "congruent_diff.csv  histogram3.py    numpyloadfile.py\t q_q.txt\r\n",
      "example.txt\t    histogram.py     pdf.py\t\t scatter.py\r\n",
      "facebook.csv\t    incongruent.csv  pie.py\t\t shaizi.py\r\n"
     ]
    }
   ],
   "source": [
    "!ls"
   ]
  },
  {
   "cell_type": "code",
   "execution_count": 4,
   "metadata": {},
   "outputs": [
    {
     "name": "stdout",
     "output_type": "stream",
     "text": [
      "/home/helong/projects/git_ml/machine_learning/pyfiles\r\n"
     ]
    }
   ],
   "source": [
    "!pwd"
   ]
  },
  {
   "cell_type": "code",
   "execution_count": 5,
   "metadata": {},
   "outputs": [
    {
     "data": {
      "text/html": [
       "<html>\n",
       "\n",
       "<body>\n",
       "\n",
       "<h1>春晓</h1>\n",
       "\n",
       "<p>\n",
       "    春眠不觉晓，\n",
       "      处处闻啼鸟。\n",
       "        夜来风雨声，\n",
       "          花落知多少。\n",
       "</p>\n",
       "\n",
       "<p>注意，浏览器忽略了源代码中的排版（省略了多余的空格和换行）。</p>\n",
       "\n",
       "</body>\n",
       "\n",
       "</html>"
      ],
      "text/plain": [
       "<IPython.core.display.HTML object>"
      ]
     },
     "metadata": {},
     "output_type": "display_data"
    }
   ],
   "source": [
    "%%HTML\n",
    "<html>\n",
    "\n",
    "<body>\n",
    "\n",
    "<h1>春晓</h1>\n",
    "\n",
    "<p>\n",
    "    春眠不觉晓，\n",
    "      处处闻啼鸟。\n",
    "        夜来风雨声，\n",
    "          花落知多少。\n",
    "</p>\n",
    "\n",
    "<p>注意，浏览器忽略了源代码中的排版（省略了多余的空格和换行）。</p>\n",
    "\n",
    "</body>\n",
    "\n",
    "</html>"
   ]
  }
 ],
 "metadata": {
  "kernelspec": {
   "display_name": "Python 2",
   "language": "python",
   "name": "python2"
  },
  "language_info": {
   "codemirror_mode": {
    "name": "ipython",
    "version": 2
   },
   "file_extension": ".py",
   "mimetype": "text/x-python",
   "name": "python",
   "nbconvert_exporter": "python",
   "pygments_lexer": "ipython2",
   "version": "2.7.12"
  }
 },
 "nbformat": 4,
 "nbformat_minor": 2
}
