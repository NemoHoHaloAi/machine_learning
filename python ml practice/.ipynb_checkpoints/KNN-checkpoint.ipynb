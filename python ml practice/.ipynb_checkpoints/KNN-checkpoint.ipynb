{
 "cells": [
  {
   "cell_type": "markdown",
   "metadata": {},
   "source": [
    "# KNN "
   ]
  },
  {
   "cell_type": "markdown",
   "metadata": {},
   "source": [
    "KNN - k近邻算法，是最普通效果最明显的机器学习算法之一\n",
    "\n",
    "* 优点：效果好，数据不敏感，实现简单，无训练过程\n",
    "* 缺点：所需时间空间较大，且每次运行均需要，无法训练好之后使用，所需数据量大\n",
    "\n",
    "概述 - 存在一个训练集，将所需处理的元素与训练集中每一个元素进行向量距离计算（或者相关性计算），得到最接近的K个，\n",
    "    那么这K个中存在最多的那个分类就是目标元素的分类"
   ]
  },
  {
   "cell_type": "markdown",
   "metadata": {},
   "source": [
    "### KNN算法实现步骤 "
   ]
  },
  {
   "cell_type": "markdown",
   "metadata": {},
   "source": [
    "1. 读取训练数据\n",
    "2. 数据处理（空值，非数值，类别值，异常列）\n",
    "3. 执行KNN算法计算K值并分类\n",
    "4. 使用测试数据测试该算法效果"
   ]
  },
  {
   "cell_type": "markdown",
   "metadata": {},
   "source": [
    "### 0. 环境准备 "
   ]
  },
  {
   "cell_type": "code",
   "execution_count": 6,
   "metadata": {
    "collapsed": true
   },
   "outputs": [],
   "source": [
    "import numpy as np\n",
    "import operator\n",
    "\n",
    "import matplotlib.pyplot as plt\n",
    "\n",
    "%matplotlib inline"
   ]
  },
  {
   "cell_type": "markdown",
   "metadata": {},
   "source": [
    "### 1. 读取数据 "
   ]
  },
  {
   "cell_type": "code",
   "execution_count": 2,
   "metadata": {
    "collapsed": true
   },
   "outputs": [],
   "source": [
    "def createDataSet():\n",
    "    group = np.array([[1.0,1.1],[1.0,0.9],[0.1,0.2],[0,0.1]])\n",
    "    labels = ['A','A','B','B']\n",
    "    return group, labels"
   ]
  },
  {
   "cell_type": "code",
   "execution_count": 3,
   "metadata": {
    "collapsed": true
   },
   "outputs": [],
   "source": [
    "group, labels = createDataSet()"
   ]
  },
  {
   "cell_type": "code",
   "execution_count": 26,
   "metadata": {},
   "outputs": [
    {
     "data": {
      "text/plain": [
       "<matplotlib.collections.PathCollection at 0x7faf9b81a310>"
      ]
     },
     "execution_count": 26,
     "metadata": {},
     "output_type": "execute_result"
    },
    {
     "data": {
      "image/png": "[encoded data removed]",
      "text/plain": [
       "<matplotlib.figure.Figure at 0x7faf9b9f2750>"
      ]
     },
     "metadata": {},
     "output_type": "display_data"
    }
   ],
   "source": [
    "x,y = group[:,0],group[:,1]\n",
    "plt.scatter(x,y)"
   ]
  },
  {
   "cell_type": "markdown",
   "metadata": {},
   "source": [
    "### 2. 执行KNN算法 "
   ]
  },
  {
   "cell_type": "code",
   "execution_count": 48,
   "metadata": {},
   "outputs": [
    {
     "name": "stdout",
     "output_type": "stream",
     "text": [
      "[0.3,0] - B\n",
      "[1.2,0.9] - A\n"
     ]
    }
   ],
   "source": [
    "def classify(group, labels, target, k=3):\n",
    "    '''\n",
    "    1. 计算target与group中点的距离并保存\n",
    "    2. 将距离递增排序\n",
    "    3. 选取距离最小的K个点 - 此处可优化：1.K的选择，2.排序靠前权重增加，3.距离也作为一个参考\n",
    "    4. 确定K个点中各类别出现次数\n",
    "    5. 返回出现最多的类别\n",
    "    '''\n",
    "    # step 1\n",
    "    diffMat = np.tile(target, (group.shape[0],1)) - group\n",
    "    sqDiffMat = diffMat ** 2\n",
    "    sqDistances = sqDiffMat.sum(axis=1)\n",
    "    distances = sqDistances ** 0.5\n",
    "    # step 2\n",
    "    sortIdxs = distances.argsort()\n",
    "    # step 3\n",
    "    sortIdxk = sortIdxs[:k]\n",
    "    # step 4\n",
    "    classCount = {}\n",
    "    for i in sortIdxk:\n",
    "        if classCount.has_key(labels[i]):\n",
    "            classCount[labels[i]] += 1\n",
    "        else:\n",
    "            classCount[labels[i]] = 1\n",
    "    # step 5\n",
    "    target_label = sorted(classCount.iteritems(), key=operator.itemgetter(1), reverse=True)[0][0]\n",
    "    return target_label\n",
    "\n",
    "print '[0.3,0] - ' + classify(group, labels, np.array([[0.3,0]]))\n",
    "print '[1.2,0.9] - ' + classify(group, labels, np.array([[1.2,0.9]]))"
   ]
  },
  {
   "cell_type": "code",
   "execution_count": null,
   "metadata": {
    "collapsed": true
   },
   "outputs": [],
   "source": []
  }
 ],
 "metadata": {
  "kernelspec": {
   "display_name": "Python 2",
   "language": "python",
   "name": "python2"
  },
  "language_info": {
   "codemirror_mode": {
    "name": "ipython",
    "version": 2
   },
   "file_extension": ".py",
   "mimetype": "text/x-python",
   "name": "python",
   "nbconvert_exporter": "python",
   "pygments_lexer": "ipython2",
   "version": "2.7.13"
  }
 },
 "nbformat": 4,
 "nbformat_minor": 2
}
