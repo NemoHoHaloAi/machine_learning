{
 "cells": [
  {
   "cell_type": "markdown",
   "metadata": {},
   "source": [
    "# 泰坦尼克数据分析 "
   ]
  },
  {
   "cell_type": "markdown",
   "metadata": {},
   "source": [
    "## 基本流程 概括 "
   ]
  },
  {
   "cell_type": "markdown",
   "metadata": {},
   "source": [
    "0. 环境配置\n",
    "1. 加载泰坦尼克号生存数据\n",
    "2. 展示基本数据指标\n",
    "2. 字段分析\n",
    "3. 处理字段缺失值\n",
    "3. 选择多个自变量并单独展示其与因变量（是否幸存）的关系\n",
    "4. 多个自变量两两组合并展示其与因变量的关系\n",
    "5. 多个自变量三三组合并展示其与因变量的关系\n",
    "6. 给出初步结论\n",
    "7. 验证结论的准确性\n",
    "8. 数据分析总结"
   ]
  },
  {
   "cell_type": "markdown",
   "metadata": {
    "collapsed": true
   },
   "source": [
    "## 环境配置 "
   ]
  },
  {
   "cell_type": "code",
   "execution_count": 1,
   "metadata": {
    "collapsed": true
   },
   "outputs": [],
   "source": [
    "import sys,os\n",
    "import numpy as np\n",
    "import pandas as pd\n",
    "import matplotlib.pyplot as plt\n",
    "\n",
    "%matplotlib inline"
   ]
  },
  {
   "cell_type": "markdown",
   "metadata": {
    "collapsed": true
   },
   "source": [
    "## 加载数据 "
   ]
  },
  {
   "cell_type": "code",
   "execution_count": 2,
   "metadata": {
    "collapsed": true
   },
   "outputs": [],
   "source": [
    "titanic = pd.read_csv('data_set/titanicdatabank/titanic-data.csv')"
   ]
  },
  {
   "cell_type": "markdown",
   "metadata": {
    "collapsed": true
   },
   "source": [
    "## 展示数据基本指标 "
   ]
  },
  {
   "cell_type": "code",
   "execution_count": 3,
   "metadata": {},
   "outputs": [
    {
     "data": {
      "text/html": [
       "<div>\n",
       "<style>\n",
       "    .dataframe thead tr:only-child th {\n",
       "        text-align: right;\n",
       "    }\n",
       "\n",
       "    .dataframe thead th {\n",
       "        text-align: left;\n",
       "    }\n",
       "\n",
       "    .dataframe tbody tr th {\n",
       "        vertical-align: top;\n",
       "    }\n",
       "</style>\n",
       "<table border=\"1\" class=\"dataframe\">\n",
       "  <thead>\n",
       "    <tr style=\"text-align: right;\">\n",
       "      <th></th>\n",
       "      <th>PassengerId</th>\n",
       "      <th>Survived</th>\n",
       "      <th>Pclass</th>\n",
       "      <th>Name</th>\n",
       "      <th>Sex</th>\n",
       "      <th>Age</th>\n",
       "      <th>SibSp</th>\n",
       "      <th>Parch</th>\n",
       "      <th>Ticket</th>\n",
       "      <th>Fare</th>\n",
       "      <th>Cabin</th>\n",
       "      <th>Embarked</th>\n",
       "    </tr>\n",
       "  </thead>\n",
       "  <tbody>\n",
       "    <tr>\n",
       "      <th>0</th>\n",
       "      <td>1</td>\n",
       "      <td>0</td>\n",
       "      <td>3</td>\n",
       "      <td>Braund, Mr. Owen Harris</td>\n",
       "      <td>male</td>\n",
       "      <td>22.0</td>\n",
       "      <td>1</td>\n",
       "      <td>0</td>\n",
       "      <td>A/5 21171</td>\n",
       "      <td>7.2500</td>\n",
       "      <td>NaN</td>\n",
       "      <td>S</td>\n",
       "    </tr>\n",
       "    <tr>\n",
       "      <th>1</th>\n",
       "      <td>2</td>\n",
       "      <td>1</td>\n",
       "      <td>1</td>\n",
       "      <td>Cumings, Mrs. John Bradley (Florence Briggs Th...</td>\n",
       "      <td>female</td>\n",
       "      <td>38.0</td>\n",
       "      <td>1</td>\n",
       "      <td>0</td>\n",
       "      <td>PC 17599</td>\n",
       "      <td>71.2833</td>\n",
       "      <td>C85</td>\n",
       "      <td>C</td>\n",
       "    </tr>\n",
       "    <tr>\n",
       "      <th>2</th>\n",
       "      <td>3</td>\n",
       "      <td>1</td>\n",
       "      <td>3</td>\n",
       "      <td>Heikkinen, Miss. Laina</td>\n",
       "      <td>female</td>\n",
       "      <td>26.0</td>\n",
       "      <td>0</td>\n",
       "      <td>0</td>\n",
       "      <td>STON/O2. 3101282</td>\n",
       "      <td>7.9250</td>\n",
       "      <td>NaN</td>\n",
       "      <td>S</td>\n",
       "    </tr>\n",
       "    <tr>\n",
       "      <th>3</th>\n",
       "      <td>4</td>\n",
       "      <td>1</td>\n",
       "      <td>1</td>\n",
       "      <td>Futrelle, Mrs. Jacques Heath (Lily May Peel)</td>\n",
       "      <td>female</td>\n",
       "      <td>35.0</td>\n",
       "      <td>1</td>\n",
       "      <td>0</td>\n",
       "      <td>113803</td>\n",
       "      <td>53.1000</td>\n",
       "      <td>C123</td>\n",
       "      <td>S</td>\n",
       "    </tr>\n",
       "    <tr>\n",
       "      <th>4</th>\n",
       "      <td>5</td>\n",
       "      <td>0</td>\n",
       "      <td>3</td>\n",
       "      <td>Allen, Mr. William Henry</td>\n",
       "      <td>male</td>\n",
       "      <td>35.0</td>\n",
       "      <td>0</td>\n",
       "      <td>0</td>\n",
       "      <td>373450</td>\n",
       "      <td>8.0500</td>\n",
       "      <td>NaN</td>\n",
       "      <td>S</td>\n",
       "    </tr>\n",
       "    <tr>\n",
       "      <th>5</th>\n",
       "      <td>6</td>\n",
       "      <td>0</td>\n",
       "      <td>3</td>\n",
       "      <td>Moran, Mr. James</td>\n",
       "      <td>male</td>\n",
       "      <td>NaN</td>\n",
       "      <td>0</td>\n",
       "      <td>0</td>\n",
       "      <td>330877</td>\n",
       "      <td>8.4583</td>\n",
       "      <td>NaN</td>\n",
       "      <td>Q</td>\n",
       "    </tr>\n",
       "    <tr>\n",
       "      <th>6</th>\n",
       "      <td>7</td>\n",
       "      <td>0</td>\n",
       "      <td>1</td>\n",
       "      <td>McCarthy, Mr. Timothy J</td>\n",
       "      <td>male</td>\n",
       "      <td>54.0</td>\n",
       "      <td>0</td>\n",
       "      <td>0</td>\n",
       "      <td>17463</td>\n",
       "      <td>51.8625</td>\n",
       "      <td>E46</td>\n",
       "      <td>S</td>\n",
       "    </tr>\n",
       "    <tr>\n",
       "      <th>7</th>\n",
       "      <td>8</td>\n",
       "      <td>0</td>\n",
       "      <td>3</td>\n",
       "      <td>Palsson, Master. Gosta Leonard</td>\n",
       "      <td>male</td>\n",
       "      <td>2.0</td>\n",
       "      <td>3</td>\n",
       "      <td>1</td>\n",
       "      <td>349909</td>\n",
       "      <td>21.0750</td>\n",
       "      <td>NaN</td>\n",
       "      <td>S</td>\n",
       "    </tr>\n",
       "    <tr>\n",
       "      <th>8</th>\n",
       "      <td>9</td>\n",
       "      <td>1</td>\n",
       "      <td>3</td>\n",
       "      <td>Johnson, Mrs. Oscar W (Elisabeth Vilhelmina Berg)</td>\n",
       "      <td>female</td>\n",
       "      <td>27.0</td>\n",
       "      <td>0</td>\n",
       "      <td>2</td>\n",
       "      <td>347742</td>\n",
       "      <td>11.1333</td>\n",
       "      <td>NaN</td>\n",
       "      <td>S</td>\n",
       "    </tr>\n",
       "    <tr>\n",
       "      <th>9</th>\n",
       "      <td>10</td>\n",
       "      <td>1</td>\n",
       "      <td>2</td>\n",
       "      <td>Nasser, Mrs. Nicholas (Adele Achem)</td>\n",
       "      <td>female</td>\n",
       "      <td>14.0</td>\n",
       "      <td>1</td>\n",
       "      <td>0</td>\n",
       "      <td>237736</td>\n",
       "      <td>30.0708</td>\n",
       "      <td>NaN</td>\n",
       "      <td>C</td>\n",
       "    </tr>\n",
       "  </tbody>\n",
       "</table>\n",
       "</div>"
      ],
      "text/plain": [
       "   PassengerId  Survived  Pclass  \\\n",
       "0            1         0       3   \n",
       "1            2         1       1   \n",
       "2            3         1       3   \n",
       "3            4         1       1   \n",
       "4            5         0       3   \n",
       "5            6         0       3   \n",
       "6            7         0       1   \n",
       "7            8         0       3   \n",
       "8            9         1       3   \n",
       "9           10         1       2   \n",
       "\n",
       "                                                Name     Sex   Age  SibSp  \\\n",
       "0                            Braund, Mr. Owen Harris    male  22.0      1   \n",
       "1  Cumings, Mrs. John Bradley (Florence Briggs Th...  female  38.0      1   \n",
       "2                             Heikkinen, Miss. Laina  female  26.0      0   \n",
       "3       Futrelle, Mrs. Jacques Heath (Lily May Peel)  female  35.0      1   \n",
       "4                           Allen, Mr. William Henry    male  35.0      0   \n",
       "5                                   Moran, Mr. James    male   NaN      0   \n",
       "6                            McCarthy, Mr. Timothy J    male  54.0      0   \n",
       "7                     Palsson, Master. Gosta Leonard    male   2.0      3   \n",
       "8  Johnson, Mrs. Oscar W (Elisabeth Vilhelmina Berg)  female  27.0      0   \n",
       "9                Nasser, Mrs. Nicholas (Adele Achem)  female  14.0      1   \n",
       "\n",
       "   Parch            Ticket     Fare Cabin Embarked  \n",
       "0      0         A/5 21171   7.2500   NaN        S  \n",
       "1      0          PC 17599  71.2833   C85        C  \n",
       "2      0  STON/O2. 3101282   7.9250   NaN        S  \n",
       "3      0            113803  53.1000  C123        S  \n",
       "4      0            373450   8.0500   NaN        S  \n",
       "5      0            330877   8.4583   NaN        Q  \n",
       "6      0             17463  51.8625   E46        S  \n",
       "7      1            349909  21.0750   NaN        S  \n",
       "8      2            347742  11.1333   NaN        S  \n",
       "9      0            237736  30.0708   NaN        C  "
      ]
     },
     "execution_count": 3,
     "metadata": {},
     "output_type": "execute_result"
    }
   ],
   "source": [
    "titanic.head(10)"
   ]
  },
  {
   "cell_type": "code",
   "execution_count": 4,
   "metadata": {},
   "outputs": [
    {
     "name": "stdout",
     "output_type": "stream",
     "text": [
      "<class 'pandas.core.frame.DataFrame'>\n",
      "RangeIndex: 891 entries, 0 to 890\n",
      "Data columns (total 12 columns):\n",
      "PassengerId    891 non-null int64\n",
      "Survived       891 non-null int64\n",
      "Pclass         891 non-null int64\n",
      "Name           891 non-null object\n",
      "Sex            891 non-null object\n",
      "Age            714 non-null float64\n",
      "SibSp          891 non-null int64\n",
      "Parch          891 non-null int64\n",
      "Ticket         891 non-null object\n",
      "Fare           891 non-null float64\n",
      "Cabin          204 non-null object\n",
      "Embarked       889 non-null object\n",
      "dtypes: float64(2), int64(5), object(5)\n",
      "memory usage: 83.6+ KB\n"
     ]
    }
   ],
   "source": [
    "titanic.info()"
   ]
  },
  {
   "cell_type": "code",
   "execution_count": 5,
   "metadata": {},
   "outputs": [
    {
     "data": {
      "text/html": [
       "<div>\n",
       "<style>\n",
       "    .dataframe thead tr:only-child th {\n",
       "        text-align: right;\n",
       "    }\n",
       "\n",
       "    .dataframe thead th {\n",
       "        text-align: left;\n",
       "    }\n",
       "\n",
       "    .dataframe tbody tr th {\n",
       "        vertical-align: top;\n",
       "    }\n",
       "</style>\n",
       "<table border=\"1\" class=\"dataframe\">\n",
       "  <thead>\n",
       "    <tr style=\"text-align: right;\">\n",
       "      <th></th>\n",
       "      <th>PassengerId</th>\n",
       "      <th>Survived</th>\n",
       "      <th>Pclass</th>\n",
       "      <th>Age</th>\n",
       "      <th>SibSp</th>\n",
       "      <th>Parch</th>\n",
       "      <th>Fare</th>\n",
       "    </tr>\n",
       "  </thead>\n",
       "  <tbody>\n",
       "    <tr>\n",
       "      <th>count</th>\n",
       "      <td>891.000000</td>\n",
       "      <td>891.000000</td>\n",
       "      <td>891.000000</td>\n",
       "      <td>714.000000</td>\n",
       "      <td>891.000000</td>\n",
       "      <td>891.000000</td>\n",
       "      <td>891.000000</td>\n",
       "    </tr>\n",
       "    <tr>\n",
       "      <th>mean</th>\n",
       "      <td>446.000000</td>\n",
       "      <td>0.383838</td>\n",
       "      <td>2.308642</td>\n",
       "      <td>29.699118</td>\n",
       "      <td>0.523008</td>\n",
       "      <td>0.381594</td>\n",
       "      <td>32.204208</td>\n",
       "    </tr>\n",
       "    <tr>\n",
       "      <th>std</th>\n",
       "      <td>257.353842</td>\n",
       "      <td>0.486592</td>\n",
       "      <td>0.836071</td>\n",
       "      <td>14.526497</td>\n",
       "      <td>1.102743</td>\n",
       "      <td>0.806057</td>\n",
       "      <td>49.693429</td>\n",
       "    </tr>\n",
       "    <tr>\n",
       "      <th>min</th>\n",
       "      <td>1.000000</td>\n",
       "      <td>0.000000</td>\n",
       "      <td>1.000000</td>\n",
       "      <td>0.420000</td>\n",
       "      <td>0.000000</td>\n",
       "      <td>0.000000</td>\n",
       "      <td>0.000000</td>\n",
       "    </tr>\n",
       "    <tr>\n",
       "      <th>25%</th>\n",
       "      <td>223.500000</td>\n",
       "      <td>0.000000</td>\n",
       "      <td>2.000000</td>\n",
       "      <td>20.125000</td>\n",
       "      <td>0.000000</td>\n",
       "      <td>0.000000</td>\n",
       "      <td>7.910400</td>\n",
       "    </tr>\n",
       "    <tr>\n",
       "      <th>50%</th>\n",
       "      <td>446.000000</td>\n",
       "      <td>0.000000</td>\n",
       "      <td>3.000000</td>\n",
       "      <td>28.000000</td>\n",
       "      <td>0.000000</td>\n",
       "      <td>0.000000</td>\n",
       "      <td>14.454200</td>\n",
       "    </tr>\n",
       "    <tr>\n",
       "      <th>75%</th>\n",
       "      <td>668.500000</td>\n",
       "      <td>1.000000</td>\n",
       "      <td>3.000000</td>\n",
       "      <td>38.000000</td>\n",
       "      <td>1.000000</td>\n",
       "      <td>0.000000</td>\n",
       "      <td>31.000000</td>\n",
       "    </tr>\n",
       "    <tr>\n",
       "      <th>max</th>\n",
       "      <td>891.000000</td>\n",
       "      <td>1.000000</td>\n",
       "      <td>3.000000</td>\n",
       "      <td>80.000000</td>\n",
       "      <td>8.000000</td>\n",
       "      <td>6.000000</td>\n",
       "      <td>512.329200</td>\n",
       "    </tr>\n",
       "  </tbody>\n",
       "</table>\n",
       "</div>"
      ],
      "text/plain": [
       "       PassengerId    Survived      Pclass         Age       SibSp  \\\n",
       "count   891.000000  891.000000  891.000000  714.000000  891.000000   \n",
       "mean    446.000000    0.383838    2.308642   29.699118    0.523008   \n",
       "std     257.353842    0.486592    0.836071   14.526497    1.102743   \n",
       "min       1.000000    0.000000    1.000000    0.420000    0.000000   \n",
       "25%     223.500000    0.000000    2.000000   20.125000    0.000000   \n",
       "50%     446.000000    0.000000    3.000000   28.000000    0.000000   \n",
       "75%     668.500000    1.000000    3.000000   38.000000    1.000000   \n",
       "max     891.000000    1.000000    3.000000   80.000000    8.000000   \n",
       "\n",
       "            Parch        Fare  \n",
       "count  891.000000  891.000000  \n",
       "mean     0.381594   32.204208  \n",
       "std      0.806057   49.693429  \n",
       "min      0.000000    0.000000  \n",
       "25%      0.000000    7.910400  \n",
       "50%      0.000000   14.454200  \n",
       "75%      0.000000   31.000000  \n",
       "max      6.000000  512.329200  "
      ]
     },
     "execution_count": 5,
     "metadata": {},
     "output_type": "execute_result"
    }
   ],
   "source": [
    "titanic.describe()"
   ]
  },
  {
   "cell_type": "markdown",
   "metadata": {},
   "source": [
    "## 字段分析 "
   ]
  },
  {
   "cell_type": "markdown",
   "metadata": {},
   "source": [
    "* PassengerId\n",
    "\t* 乘客唯一id\n",
    "\t* 递增的，应该没有业务意义；\n",
    "\t\n",
    "* Survived\n",
    "\t* 乘客是否幸存\n",
    "\t* 这个是因变量，评估数据分析机器学习的指标；\n",
    "\t\n",
    "* Pclass\n",
    "\t* 船票等级1：头等舱,2：商务舱,3：经济舱\n",
    "\t* 可以分析，也许更高级的船舱有更好的安全设施或者更方便逃生，Fare字段跟Pclass可以互相验证，可以和Sex，Age组成年龄-性别-阶层联合特征；\n",
    "\t* link -- Sex，Age\n",
    "\t\n",
    "* Name\n",
    "\t* 乘客姓名\n",
    "\t* 自身无分析价值，但是可以用于辅助age，sex字段的补全工作，以及社会地位的估计（例如master）\n",
    "\t* link -- age,sex,social position(new)\n",
    "\t\n",
    "* Sex\n",
    "\t* 性别\n",
    "\t* 女士优先，很重要的特征，也许配合年龄，可以实现小女孩，女性青年，大龄女性，大龄男性，男性青年，小男孩的细分分析\n",
    "\t* link -- age,people_part(小女孩，女性青年，大龄女性，大龄男性，男性青年，小男孩)\n",
    "\t\n",
    "* Age\n",
    "\t* 年龄\n",
    "\t* 小孩和老人优先，很重要的特征，配合性别进行更细致的分析\n",
    "\t* link -- sex\n",
    "\t\n",
    "* SibSp\n",
    "\t* 兄弟姐妹丈夫妻子人数\n",
    "\t* 也许兄弟姐妹更多的人获救的可能性越大\n",
    "\n",
    "* Parch\n",
    "\t* 父母孩子人数\n",
    "\t* 也许有父母孩子的人更倾向于救父母和孩子先，自己获救的几率会下降\n",
    "\n",
    "* Ticket\n",
    "\t* 船票\n",
    "\t* 不知道咋整\n",
    "\n",
    "* Fare\n",
    "\t* 船票价格\n",
    "\t* 可以根据pclass进行进一步的价钱细分\n",
    "\n",
    "* Cabin\n",
    "\t* 船舱号码\n",
    "\t* 这个由于没有其他数据，不知道具体位置，但是可以通过船票的值来猜测是否跟在船上的位置有关；\n",
    "\t* 有缺失的问题看是否可以通过pclass和fare来补全\n",
    "\t* link -- pclass,fare\n",
    "\n",
    "* Embarked\n",
    "\t* 登陆港口\n",
    "\t* 也许各个港口代表的人群不一样，也许各个港口的人更倾向于救助自己港口的人，老乡之类的关心，或者同一个港口经济情况更接近；"
   ]
  },
  {
   "cell_type": "markdown",
   "metadata": {},
   "source": [
    "## 处理缺失值 "
   ]
  },
  {
   "cell_type": "markdown",
   "metadata": {},
   "source": [
    "#### Age "
   ]
  },
  {
   "cell_type": "code",
   "execution_count": 6,
   "metadata": {
    "collapsed": true
   },
   "outputs": [],
   "source": [
    "# Age字段缺失值处理，通过Name，SibSp，Parch来填充该缺失值字段\n",
    "# Name：Mr，Mrs，Miss，Master\n",
    "# SibSp：int\n",
    "# Parch：int\n",
    "sibsp_max = titanic.SibSp.max()+1\n",
    "parch_max = titanic.Parch.max()+1\n",
    "mr_sibsp_parch = [[0 for j in range(sibsp_max)] for i in range(parch_max)]\n",
    "mrs_sibsp_parch = [[0 for j in range(sibsp_max)] for i in range(parch_max)]\n",
    "miss_sibsp_parch = [[0 for j in range(sibsp_max)] for i in range(parch_max)]\n",
    "master_sibsp_parch = [[0 for j in range(sibsp_max)] for i in range(parch_max)]\n",
    "titanic_has_age = titanic[pd.notnull(titanic.Age)]\n",
    "titanic_has_age.Mr = titanic_has_age.Name.apply(lambda name:1 if 'Mr.' in name else 0)\n",
    "titanic_has_age.Mrs = titanic_has_age.Name.apply(lambda name:1 if 'Mrs.' in name else 0)\n",
    "titanic_has_age.Miss = titanic_has_age.Name.apply(lambda name:1 if 'Miss.' in name else 0)\n",
    "titanic_has_age.Master = titanic_has_age.Name.apply(lambda name:1 if 'Master.' in name else 0)\n",
    "age_mean = titanic_has_age.Age.mean()\n",
    "for i in range(parch_max):\n",
    "    for j in range(sibsp_max):\n",
    "        age_ij = ((titanic_has_age.Age[titanic_has_age.SibSp==j])[titanic_has_age.Parch==i])\n",
    "        mr_age_ij = age_ij[titanic_has_age.Mr==1]\n",
    "        mr_sibsp_parch[i][j] = mr_age_ij.mean() if len(mr_age_ij) > 0 else age_mean\n",
    "        mrs_age_ij = age_ij[titanic_has_age.Mrs==1]\n",
    "        mrs_sibsp_parch[i][j] = mrs_age_ij.mean() if len(mrs_age_ij) > 0 else age_mean\n",
    "        miss_age_ij = age_ij[titanic_has_age.Miss==1]\n",
    "        miss_sibsp_parch[i][j] = miss_age_ij.mean() if len(miss_age_ij) > 0 else age_mean\n",
    "        master_age_ij = age_ij[titanic_has_age.Master==1]\n",
    "        master_sibsp_parch[i][j] = master_age_ij.mean() if len(master_age_ij) > 0 else age_mean\n",
    "\n",
    "titanic_not_age = titanic[pd.isnull(titanic.Age)]\n",
    "ages = [0 for i in range(len(titanic_not_age))]\n",
    "idx=0\n",
    "for i in titanic_not_age.index:\n",
    "    sibsp = titanic_not_age.loc[i].SibSp\n",
    "    parch = titanic_not_age.loc[i].Parch\n",
    "    name = titanic_not_age.loc[i].Name\n",
    "    if 'Mr.' in name:\n",
    "        ages[idx] = mr_sibsp_parch[parch][sibsp]\n",
    "    elif 'Mrs.' in name:\n",
    "        ages[idx] = mrs_sibsp_parch[parch][sibsp]\n",
    "    elif 'Miss.' in name:\n",
    "        ages[idx] = miss_sibsp_parch[parch][sibsp]\n",
    "    elif 'Master.' in name:\n",
    "        ages[idx] = master_sibsp_parch[parch][sibsp]\n",
    "    else:\n",
    "        ages[idx] = age_mean\n",
    "    idx+=1\n",
    "titanic.loc[ (titanic.Age.isnull()), 'Age' ] = ages"
   ]
  },
  {
   "cell_type": "markdown",
   "metadata": {
    "collapsed": true
   },
   "source": [
    "## 单个变量 "
   ]
  },
  {
   "cell_type": "markdown",
   "metadata": {},
   "source": [
    "#### Pclass "
   ]
  },
  {
   "cell_type": "code",
   "execution_count": 7,
   "metadata": {},
   "outputs": [
    {
     "data": {
      "text/plain": [
       "<matplotlib.text.Text at 0x7fd6dfd41a50>"
      ]
     },
     "execution_count": 7,
     "metadata": {},
     "output_type": "execute_result"
    },
    {
     "data": {
      "text/plain": [
       "<matplotlib.figure.Figure at 0x7fd6dfd9d710>"
      ]
     },
     "metadata": {},
     "output_type": "display_data"
    },
    {
     "data": {
      "image/png": "[encoded data removed]",
      "text/plain": [
       "<matplotlib.figure.Figure at 0x7fd6dfd9dd10>"
      ]
     },
     "metadata": {},
     "output_type": "display_data"
    }
   ],
   "source": [
    "fig = plt.figure()\n",
    "fig.set(alpha=0.2)\n",
    "\n",
    "Survived_0 = titanic.Pclass[titanic.Survived == 0].value_counts()\n",
    "Survived_1 = titanic.Pclass[titanic.Survived == 1].value_counts()\n",
    "df=pd.DataFrame({u'Survived':Survived_1, u'Unsurvived':Survived_0})\n",
    "df.plot(kind='bar', stacked=True)\n",
    "plt.title(u\"every pclass pasenger survived state\")\n",
    "plt.xlabel(u\"pclass\") \n",
    "plt.ylabel(u\"people number\")"
   ]
  },
  {
   "cell_type": "markdown",
   "metadata": {},
   "source": [
    "图示结果：能够看到Pclass为1时，乘客的幸存几率更大，而3则最低，且差距非常明显，证明Pclass是一个重要的特征；"
   ]
  },
  {
   "cell_type": "markdown",
   "metadata": {},
   "source": [
    "#### Fare "
   ]
  },
  {
   "cell_type": "code",
   "execution_count": 8,
   "metadata": {},
   "outputs": [
    {
     "data": {
      "text/plain": [
       "<matplotlib.text.Text at 0x7fd6dc8d2bd0>"
      ]
     },
     "execution_count": 8,
     "metadata": {},
     "output_type": "execute_result"
    },
    {
     "data": {
      "text/plain": [
       "<matplotlib.figure.Figure at 0x7fd6e80e0d50>"
      ]
     },
     "metadata": {},
     "output_type": "display_data"
    },
    {
     "data": {
      "image/png": "[encoded data removed]",
      "text/plain": [
       "<matplotlib.figure.Figure at 0x7fd6dfd9df10>"
      ]
     },
     "metadata": {},
     "output_type": "display_data"
    }
   ],
   "source": [
    "fig = plt.figure()\n",
    "fig.set(alpha=0.2)\n",
    "\n",
    "titanic.FareStep = titanic.Fare.apply(lambda fare:int(fare / 30)) # step化Fare字段\n",
    "\n",
    "Survived_0 = titanic.FareStep[titanic.Survived == 0].value_counts()\n",
    "Survived_1 = titanic.FareStep[titanic.Survived == 1].value_counts()\n",
    "df=pd.DataFrame({u'Survived':Survived_1, u'Unsurvived':Survived_0})\n",
    "df.plot(kind='bar', stacked=True)\n",
    "plt.title(u\"every fare(step=30) pasenger survived state\")\n",
    "plt.xlabel(u\"fare\") \n",
    "plt.ylabel(u\"people number\")"
   ]
  },
  {
   "cell_type": "markdown",
   "metadata": {},
   "source": [
    "图示结果：能够看到对于Fare字段，值越大，幸存率越高，且差距非常明显，证明Fare是一个重要的特征，同样的由于Pclass和Fare有很强的相关性，因此二者目前的结果一致也互相增加了可信度；"
   ]
  },
  {
   "cell_type": "markdown",
   "metadata": {},
   "source": [
    "#### Sex "
   ]
  },
  {
   "cell_type": "code",
   "execution_count": 9,
   "metadata": {},
   "outputs": [
    {
     "data": {
      "text/plain": [
       "<matplotlib.text.Text at 0x7fd6dc797910>"
      ]
     },
     "execution_count": 9,
     "metadata": {},
     "output_type": "execute_result"
    },
    {
     "data": {
      "text/plain": [
       "<matplotlib.figure.Figure at 0x7fd6dc865410>"
      ]
     },
     "metadata": {},
     "output_type": "display_data"
    },
    {
     "data": {
      "image/png": "[encoded data removed]",
      "text/plain": [
       "<matplotlib.figure.Figure at 0x7fd6e8038e50>"
      ]
     },
     "metadata": {},
     "output_type": "display_data"
    }
   ],
   "source": [
    "fig = plt.figure()\n",
    "fig.set(alpha=0.2)\n",
    "\n",
    "Survived_0 = titanic.Sex[titanic.Survived == 0].value_counts()\n",
    "Survived_1 = titanic.Sex[titanic.Survived == 1].value_counts()\n",
    "df=pd.DataFrame({u'Survived':Survived_1, u'Unsurvived':Survived_0})\n",
    "df.plot(kind='bar', stacked=True)\n",
    "plt.title(u\"male and female pasenger survived state\")\n",
    "plt.xlabel(u\"male/femal\") \n",
    "plt.ylabel(u\"people number\")"
   ]
  },
  {
   "cell_type": "markdown",
   "metadata": {},
   "source": [
    "图示结果：能够看到Sex为female时，乘客的幸存几率更大，且差距非常明显，证明Sex是一个重要的特征；"
   ]
  },
  {
   "cell_type": "markdown",
   "metadata": {},
   "source": [
    "#### Age "
   ]
  },
  {
   "cell_type": "code",
   "execution_count": 33,
   "metadata": {},
   "outputs": [
    {
     "data": {
      "text/plain": [
       "(0, 20)"
      ]
     },
     "execution_count": 33,
     "metadata": {},
     "output_type": "execute_result"
    },
    {
     "data": {
      "text/plain": [
       "<matplotlib.figure.Figure at 0x7fd6d6db88d0>"
      ]
     },
     "metadata": {},
     "output_type": "display_data"
    },
    {
     "data": {
      "image/png": "[encoded data removed]",
      "text/plain": [
       "<matplotlib.figure.Figure at 0x7fd6d6c389d0>"
      ]
     },
     "metadata": {},
     "output_type": "display_data"
    },
    {
     "data": {
      "image/png": "[encoded data removed]",
      "text/plain": [
       "<matplotlib.figure.Figure at 0x7fd6d6a61310>"
      ]
     },
     "metadata": {},
     "output_type": "display_data"
    },
    {
     "data": {
      "image/png": "[encoded data removed]",
      "text/plain": [
       "<matplotlib.figure.Figure at 0x7fd6d75bfe10>"
      ]
     },
     "metadata": {},
     "output_type": "display_data"
    },
    {
     "data": {
      "image/png": "[encoded data removed]",
      "text/plain": [
       "<matplotlib.figure.Figure at 0x7fd6d6a61a90>"
      ]
     },
     "metadata": {},
     "output_type": "display_data"
    },
    {
     "data": {
      "image/png": "[encoded data removed]",
      "text/plain": [
       "<matplotlib.figure.Figure at 0x7fd6d79d5c90>"
      ]
     },
     "metadata": {},
     "output_type": "display_data"
    }
   ],
   "source": [
    "fig = plt.figure()\n",
    "fig.set(alpha=0.2)\n",
    "\n",
    "titanic.Children = titanic.Age.apply(lambda age:1 if age < 12 else 0) # 儿童：12以下\n",
    "titanic.Juvenile = titanic.Age.apply(lambda age:1 if 12 <= age <= 18 else 0) # 少年：12~18岁\n",
    "titanic.Youth = titanic.Age.apply(lambda age:1 if 19 <= age < 40 else 0) # 青年：19~40岁\n",
    "titanic.Middle = titanic.Age.apply(lambda age:1 if 40 <= age < 65 else 0) # 中年：40~65岁\n",
    "titanic.Old = titanic.Age.apply(lambda age:1 if age >= 65 else 0) # 中年：65以上\n",
    "\n",
    "Survived_0 = titanic.Children[titanic.Survived == 0].value_counts()\n",
    "Survived_1 = titanic.Children[titanic.Survived == 1].value_counts()\n",
    "df=pd.DataFrame({u'Survived':Survived_1, u'Unsurvived':Survived_0})\n",
    "df.plot(kind='bar', stacked=True)\n",
    "plt.title(u\"children(0~12) survived state\")\n",
    "plt.xlabel(u\"age\") \n",
    "plt.ylabel(u\"people number\")\n",
    "\n",
    "Survived_0 = titanic.Juvenile[titanic.Survived == 0].value_counts()\n",
    "Survived_1 = titanic.Juvenile[titanic.Survived == 1].value_counts()\n",
    "df=pd.DataFrame({u'Survived':Survived_1, u'Unsurvived':Survived_0})\n",
    "df.plot(kind='bar', stacked=True)\n",
    "plt.title(u\"juvenile(12~18) survived state\")\n",
    "plt.xlabel(u\"age\") \n",
    "plt.ylabel(u\"people number\")\n",
    "\n",
    "Survived_0 = titanic.Youth[titanic.Survived == 0].value_counts()\n",
    "Survived_1 = titanic.Youth[titanic.Survived == 1].value_counts()\n",
    "df=pd.DataFrame({u'Survived':Survived_1, u'Unsurvived':Survived_0})\n",
    "df.plot(kind='bar', stacked=True)\n",
    "plt.title(u\"youth(18~40) survived state\")\n",
    "plt.xlabel(u\"age\") \n",
    "plt.ylabel(u\"people number\")\n",
    "\n",
    "Survived_0 = titanic.Middle[titanic.Survived == 0].value_counts()\n",
    "Survived_1 = titanic.Middle[titanic.Survived == 1].value_counts()\n",
    "df=pd.DataFrame({u'Survived':Survived_1, u'Unsurvived':Survived_0})\n",
    "df.plot(kind='bar', stacked=True)\n",
    "plt.title(u\"middle(40~65) survived state\")\n",
    "plt.xlabel(u\"age\") \n",
    "plt.ylabel(u\"people number\")\n",
    "\n",
    "Survived_0 = titanic.Old[titanic.Survived == 0].value_counts()\n",
    "Survived_1 = titanic.Old[titanic.Survived == 1].value_counts()\n",
    "df=pd.DataFrame({u'Survived':Survived_1, u'Unsurvived':Survived_0})\n",
    "df.plot(kind='bar', stacked=True)\n",
    "plt.title(u\"old(>65) survived state\")\n",
    "plt.xlabel(u\"age\") \n",
    "plt.ylabel(u\"people number\")\n",
    "plt.ylim(0,20)"
   ]
  },
  {
   "cell_type": "markdown",
   "metadata": {},
   "source": [
    "图示结果：能够看到Children获救比例是最大的，其次是Juvenile，而youth和middle则明显是要小于50%的，而old的获救比例也很低，这个有可能是因为老年人在遇到意外情况时由于身体健康等各方面原因导致最后幸存的可能性不大；"
   ]
  },
  {
   "cell_type": "markdown",
   "metadata": {},
   "source": [
    "#### SibSp "
   ]
  },
  {
   "cell_type": "code",
   "execution_count": 37,
   "metadata": {},
   "outputs": [
    {
     "data": {
      "text/plain": [
       "<matplotlib.text.Text at 0x7fd6d67d5250>"
      ]
     },
     "execution_count": 37,
     "metadata": {},
     "output_type": "execute_result"
    },
    {
     "data": {
      "text/plain": [
       "<matplotlib.figure.Figure at 0x7fd6d685d750>"
      ]
     },
     "metadata": {},
     "output_type": "display_data"
    },
    {
     "data": {
      "image/png": "[encoded data removed]",
      "text/plain": [
       "<matplotlib.figure.Figure at 0x7fd6d686b490>"
      ]
     },
     "metadata": {},
     "output_type": "display_data"
    }
   ],
   "source": [
    "fig = plt.figure()\n",
    "fig.set(alpha=0.2)\n",
    "\n",
    "Survived_0 = titanic.SibSp[titanic.Survived == 0].value_counts()\n",
    "Survived_1 = titanic.SibSp[titanic.Survived == 1].value_counts()\n",
    "df=pd.DataFrame({u'Survived':Survived_1, u'Unsurvived':Survived_0})\n",
    "df.plot(kind='bar', stacked=True)\n",
    "plt.title(u\"every SibSp pasenger survived state\")\n",
    "plt.xlabel(u\"SibSp\") \n",
    "plt.ylabel(u\"people number\")"
   ]
  },
  {
   "cell_type": "markdown",
   "metadata": {},
   "source": [
    "图示结果：能够看到SibSp为1时，乘客的幸存几率最大，为2时也接近50%，而其他情况下则明显低过前两种情况，5跟8由于样本数量比较少，不太能说明问题，总之这个特征本身看不出太强的规律性，暂时认为不可信；"
   ]
  },
  {
   "cell_type": "markdown",
   "metadata": {},
   "source": [
    "#### Parch "
   ]
  },
  {
   "cell_type": "code",
   "execution_count": 40,
   "metadata": {},
   "outputs": [
    {
     "data": {
      "text/plain": [
       "<matplotlib.text.Text at 0x7fd6d7aded10>"
      ]
     },
     "execution_count": 40,
     "metadata": {},
     "output_type": "execute_result"
    },
    {
     "data": {
      "text/plain": [
       "<matplotlib.figure.Figure at 0x7fd6d73a9490>"
      ]
     },
     "metadata": {},
     "output_type": "display_data"
    },
    {
     "data": {
      "image/png": "[encoded data removed]",
      "text/plain": [
       "<matplotlib.figure.Figure at 0x7fd6d710c8d0>"
      ]
     },
     "metadata": {},
     "output_type": "display_data"
    }
   ],
   "source": [
    "fig = plt.figure()\n",
    "fig.set(alpha=0.2)\n",
    "\n",
    "Survived_0 = titanic.Parch[titanic.Survived == 0].value_counts()\n",
    "Survived_1 = titanic.Parch[titanic.Survived == 1].value_counts()\n",
    "df=pd.DataFrame({u'Survived':Survived_1, u'Unsurvived':Survived_0})\n",
    "df.plot(kind='bar', stacked=True)\n",
    "plt.title(u\"every Parch pasenger survived state\")\n",
    "plt.xlabel(u\"Parch\") \n",
    "plt.ylabel(u\"people number\")"
   ]
  },
  {
   "cell_type": "markdown",
   "metadata": {},
   "source": [
    "图示结果：能够看到除去3,4,5,6等四个小样本后，Parch反应出跟SibSp同样情况，1,2的幸存几率是最大的，而0明显要低很多，那么是否可以考虑这两个特征在值为0,1,2的情况下还是可信的呢；"
   ]
  },
  {
   "cell_type": "markdown",
   "metadata": {},
   "source": [
    "#### Embarked "
   ]
  },
  {
   "cell_type": "code",
   "execution_count": 41,
   "metadata": {},
   "outputs": [
    {
     "data": {
      "text/plain": [
       "<matplotlib.text.Text at 0x7fd6d7b8a310>"
      ]
     },
     "execution_count": 41,
     "metadata": {},
     "output_type": "execute_result"
    },
    {
     "data": {
      "text/plain": [
       "<matplotlib.figure.Figure at 0x7fd6d7b1eb10>"
      ]
     },
     "metadata": {},
     "output_type": "display_data"
    },
    {
     "data": {
      "image/png": "[encoded data removed]",
      "text/plain": [
       "<matplotlib.figure.Figure at 0x7fd6d7b2a090>"
      ]
     },
     "metadata": {},
     "output_type": "display_data"
    }
   ],
   "source": [
    "fig = plt.figure()\n",
    "fig.set(alpha=0.2)\n",
    "\n",
    "Survived_0 = titanic.Embarked[titanic.Survived == 0].value_counts()\n",
    "Survived_1 = titanic.Embarked[titanic.Survived == 1].value_counts()\n",
    "df=pd.DataFrame({u'Survived':Survived_1, u'Unsurvived':Survived_0})\n",
    "df.plot(kind='bar', stacked=True)\n",
    "plt.title(u\"every Embarked pasenger survived state\")\n",
    "plt.xlabel(u\"Embarked\") \n",
    "plt.ylabel(u\"people number\")"
   ]
  },
  {
   "cell_type": "markdown",
   "metadata": {},
   "source": [
    "图示结果：能够看到Embarked为c时，乘客的幸存几率最大，另外二者都明显低于50%，可能是由于C港口登船的人更多的上层人士（也就是Pclass字段，只有这个字段在逻辑上可能跟某个港口区域有关），证明Embarked是一个重要的特征；"
   ]
  },
  {
   "cell_type": "markdown",
   "metadata": {},
   "source": [
    "#### 单变量分析结论 "
   ]
  },
  {
   "cell_type": "markdown",
   "metadata": {},
   "source": [
    "1. 性别，船舱等级，船票价格，年龄段，港口有较明显的趋势，可信度很大；\n",
    "2. 父母子女个数以及兄弟姐妹丈夫妻子个数体现的趋势不是很明确，且有部分数据样本量很小，可信度不大，可作为参考补充；\n",
    "3. 选择性别，船舱等级（此处不使用船票价格，是因为船舱等级就是一个枚举类型的船票价格，因此使用船舱等级即可），年龄段，港口在双变量中两两组合做进一步分析"
   ]
  },
  {
   "cell_type": "markdown",
   "metadata": {
    "collapsed": true
   },
   "source": [
    "## 双变量 "
   ]
  },
  {
   "cell_type": "markdown",
   "metadata": {},
   "source": [
    "首先进行上一步分析后的变量两两组合（船舱等级和船票价格不组成双变量，主要是二者几乎就是一个特征的不同细化）：\n",
    "1. 性别+船舱等级\n",
    "2. 性别+年龄段\n",
    "3. 性别+港口\n",
    "4. 船舱等级+年龄段\n",
    "5. 船舱等级+港口\n",
    "6. 年龄段+港口"
   ]
  },
  {
   "cell_type": "markdown",
   "metadata": {},
   "source": [
    "#### Sex+Pclass "
   ]
  },
  {
   "cell_type": "code",
   "execution_count": 51,
   "metadata": {},
   "outputs": [
    {
     "data": {
      "text/plain": [
       "<matplotlib.text.Text at 0x7fd6d6ba1fd0>"
      ]
     },
     "execution_count": 51,
     "metadata": {},
     "output_type": "execute_result"
    },
    {
     "data": {
      "image/png": "[encoded data removed]",
      "text/plain": [
       "<matplotlib.figure.Figure at 0x7fd6dc4b5550>"
      ]
     },
     "metadata": {},
     "output_type": "display_data"
    }
   ],
   "source": [
    "fig = plt.figure()\n",
    "fig.set(alpha=0.2)\n",
    "\n",
    "df = titanic.Survived[titanic.Sex=='female'][titanic.Pclass==1].value_counts()\n",
    "df.plot(kind='bar', stacked=True)\n",
    "plt.title(u\"female and Pclass=1 survived state\")\n",
    "plt.xlabel(u\"Survived\") \n",
    "plt.ylabel(u\"people number\")"
   ]
  },
  {
   "cell_type": "code",
   "execution_count": 53,
   "metadata": {},
   "outputs": [
    {
     "data": {
      "text/plain": [
       "<matplotlib.text.Text at 0x7fd6d6a10510>"
      ]
     },
     "execution_count": 53,
     "metadata": {},
     "output_type": "execute_result"
    },
    {
     "data": {
      "image/png": "[encoded data removed]",
      "text/plain": [
       "<matplotlib.figure.Figure at 0x7fd6d66b4d90>"
      ]
     },
     "metadata": {},
     "output_type": "display_data"
    }
   ],
   "source": [
    "fig = plt.figure()\n",
    "fig.set(alpha=0.2)\n",
    "\n",
    "df = titanic.Survived[titanic.Sex=='female'][titanic.Pclass==2].value_counts()\n",
    "df.plot(kind='bar', stacked=True)\n",
    "plt.title(u\"female and Pclass=1 survived state\")\n",
    "plt.xlabel(u\"Survived\") \n",
    "plt.ylabel(u\"people number\")"
   ]
  },
  {
   "cell_type": "code",
   "execution_count": 59,
   "metadata": {},
   "outputs": [
    {
     "data": {
      "text/plain": [
       "<matplotlib.text.Text at 0x7fd6d62b8850>"
      ]
     },
     "execution_count": 59,
     "metadata": {},
     "output_type": "execute_result"
    },
    {
     "data": {
      "image/png": "[encoded data removed]",
      "text/plain": [
       "<matplotlib.figure.Figure at 0x7fd6d6234310>"
      ]
     },
     "metadata": {},
     "output_type": "display_data"
    }
   ],
   "source": [
    "fig = plt.figure()\n",
    "fig.set(alpha=0.2)\n",
    "\n",
    "df = titanic.Survived[titanic.Sex=='female'][titanic.Pclass==3].value_counts()\n",
    "df.plot(kind='bar', stacked=True)\n",
    "plt.title(u\"female and Pclass=3 survived state\")\n",
    "plt.xlabel(u\"Survived\") \n",
    "plt.ylabel(u\"people number\")"
   ]
  },
  {
   "cell_type": "code",
   "execution_count": 60,
   "metadata": {},
   "outputs": [
    {
     "data": {
      "text/plain": [
       "<matplotlib.text.Text at 0x7fd6d6180310>"
      ]
     },
     "execution_count": 60,
     "metadata": {},
     "output_type": "execute_result"
    },
    {
     "data": {
      "image/png": "[encoded data removed]",
      "text/plain": [
       "<matplotlib.figure.Figure at 0x7fd6d617d2d0>"
      ]
     },
     "metadata": {},
     "output_type": "display_data"
    }
   ],
   "source": [
    "df = titanic.Survived[titanic.Sex == 'male'][titanic.Pclass==1].value_counts()\n",
    "df.plot(kind='bar', stacked=True)\n",
    "plt.title(u\"male and Pclass=1 survived state\")\n",
    "plt.xlabel(u\"Survived\") \n",
    "plt.ylabel(u\"people number\")"
   ]
  },
  {
   "cell_type": "code",
   "execution_count": 61,
   "metadata": {},
   "outputs": [
    {
     "data": {
      "text/plain": [
       "<matplotlib.text.Text at 0x7fd6d62e7790>"
      ]
     },
     "execution_count": 61,
     "metadata": {},
     "output_type": "execute_result"
    },
    {
     "data": {
      "image/png": "[encoded data removed]",
      "text/plain": [
       "<matplotlib.figure.Figure at 0x7fd6d609f690>"
      ]
     },
     "metadata": {},
     "output_type": "display_data"
    }
   ],
   "source": [
    "df = titanic.Survived[titanic.Sex == 'male'][titanic.Pclass==2].value_counts()\n",
    "df.plot(kind='bar', stacked=True)\n",
    "plt.title(u\"male and Pclass=2 survived state\")\n",
    "plt.xlabel(u\"Survived\") \n",
    "plt.ylabel(u\"people number\")"
   ]
  },
  {
   "cell_type": "code",
   "execution_count": 64,
   "metadata": {},
   "outputs": [
    {
     "data": {
      "text/plain": [
       "(0, 310)"
      ]
     },
     "execution_count": 64,
     "metadata": {},
     "output_type": "execute_result"
    },
    {
     "data": {
      "image/png": "[encoded data removed]",
      "text/plain": [
       "<matplotlib.figure.Figure at 0x7fd6d5e59510>"
      ]
     },
     "metadata": {},
     "output_type": "display_data"
    }
   ],
   "source": [
    "df = titanic.Survived[titanic.Sex == 'male'][titanic.Pclass==3].value_counts()\n",
    "df.plot(kind='bar', stacked=True)\n",
    "plt.title(u\"male and Pclass=3 survived state\")\n",
    "plt.xlabel(u\"Survived\") \n",
    "plt.ylabel(u\"people number\")\n",
    "plt.ylim(0,310)"
   ]
  },
  {
   "cell_type": "markdown",
   "metadata": {},
   "source": [
    "图示结果：能够看到非常明显的趋势，在个体性别特征为female且Pclass特征为1时，获救概率极大，而相反的如果个体性别特征为male且pclass为3时，获救概率则远远小于前者，可以说这两个特征的可信度是非常大，也符合基本社会规则；"
   ]
  },
  {
   "cell_type": "markdown",
   "metadata": {},
   "source": [
    "#### Sex+AgeStep "
   ]
  },
  {
   "cell_type": "code",
   "execution_count": 69,
   "metadata": {},
   "outputs": [
    {
     "data": {
      "text/plain": [
       "<matplotlib.text.Text at 0x7fd6d5c02610>"
      ]
     },
     "execution_count": 69,
     "metadata": {},
     "output_type": "execute_result"
    },
    {
     "data": {
      "image/png": "[encoded data removed]",
      "text/plain": [
       "<matplotlib.figure.Figure at 0x7fd6d5bb5150>"
      ]
     },
     "metadata": {},
     "output_type": "display_data"
    }
   ],
   "source": [
    "fig = plt.figure()\n",
    "fig.set(alpha=0.2)\n",
    "\n",
    "df = titanic.Survived[titanic.Sex=='female'][titanic.Children==1].value_counts()\n",
    "df.plot(kind='bar', stacked=True)\n",
    "plt.title(u\"female and Pclass=3 survived state\")\n",
    "plt.xlabel(u\"Survived\") \n",
    "plt.ylabel(u\"people number\")"
   ]
  },
  {
   "cell_type": "code",
   "execution_count": 74,
   "metadata": {},
   "outputs": [
    {
     "data": {
      "text/plain": [
       "<matplotlib.text.Text at 0x7fd6d57be050>"
      ]
     },
     "execution_count": 74,
     "metadata": {},
     "output_type": "execute_result"
    },
    {
     "data": {
      "image/png": "[encoded data removed]",
      "text/plain": [
       "<matplotlib.figure.Figure at 0x7fd6d57ad910>"
      ]
     },
     "metadata": {},
     "output_type": "display_data"
    }
   ],
   "source": [
    "fig = plt.figure()\n",
    "fig.set(alpha=0.2)\n",
    "\n",
    "df = titanic.Survived[titanic.Sex=='female'][titanic.Juvenile==1].value_counts()\n",
    "df.plot(kind='bar', stacked=True)\n",
    "plt.title(u\"female and Pclass=3 survived state\")\n",
    "plt.xlabel(u\"Survived\") \n",
    "plt.ylabel(u\"people number\")"
   ]
  },
  {
   "cell_type": "code",
   "execution_count": 75,
   "metadata": {},
   "outputs": [
    {
     "data": {
      "text/plain": [
       "<matplotlib.text.Text at 0x7fd6d56e9d10>"
      ]
     },
     "execution_count": 75,
     "metadata": {},
     "output_type": "execute_result"
    },
    {
     "data": {
      "image/png": "[encoded data removed]",
      "text/plain": [
       "<matplotlib.figure.Figure at 0x7fd6d56d6450>"
      ]
     },
     "metadata": {},
     "output_type": "display_data"
    }
   ],
   "source": [
    "fig = plt.figure()\n",
    "fig.set(alpha=0.2)\n",
    "\n",
    "df = titanic.Survived[titanic.Sex=='female'][titanic.Youth==1].value_counts()\n",
    "df.plot(kind='bar', stacked=True)\n",
    "plt.title(u\"female and Pclass=3 survived state\")\n",
    "plt.xlabel(u\"Survived\") \n",
    "plt.ylabel(u\"people number\")"
   ]
  },
  {
   "cell_type": "code",
   "execution_count": 76,
   "metadata": {},
   "outputs": [
    {
     "data": {
      "text/plain": [
       "<matplotlib.text.Text at 0x7fd6d5b06710>"
      ]
     },
     "execution_count": 76,
     "metadata": {},
     "output_type": "execute_result"
    },
    {
     "data": {
      "image/png": "[encoded data removed]",
      "text/plain": [
       "<matplotlib.figure.Figure at 0x7fd6d5628810>"
      ]
     },
     "metadata": {},
     "output_type": "display_data"
    }
   ],
   "source": [
    "fig = plt.figure()\n",
    "fig.set(alpha=0.2)\n",
    "\n",
    "df = titanic.Survived[titanic.Sex=='female'][titanic.Middle==1].value_counts()\n",
    "df.plot(kind='bar', stacked=True)\n",
    "plt.title(u\"female and Pclass=3 survived state\")\n",
    "plt.xlabel(u\"Survived\") \n",
    "plt.ylabel(u\"people number\")"
   ]
  },
  {
   "cell_type": "code",
   "execution_count": 77,
   "metadata": {},
   "outputs": [
    {
     "data": {
      "text/plain": [
       "<matplotlib.text.Text at 0x7fd6d55b98d0>"
      ]
     },
     "execution_count": 77,
     "metadata": {},
     "output_type": "execute_result"
    },
    {
     "data": {
      "image/png": "[encoded data removed]",
      "text/plain": [
       "<matplotlib.figure.Figure at 0x7fd6d5638a90>"
      ]
     },
     "metadata": {},
     "output_type": "display_data"
    }
   ],
   "source": [
    "fig = plt.figure()\n",
    "fig.set(alpha=0.2)\n",
    "\n",
    "df = titanic.Survived[titanic.Sex=='male'][titanic.Children==1].value_counts()\n",
    "df.plot(kind='bar', stacked=True)\n",
    "plt.title(u\"male and Pclass=3 survived state\")\n",
    "plt.xlabel(u\"Survived\") \n",
    "plt.ylabel(u\"people number\")"
   ]
  },
  {
   "cell_type": "code",
   "execution_count": 78,
   "metadata": {},
   "outputs": [
    {
     "data": {
      "text/plain": [
       "<matplotlib.text.Text at 0x7fd6d57addd0>"
      ]
     },
     "execution_count": 78,
     "metadata": {},
     "output_type": "execute_result"
    },
    {
     "data": {
      "image/png": "[encoded data removed]",
      "text/plain": [
       "<matplotlib.figure.Figure at 0x7fd6d54f92d0>"
      ]
     },
     "metadata": {},
     "output_type": "display_data"
    }
   ],
   "source": [
    "fig = plt.figure()\n",
    "fig.set(alpha=0.2)\n",
    "\n",
    "df = titanic.Survived[titanic.Sex=='male'][titanic.Juvenile==1].value_counts()\n",
    "df.plot(kind='bar', stacked=True)\n",
    "plt.title(u\"male and Pclass=3 survived state\")\n",
    "plt.xlabel(u\"Survived\") \n",
    "plt.ylabel(u\"people number\")"
   ]
  },
  {
   "cell_type": "code",
   "execution_count": 79,
   "metadata": {},
   "outputs": [
    {
     "data": {
      "text/plain": [
       "<matplotlib.text.Text at 0x7fd6d54f9b10>"
      ]
     },
     "execution_count": 79,
     "metadata": {},
     "output_type": "execute_result"
    },
    {
     "data": {
      "image/png": "[encoded data removed]",
      "text/plain": [
       "<matplotlib.figure.Figure at 0x7fd6d53d13d0>"
      ]
     },
     "metadata": {},
     "output_type": "display_data"
    }
   ],
   "source": [
    "fig = plt.figure()\n",
    "fig.set(alpha=0.2)\n",
    "\n",
    "df = titanic.Survived[titanic.Sex=='male'][titanic.Youth==1].value_counts()\n",
    "df.plot(kind='bar', stacked=True)\n",
    "plt.title(u\"male and Pclass=3 survived state\")\n",
    "plt.xlabel(u\"Survived\") \n",
    "plt.ylabel(u\"people number\")"
   ]
  },
  {
   "cell_type": "code",
   "execution_count": 80,
   "metadata": {},
   "outputs": [
    {
     "data": {
      "text/plain": [
       "<matplotlib.text.Text at 0x7fd6d587dfd0>"
      ]
     },
     "execution_count": 80,
     "metadata": {},
     "output_type": "execute_result"
    },
    {
     "data": {
      "image/png": "[encoded data removed]",
      "text/plain": [
       "<matplotlib.figure.Figure at 0x7fd6d530c690>"
      ]
     },
     "metadata": {},
     "output_type": "display_data"
    }
   ],
   "source": [
    "fig = plt.figure()\n",
    "fig.set(alpha=0.2)\n",
    "\n",
    "df = titanic.Survived[titanic.Sex=='male'][titanic.Middle==1].value_counts()\n",
    "df.plot(kind='bar', stacked=True)\n",
    "plt.title(u\"male and Pclass=3 survived state\")\n",
    "plt.xlabel(u\"Survived\") \n",
    "plt.ylabel(u\"people number\")"
   ]
  },
  {
   "cell_type": "markdown",
   "metadata": {},
   "source": [
    "图示结果：能够看到对于年龄段来说，性别起到的作用更大，但是当年龄段都是儿童也就是小于12岁时，二者的获救几率相差不大，也确实体现了当身份为儿童时，行别不会给予过多的考虑，也就是说不存在小女孩要明显优先于小男孩的情况，也是个重要信息；"
   ]
  },
  {
   "cell_type": "markdown",
   "metadata": {},
   "source": [
    "#### Sex+Embarked "
   ]
  },
  {
   "cell_type": "code",
   "execution_count": 83,
   "metadata": {},
   "outputs": [
    {
     "data": {
      "text/plain": [
       "<matplotlib.text.Text at 0x7fd6d5482dd0>"
      ]
     },
     "execution_count": 83,
     "metadata": {},
     "output_type": "execute_result"
    },
    {
     "data": {
      "image/png": "[encoded data removed]",
      "text/plain": [
       "<matplotlib.figure.Figure at 0x7fd6d518e050>"
      ]
     },
     "metadata": {},
     "output_type": "display_data"
    }
   ],
   "source": [
    "fig = plt.figure()\n",
    "fig.set(alpha=0.2)\n",
    "\n",
    "df = titanic.Survived[titanic.Sex=='male'][titanic.Embarked == 'S'].value_counts()\n",
    "df.plot(kind='bar', stacked=True)\n",
    "plt.title(u\"male and Embarked=S survived state\")\n",
    "plt.xlabel(u\"Survived\") \n",
    "plt.ylabel(u\"people number\")"
   ]
  },
  {
   "cell_type": "code",
   "execution_count": 84,
   "metadata": {},
   "outputs": [
    {
     "data": {
      "text/plain": [
       "<matplotlib.text.Text at 0x7fd6d7f923d0>"
      ]
     },
     "execution_count": 84,
     "metadata": {},
     "output_type": "execute_result"
    },
    {
     "data": {
      "image/png": "[encoded data removed]",
      "text/plain": [
       "<matplotlib.figure.Figure at 0x7fd6d513d090>"
      ]
     },
     "metadata": {},
     "output_type": "display_data"
    }
   ],
   "source": [
    "fig = plt.figure()\n",
    "fig.set(alpha=0.2)\n",
    "\n",
    "df = titanic.Survived[titanic.Sex=='male'][titanic.Embarked == 'C'].value_counts()\n",
    "df.plot(kind='bar', stacked=True)\n",
    "plt.title(u\"male and Embarked=C survived state\")\n",
    "plt.xlabel(u\"Survived\") \n",
    "plt.ylabel(u\"people number\")"
   ]
  },
  {
   "cell_type": "code",
   "execution_count": 86,
   "metadata": {},
   "outputs": [
    {
     "data": {
      "text/plain": [
       "<matplotlib.text.Text at 0x7fd6d7751210>"
      ]
     },
     "execution_count": 86,
     "metadata": {},
     "output_type": "execute_result"
    },
    {
     "data": {
      "image/png": "[encoded data removed]",
      "text/plain": [
       "<matplotlib.figure.Figure at 0x7fd6d73fbb10>"
      ]
     },
     "metadata": {},
     "output_type": "display_data"
    }
   ],
   "source": [
    "fig = plt.figure()\n",
    "fig.set(alpha=0.2)\n",
    "\n",
    "df = titanic.Survived[titanic.Sex=='male'][titanic.Embarked == 'Q'].value_counts()\n",
    "df.plot(kind='bar', stacked=True)\n",
    "plt.title(u\"male and Embarked=Q survived state\")\n",
    "plt.xlabel(u\"Survived\") \n",
    "plt.ylabel(u\"people number\")"
   ]
  },
  {
   "cell_type": "code",
   "execution_count": 87,
   "metadata": {},
   "outputs": [
    {
     "data": {
      "text/plain": [
       "<matplotlib.text.Text at 0x7fd6d50d04d0>"
      ]
     },
     "execution_count": 87,
     "metadata": {},
     "output_type": "execute_result"
    },
    {
     "data": {
      "image/png": "[encoded data removed]",
      "text/plain": [
       "<matplotlib.figure.Figure at 0x7fd6d5006990>"
      ]
     },
     "metadata": {},
     "output_type": "display_data"
    }
   ],
   "source": [
    "fig = plt.figure()\n",
    "fig.set(alpha=0.2)\n",
    "\n",
    "df = titanic.Survived[titanic.Sex=='female'][titanic.Embarked == 'S'].value_counts()\n",
    "df.plot(kind='bar', stacked=True)\n",
    "plt.title(u\"female and Embarked=S survived state\")\n",
    "plt.xlabel(u\"Survived\") \n",
    "plt.ylabel(u\"people number\")"
   ]
  },
  {
   "cell_type": "code",
   "execution_count": 88,
   "metadata": {},
   "outputs": [
    {
     "data": {
      "text/plain": [
       "<matplotlib.text.Text at 0x7fd6d4f5cc10>"
      ]
     },
     "execution_count": 88,
     "metadata": {},
     "output_type": "execute_result"
    },
    {
     "data": {
      "image/png": "[encoded data removed]",
      "text/plain": [
       "<matplotlib.figure.Figure at 0x7fd6d4f52150>"
      ]
     },
     "metadata": {},
     "output_type": "display_data"
    }
   ],
   "source": [
    "fig = plt.figure()\n",
    "fig.set(alpha=0.2)\n",
    "\n",
    "df = titanic.Survived[titanic.Sex=='female'][titanic.Embarked == 'C'].value_counts()\n",
    "df.plot(kind='bar', stacked=True)\n",
    "plt.title(u\"female and Embarked=C survived state\")\n",
    "plt.xlabel(u\"Survived\") \n",
    "plt.ylabel(u\"people number\")"
   ]
  },
  {
   "cell_type": "code",
   "execution_count": 89,
   "metadata": {},
   "outputs": [
    {
     "data": {
      "text/plain": [
       "<matplotlib.text.Text at 0x7fd6d4ed0a50>"
      ]
     },
     "execution_count": 89,
     "metadata": {},
     "output_type": "execute_result"
    },
    {
     "data": {
      "image/png": "[encoded data removed]",
      "text/plain": [
       "<matplotlib.figure.Figure at 0x7fd6d4efed90>"
      ]
     },
     "metadata": {},
     "output_type": "display_data"
    }
   ],
   "source": [
    "fig = plt.figure()\n",
    "fig.set(alpha=0.2)\n",
    "\n",
    "df = titanic.Survived[titanic.Sex=='female'][titanic.Embarked == 'Q'].value_counts()\n",
    "df.plot(kind='bar', stacked=True)\n",
    "plt.title(u\"female and Embarked=Q survived state\")\n",
    "plt.xlabel(u\"Survived\") \n",
    "plt.ylabel(u\"people number\")"
   ]
  },
  {
   "cell_type": "markdown",
   "metadata": {},
   "source": [
    "图示结果：能够看到在不同性别的情况下，各个港口的获救几率是一致的，同样的不同港口下，两个性别的获救也是一致的，因此这两个特征应该没有什么关联性，是两个较为独立的特征；"
   ]
  },
  {
   "cell_type": "markdown",
   "metadata": {},
   "source": [
    "#### Pclass+AgeStep "
   ]
  },
  {
   "cell_type": "markdown",
   "metadata": {},
   "source": [
    "图示结果："
   ]
  },
  {
   "cell_type": "markdown",
   "metadata": {},
   "source": [
    "#### Pclass+Embarked "
   ]
  },
  {
   "cell_type": "markdown",
   "metadata": {},
   "source": [
    "图示结果："
   ]
  },
  {
   "cell_type": "markdown",
   "metadata": {},
   "source": [
    "#### AgeStep+Embarked "
   ]
  },
  {
   "cell_type": "markdown",
   "metadata": {},
   "source": [
    "图示结果："
   ]
  },
  {
   "cell_type": "markdown",
   "metadata": {
    "collapsed": true
   },
   "source": [
    "## 三变量 "
   ]
  },
  {
   "cell_type": "markdown",
   "metadata": {
    "collapsed": true
   },
   "source": [
    "## 初步结论 "
   ]
  },
  {
   "cell_type": "markdown",
   "metadata": {
    "collapsed": true
   },
   "source": [
    "## 验证结论 "
   ]
  },
  {
   "cell_type": "markdown",
   "metadata": {
    "collapsed": true
   },
   "source": [
    "## 项目总结 "
   ]
  }
 ],
 "metadata": {
  "kernelspec": {
   "display_name": "Python 2",
   "language": "python",
   "name": "python2"
  },
  "language_info": {
   "codemirror_mode": {
    "name": "ipython",
    "version": 2
   },
   "file_extension": ".py",
   "mimetype": "text/x-python",
   "name": "python",
   "nbconvert_exporter": "python",
   "pygments_lexer": "ipython2",
   "version": "2.7.13"
  }
 },
 "nbformat": 4,
 "nbformat_minor": 2
}
